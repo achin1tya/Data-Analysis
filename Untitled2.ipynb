{
 "cells": [
  {
   "cell_type": "code",
   "execution_count": 1,
   "metadata": {},
   "outputs": [],
   "source": [
    "from PIL import Image\n",
    "import pytesseract\n",
    "import argparse\n",
    "import cv2\n",
    "import os\n",
    "import sys\n",
    "import numpy as np\n",
    "import pandas as pd\n",
    "from wordcloud import WordCloud\n",
    "from matplotlib import pyplot as plt"
   ]
  },
  {
   "cell_type": "code",
   "execution_count": 2,
   "metadata": {},
   "outputs": [],
   "source": [
    "from pdfminer.pdfinterp import PDFResourceManager, PDFPageInterpreter\n",
    "from pdfminer.converter import TextConverter\n",
    "from pdfminer.layout import LAParams\n",
    "from pdfminer.pdfpage import PDFPage\n",
    "from io import StringIO\n",
    "\n",
    "def convert_pdf_to_txt(path):\n",
    "    rsrcmgr = PDFResourceManager()\n",
    "    retstr = StringIO()\n",
    "    codec = 'utf-8'\n",
    "    laparams = LAParams()\n",
    "    device = TextConverter(rsrcmgr, retstr, codec=codec, laparams=laparams)\n",
    "    fp = open(path, 'rb')\n",
    "    interpreter = PDFPageInterpreter(rsrcmgr, device)\n",
    "    password = \"\"\n",
    "    maxpages = 0\n",
    "    caching = True\n",
    "    pagenos=set()\n",
    "\n",
    "    for page in PDFPage.get_pages(fp, pagenos, maxpages=maxpages, password=password,caching=caching, check_extractable=True):\n",
    "        interpreter.process_page(page)\n",
    "\n",
    "    text = retstr.getvalue()\n",
    "\n",
    "    fp.close()\n",
    "    device.close()\n",
    "    retstr.close()\n",
    "    return text"
   ]
  },
  {
   "cell_type": "code",
   "execution_count": 3,
   "metadata": {},
   "outputs": [],
   "source": [
    "text=convert_pdf_to_txt(\"QF _Accounting_BAN101.pdf\")"
   ]
  },
  {
   "cell_type": "code",
   "execution_count": null,
   "metadata": {},
   "outputs": [],
   "source": []
  },
  {
   "cell_type": "code",
   "execution_count": 4,
   "metadata": {},
   "outputs": [],
   "source": [
    "#getting two dictionaries to compare \n",
    "def generateResult(dictonaryOfFirstFile,dictionaryOfAllPreviosPdf):   \n",
    "    index1=getIndex(dictonaryOfFirstFile)\n",
    "    index2=getIndex(dictionaryOfAllPreviosPdf)\n",
    "    valSum=0\n",
    "    for indexValue in index1:\n",
    "        if indexValue in index2 :\n",
    "            if dictonaryOfFirstFile[indexValue]==dictionaryOfAllPreviosPdf[indexValue]:\n",
    "                valSum=valSum+1\n",
    "            else:\n",
    "                valSum=valSum+(min(dictonaryOfFirstFile[indexValue],dictionaryOfAllPreviosPdf[indexValue]))/max(dictonaryOfFirstFile[indexValue],dictionaryOfAllPreviosPdf[indexValue])        \n",
    "    return (valSum/max(len(dictonaryOfFirstFile),len(dictionaryOfAllPreviosPdf)))*100\n"
   ]
  },
  {
   "cell_type": "code",
   "execution_count": 5,
   "metadata": {},
   "outputs": [],
   "source": [
    "#getting the words from the dictionary \n",
    "def getIndex(dictionary):                                    \n",
    "    a=[]\n",
    "    for k,v in dictionary.items():\n",
    "        a.append(k)\n",
    "    return a"
   ]
  },
  {
   "cell_type": "code",
   "execution_count": 6,
   "metadata": {},
   "outputs": [],
   "source": [
    "# unique words generating dictionary\n",
    "def makeDictionary(array,cleanWords):\n",
    "    dict1={} \n",
    "    for word in array:\n",
    "        count=0\n",
    "        for i in range(len(cleanWords)):\n",
    "            if word==cleanWords[i]:\n",
    "                count=count+1\n",
    "        dict1[word]=count\n",
    "    return dict1"
   ]
  },
  {
   "cell_type": "code",
   "execution_count": 7,
   "metadata": {},
   "outputs": [],
   "source": [
    "def makeDataFrameFromText(textData):\n",
    "    try:\n",
    "        import StringIO \n",
    "    except ImportError:\n",
    "        from io import StringIO\n",
    "        \n",
    "    testData=StringIO(textData)\n",
    "    import pandas as pd\n",
    "    dataFrameForPdf=pd.read_csv(testData,sep=\"\\n\")  # making the text to a dataFrame Column\n",
    "    columnName=list(dataFrameForPdf.columns.values)\n",
    "    return dataFrameForPdf,columnName"
   ]
  },
  {
   "cell_type": "code",
   "execution_count": 8,
   "metadata": {},
   "outputs": [],
   "source": [
    "def makeDictionaryFromText(textData):\n",
    "    dataFrameForPdf,columnName=makeDataFrameFromText(textData)\n",
    "    uniqueWords=dataFrameForPdf[str(columnName[0])].unique()\n",
    "    temp={}\n",
    "    temp=makeDictionary(uniqueWords,dataFrameForPdf[str(columnName[0])])\n",
    "    return temp\n"
   ]
  },
  {
   "cell_type": "code",
   "execution_count": 9,
   "metadata": {},
   "outputs": [],
   "source": [
    "def getTextFromPDFALLPages(nameOfPdfFile):\n",
    "    pdfFileObj = open(str(nameOfPdfFile), 'rb')\n",
    "\n",
    "      # creating a pdf reader object\n",
    "    pdfReader = PyPDF2.PdfFileReader(pdfFileObj)\n",
    "\n",
    "      # printing number of pages in pdf file\n",
    "    pages=pdfReader.numPages\n",
    "\n",
    "    wholetext=\"\"\n",
    "    # creating a page object\n",
    "    for i in range (pages):\n",
    "        pageObj = pdfReader.getPage(i)\n",
    "\n",
    "      # extracting text from page\n",
    "        text=pageObj.extractText()\n",
    "        wholetext=wholetext+text\n",
    "      # closing the pdf file object\n",
    "    pdfFileObj.close()\n",
    "    return wholetext\n"
   ]
  },
  {
   "cell_type": "code",
   "execution_count": 10,
   "metadata": {},
   "outputs": [],
   "source": [
    "def mainProgram():\n",
    "    file1=input(\"enter name of first file\")\n",
    "    file2=input(\"enter name of second file\")\n",
    "    text1=convert_pdf_to_txt(file1)\n",
    "    text2=convert_pdf_to_txt(file2)\n",
    "    dictionary1=makeDictionaryFromText(text1)\n",
    "    dictionary2=makeDictionaryFromText(text2)\n",
    "    ans=generateResult(dictionary1,dictionary2)\n",
    "    print(ans)"
   ]
  },
  {
   "cell_type": "code",
   "execution_count": 11,
   "metadata": {},
   "outputs": [
    {
     "name": "stdout",
     "output_type": "stream",
     "text": [
      "enter name of first fileNSQF-Light Motor Vehicle Driver.pdf\n",
      "enter name of second fileNSQF-Taxi Driver.pdf\n",
      "51.684781070970345\n"
     ]
    }
   ],
   "source": [
    "mainProgram()"
   ]
  },
  {
   "cell_type": "code",
   "execution_count": 15,
   "metadata": {},
   "outputs": [],
   "source": [
    "text=convert_pdf_to_txt(\"QF_Plumber.pdf\")"
   ]
  },
  {
   "cell_type": "code",
   "execution_count": 17,
   "metadata": {},
   "outputs": [],
   "source": [
    "df,columnName=makeDataFrameFromText(text)"
   ]
  },
  {
   "cell_type": "markdown",
   "metadata": {},
   "source": [
    "### Three Different files"
   ]
  },
  {
   "cell_type": "code",
   "execution_count": 20,
   "metadata": {},
   "outputs": [
    {
     "name": "stdout",
     "output_type": "stream",
     "text": [
      "enter name of first fileNSQF- Advance Pattern Maker (CAD-CAM).pdf\n",
      "enter name of second fileNSQF-2-3 WHEELERS MECHANIC TECHNICIAN (revised on 24.1.2017).pdf\n",
      "3.7722358083243006\n"
     ]
    }
   ],
   "source": [
    "mainProgram()"
   ]
  },
  {
   "cell_type": "code",
   "execution_count": 21,
   "metadata": {},
   "outputs": [
    {
     "name": "stdout",
     "output_type": "stream",
     "text": [
      "enter name of first fileNSQF-2-3 WHEELERS MECHANIC TECHNICIAN (revised on 24.1.2017).pdf\n",
      "enter name of second fileQF _Accounting_BAN101.pdf\n",
      "17.22196722196722\n"
     ]
    }
   ],
   "source": [
    "mainProgram()"
   ]
  },
  {
   "cell_type": "code",
   "execution_count": 22,
   "metadata": {},
   "outputs": [
    {
     "name": "stdout",
     "output_type": "stream",
     "text": [
      "enter name of first fileNSQF- Advance Pattern Maker (CAD-CAM).pdf\n",
      "enter name of second fileQF _Accounting_BAN101.pdf\n",
      "4.739220198433432\n"
     ]
    }
   ],
   "source": [
    "mainProgram()"
   ]
  },
  {
   "cell_type": "markdown",
   "metadata": {},
   "source": [
    "### Three same files"
   ]
  },
  {
   "cell_type": "code",
   "execution_count": 23,
   "metadata": {},
   "outputs": [
    {
     "name": "stdout",
     "output_type": "stream",
     "text": [
      "enter name of first fileNSQF-Light Motor Vehicle Driver.pdf\n",
      "enter name of second fileNSQF-Taxi Driver.pdf\n",
      "51.684781070970345\n"
     ]
    }
   ],
   "source": [
    "mainProgram()"
   ]
  },
  {
   "cell_type": "code",
   "execution_count": 24,
   "metadata": {},
   "outputs": [
    {
     "name": "stdout",
     "output_type": "stream",
     "text": [
      "enter name of first fileNSQF-Taxi Driver.pdf\n",
      "enter name of second fileQF - LMV Owner Driver.pdf\n",
      "3.0458716949846387\n"
     ]
    }
   ],
   "source": [
    "mainProgram()"
   ]
  },
  {
   "cell_type": "code",
   "execution_count": 25,
   "metadata": {},
   "outputs": [
    {
     "name": "stdout",
     "output_type": "stream",
     "text": [
      "enter name of first fileNSQF-Light Motor Vehicle Driver.pdf\n",
      "enter name of second fileQF - LMV Owner Driver.pdf\n",
      "2.9172118168061374\n"
     ]
    }
   ],
   "source": [
    "mainProgram()"
   ]
  },
  {
   "cell_type": "code",
   "execution_count": 28,
   "metadata": {},
   "outputs": [],
   "source": [
    "text1=convert_pdf_to_txt(\"NSQF-Light Motor Vehicle Driver.pdf\")"
   ]
  },
  {
   "cell_type": "code",
   "execution_count": 29,
   "metadata": {},
   "outputs": [],
   "source": [
    "text2=convert_pdf_to_txt(\"QF - LMV Owner Driver.pdf\")"
   ]
  },
  {
   "cell_type": "code",
   "execution_count": 30,
   "metadata": {},
   "outputs": [],
   "source": [
    "df1=makeDataFrameFromText(text1)"
   ]
  },
  {
   "cell_type": "code",
   "execution_count": 31,
   "metadata": {},
   "outputs": [],
   "source": [
    "df2=makeDataFrameFromText(text2)"
   ]
  },
  {
   "cell_type": "code",
   "execution_count": 32,
   "metadata": {},
   "outputs": [
    {
     "data": {
      "text/plain": [
       "(                                       NSDA Reference \n",
       " 0                                 To be added by NSDA \n",
       " 1    QUALIFICATION FILE – CONTACT DETAILS OF SUBMIT...\n",
       " 2    Name and address of submitting body: Automotiv...\n",
       " 3                           Sat Paul Mittal Building, \n",
       " 4                                  New Delhi – 110049 \n",
       " 5                       1/6, Siri Institutional Area, \n",
       " 6                                    August Kranti ...\n",
       " 7    Name and contact details of individual dealing...\n",
       " 8                            Name: Sunil K Chaturvedi \n",
       " 9    Position in the organisation: Chief Executive ...\n",
       " 10                        Tel number(s): 011-41868090 \n",
       " 11     Address if different from above: Same as above \n",
       " 12                   E-mail address: skc@asdc.org.in  \n",
       " 13   List of documents submitted in support of the ...\n",
       " 14                1.  Qualification Pack :- ASC/Q9702 \n",
       " 15   2.  Documents related to QP Development (Refer...\n",
       " 16                       (i)  RFP for NOS Development \n",
       " 17       (ii)  Selection of consultant to Develop NOS \n",
       " 18         (iii) Supporting Document from GC meetings \n",
       " 19                        (iv) Skill GAP Study report \n",
       " 20                              (v)  Occupational Map \n",
       " 21                              (vi) Career path ways \n",
       " 22                            (vii) MOU with Industry \n",
       " 23   (viii) List of Companies participating in QP D...\n",
       " 24                  (ix) List of Validating Companies \n",
       " 25                                                  1 \n",
       " 26                   \n",
       " 3.  QUALIFICATION FILE SUMMARY  \n",
       " 27   Qualification Title                           ...\n",
       " 28   Body/bodies which will assess candidates    : ...\n",
       " 29   Body/bodies which will award the certificate: ...\n",
       " ..                                                 ...\n",
       " 867                                  technical issues \n",
       " 868                                     pertaining to \n",
       " 869                                        vehicle in \n",
       " 870                                          writing. \n",
       " 871                                              gain \n",
       " 872                                        knowledge/ \n",
       " 873                                        experience \n",
       " 874                                     from  working \n",
       " 875                                                on \n",
       " 876                                         different \n",
       " 877                                           routes  \n",
       " 878                                           Level 3 \n",
       " 879                                           Level 3 \n",
       " 880                                           Level 3 \n",
       " 881  Please attach any documents giving further inf...\n",
       " 882             Give details of the document(s) here: \n",
       " 883                                        SECTION 4  \n",
       " 884            EVIDENCE OF RECOGNITION OR PROGRESSION \n",
       " 885  What steps have been taken in the design of th...\n",
       " 886           to other qualifications in this sector? \n",
       " 887                                                15 \n",
       " 888  \n",
       " Occupational and career maps indicating horiz...\n",
       " 889                                             used. \n",
       " 890  Please attach any documents giving further inf...\n",
       " 891             Give details of the document(s) here: \n",
       " 892                               List of Annexure(s) \n",
       " 893                              Annexure A = Cutoffs \n",
       " 894  Annexure B=  Accredited Assessment Agencies Gu...\n",
       " 895                                                16 \n",
       " 896                                                  \n",
       " \n",
       " \n",
       " [897 rows x 1 columns], ['NSDA Reference '])"
      ]
     },
     "execution_count": 32,
     "metadata": {},
     "output_type": "execute_result"
    }
   ],
   "source": [
    "df1"
   ]
  },
  {
   "cell_type": "code",
   "execution_count": 33,
   "metadata": {},
   "outputs": [
    {
     "data": {
      "text/plain": [
       "(                          QUALIFICATION FILE TEMPLATE \n",
       " 0                                                NSDA \n",
       " 1                                          Reference  \n",
       " 2                                      To be Added by \n",
       " 3                                                NSDA \n",
       " 4    CONTACT DETAILS OF THE AWARDING BODY FOR THE Q...\n",
       " 5              1.  Name and address of awarding body: \n",
       " 6                         National Academy of RUDSETI \n",
       " 7                                    Chitrapur Bhavan \n",
       " 8                                15th Cross, 8th Main \n",
       " 9                                         Malleswaram \n",
       " 10                                 Bengaluru- 560 055 \n",
       " 11                                 Ph: 080- 2346 2875 \n",
       " 12                      Email: info@rudsetacademy.org \n",
       " 13   2.  Name and contact details of the Individual...\n",
       " 14                             Name: Sri. R. R. Singh \n",
       " 15     Position in the Organization: Director General \n",
       " 16                             Address: Same as above \n",
       " 17                        Email: dg@rudsetacademy.org \n",
       " 18   3.  List of Documents submitted in support of ...\n",
       " 19               1.  About National Academy of RUDSET \n",
       " 20   2.  RUDSETI Model of Entrepreneurship Developm...\n",
       " 21                  3.  Curriculum document /Syllabus \n",
       " 22                                   4.  Session Plan \n",
       " 23                       5.  Bank wise list of RSETIs \n",
       " 24       6.  Research Studies regarding RUDSETI/RSETI \n",
       " 25                                7.  Success Stories \n",
       " 26                                       Page 1 of 18 \n",
       " 27                       \n",
       " QUALIFICATION FILE TEMPLATE \n",
       " 28                                            SUMMARY \n",
       " 29             Qualification Title: LMV Owner Driver  \n",
       " ..                                                 ...\n",
       " 935    The qualification is unique because it devel...\n",
       " 936  commercial  vehicle  by  developing  both  ent...\n",
       " 937  qualification is currently not offered by NCVT...\n",
       " 938    and the Qualification does not get duplicated. \n",
       " 939                                     Page 17 of 18 \n",
       " 940                      \n",
       " QUALIFICATION FILE TEMPLATE \n",
       " 941  What Arrangements are in place to monitor and ...\n",
       " 942  and at point will the qualification (s) be rev...\n",
       " 943  National Academy of RUDSETI has put in place a...\n",
       " 944  wise/Bank Wise/State Wise) for all RSETIs is m...\n",
       " 945  the photograph of the candidate other basic de...\n",
       " 946  the website of NAR. Training logs and Post Pro...\n",
       " 947  also made available in the MIS.  Details of Se...\n",
       " 948  action photos and documentary proofs. The Stat...\n",
       " 949  quarter for reviewing the quality of training ...\n",
       " 950  and NAR are also making periodic visits to the...\n",
       " 951  viewing  the  settlement  of  the  trained  ca...\n",
       " 952  them. Feedback obtained from the trained candi...\n",
       " 953                 used to review/update the course. \n",
       " 954  SECTION 4 - EVIDENCE OF RECOGNITION AND PROGRE...\n",
       " 955  What steps have been taken in the design of th...\n",
       " 956              other qualifications in this sector? \n",
       " 957  The  candidates  who  are  trained  in  Entrep...\n",
       " 958  Programme for the subject qualification, where...\n",
       " 959  latest  technology  in  automotive  transmissi...\n",
       " 960  automotive transmission. The Candidates are al...\n",
       " 961  which will help them draw a growth plan for th...\n",
       " 962                       related field of activity.  \n",
       " 963                                     Page 18 of 18 \n",
       " 964                                                  \n",
       " \n",
       " \n",
       " [965 rows x 1 columns], ['QUALIFICATION FILE TEMPLATE '])"
      ]
     },
     "execution_count": 33,
     "metadata": {},
     "output_type": "execute_result"
    }
   ],
   "source": [
    "df2"
   ]
  },
  {
   "cell_type": "code",
   "execution_count": 34,
   "metadata": {},
   "outputs": [
    {
     "name": "stdout",
     "output_type": "stream",
     "text": [
      "enter name of first fileContact-Details-SSC.pdf\n",
      "enter name of second fileNSQF-Taxi Driver.pdf\n",
      "0.24154589371980675\n"
     ]
    }
   ],
   "source": [
    "mainProgram()"
   ]
  },
  {
   "cell_type": "code",
   "execution_count": null,
   "metadata": {},
   "outputs": [],
   "source": []
  }
 ],
 "metadata": {
  "kernelspec": {
   "display_name": "Python 3",
   "language": "python",
   "name": "python3"
  },
  "language_info": {
   "codemirror_mode": {
    "name": "ipython",
    "version": 3
   },
   "file_extension": ".py",
   "mimetype": "text/x-python",
   "name": "python",
   "nbconvert_exporter": "python",
   "pygments_lexer": "ipython3",
   "version": "3.6.5"
  }
 },
 "nbformat": 4,
 "nbformat_minor": 2
}

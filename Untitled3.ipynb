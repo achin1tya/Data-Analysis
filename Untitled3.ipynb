{
 "cells": [
  {
   "cell_type": "code",
   "execution_count": 1,
   "metadata": {},
   "outputs": [],
   "source": [
    "import java.util.*"
   ]
  },
  {
   "cell_type": "code",
   "execution_count": 6,
   "metadata": {},
   "outputs": [
    {
     "data": {
      "text/html": [
       "30"
      ]
     },
     "execution_count": 6,
     "metadata": {},
     "output_type": "execute_result"
    }
   ],
   "source": [
    " a=10;\n",
    " b=20;\n",
    "c=a+b"
   ]
  },
  {
   "cell_type": "code",
   "execution_count": 7,
   "metadata": {},
   "outputs": [
    {
     "name": "stderr",
     "output_type": "stream",
     "text": [
      "[ERROR] null\r\n",
      "org.codehaus.groovy.control.MultipleCompilationErrorsException: startup failed:\r\n",
      "Script7.groovy: 145: unexpected token:  @ line 145, column 1.\r\n",
      "1 error\r\n",
      "\r\n",
      "\tat org.codehaus.groovy.control.ErrorCollector.failIfErrors(ErrorCollector.java:310)\r\n",
      "\tat org.codehaus.groovy.control.ErrorCollector.addFatalError(ErrorCollector.java:150)\r\n",
      "\tat org.codehaus.groovy.control.ErrorCollector.addError(ErrorCollector.java:120)\r\n",
      "\tat org.codehaus.groovy.control.ErrorCollector.addError(ErrorCollector.java:132)\r\n",
      "\tat org.codehaus.groovy.control.SourceUnit.addError(SourceUnit.java:350)\r\n",
      "\tat org.codehaus.groovy.antlr.AntlrParserPlugin.transformCSTIntoAST(AntlrParserPlugin.java:144)\r\n",
      "\tat org.codehaus.groovy.antlr.AntlrParserPlugin.parseCST(AntlrParserPlugin.java:110)\r\n",
      "\tat org.codehaus.groovy.control.SourceUnit.parse(SourceUnit.java:234)\r\n",
      "\tat org.codehaus.groovy.control.CompilationUnit$1.call(CompilationUnit.java:168)\r\n",
      "\tat org.codehaus.groovy.control.CompilationUnit.applyToSourceUnits(CompilationUnit.java:943)\r\n",
      "\tat org.codehaus.groovy.control.CompilationUnit.doPhaseOperation(CompilationUnit.java:605)\r\n",
      "\tat org.codehaus.groovy.control.CompilationUnit.processPhaseOperations(CompilationUnit.java:581)\r\n",
      "\tat org.codehaus.groovy.control.CompilationUnit.compile(CompilationUnit.java:558)\r\n",
      "\tat groovy.lang.GroovyClassLoader.doParseClass(GroovyClassLoader.java:298)\r\n",
      "\tat groovy.lang.GroovyClassLoader.parseClass(GroovyClassLoader.java:268)\r\n",
      "\tat groovy.lang.GroovyClassLoader.parseClass(GroovyClassLoader.java:254)\r\n",
      "\tat groovy.lang.GroovyClassLoader.parseClass(GroovyClassLoader.java:250)\r\n",
      "\tat org.scijava.plugins.scripting.groovy.GroovyScriptEngine.getScriptClass(GroovyScriptEngine.java:319)\r\n",
      "\tat org.scijava.plugins.scripting.groovy.GroovyScriptEngine.eval(GroovyScriptEngine.java:122)\r\n",
      "\tat javax.script.AbstractScriptEngine.eval(AbstractScriptEngine.java:264)\r\n",
      "\tat org.scijava.script.ScriptModule.run(ScriptModule.java:160)\r\n",
      "\tat org.scijava.module.ModuleRunner.run(ModuleRunner.java:168)\r\n",
      "\tat org.scijava.jupyter.kernel.evaluator.Worker.run(Worker.java:108)\r\n",
      "\tat org.scijava.thread.DefaultThreadService$2.run(DefaultThreadService.java:221)\r\n",
      "\tat java.util.concurrent.Executors$RunnableAdapter.call(Executors.java:511)\r\n",
      "\tat java.util.concurrent.FutureTask.run(FutureTask.java:266)\r\n",
      "\tat java.util.concurrent.ThreadPoolExecutor.runWorker(ThreadPoolExecutor.java:1142)\r\n",
      "\tat java.util.concurrent.ThreadPoolExecutor$Worker.run(ThreadPoolExecutor.java:617)\r\n",
      "\tat java.lang.Thread.run(Thread.java:745)\r\n"
     ]
    }
   ],
   "source": []
  },
  {
   "cell_type": "code",
   "execution_count": null,
   "metadata": {},
   "outputs": [],
   "source": []
  }
 ],
 "metadata": {
  "kernelspec": {
   "display_name": "SciJava",
   "language": "groovy",
   "name": "scijava"
  },
  "language_info": {
   "codemirror_mode": "groovy",
   "file_extension": "",
   "mimetype": "",
   "name": "scijava",
   "nbconverter_exporter": "",
   "pygments_lexer": "groovy",
   "version": "1.0"
  }
 },
 "nbformat": 4,
 "nbformat_minor": 2
}

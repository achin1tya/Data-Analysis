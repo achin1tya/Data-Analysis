{
 "cells": [
  {
   "cell_type": "code",
   "execution_count": 1,
   "metadata": {},
   "outputs": [],
   "source": [
    "from PIL import Image\n",
    "import pytesseract\n",
    "import argparse\n",
    "import cv2\n",
    "import os\n",
    "import sys\n",
    "import numpy as np\n",
    "import pandas as pd\n",
    "from wordcloud import WordCloud\n",
    "from matplotlib import pyplot as plt\n",
    "import PyPDF2"
   ]
  },
  {
   "cell_type": "code",
   "execution_count": 2,
   "metadata": {},
   "outputs": [],
   "source": [
    "#getting two dictionaries to compare \n",
    "def generateResult(dictonaryOfFirstFile,dictionaryOfAllPreviosPdf):   \n",
    "    index1=getIndex(dictonaryOfFirstFile)\n",
    "    index2=getIndex(dictionaryOfAllPreviosPdf)\n",
    "    valSum=0\n",
    "    for indexValue in index1:\n",
    "        if indexValue in index2 :\n",
    "            if dictonaryOfFirstFile[indexValue]==dictionaryOfAllPreviosPdf[indexValue]:\n",
    "                valSum=valSum+1\n",
    "            else:\n",
    "                valSum=valSum+(min(dictonaryOfFirstFile[indexValue],dictionaryOfAllPreviosPdf[indexValue]))/max(dictonaryOfFirstFile[indexValue],dictionaryOfAllPreviosPdf[indexValue])        \n",
    "    return (valSum/max(len(dictonaryOfFirstFile),len(dictionaryOfAllPreviosPdf)))*100\n"
   ]
  },
  {
   "cell_type": "code",
   "execution_count": 3,
   "metadata": {},
   "outputs": [],
   "source": [
    "#getting the words from the dictionary \n",
    "def getIndex(dictionary):                                    \n",
    "    a=[]\n",
    "    for k,v in dictionary.items():\n",
    "        a.append(k)\n",
    "    return a"
   ]
  },
  {
   "cell_type": "code",
   "execution_count": 4,
   "metadata": {},
   "outputs": [],
   "source": [
    "# unique words generating dictionary\n",
    "def makeDictionary(array,cleanWords):\n",
    "    dict1={} \n",
    "    for word in array:\n",
    "        count=0\n",
    "        for i in range(len(cleanWords)):\n",
    "            if word==cleanWords[i]:\n",
    "                count=count+1\n",
    "        dict1[word]=count\n",
    "    return dict1"
   ]
  },
  {
   "cell_type": "code",
   "execution_count": 5,
   "metadata": {},
   "outputs": [],
   "source": [
    "def makeDataFrameFromText(textData):\n",
    "    try:\n",
    "        import StringIO \n",
    "    except ImportError:\n",
    "        from io import StringIO\n",
    "        \n",
    "    testData=StringIO(textData)\n",
    "    import pandas as pd\n",
    "    dataFrameForPdf=pd.read_csv(testData,sep=\"\\n\")  # making the text to a dataFrame Column\n",
    "    columnName=list(dataFrameForPdf.columns.values)\n",
    "    return dataFrameForPdf,columnName"
   ]
  },
  {
   "cell_type": "code",
   "execution_count": 6,
   "metadata": {},
   "outputs": [],
   "source": [
    "def makeDictionaryFromText(textData):\n",
    "    dataFrameForPdf,columnName=makeDataFrameFromText(textData)\n",
    "    uniqueWords=dataFrameForPdf[str(columnName[0])].unique()\n",
    "    temp={}\n",
    "    temp=makeDictionary(uniqueWords,dataFrameForPdf[str(columnName[0])])\n",
    "    return temp\n"
   ]
  },
  {
   "cell_type": "code",
   "execution_count": 7,
   "metadata": {},
   "outputs": [],
   "source": [
    "def getTextFromPDFALLPages(nameOfPdfFile):\n",
    "    pdfFileObj = open(str(nameOfPdfFile), 'rb')\n",
    "\n",
    "      # creating a pdf reader object\n",
    "    pdfReader = PyPDF2.PdfFileReader(pdfFileObj)\n",
    "\n",
    "      # printing number of pages in pdf file\n",
    "    pages=pdfReader.numPages\n",
    "\n",
    "    wholetext=\"\"\n",
    "    # creating a page object\n",
    "    for i in range (pages):\n",
    "        pageObj = pdfReader.getPage(i)\n",
    "\n",
    "      # extracting text from page\n",
    "        text=pageObj.extractText()\n",
    "        wholetext=wholetext+text\n",
    "      # closing the pdf file object\n",
    "    pdfFileObj.close()\n",
    "    return wholetext\n"
   ]
  },
  {
   "cell_type": "code",
   "execution_count": 8,
   "metadata": {},
   "outputs": [],
   "source": [
    "def mainProgram():\n",
    "    file1=input(\"enter name of first file\")\n",
    "    file2=input(\"enter name of second file\")\n",
    "    text1=getTextFromPDFALLPages(file1)\n",
    "    text2=getTextFromPDFALLPages(file2)\n",
    "    dictionary1=makeDictionaryFromText(text1)\n",
    "    dictionary2=makeDictionaryFromText(text2)\n",
    "    ans=generateResult(dictionary1,dictionary2)\n",
    "    print(ans)"
   ]
  },
  {
   "cell_type": "code",
   "execution_count": 19,
   "metadata": {},
   "outputs": [
    {
     "name": "stdout",
     "output_type": "stream",
     "text": [
      "enter name of first fileQF - LMV Owner Driver.pdf\n",
      "enter name of second fileNSQF-Light Motor Vehicle Driver.pdf\n"
     ]
    },
    {
     "ename": "EmptyDataError",
     "evalue": "No columns to parse from file",
     "output_type": "error",
     "traceback": [
      "\u001b[1;31m---------------------------------------------------------------------------\u001b[0m",
      "\u001b[1;31mEmptyDataError\u001b[0m                            Traceback (most recent call last)",
      "\u001b[1;32m<ipython-input-19-7b2c5e19000a>\u001b[0m in \u001b[0;36m<module>\u001b[1;34m()\u001b[0m\n\u001b[1;32m----> 1\u001b[1;33m \u001b[0mmainProgram\u001b[0m\u001b[1;33m(\u001b[0m\u001b[1;33m)\u001b[0m\u001b[1;33m\u001b[0m\u001b[0m\n\u001b[0m",
      "\u001b[1;32m<ipython-input-8-7a8eb3d530d1>\u001b[0m in \u001b[0;36mmainProgram\u001b[1;34m()\u001b[0m\n\u001b[0;32m      5\u001b[0m     \u001b[0mtext2\u001b[0m\u001b[1;33m=\u001b[0m\u001b[0mgetTextFromPDFALLPages\u001b[0m\u001b[1;33m(\u001b[0m\u001b[0mfile2\u001b[0m\u001b[1;33m)\u001b[0m\u001b[1;33m\u001b[0m\u001b[0m\n\u001b[0;32m      6\u001b[0m     \u001b[0mdictionary1\u001b[0m\u001b[1;33m=\u001b[0m\u001b[0mmakeDictionaryFromText\u001b[0m\u001b[1;33m(\u001b[0m\u001b[0mtext1\u001b[0m\u001b[1;33m)\u001b[0m\u001b[1;33m\u001b[0m\u001b[0m\n\u001b[1;32m----> 7\u001b[1;33m     \u001b[0mdictionary2\u001b[0m\u001b[1;33m=\u001b[0m\u001b[0mmakeDictionaryFromText\u001b[0m\u001b[1;33m(\u001b[0m\u001b[0mtext2\u001b[0m\u001b[1;33m)\u001b[0m\u001b[1;33m\u001b[0m\u001b[0m\n\u001b[0m\u001b[0;32m      8\u001b[0m     \u001b[0mans\u001b[0m\u001b[1;33m=\u001b[0m\u001b[0mgenerateResult\u001b[0m\u001b[1;33m(\u001b[0m\u001b[0mdictionary1\u001b[0m\u001b[1;33m,\u001b[0m\u001b[0mdictionary2\u001b[0m\u001b[1;33m)\u001b[0m\u001b[1;33m\u001b[0m\u001b[0m\n\u001b[0;32m      9\u001b[0m     \u001b[0mprint\u001b[0m\u001b[1;33m(\u001b[0m\u001b[0mans\u001b[0m\u001b[1;33m)\u001b[0m\u001b[1;33m\u001b[0m\u001b[0m\n",
      "\u001b[1;32m<ipython-input-6-38fe9a27cb97>\u001b[0m in \u001b[0;36mmakeDictionaryFromText\u001b[1;34m(textData)\u001b[0m\n\u001b[0;32m      1\u001b[0m \u001b[1;32mdef\u001b[0m \u001b[0mmakeDictionaryFromText\u001b[0m\u001b[1;33m(\u001b[0m\u001b[0mtextData\u001b[0m\u001b[1;33m)\u001b[0m\u001b[1;33m:\u001b[0m\u001b[1;33m\u001b[0m\u001b[0m\n\u001b[1;32m----> 2\u001b[1;33m     \u001b[0mdataFrameForPdf\u001b[0m\u001b[1;33m,\u001b[0m\u001b[0mcolumnName\u001b[0m\u001b[1;33m=\u001b[0m\u001b[0mmakeDataFrameFromText\u001b[0m\u001b[1;33m(\u001b[0m\u001b[0mtextData\u001b[0m\u001b[1;33m)\u001b[0m\u001b[1;33m\u001b[0m\u001b[0m\n\u001b[0m\u001b[0;32m      3\u001b[0m     \u001b[0muniqueWords\u001b[0m\u001b[1;33m=\u001b[0m\u001b[0mdataFrameForPdf\u001b[0m\u001b[1;33m[\u001b[0m\u001b[0mstr\u001b[0m\u001b[1;33m(\u001b[0m\u001b[0mcolumnName\u001b[0m\u001b[1;33m[\u001b[0m\u001b[1;36m0\u001b[0m\u001b[1;33m]\u001b[0m\u001b[1;33m)\u001b[0m\u001b[1;33m]\u001b[0m\u001b[1;33m.\u001b[0m\u001b[0munique\u001b[0m\u001b[1;33m(\u001b[0m\u001b[1;33m)\u001b[0m\u001b[1;33m\u001b[0m\u001b[0m\n\u001b[0;32m      4\u001b[0m     \u001b[0mtemp\u001b[0m\u001b[1;33m=\u001b[0m\u001b[1;33m{\u001b[0m\u001b[1;33m}\u001b[0m\u001b[1;33m\u001b[0m\u001b[0m\n\u001b[0;32m      5\u001b[0m     \u001b[0mtemp\u001b[0m\u001b[1;33m=\u001b[0m\u001b[0mmakeDictionary\u001b[0m\u001b[1;33m(\u001b[0m\u001b[0muniqueWords\u001b[0m\u001b[1;33m,\u001b[0m\u001b[0mdataFrameForPdf\u001b[0m\u001b[1;33m[\u001b[0m\u001b[0mstr\u001b[0m\u001b[1;33m(\u001b[0m\u001b[0mcolumnName\u001b[0m\u001b[1;33m[\u001b[0m\u001b[1;36m0\u001b[0m\u001b[1;33m]\u001b[0m\u001b[1;33m)\u001b[0m\u001b[1;33m]\u001b[0m\u001b[1;33m)\u001b[0m\u001b[1;33m\u001b[0m\u001b[0m\n",
      "\u001b[1;32m<ipython-input-5-1b03f4806ec9>\u001b[0m in \u001b[0;36mmakeDataFrameFromText\u001b[1;34m(textData)\u001b[0m\n\u001b[0;32m      7\u001b[0m     \u001b[0mtestData\u001b[0m\u001b[1;33m=\u001b[0m\u001b[0mStringIO\u001b[0m\u001b[1;33m(\u001b[0m\u001b[0mtextData\u001b[0m\u001b[1;33m)\u001b[0m\u001b[1;33m\u001b[0m\u001b[0m\n\u001b[0;32m      8\u001b[0m     \u001b[1;32mimport\u001b[0m \u001b[0mpandas\u001b[0m \u001b[1;32mas\u001b[0m \u001b[0mpd\u001b[0m\u001b[1;33m\u001b[0m\u001b[0m\n\u001b[1;32m----> 9\u001b[1;33m     \u001b[0mdataFrameForPdf\u001b[0m\u001b[1;33m=\u001b[0m\u001b[0mpd\u001b[0m\u001b[1;33m.\u001b[0m\u001b[0mread_csv\u001b[0m\u001b[1;33m(\u001b[0m\u001b[0mtestData\u001b[0m\u001b[1;33m,\u001b[0m\u001b[0msep\u001b[0m\u001b[1;33m=\u001b[0m\u001b[1;34m\"\\n\"\u001b[0m\u001b[1;33m)\u001b[0m  \u001b[1;31m# making the text to a dataFrame Column\u001b[0m\u001b[1;33m\u001b[0m\u001b[0m\n\u001b[0m\u001b[0;32m     10\u001b[0m     \u001b[0mcolumnName\u001b[0m\u001b[1;33m=\u001b[0m\u001b[0mlist\u001b[0m\u001b[1;33m(\u001b[0m\u001b[0mdataFrameForPdf\u001b[0m\u001b[1;33m.\u001b[0m\u001b[0mcolumns\u001b[0m\u001b[1;33m.\u001b[0m\u001b[0mvalues\u001b[0m\u001b[1;33m)\u001b[0m\u001b[1;33m\u001b[0m\u001b[0m\n\u001b[0;32m     11\u001b[0m     \u001b[1;32mreturn\u001b[0m \u001b[0mdataFrameForPdf\u001b[0m\u001b[1;33m,\u001b[0m\u001b[0mcolumnName\u001b[0m\u001b[1;33m\u001b[0m\u001b[0m\n",
      "\u001b[1;32m~\\Anaconda3\\lib\\site-packages\\pandas\\io\\parsers.py\u001b[0m in \u001b[0;36mparser_f\u001b[1;34m(filepath_or_buffer, sep, delimiter, header, names, index_col, usecols, squeeze, prefix, mangle_dupe_cols, dtype, engine, converters, true_values, false_values, skipinitialspace, skiprows, nrows, na_values, keep_default_na, na_filter, verbose, skip_blank_lines, parse_dates, infer_datetime_format, keep_date_col, date_parser, dayfirst, iterator, chunksize, compression, thousands, decimal, lineterminator, quotechar, quoting, escapechar, comment, encoding, dialect, tupleize_cols, error_bad_lines, warn_bad_lines, skipfooter, doublequote, delim_whitespace, low_memory, memory_map, float_precision)\u001b[0m\n\u001b[0;32m    676\u001b[0m                     skip_blank_lines=skip_blank_lines)\n\u001b[0;32m    677\u001b[0m \u001b[1;33m\u001b[0m\u001b[0m\n\u001b[1;32m--> 678\u001b[1;33m         \u001b[1;32mreturn\u001b[0m \u001b[0m_read\u001b[0m\u001b[1;33m(\u001b[0m\u001b[0mfilepath_or_buffer\u001b[0m\u001b[1;33m,\u001b[0m \u001b[0mkwds\u001b[0m\u001b[1;33m)\u001b[0m\u001b[1;33m\u001b[0m\u001b[0m\n\u001b[0m\u001b[0;32m    679\u001b[0m \u001b[1;33m\u001b[0m\u001b[0m\n\u001b[0;32m    680\u001b[0m     \u001b[0mparser_f\u001b[0m\u001b[1;33m.\u001b[0m\u001b[0m__name__\u001b[0m \u001b[1;33m=\u001b[0m \u001b[0mname\u001b[0m\u001b[1;33m\u001b[0m\u001b[0m\n",
      "\u001b[1;32m~\\Anaconda3\\lib\\site-packages\\pandas\\io\\parsers.py\u001b[0m in \u001b[0;36m_read\u001b[1;34m(filepath_or_buffer, kwds)\u001b[0m\n\u001b[0;32m    438\u001b[0m \u001b[1;33m\u001b[0m\u001b[0m\n\u001b[0;32m    439\u001b[0m     \u001b[1;31m# Create the parser.\u001b[0m\u001b[1;33m\u001b[0m\u001b[1;33m\u001b[0m\u001b[0m\n\u001b[1;32m--> 440\u001b[1;33m     \u001b[0mparser\u001b[0m \u001b[1;33m=\u001b[0m \u001b[0mTextFileReader\u001b[0m\u001b[1;33m(\u001b[0m\u001b[0mfilepath_or_buffer\u001b[0m\u001b[1;33m,\u001b[0m \u001b[1;33m**\u001b[0m\u001b[0mkwds\u001b[0m\u001b[1;33m)\u001b[0m\u001b[1;33m\u001b[0m\u001b[0m\n\u001b[0m\u001b[0;32m    441\u001b[0m \u001b[1;33m\u001b[0m\u001b[0m\n\u001b[0;32m    442\u001b[0m     \u001b[1;32mif\u001b[0m \u001b[0mchunksize\u001b[0m \u001b[1;32mor\u001b[0m \u001b[0miterator\u001b[0m\u001b[1;33m:\u001b[0m\u001b[1;33m\u001b[0m\u001b[0m\n",
      "\u001b[1;32m~\\Anaconda3\\lib\\site-packages\\pandas\\io\\parsers.py\u001b[0m in \u001b[0;36m__init__\u001b[1;34m(self, f, engine, **kwds)\u001b[0m\n\u001b[0;32m    785\u001b[0m             \u001b[0mself\u001b[0m\u001b[1;33m.\u001b[0m\u001b[0moptions\u001b[0m\u001b[1;33m[\u001b[0m\u001b[1;34m'has_index_names'\u001b[0m\u001b[1;33m]\u001b[0m \u001b[1;33m=\u001b[0m \u001b[0mkwds\u001b[0m\u001b[1;33m[\u001b[0m\u001b[1;34m'has_index_names'\u001b[0m\u001b[1;33m]\u001b[0m\u001b[1;33m\u001b[0m\u001b[0m\n\u001b[0;32m    786\u001b[0m \u001b[1;33m\u001b[0m\u001b[0m\n\u001b[1;32m--> 787\u001b[1;33m         \u001b[0mself\u001b[0m\u001b[1;33m.\u001b[0m\u001b[0m_make_engine\u001b[0m\u001b[1;33m(\u001b[0m\u001b[0mself\u001b[0m\u001b[1;33m.\u001b[0m\u001b[0mengine\u001b[0m\u001b[1;33m)\u001b[0m\u001b[1;33m\u001b[0m\u001b[0m\n\u001b[0m\u001b[0;32m    788\u001b[0m \u001b[1;33m\u001b[0m\u001b[0m\n\u001b[0;32m    789\u001b[0m     \u001b[1;32mdef\u001b[0m \u001b[0mclose\u001b[0m\u001b[1;33m(\u001b[0m\u001b[0mself\u001b[0m\u001b[1;33m)\u001b[0m\u001b[1;33m:\u001b[0m\u001b[1;33m\u001b[0m\u001b[0m\n",
      "\u001b[1;32m~\\Anaconda3\\lib\\site-packages\\pandas\\io\\parsers.py\u001b[0m in \u001b[0;36m_make_engine\u001b[1;34m(self, engine)\u001b[0m\n\u001b[0;32m   1012\u001b[0m     \u001b[1;32mdef\u001b[0m \u001b[0m_make_engine\u001b[0m\u001b[1;33m(\u001b[0m\u001b[0mself\u001b[0m\u001b[1;33m,\u001b[0m \u001b[0mengine\u001b[0m\u001b[1;33m=\u001b[0m\u001b[1;34m'c'\u001b[0m\u001b[1;33m)\u001b[0m\u001b[1;33m:\u001b[0m\u001b[1;33m\u001b[0m\u001b[0m\n\u001b[0;32m   1013\u001b[0m         \u001b[1;32mif\u001b[0m \u001b[0mengine\u001b[0m \u001b[1;33m==\u001b[0m \u001b[1;34m'c'\u001b[0m\u001b[1;33m:\u001b[0m\u001b[1;33m\u001b[0m\u001b[0m\n\u001b[1;32m-> 1014\u001b[1;33m             \u001b[0mself\u001b[0m\u001b[1;33m.\u001b[0m\u001b[0m_engine\u001b[0m \u001b[1;33m=\u001b[0m \u001b[0mCParserWrapper\u001b[0m\u001b[1;33m(\u001b[0m\u001b[0mself\u001b[0m\u001b[1;33m.\u001b[0m\u001b[0mf\u001b[0m\u001b[1;33m,\u001b[0m \u001b[1;33m**\u001b[0m\u001b[0mself\u001b[0m\u001b[1;33m.\u001b[0m\u001b[0moptions\u001b[0m\u001b[1;33m)\u001b[0m\u001b[1;33m\u001b[0m\u001b[0m\n\u001b[0m\u001b[0;32m   1015\u001b[0m         \u001b[1;32melse\u001b[0m\u001b[1;33m:\u001b[0m\u001b[1;33m\u001b[0m\u001b[0m\n\u001b[0;32m   1016\u001b[0m             \u001b[1;32mif\u001b[0m \u001b[0mengine\u001b[0m \u001b[1;33m==\u001b[0m \u001b[1;34m'python'\u001b[0m\u001b[1;33m:\u001b[0m\u001b[1;33m\u001b[0m\u001b[0m\n",
      "\u001b[1;32m~\\Anaconda3\\lib\\site-packages\\pandas\\io\\parsers.py\u001b[0m in \u001b[0;36m__init__\u001b[1;34m(self, src, **kwds)\u001b[0m\n\u001b[0;32m   1706\u001b[0m         \u001b[0mkwds\u001b[0m\u001b[1;33m[\u001b[0m\u001b[1;34m'usecols'\u001b[0m\u001b[1;33m]\u001b[0m \u001b[1;33m=\u001b[0m \u001b[0mself\u001b[0m\u001b[1;33m.\u001b[0m\u001b[0musecols\u001b[0m\u001b[1;33m\u001b[0m\u001b[0m\n\u001b[0;32m   1707\u001b[0m \u001b[1;33m\u001b[0m\u001b[0m\n\u001b[1;32m-> 1708\u001b[1;33m         \u001b[0mself\u001b[0m\u001b[1;33m.\u001b[0m\u001b[0m_reader\u001b[0m \u001b[1;33m=\u001b[0m \u001b[0mparsers\u001b[0m\u001b[1;33m.\u001b[0m\u001b[0mTextReader\u001b[0m\u001b[1;33m(\u001b[0m\u001b[0msrc\u001b[0m\u001b[1;33m,\u001b[0m \u001b[1;33m**\u001b[0m\u001b[0mkwds\u001b[0m\u001b[1;33m)\u001b[0m\u001b[1;33m\u001b[0m\u001b[0m\n\u001b[0m\u001b[0;32m   1709\u001b[0m \u001b[1;33m\u001b[0m\u001b[0m\n\u001b[0;32m   1710\u001b[0m         \u001b[0mpassed_names\u001b[0m \u001b[1;33m=\u001b[0m \u001b[0mself\u001b[0m\u001b[1;33m.\u001b[0m\u001b[0mnames\u001b[0m \u001b[1;32mis\u001b[0m \u001b[1;32mNone\u001b[0m\u001b[1;33m\u001b[0m\u001b[0m\n",
      "\u001b[1;32mpandas\\_libs\\parsers.pyx\u001b[0m in \u001b[0;36mpandas._libs.parsers.TextReader.__cinit__\u001b[1;34m()\u001b[0m\n",
      "\u001b[1;31mEmptyDataError\u001b[0m: No columns to parse from file"
     ]
    }
   ],
   "source": [
    "mainProgram()"
   ]
  },
  {
   "cell_type": "code",
   "execution_count": 24,
   "metadata": {},
   "outputs": [],
   "source": [
    "text=getTextFromPDFALLPages(\"NSQF-Taxi Driver.pdf\")"
   ]
  },
  {
   "cell_type": "code",
   "execution_count": 30,
   "metadata": {},
   "outputs": [
    {
     "name": "stdout",
     "output_type": "stream",
     "text": [
      "enter name of first fileContact-Details-SSC.pdf\n",
      "enter name of second fileFood-Processing.pdf\n",
      "0.10619977037887485\n"
     ]
    }
   ],
   "source": [
    "mainProgram()"
   ]
  },
  {
   "cell_type": "code",
   "execution_count": 35,
   "metadata": {},
   "outputs": [],
   "source": [
    "text=getTextFromPDFALLPages(\"NSQF- Advance Pattern Maker (CAD-CAM).pdf\")"
   ]
  },
  {
   "cell_type": "code",
   "execution_count": 36,
   "metadata": {},
   "outputs": [
    {
     "data": {
      "text/plain": [
       "'\\n\\n\\n\\n\\n\\n\\n\\n\\n\\n\\n\\n\\n\\n\\n\\n\\n\\n\\n\\n\\n\\n\\n\\n\\n\\n\\n\\n\\n\\n\\n\\n\\n\\n\\n\\n\\n\\n\\n\\n\\n\\n\\n\\n\\n\\n\\n\\n\\n\\n\\n\\n\\n\\n\\n\\n\\n\\n\\n\\n\\n\\n\\n\\n\\n\\n\\n\\n\\n\\n\\n\\n\\n\\n\\n\\n\\n\\n\\n\\n\\n\\n\\n\\n\\n\\n\\n\\n\\n\\n\\n\\n\\n\\n\\n\\n\\n\\n\\n\\n\\n\\n\\n\\n\\n\\n\\n\\n\\n\\n\\n\\n\\n\\n\\n\\n\\n\\n\\n\\n\\n\\n\\n\\n\\n\\n\\n\\n\\n\\n\\n\\n\\n\\n\\n\\n\\n\\n\\n\\n\\n\\n\\n\\n\\n\\n\\n\\n\\n\\n\\n\\n\\n\\n\\n\\n\\n\\n\\n\\n\\n\\n\\n\\n\\n\\n\\n\\n\\n\\n\\n\\n\\n\\n\\n\\n\\n\\n\\n\\n\\n\\n\\n\\n\\n\\n\\n\\n\\n\\n\\n\\n\\n\\n\\n\\n\\n\\n\\n\\n\\n\\n\\n\\n\\n\\n\\n\\n\\n\\n\\n\\n\\n\\n\\n\\n\\n\\n\\n\\n\\n\\n\\n\\n\\n\\n\\n\\n\\n\\n\\n\\n\\n\\n\\n\\n\\n\\n\\n\\n\\n\\n\\n\\n\\n\\n\\n\\n\\n\\n\\n\\n\\n\\n\\n\\n\\n\\n\\n\\n\\n\\n\\n\\n\\n\\n\\n\\n\\n\\n\\n\\n\\n\\n\\n\\n\\n\\n\\n\\n\\n\\n\\n\\n\\n\\n\\n\\n\\n\\n\\n\\n\\n\\n\\n\\n\\n\\n\\n\\n\\n\\n\\n\\n\\n\\n\\n\\n\\n\\n\\n\\n\\n\\n\\n\\n\\n\\n\\n\\n\\n\\n\\n\\n\\n\\n\\n\\n\\n\\n\\n\\n\\n\\n\\n\\n\\n\\n\\n\\n\\n\\n\\n\\n\\n\\n\\n\\n\\n\\n\\n\\n\\n\\n\\n\\n\\n\\n\\n\\n\\n\\n\\n\\n\\n\\n\\n\\n\\n\\n\\n\\n\\n\\n\\n\\n\\n\\n\\n\\n\\n\\n\\n\\n\\n\\n\\n\\n\\n\\n\\n\\n\\n\\n\\n\\n\\n\\n\\n\\n\\n\\n\\n\\n\\n\\n\\n\\n\\n\\n\\n\\n\\n\\n\\n\\n\\n\\n\\n\\n\\n\\n\\n\\n\\n\\n\\n\\n\\n\\n\\n\\n\\n\\n\\n\\n\\n\\n\\n\\n\\n\\n\\n\\n\\n\\n\\n\\n\\n\\n\\n\\n\\n\\n\\n\\n\\n\\n\\n\\n\\n\\n\\n\\n\\n\\n\\n\\n\\n\\n\\n\\n\\n\\n\\n\\n\\n\\n\\n\\n\\n\\n\\n\\n\\n\\n\\n\\n\\n\\n\\n\\n\\n\\n\\n\\n\\n\\n\\n\\n\\n\\n\\n\\n\\n\\n\\n\\n\\n\\n\\n\\n\\n\\n\\n\\n\\n\\n\\n\\n\\n\\n\\n\\n\\n\\n\\n\\n\\n\\n\\n\\n\\n\\n\\n\\n\\n\\n\\n\\n\\n\\n\\n\\n\\n\\n\\n\\n\\n\\n\\n\\n\\n\\n\\n\\n\\n\\n\\n\\n\\n\\n\\n\\n\\n\\n\\n\\n\\n\\n\\n\\n\\n\\n\\n\\n\\n\\n\\n\\n\\n\\n\\n\\n\\n\\n\\n\\n\\n\\n\\n\\n\\n\\n\\n\\n\\n\\n\\n\\n\\n\\n\\n\\n\\n\\n\\n\\n\\n\\n\\n\\n\\n\\n\\n\\n\\n\\n\\n\\n\\n\\n\\n\\n\\n\\n\\n\\n\\n\\n\\n\\n\\n\\n\\n\\n\\n\\n\\n\\n\\n\\n\\n\\n\\n\\n\\n\\n\\n\\n\\n\\n\\n\\n\\n\\n\\n\\n\\n\\n\\n\\n\\n\\n\\n\\n\\n\\n\\n\\n\\n\\n\\n\\n\\n\\n\\n\\n\\n\\n\\n\\n\\n\\n\\n\\n\\n\\n\\n\\n\\n\\n\\n\\n\\n\\n\\n\\n\\n\\n\\n\\n\\n\\n\\n\\n\\n\\n\\n\\n\\n\\n\\n\\n\\n\\n\\n\\n\\n\\n\\n\\n\\n\\n\\n\\n\\n\\n\\n\\n\\n\\n\\n\\n\\n\\n\\n\\n\\n\\n\\n\\n\\n\\n\\n\\n\\n\\n\\n\\n\\n\\n\\n\\n\\n\\n\\n\\n\\n\\n\\n\\n\\n\\n\\n\\n\\n\\n\\n\\n\\n\\n\\n\\n\\n\\n\\n\\n\\n\\n\\n\\n\\n\\n\\n\\n\\n\\n\\n\\n\\n\\n\\n\\n\\n\\n\\n\\n\\n\\n\\n\\n\\n\\n\\n\\n\\n\\n\\n\\n\\n\\n\\n\\n\\n\\n\\n\\n\\n\\n\\n\\n\\n\\n\\n\\n\\n\\n\\n\\n\\n\\n\\n\\n\\n\\n\\n\\n\\n\\n\\n\\n\\n\\n\\n\\n\\n\\n\\n\\n\\n\\n\\n\\n\\n\\n\\n\\n\\n\\n\\n\\n\\n\\n\\n\\n\\n\\n\\n\\n\\n\\n\\n\\n\\n\\n\\n\\n\\n\\n\\n\\n\\n\\n\\n\\n\\n\\n\\n\\n\\n\\n\\n\\n\\n\\n\\n\\n\\n\\n\\n\\n\\n\\n\\n\\n\\n\\n\\n\\n\\n\\n\\n\\n\\n\\n\\n\\n\\n\\n\\n\\n\\n\\n\\n\\n\\n\\n\\n\\n\\n\\n\\n\\n\\n\\n\\n\\n\\n\\n\\n\\n\\n\\n\\n\\n\\n\\n\\n\\n\\n\\n\\n\\n\\n\\n\\n\\n\\n\\n\\n\\n\\n\\n\\n\\n\\n\\n\\n\\n\\n\\n\\n\\n\\n\\n\\n\\n\\n\\n\\n\\n\\n\\n\\n\\n\\n\\n\\n\\n\\n\\n\\n\\n\\n\\n\\n\\n\\n\\n\\n\\n\\n\\n\\n\\n\\n\\n\\n\\n\\n\\n\\n\\n\\n\\n\\n\\n\\n\\n\\n\\n\\n\\n\\n\\n\\n\\n\\n\\n\\n\\n\\n\\n\\n\\n\\n\\n\\n\\n\\n\\n\\n\\n\\n\\n\\n\\n\\n\\n\\n\\n\\n\\n\\n\\n\\n\\n\\n\\n\\n\\n\\n\\n\\n\\n\\n\\n\\n\\n\\n\\n\\n\\n\\n\\n\\n\\n\\n\\n\\n\\n\\n\\n\\n\\n\\n\\n\\n\\n\\n\\n\\n\\n\\n\\n\\n\\n\\n\\n\\n\\n\\n\\n\\n\\n\\n\\n\\n\\n\\n\\n\\n\\n\\n\\n\\n\\n\\n\\n\\n\\n\\n\\n\\n\\n\\n\\n\\n\\n\\n\\n\\n\\n\\n\\n\\n\\n\\n\\n\\n\\n\\n\\n\\n\\n\\n\\n\\n\\n\\n\\n\\n\\n\\n\\n\\n\\n\\n\\n\\n\\n\\n\\n\\n\\n\\n\\n\\n\\n\\n\\n\\n\\n\\n\\n\\n\\n\\n\\n\\n\\n\\n\\n\\n\\n\\n\\n\\n\\n\\n\\n\\n\\n\\n\\n\\n\\n\\n\\n\\n\\n\\n\\n\\n\\n\\n\\n\\n\\n\\n\\n\\n\\n\\n\\n\\n\\n\\n\\n\\n\\n\\n\\n\\n\\n\\n\\n\\n\\n\\n\\n\\n\\n\\n\\n\\n\\n\\n\\n\\n\\n\\n\\n\\n\\n\\n\\n\\n\\n\\n\\n\\n\\n\\n\\n\\n\\n\\n\\n\\n\\n\\n\\n\\n\\n\\n\\n\\n\\n\\n\\n\\n\\n\\n\\n\\n\\n\\n\\n\\n\\n\\n\\n\\n\\n\\n\\n\\n\\n\\n\\n\\n\\n\\n\\n\\n\\n\\n\\n\\n\\n\\n\\n\\n\\n\\n\\n\\n\\n\\n\\n\\n\\n\\n\\n\\n\\n\\n\\n\\n\\n\\n\\n\\n\\n\\n\\n\\n\\n\\n\\n\\n\\n\\n\\n\\n\\n\\n\\n\\n\\n\\n\\n\\n\\n\\n\\n\\n\\n\\n\\n\\n\\n\\n\\n\\n\\n\\n\\n\\n\\n\\n\\n\\n\\n\\n\\n\\n\\n\\n\\n\\n\\n\\n\\n\\n\\n\\n\\n\\n\\n\\n\\n\\n\\n\\n\\n\\n\\n\\n\\n\\n\\n\\n\\n\\n\\n\\n\\n\\n\\n\\n\\n\\n\\n\\n\\n\\n\\n\\n\\n\\n\\n\\n\\n\\n\\n\\n\\n\\n\\n\\n\\n\\n\\n\\n\\n\\n\\n\\n\\n\\n\\n\\n\\n\\n\\n\\n\\n\\n\\n\\n\\n\\n\\n\\n\\n\\n\\n\\n\\n\\n\\n\\n\\n\\n\\n\\n\\n\\n\\n\\n\\n\\n\\n\\n\\n\\n\\n\\n\\n\\n\\n\\n\\n\\n\\n\\n\\n\\n\\n\\n\\n\\n\\n\\n\\n\\n\\n\\n\\n\\n\\n\\n\\n\\n\\n\\n\\n\\n\\n\\n\\n\\n\\n\\n\\n\\n\\n\\n\\n\\n\\n\\n\\n\\n\\n\\n\\n\\n\\n\\n\\n\\n\\n\\n\\n\\n\\n\\n\\n\\n\\n\\n\\n\\n\\n\\n\\n\\n\\n\\n\\n\\n\\n\\n\\n\\n\\n\\n\\n\\n\\n\\n\\n\\n\\n\\n\\n\\n\\n\\n\\n\\n\\n\\n\\n\\n\\n\\n\\n\\n\\n\\n\\n\\n\\n\\n\\n\\n\\n\\n\\n\\n\\n\\n\\n\\n\\n\\n\\n\\n\\n\\n\\n\\n\\n\\n\\n\\n\\n\\n\\n\\n\\n\\n\\n\\n\\n\\n\\n\\n\\n\\n\\n\\n\\n\\n\\n\\n\\n\\n\\n\\n\\n\\n\\n\\n\\n\\n\\n\\n\\n\\n\\n\\n\\n\\n\\n\\n\\n\\n\\n\\n\\n\\n\\n\\n\\n\\n\\n\\n\\n\\n\\n\\n\\n\\n\\n\\n\\n\\n\\n\\n\\n\\n\\n\\n\\n\\n\\n\\n\\n\\n\\n\\n\\n\\n\\n\\n\\n\\n\\n\\n\\n\\n\\n\\n\\n\\n\\n\\n\\n\\n\\n\\n\\n\\n\\n\\n\\n\\n\\n\\n\\n\\n\\n\\n\\n\\n\\n\\n\\n\\n\\n\\n\\n\\n\\n\\n\\n\\n\\n\\n\\n\\n\\n\\n\\n\\n\\n\\n\\n\\n\\n\\n\\n\\n\\n\\n\\n\\n\\n\\n\\n\\n\\n\\n\\n\\n\\n\\n\\n\\n\\n\\n\\n\\n\\n\\n\\n\\n\\n\\n\\n\\n\\n\\n\\n\\n\\n\\n\\n\\n\\n\\n\\n\\n\\n\\n\\n\\n\\n\\n\\n\\n\\n\\n\\n\\n\\n\\n\\n\\n\\n\\n\\n\\n\\n\\n\\n\\n\\n\\n\\n\\n\\n\\n\\n\\n\\n\\n\\n\\n\\n\\n\\n\\n\\n\\n\\n\\n\\n\\n\\n\\n\\n\\n\\n\\n\\n\\n\\n\\n\\n\\n\\n\\n\\n\\n\\n\\n\\n\\n\\n\\n\\n\\n\\n\\n\\n\\n\\n\\n\\n\\n\\n\\n\\n\\n\\n\\n\\n\\n\\n\\n\\n\\n\\n\\n\\n\\n\\n\\n\\n\\n\\n\\n\\n\\n\\n\\n\\n\\n\\n\\n\\n\\n\\n\\n\\n\\n\\n\\n\\n\\n\\n\\n\\n\\n\\n\\n\\n\\n\\n\\n\\n\\n\\n\\n\\n\\n\\n\\n\\n\\n\\n\\n\\n\\n\\n\\n\\n\\n\\n\\n\\n\\n\\n\\n\\n\\n\\n\\n\\n\\n\\n\\n\\n\\n\\n\\n\\n\\n\\n\\n\\n\\n\\n\\n\\n\\n\\n\\n\\n\\n\\n\\n\\n\\n\\n\\n\\n\\n\\n\\n\\n\\n\\n\\n\\n\\n\\n\\n\\n\\n\\n\\n\\n\\n\\n\\n\\n\\n\\n\\n\\n\\n\\n\\n\\n\\n\\n\\n\\n\\n\\n\\n\\n\\n\\n\\n\\n\\n\\n\\n\\n\\n\\n\\n\\n\\n\\n\\n\\n\\n\\n\\n\\n\\n\\n\\n\\n\\n\\n\\n\\n\\n\\n\\n\\n\\n\\n\\n\\n\\n\\n\\n\\n\\n\\n\\n\\n\\n\\n\\n\\n\\n\\n\\n\\n\\n\\n\\n\\n\\n\\n\\n\\n\\n\\n\\n\\n\\n\\n\\n\\n\\n\\n\\n\\n\\n\\n\\n\\n\\n\\n\\n\\n\\n\\n\\n\\n\\n\\n\\n\\n\\n\\n\\n\\n\\n\\n\\n\\n\\n\\n\\n\\n\\n\\n\\n\\n\\n\\n\\n\\n\\n\\n\\n\\n\\n\\n\\n\\n\\n\\n\\n\\n\\n\\n\\n\\n\\n\\n\\n\\n\\n\\n\\n\\n\\n\\n\\n\\n\\n\\n\\n\\n\\n\\n\\n\\n\\n\\n\\n\\n\\n\\n\\n\\n\\n\\n\\n\\n\\n\\n\\n\\n\\n\\n\\n\\n\\n\\n\\n\\n\\n\\n\\n\\n\\n\\n\\n\\n\\n\\n\\n\\n\\n\\n\\n\\n\\n\\n\\n\\n\\n\\n\\n\\n\\n\\n\\n\\n\\n\\n\\n\\n\\n\\n\\n\\n\\n\\n\\n\\n\\n\\n\\n\\n\\n\\n\\n\\n\\n\\n\\n\\n\\n\\n\\n\\n\\n\\n\\n\\n\\n'"
      ]
     },
     "execution_count": 36,
     "metadata": {},
     "output_type": "execute_result"
    }
   ],
   "source": [
    "text"
   ]
  },
  {
   "cell_type": "code",
   "execution_count": 37,
   "metadata": {
    "scrolled": true
   },
   "outputs": [
    {
     "ename": "PdfReadError",
     "evalue": "Multiple definitions in dictionary at byte 0x273ce for key /Im30",
     "output_type": "error",
     "traceback": [
      "\u001b[1;31m---------------------------------------------------------------------------\u001b[0m",
      "\u001b[1;31mPdfReadError\u001b[0m                              Traceback (most recent call last)",
      "\u001b[1;32m<ipython-input-37-908d62dba2cc>\u001b[0m in \u001b[0;36m<module>\u001b[1;34m()\u001b[0m\n\u001b[1;32m----> 1\u001b[1;33m \u001b[0mtext\u001b[0m\u001b[1;33m=\u001b[0m\u001b[0mgetTextFromPDFALLPages\u001b[0m\u001b[1;33m(\u001b[0m\u001b[1;34m\"NSQF-2-3 WHEELERS MECHANIC TECHNICIAN (revised on 24.1.2017).pdf\"\u001b[0m\u001b[1;33m)\u001b[0m\u001b[1;33m\u001b[0m\u001b[0m\n\u001b[0m",
      "\u001b[1;32m<ipython-input-7-190c670e5e2e>\u001b[0m in \u001b[0;36mgetTextFromPDFALLPages\u001b[1;34m(nameOfPdfFile)\u001b[0m\n\u001b[0;32m      6\u001b[0m \u001b[1;33m\u001b[0m\u001b[0m\n\u001b[0;32m      7\u001b[0m       \u001b[1;31m# printing number of pages in pdf file\u001b[0m\u001b[1;33m\u001b[0m\u001b[1;33m\u001b[0m\u001b[0m\n\u001b[1;32m----> 8\u001b[1;33m     \u001b[0mpages\u001b[0m\u001b[1;33m=\u001b[0m\u001b[0mpdfReader\u001b[0m\u001b[1;33m.\u001b[0m\u001b[0mnumPages\u001b[0m\u001b[1;33m\u001b[0m\u001b[0m\n\u001b[0m\u001b[0;32m      9\u001b[0m \u001b[1;33m\u001b[0m\u001b[0m\n\u001b[0;32m     10\u001b[0m     \u001b[0mwholetext\u001b[0m\u001b[1;33m=\u001b[0m\u001b[1;34m\"\"\u001b[0m\u001b[1;33m\u001b[0m\u001b[0m\n",
      "\u001b[1;32m~\\Anaconda3\\lib\\site-packages\\PyPDF2\\pdf.py\u001b[0m in \u001b[0;36m<lambda>\u001b[1;34m(self)\u001b[0m\n\u001b[0;32m   1156\u001b[0m             \u001b[1;32mreturn\u001b[0m \u001b[0mlen\u001b[0m\u001b[1;33m(\u001b[0m\u001b[0mself\u001b[0m\u001b[1;33m.\u001b[0m\u001b[0mflattenedPages\u001b[0m\u001b[1;33m)\u001b[0m\u001b[1;33m\u001b[0m\u001b[0m\n\u001b[0;32m   1157\u001b[0m \u001b[1;33m\u001b[0m\u001b[0m\n\u001b[1;32m-> 1158\u001b[1;33m     \u001b[0mnumPages\u001b[0m \u001b[1;33m=\u001b[0m \u001b[0mproperty\u001b[0m\u001b[1;33m(\u001b[0m\u001b[1;32mlambda\u001b[0m \u001b[0mself\u001b[0m\u001b[1;33m:\u001b[0m \u001b[0mself\u001b[0m\u001b[1;33m.\u001b[0m\u001b[0mgetNumPages\u001b[0m\u001b[1;33m(\u001b[0m\u001b[1;33m)\u001b[0m\u001b[1;33m,\u001b[0m \u001b[1;32mNone\u001b[0m\u001b[1;33m,\u001b[0m \u001b[1;32mNone\u001b[0m\u001b[1;33m)\u001b[0m\u001b[1;33m\u001b[0m\u001b[0m\n\u001b[0m\u001b[0;32m   1159\u001b[0m     \"\"\"\n\u001b[0;32m   1160\u001b[0m     \u001b[0mRead\u001b[0m\u001b[1;33m-\u001b[0m\u001b[0monly\u001b[0m \u001b[0mproperty\u001b[0m \u001b[0mthat\u001b[0m \u001b[0maccesses\u001b[0m \u001b[0mthe\u001b[0m\u001b[1;33m\u001b[0m\u001b[0m\n",
      "\u001b[1;32m~\\Anaconda3\\lib\\site-packages\\PyPDF2\\pdf.py\u001b[0m in \u001b[0;36mgetNumPages\u001b[1;34m(self)\u001b[0m\n\u001b[0;32m   1153\u001b[0m         \u001b[1;32melse\u001b[0m\u001b[1;33m:\u001b[0m\u001b[1;33m\u001b[0m\u001b[0m\n\u001b[0;32m   1154\u001b[0m             \u001b[1;32mif\u001b[0m \u001b[0mself\u001b[0m\u001b[1;33m.\u001b[0m\u001b[0mflattenedPages\u001b[0m \u001b[1;33m==\u001b[0m \u001b[1;32mNone\u001b[0m\u001b[1;33m:\u001b[0m\u001b[1;33m\u001b[0m\u001b[0m\n\u001b[1;32m-> 1155\u001b[1;33m                 \u001b[0mself\u001b[0m\u001b[1;33m.\u001b[0m\u001b[0m_flatten\u001b[0m\u001b[1;33m(\u001b[0m\u001b[1;33m)\u001b[0m\u001b[1;33m\u001b[0m\u001b[0m\n\u001b[0m\u001b[0;32m   1156\u001b[0m             \u001b[1;32mreturn\u001b[0m \u001b[0mlen\u001b[0m\u001b[1;33m(\u001b[0m\u001b[0mself\u001b[0m\u001b[1;33m.\u001b[0m\u001b[0mflattenedPages\u001b[0m\u001b[1;33m)\u001b[0m\u001b[1;33m\u001b[0m\u001b[0m\n\u001b[0;32m   1157\u001b[0m \u001b[1;33m\u001b[0m\u001b[0m\n",
      "\u001b[1;32m~\\Anaconda3\\lib\\site-packages\\PyPDF2\\pdf.py\u001b[0m in \u001b[0;36m_flatten\u001b[1;34m(self, pages, inherit, indirectRef)\u001b[0m\n\u001b[0;32m   1518\u001b[0m                 \u001b[1;32mif\u001b[0m \u001b[0misinstance\u001b[0m\u001b[1;33m(\u001b[0m\u001b[0mpage\u001b[0m\u001b[1;33m,\u001b[0m \u001b[0mIndirectObject\u001b[0m\u001b[1;33m)\u001b[0m\u001b[1;33m:\u001b[0m\u001b[1;33m\u001b[0m\u001b[0m\n\u001b[0;32m   1519\u001b[0m                     \u001b[0maddt\u001b[0m\u001b[1;33m[\u001b[0m\u001b[1;34m\"indirectRef\"\u001b[0m\u001b[1;33m]\u001b[0m \u001b[1;33m=\u001b[0m \u001b[0mpage\u001b[0m\u001b[1;33m\u001b[0m\u001b[0m\n\u001b[1;32m-> 1520\u001b[1;33m                 \u001b[0mself\u001b[0m\u001b[1;33m.\u001b[0m\u001b[0m_flatten\u001b[0m\u001b[1;33m(\u001b[0m\u001b[0mpage\u001b[0m\u001b[1;33m.\u001b[0m\u001b[0mgetObject\u001b[0m\u001b[1;33m(\u001b[0m\u001b[1;33m)\u001b[0m\u001b[1;33m,\u001b[0m \u001b[0minherit\u001b[0m\u001b[1;33m,\u001b[0m \u001b[1;33m**\u001b[0m\u001b[0maddt\u001b[0m\u001b[1;33m)\u001b[0m\u001b[1;33m\u001b[0m\u001b[0m\n\u001b[0m\u001b[0;32m   1521\u001b[0m         \u001b[1;32melif\u001b[0m \u001b[0mt\u001b[0m \u001b[1;33m==\u001b[0m \u001b[1;34m\"/Page\"\u001b[0m\u001b[1;33m:\u001b[0m\u001b[1;33m\u001b[0m\u001b[0m\n\u001b[0;32m   1522\u001b[0m             \u001b[1;32mfor\u001b[0m \u001b[0mattr\u001b[0m\u001b[1;33m,\u001b[0m \u001b[0mvalue\u001b[0m \u001b[1;32min\u001b[0m \u001b[0mlist\u001b[0m\u001b[1;33m(\u001b[0m\u001b[0minherit\u001b[0m\u001b[1;33m.\u001b[0m\u001b[0mitems\u001b[0m\u001b[1;33m(\u001b[0m\u001b[1;33m)\u001b[0m\u001b[1;33m)\u001b[0m\u001b[1;33m:\u001b[0m\u001b[1;33m\u001b[0m\u001b[0m\n",
      "\u001b[1;32m~\\Anaconda3\\lib\\site-packages\\PyPDF2\\generic.py\u001b[0m in \u001b[0;36mgetObject\u001b[1;34m(self)\u001b[0m\n\u001b[0;32m    176\u001b[0m \u001b[1;33m\u001b[0m\u001b[0m\n\u001b[0;32m    177\u001b[0m     \u001b[1;32mdef\u001b[0m \u001b[0mgetObject\u001b[0m\u001b[1;33m(\u001b[0m\u001b[0mself\u001b[0m\u001b[1;33m)\u001b[0m\u001b[1;33m:\u001b[0m\u001b[1;33m\u001b[0m\u001b[0m\n\u001b[1;32m--> 178\u001b[1;33m         \u001b[1;32mreturn\u001b[0m \u001b[0mself\u001b[0m\u001b[1;33m.\u001b[0m\u001b[0mpdf\u001b[0m\u001b[1;33m.\u001b[0m\u001b[0mgetObject\u001b[0m\u001b[1;33m(\u001b[0m\u001b[0mself\u001b[0m\u001b[1;33m)\u001b[0m\u001b[1;33m.\u001b[0m\u001b[0mgetObject\u001b[0m\u001b[1;33m(\u001b[0m\u001b[1;33m)\u001b[0m\u001b[1;33m\u001b[0m\u001b[0m\n\u001b[0m\u001b[0;32m    179\u001b[0m \u001b[1;33m\u001b[0m\u001b[0m\n\u001b[0;32m    180\u001b[0m     \u001b[1;32mdef\u001b[0m \u001b[0m__repr__\u001b[0m\u001b[1;33m(\u001b[0m\u001b[0mself\u001b[0m\u001b[1;33m)\u001b[0m\u001b[1;33m:\u001b[0m\u001b[1;33m\u001b[0m\u001b[0m\n",
      "\u001b[1;32m~\\Anaconda3\\lib\\site-packages\\PyPDF2\\pdf.py\u001b[0m in \u001b[0;36mgetObject\u001b[1;34m(self, indirectReference)\u001b[0m\n\u001b[0;32m   1609\u001b[0m                                          % (indirectReference.idnum, indirectReference.generation, idnum, generation))\n\u001b[0;32m   1610\u001b[0m             \u001b[1;32massert\u001b[0m \u001b[0mgeneration\u001b[0m \u001b[1;33m==\u001b[0m \u001b[0mindirectReference\u001b[0m\u001b[1;33m.\u001b[0m\u001b[0mgeneration\u001b[0m\u001b[1;33m\u001b[0m\u001b[0m\n\u001b[1;32m-> 1611\u001b[1;33m             \u001b[0mretval\u001b[0m \u001b[1;33m=\u001b[0m \u001b[0mreadObject\u001b[0m\u001b[1;33m(\u001b[0m\u001b[0mself\u001b[0m\u001b[1;33m.\u001b[0m\u001b[0mstream\u001b[0m\u001b[1;33m,\u001b[0m \u001b[0mself\u001b[0m\u001b[1;33m)\u001b[0m\u001b[1;33m\u001b[0m\u001b[0m\n\u001b[0m\u001b[0;32m   1612\u001b[0m \u001b[1;33m\u001b[0m\u001b[0m\n\u001b[0;32m   1613\u001b[0m             \u001b[1;31m# override encryption is used for the /Encrypt dictionary\u001b[0m\u001b[1;33m\u001b[0m\u001b[1;33m\u001b[0m\u001b[0m\n",
      "\u001b[1;32m~\\Anaconda3\\lib\\site-packages\\PyPDF2\\generic.py\u001b[0m in \u001b[0;36mreadObject\u001b[1;34m(stream, pdf)\u001b[0m\n\u001b[0;32m     64\u001b[0m         \u001b[0mstream\u001b[0m\u001b[1;33m.\u001b[0m\u001b[0mseek\u001b[0m\u001b[1;33m(\u001b[0m\u001b[1;33m-\u001b[0m\u001b[1;36m2\u001b[0m\u001b[1;33m,\u001b[0m \u001b[1;36m1\u001b[0m\u001b[1;33m)\u001b[0m \u001b[1;31m# reset to start\u001b[0m\u001b[1;33m\u001b[0m\u001b[0m\n\u001b[0;32m     65\u001b[0m         \u001b[1;32mif\u001b[0m \u001b[0mpeek\u001b[0m \u001b[1;33m==\u001b[0m \u001b[0mb_\u001b[0m\u001b[1;33m(\u001b[0m\u001b[1;34m'<<'\u001b[0m\u001b[1;33m)\u001b[0m\u001b[1;33m:\u001b[0m\u001b[1;33m\u001b[0m\u001b[0m\n\u001b[1;32m---> 66\u001b[1;33m             \u001b[1;32mreturn\u001b[0m \u001b[0mDictionaryObject\u001b[0m\u001b[1;33m.\u001b[0m\u001b[0mreadFromStream\u001b[0m\u001b[1;33m(\u001b[0m\u001b[0mstream\u001b[0m\u001b[1;33m,\u001b[0m \u001b[0mpdf\u001b[0m\u001b[1;33m)\u001b[0m\u001b[1;33m\u001b[0m\u001b[0m\n\u001b[0m\u001b[0;32m     67\u001b[0m         \u001b[1;32melse\u001b[0m\u001b[1;33m:\u001b[0m\u001b[1;33m\u001b[0m\u001b[0m\n\u001b[0;32m     68\u001b[0m             \u001b[1;32mreturn\u001b[0m \u001b[0mreadHexStringFromStream\u001b[0m\u001b[1;33m(\u001b[0m\u001b[0mstream\u001b[0m\u001b[1;33m)\u001b[0m\u001b[1;33m\u001b[0m\u001b[0m\n",
      "\u001b[1;32m~\\Anaconda3\\lib\\site-packages\\PyPDF2\\generic.py\u001b[0m in \u001b[0;36mreadFromStream\u001b[1;34m(stream, pdf)\u001b[0m\n\u001b[0;32m    577\u001b[0m             \u001b[0mtok\u001b[0m \u001b[1;33m=\u001b[0m \u001b[0mreadNonWhitespace\u001b[0m\u001b[1;33m(\u001b[0m\u001b[0mstream\u001b[0m\u001b[1;33m)\u001b[0m\u001b[1;33m\u001b[0m\u001b[0m\n\u001b[0;32m    578\u001b[0m             \u001b[0mstream\u001b[0m\u001b[1;33m.\u001b[0m\u001b[0mseek\u001b[0m\u001b[1;33m(\u001b[0m\u001b[1;33m-\u001b[0m\u001b[1;36m1\u001b[0m\u001b[1;33m,\u001b[0m \u001b[1;36m1\u001b[0m\u001b[1;33m)\u001b[0m\u001b[1;33m\u001b[0m\u001b[0m\n\u001b[1;32m--> 579\u001b[1;33m             \u001b[0mvalue\u001b[0m \u001b[1;33m=\u001b[0m \u001b[0mreadObject\u001b[0m\u001b[1;33m(\u001b[0m\u001b[0mstream\u001b[0m\u001b[1;33m,\u001b[0m \u001b[0mpdf\u001b[0m\u001b[1;33m)\u001b[0m\u001b[1;33m\u001b[0m\u001b[0m\n\u001b[0m\u001b[0;32m    580\u001b[0m             \u001b[1;32mif\u001b[0m \u001b[1;32mnot\u001b[0m \u001b[0mdata\u001b[0m\u001b[1;33m.\u001b[0m\u001b[0mget\u001b[0m\u001b[1;33m(\u001b[0m\u001b[0mkey\u001b[0m\u001b[1;33m)\u001b[0m\u001b[1;33m:\u001b[0m\u001b[1;33m\u001b[0m\u001b[0m\n\u001b[0;32m    581\u001b[0m                 \u001b[0mdata\u001b[0m\u001b[1;33m[\u001b[0m\u001b[0mkey\u001b[0m\u001b[1;33m]\u001b[0m \u001b[1;33m=\u001b[0m \u001b[0mvalue\u001b[0m\u001b[1;33m\u001b[0m\u001b[0m\n",
      "\u001b[1;32m~\\Anaconda3\\lib\\site-packages\\PyPDF2\\generic.py\u001b[0m in \u001b[0;36mreadObject\u001b[1;34m(stream, pdf)\u001b[0m\n\u001b[0;32m     64\u001b[0m         \u001b[0mstream\u001b[0m\u001b[1;33m.\u001b[0m\u001b[0mseek\u001b[0m\u001b[1;33m(\u001b[0m\u001b[1;33m-\u001b[0m\u001b[1;36m2\u001b[0m\u001b[1;33m,\u001b[0m \u001b[1;36m1\u001b[0m\u001b[1;33m)\u001b[0m \u001b[1;31m# reset to start\u001b[0m\u001b[1;33m\u001b[0m\u001b[0m\n\u001b[0;32m     65\u001b[0m         \u001b[1;32mif\u001b[0m \u001b[0mpeek\u001b[0m \u001b[1;33m==\u001b[0m \u001b[0mb_\u001b[0m\u001b[1;33m(\u001b[0m\u001b[1;34m'<<'\u001b[0m\u001b[1;33m)\u001b[0m\u001b[1;33m:\u001b[0m\u001b[1;33m\u001b[0m\u001b[0m\n\u001b[1;32m---> 66\u001b[1;33m             \u001b[1;32mreturn\u001b[0m \u001b[0mDictionaryObject\u001b[0m\u001b[1;33m.\u001b[0m\u001b[0mreadFromStream\u001b[0m\u001b[1;33m(\u001b[0m\u001b[0mstream\u001b[0m\u001b[1;33m,\u001b[0m \u001b[0mpdf\u001b[0m\u001b[1;33m)\u001b[0m\u001b[1;33m\u001b[0m\u001b[0m\n\u001b[0m\u001b[0;32m     67\u001b[0m         \u001b[1;32melse\u001b[0m\u001b[1;33m:\u001b[0m\u001b[1;33m\u001b[0m\u001b[0m\n\u001b[0;32m     68\u001b[0m             \u001b[1;32mreturn\u001b[0m \u001b[0mreadHexStringFromStream\u001b[0m\u001b[1;33m(\u001b[0m\u001b[0mstream\u001b[0m\u001b[1;33m)\u001b[0m\u001b[1;33m\u001b[0m\u001b[0m\n",
      "\u001b[1;32m~\\Anaconda3\\lib\\site-packages\\PyPDF2\\generic.py\u001b[0m in \u001b[0;36mreadFromStream\u001b[1;34m(stream, pdf)\u001b[0m\n\u001b[0;32m    577\u001b[0m             \u001b[0mtok\u001b[0m \u001b[1;33m=\u001b[0m \u001b[0mreadNonWhitespace\u001b[0m\u001b[1;33m(\u001b[0m\u001b[0mstream\u001b[0m\u001b[1;33m)\u001b[0m\u001b[1;33m\u001b[0m\u001b[0m\n\u001b[0;32m    578\u001b[0m             \u001b[0mstream\u001b[0m\u001b[1;33m.\u001b[0m\u001b[0mseek\u001b[0m\u001b[1;33m(\u001b[0m\u001b[1;33m-\u001b[0m\u001b[1;36m1\u001b[0m\u001b[1;33m,\u001b[0m \u001b[1;36m1\u001b[0m\u001b[1;33m)\u001b[0m\u001b[1;33m\u001b[0m\u001b[0m\n\u001b[1;32m--> 579\u001b[1;33m             \u001b[0mvalue\u001b[0m \u001b[1;33m=\u001b[0m \u001b[0mreadObject\u001b[0m\u001b[1;33m(\u001b[0m\u001b[0mstream\u001b[0m\u001b[1;33m,\u001b[0m \u001b[0mpdf\u001b[0m\u001b[1;33m)\u001b[0m\u001b[1;33m\u001b[0m\u001b[0m\n\u001b[0m\u001b[0;32m    580\u001b[0m             \u001b[1;32mif\u001b[0m \u001b[1;32mnot\u001b[0m \u001b[0mdata\u001b[0m\u001b[1;33m.\u001b[0m\u001b[0mget\u001b[0m\u001b[1;33m(\u001b[0m\u001b[0mkey\u001b[0m\u001b[1;33m)\u001b[0m\u001b[1;33m:\u001b[0m\u001b[1;33m\u001b[0m\u001b[0m\n\u001b[0;32m    581\u001b[0m                 \u001b[0mdata\u001b[0m\u001b[1;33m[\u001b[0m\u001b[0mkey\u001b[0m\u001b[1;33m]\u001b[0m \u001b[1;33m=\u001b[0m \u001b[0mvalue\u001b[0m\u001b[1;33m\u001b[0m\u001b[0m\n",
      "\u001b[1;32m~\\Anaconda3\\lib\\site-packages\\PyPDF2\\generic.py\u001b[0m in \u001b[0;36mreadObject\u001b[1;34m(stream, pdf)\u001b[0m\n\u001b[0;32m     64\u001b[0m         \u001b[0mstream\u001b[0m\u001b[1;33m.\u001b[0m\u001b[0mseek\u001b[0m\u001b[1;33m(\u001b[0m\u001b[1;33m-\u001b[0m\u001b[1;36m2\u001b[0m\u001b[1;33m,\u001b[0m \u001b[1;36m1\u001b[0m\u001b[1;33m)\u001b[0m \u001b[1;31m# reset to start\u001b[0m\u001b[1;33m\u001b[0m\u001b[0m\n\u001b[0;32m     65\u001b[0m         \u001b[1;32mif\u001b[0m \u001b[0mpeek\u001b[0m \u001b[1;33m==\u001b[0m \u001b[0mb_\u001b[0m\u001b[1;33m(\u001b[0m\u001b[1;34m'<<'\u001b[0m\u001b[1;33m)\u001b[0m\u001b[1;33m:\u001b[0m\u001b[1;33m\u001b[0m\u001b[0m\n\u001b[1;32m---> 66\u001b[1;33m             \u001b[1;32mreturn\u001b[0m \u001b[0mDictionaryObject\u001b[0m\u001b[1;33m.\u001b[0m\u001b[0mreadFromStream\u001b[0m\u001b[1;33m(\u001b[0m\u001b[0mstream\u001b[0m\u001b[1;33m,\u001b[0m \u001b[0mpdf\u001b[0m\u001b[1;33m)\u001b[0m\u001b[1;33m\u001b[0m\u001b[0m\n\u001b[0m\u001b[0;32m     67\u001b[0m         \u001b[1;32melse\u001b[0m\u001b[1;33m:\u001b[0m\u001b[1;33m\u001b[0m\u001b[0m\n\u001b[0;32m     68\u001b[0m             \u001b[1;32mreturn\u001b[0m \u001b[0mreadHexStringFromStream\u001b[0m\u001b[1;33m(\u001b[0m\u001b[0mstream\u001b[0m\u001b[1;33m)\u001b[0m\u001b[1;33m\u001b[0m\u001b[0m\n",
      "\u001b[1;32m~\\Anaconda3\\lib\\site-packages\\PyPDF2\\generic.py\u001b[0m in \u001b[0;36mreadFromStream\u001b[1;34m(stream, pdf)\u001b[0m\n\u001b[0;32m    583\u001b[0m                 \u001b[1;31m# multiple definitions of key not permitted\u001b[0m\u001b[1;33m\u001b[0m\u001b[1;33m\u001b[0m\u001b[0m\n\u001b[0;32m    584\u001b[0m                 raise utils.PdfReadError(\"Multiple definitions in dictionary at byte %s for key %s\" \\\n\u001b[1;32m--> 585\u001b[1;33m                                            % (utils.hexStr(stream.tell()), key))\n\u001b[0m\u001b[0;32m    586\u001b[0m             \u001b[1;32melse\u001b[0m\u001b[1;33m:\u001b[0m\u001b[1;33m\u001b[0m\u001b[0m\n\u001b[0;32m    587\u001b[0m                 warnings.warn(\"Multiple definitions in dictionary at byte %s for key %s\" \\\n",
      "\u001b[1;31mPdfReadError\u001b[0m: Multiple definitions in dictionary at byte 0x273ce for key /Im30"
     ]
    }
   ],
   "source": [
    "text=getTextFromPDFALLPages(\"NSQF-2-3 WHEELERS MECHANIC TECHNICIAN (revised on 24.1.2017).pdf\")"
   ]
  },
  {
   "cell_type": "code",
   "execution_count": 38,
   "metadata": {},
   "outputs": [],
   "source": [
    "\n",
    "text=getTextFromPDFALLPages(\"NSQF-Light Motor Vehicle Driver.pdf\")"
   ]
  },
  {
   "cell_type": "code",
   "execution_count": 39,
   "metadata": {
    "scrolled": true
   },
   "outputs": [
    {
     "data": {
      "text/plain": [
       "'\\n\\n\\n\\n\\n\\n\\n\\n\\n\\n\\n\\n\\n\\n\\n\\n\\n\\n\\n\\n\\n\\n\\n\\n\\n\\n\\n\\n\\n\\n\\n\\n\\n\\n\\n\\n\\n\\n\\n\\n\\n\\n\\n\\n\\n\\n\\n\\n\\n\\n\\n\\n\\n\\n\\n\\n\\n\\n\\n\\n\\n\\n\\n\\n\\n\\n\\n\\n\\n\\n\\n\\n\\n\\n\\n\\n\\n\\n\\n\\n\\n\\n\\n\\n\\n\\n\\n\\n\\n\\n\\n\\n\\n\\n\\n\\n\\n\\n\\n\\n\\n\\n\\n\\n\\n\\n\\n\\n\\n\\n\\n\\n\\n\\n\\n\\n\\n\\n\\n\\n\\n\\n\\n\\n\\n\\n\\n\\n\\n\\n\\n\\n\\n\\n\\n\\n\\n\\n\\n\\n\\n\\n\\n\\n\\n\\n\\n\\n\\n\\n\\n\\n\\n\\n\\n\\n\\n\\n\\n\\n\\n\\n\\n\\n\\n\\n\\n\\n\\n\\n\\n\\n\\n\\n\\n\\n\\n\\n\\n\\n\\n\\n\\n\\n\\n\\n\\n\\n\\n\\n\\n\\n\\n\\n\\n\\n\\n\\n\\n\\n\\n\\n\\n\\n\\n\\n\\n\\n\\n\\n\\n\\n\\n\\n\\n\\n\\n\\n\\n\\n\\n\\n\\n\\n\\n\\n\\n\\n\\n\\n\\n\\n\\n\\n\\n\\n\\n\\n\\n\\n\\n\\n\\n\\n\\n\\n\\n\\n\\n\\n\\n\\n\\n\\n\\n\\n\\n\\n\\n\\n\\n\\n\\n\\n\\n\\n\\n\\n\\n\\n\\n\\n\\n\\n\\n\\n\\n\\n\\n\\n\\n\\n\\n\\n\\n\\n\\n\\n\\n\\n\\n\\n\\n\\n\\n\\n\\n\\n\\n\\n\\n\\n\\n\\n\\n\\n\\n\\n\\n\\n\\n\\n\\n\\n\\n\\n\\n\\n\\n\\n\\n\\n\\n\\n\\n\\n\\n\\n\\n\\n\\n\\n\\n\\n\\n\\n\\n\\n\\n\\n\\n\\n\\n\\n\\n\\n\\n\\n\\n\\n\\n\\n\\n\\n\\n\\n\\n\\n\\n\\n\\n\\n\\n\\n\\n\\n\\n\\n\\n\\n\\n\\n\\n\\n\\n\\n\\n\\n\\n\\n\\n\\n\\n\\n\\n\\n\\n\\n\\n\\n\\n\\n\\n\\n\\n\\n\\n\\n\\n\\n\\n\\n\\n\\n\\n\\n\\n\\n\\n\\n\\n\\n\\n\\n\\n\\n\\n\\n\\n\\n\\n\\n\\n\\n\\n\\n\\n\\n\\n\\n\\n\\n\\n\\n\\n\\n\\n\\n\\n\\n\\n\\n\\n\\n\\n\\n\\n\\n\\n\\n\\n\\n\\n\\n\\n\\n\\n\\n\\n\\n\\n\\n\\n\\n\\n\\n\\n\\n\\n\\n\\n\\n\\n\\n\\n\\n\\n\\n\\n\\n\\n\\n\\n\\n\\n\\n\\n\\n\\n\\n\\n\\n\\n\\n\\n\\n\\n\\n\\n\\n\\n\\n\\n\\n\\n\\n\\n\\n\\n\\n\\n\\n\\n\\n\\n\\n\\n\\n\\n\\n\\n\\n\\n\\n\\n\\n\\n\\n\\n\\n\\n\\n\\n\\n\\n\\n\\n\\n\\n\\n\\n\\n\\n\\n\\n\\n\\n\\n\\n\\n\\n\\n\\n\\n\\n\\n\\n\\n\\n\\n\\n\\n\\n\\n\\n\\n\\n\\n\\n\\n\\n\\n\\n\\n\\n\\n\\n\\n\\n\\n\\n\\n\\n\\n\\n\\n\\n\\n\\n\\n\\n\\n\\n\\n\\n\\n\\n\\n\\n\\n\\n\\n\\n\\n\\n\\n\\n\\n\\n\\n\\n\\n\\n\\n\\n\\n\\n\\n\\n\\n\\n\\n\\n\\n\\n\\n\\n\\n\\n\\n\\n\\n\\n\\n\\n\\n\\n\\n\\n\\n\\n\\n\\n\\n\\n\\n\\n\\n\\n\\n\\n\\n\\n\\n\\n\\n\\n\\n\\n\\n\\n\\n\\n\\n\\n\\n\\n\\n\\n\\n\\n\\n\\n\\n\\n\\n\\n\\n\\n\\n\\n\\n\\n\\n\\n\\n\\n\\n\\n\\n\\n\\n\\n\\n\\n\\n\\n\\n\\n\\n\\n\\n\\n\\n\\n\\n\\n\\n\\n\\n\\n\\n\\n\\n\\n\\n\\n\\n\\n\\n\\n\\n\\n\\n\\n\\n\\n\\n\\n\\n\\n\\n\\n\\n\\n\\n\\n\\n\\n\\n\\n\\n\\n\\n\\n\\n\\n\\n\\n\\n\\n\\n\\n\\n\\n\\n\\n\\n\\n\\n\\n\\n\\n\\n\\n\\n\\n\\n\\n\\n\\n\\n\\n\\n\\n\\n\\n\\n\\n\\n\\n\\n\\n\\n\\n\\n\\n\\n\\n\\n\\n\\n\\n\\n\\n\\n\\n\\n\\n\\n\\n\\n\\n\\n\\n\\n\\n\\n\\n\\n\\n\\n\\n\\n\\n\\n\\n\\n\\n\\n\\n\\n\\n\\n\\n\\n\\n\\n\\n\\n\\n\\n\\n\\n\\n\\n\\n\\n\\n\\n\\n\\n\\n\\n\\n\\n\\n\\n\\n\\n\\n\\n\\n\\n\\n\\n\\n\\n\\n\\n\\n\\n\\n\\n\\n\\n\\n\\n\\n\\n\\n\\n\\n\\n\\n\\n\\n\\n\\n\\n\\n\\n\\n\\n\\n\\n\\n\\n\\n\\n\\n\\n\\n\\n\\n\\n\\n\\n\\n\\n\\n\\n\\n\\n\\n\\n\\n\\n\\n\\n\\n\\n\\n\\n\\n\\n\\n\\n\\n\\n\\n\\n\\n\\n\\n\\n\\n\\n\\n\\n\\n\\n\\n\\n\\n\\n\\n\\n\\n\\n\\n\\n\\n\\n\\n\\n\\n\\n\\n\\n\\n\\n\\n\\n\\n\\n\\n\\n\\n\\n\\n\\n\\n\\n\\n\\n\\n\\n\\n\\n\\n\\n\\n\\n\\n\\n\\n\\n\\n\\n\\n\\n\\n\\n\\n\\n\\n\\n\\n\\n\\n\\n\\n\\n\\n\\n\\n\\n\\n\\n\\n\\n\\n\\n\\n\\n\\n\\n\\n\\n\\n\\n\\n\\n\\n\\n\\n\\n\\n\\n\\n\\n\\n\\n\\n\\n\\n\\n\\n\\n\\n\\n\\n\\n\\n\\n\\n\\n\\n\\n\\n\\n\\n\\n\\n\\n\\n\\n\\n\\n\\n\\n\\n\\n\\n\\n\\n\\n\\n\\n\\n\\n\\n\\n\\n\\n\\n\\n\\n\\n\\n\\n\\n\\n\\n\\n\\n\\n\\n\\n\\n\\n\\n\\n\\n\\n\\n\\n\\n\\n\\n\\n\\n\\n\\n\\n\\n\\n\\n\\n\\n\\n\\n\\n\\n\\n\\n\\n\\n\\n\\n\\n\\n\\n\\n\\n\\n\\n\\n\\n\\n\\n\\n\\n\\n\\n\\n\\n\\n\\n\\n\\n\\n\\n\\n\\n\\n\\n\\n\\n\\n\\n\\n\\n\\n\\n\\n\\n\\n\\n\\n\\n\\n\\n\\n\\n\\n\\n\\n\\n\\n\\n\\n\\n\\n\\n\\n\\n\\n\\n\\n\\n\\n\\n\\n\\n\\n\\n\\n\\n\\n\\n\\n\\n\\n\\n\\n\\n\\n\\n\\n\\n\\n\\n\\n\\n\\n\\n\\n\\n\\n\\n\\n\\n\\n\\n\\n\\n\\n\\n\\n\\n\\n\\n\\n\\n\\n\\n\\n\\n\\n\\n\\n\\n\\n\\n\\n\\n\\n\\n\\n\\n\\n\\n\\n\\n\\n\\n\\n\\n\\n\\n\\n\\n\\n\\n\\n\\n\\n\\n\\n\\n\\n\\n\\n\\n\\n\\n\\n\\n\\n\\n\\n\\n\\n\\n\\n\\n\\n\\n\\n\\n\\n\\n\\n\\n\\n\\n\\n\\n\\n\\n\\n\\n\\n\\n\\n\\n\\n\\n\\n\\n\\n\\n\\n\\n\\n\\n\\n\\n\\n\\n\\n\\n\\n\\n\\n\\n\\n\\n\\n\\n\\n\\n\\n\\n\\n\\n\\n\\n\\n\\n\\n\\n\\n\\n\\n\\n\\n\\n\\n\\n\\n\\n\\n\\n\\n\\n\\n\\n\\n\\n\\n\\n\\n\\n\\n\\n\\n\\n\\n\\n\\n\\n\\n\\n\\n\\n\\n\\n\\n\\n\\n\\n\\n\\n\\n\\n\\n\\n\\n\\n\\n\\n\\n\\n\\n\\n\\n\\n\\n\\n\\n\\n\\n\\n\\n\\n\\n\\n\\n\\n\\n\\n\\n\\n\\n\\n\\n\\n\\n\\n\\n\\n\\n\\n\\n\\n\\n\\n\\n\\n\\n\\n\\n\\n\\n\\n\\n\\n\\n\\n\\n\\n\\n\\n\\n\\n\\n\\n\\n\\n\\n\\n\\n\\n\\n\\n\\n\\n\\n\\n\\n\\n\\n\\n\\n\\n\\n\\n\\n\\n\\n\\n\\n\\n\\n\\n\\n\\n\\n\\n\\n\\n\\n\\n\\n\\n\\n\\n\\n\\n\\n\\n\\n\\n\\n\\n\\n\\n\\n\\n\\n\\n\\n\\n\\n\\n\\n\\n\\n\\n\\n\\n\\n\\n\\n\\n\\n\\n\\n\\n\\n\\n\\n\\n\\n\\n\\n\\n\\n\\n\\n\\n\\n\\n\\n\\n\\n\\n\\n\\n\\n\\n\\n\\n\\n\\n\\n\\n\\n\\n\\n\\n\\n\\n\\n\\n\\n\\n\\n\\n\\n\\n\\n\\n\\n\\n\\n\\n\\n\\n\\n\\n\\n\\n\\n\\n\\n\\n\\n\\n\\n\\n\\n\\n\\n\\n\\n\\n\\n\\n\\n\\n\\n\\n\\n\\n\\n\\n\\n\\n\\n\\n\\n\\n\\n\\n\\n\\n\\n\\n\\n\\n\\n\\n\\n\\n\\n\\n\\n\\n\\n\\n\\n\\n\\n\\n\\n\\n\\n\\n\\n\\n\\n\\n\\n\\n\\n\\n\\n\\n\\n\\n\\n\\n\\n\\n\\n\\n\\n\\n\\n\\n\\n\\n\\n\\n\\n\\n\\n\\n\\n\\n\\n\\n\\n\\n\\n\\n\\n\\n\\n\\n\\n\\n\\n\\n\\n\\n\\n\\n\\n\\n\\n\\n\\n\\n\\n\\n\\n\\n\\n\\n\\n\\n\\n\\n\\n\\n\\n\\n\\n\\n\\n\\n\\n\\n\\n\\n\\n\\n\\n\\n\\n\\n\\n\\n\\n\\n\\n\\n\\n\\n\\n\\n\\n\\n\\n\\n\\n\\n\\n\\n\\n\\n\\n\\n\\n\\n\\n\\n\\n\\n\\n\\n\\n\\n\\n\\n\\n\\n\\n\\n\\n\\n\\n\\n\\n\\n\\n\\n\\n\\n\\n\\n\\n\\n\\n\\n\\n\\n\\n\\n\\n\\n\\n\\n\\n\\n\\n\\n\\n\\n\\n\\n\\n\\n\\n\\n\\n\\n\\n\\n\\n\\n\\n\\n\\n\\n\\n\\n\\n\\n\\n\\n\\n\\n\\n\\n\\n\\n\\n\\n\\n\\n\\n\\n\\n\\n\\n\\n\\n\\n\\n\\n\\n\\n\\n\\n\\n\\n\\n\\n\\n\\n\\n\\n\\n\\n\\n\\n\\n\\n\\n\\n\\n\\n\\n\\n\\n\\n\\n\\n\\n\\n\\n\\n\\n\\n\\n\\n\\n\\n\\n\\n\\n\\n\\n\\n\\n\\n\\n\\n\\n\\n\\n\\n\\n\\n\\n\\n\\n\\n\\n\\n\\n\\n\\n\\n\\n\\n\\n\\n\\n\\n\\n\\n\\n\\n\\n\\n\\n\\n\\n\\n\\n\\n\\n\\n\\n\\n\\n\\n\\n\\n\\n\\n\\n\\n\\n\\n\\n\\n\\n\\n\\n\\n\\n\\n\\n\\n\\n\\n\\n\\n\\n\\n\\n\\n\\n\\n\\n\\n\\n\\n\\n\\n\\n\\n\\n\\n\\n\\n\\n\\n\\n\\n\\n\\n\\n\\n\\n\\n\\n\\n\\n\\n\\n\\n\\n\\n\\n\\n\\n\\n\\n\\n\\n\\n\\n\\n\\n\\n\\n\\n\\n\\n\\n\\n\\n\\n\\n\\n\\n\\n\\n\\n\\n\\n\\n\\n\\n\\n\\n\\n\\n\\n\\n\\n\\n\\n\\n\\n\\n\\n\\n\\n\\n\\n\\n\\n\\n\\n\\n\\n\\n\\n\\n\\n\\n\\n\\n\\n\\n\\n\\n\\n\\n\\n\\n\\n\\n\\n\\n\\n\\n\\n\\n\\n\\n\\n\\n\\n\\n\\n\\n\\n\\n\\n\\n\\n\\n\\n\\n\\n\\n\\n\\n\\n\\n\\n\\n\\n\\n\\n\\n\\n\\n\\n\\n\\n\\n\\n\\n\\n\\n\\n\\n\\n\\n\\n\\n\\n\\n\\n\\n\\n\\n\\n\\n\\n\\n\\n\\n\\n\\n\\n\\n\\n\\n\\n\\n\\n\\n\\n\\n\\n\\n\\n\\n\\n\\n\\n\\n\\n\\n\\n\\n\\n\\n\\n\\n\\n\\n\\n\\n\\n\\n\\n\\n\\n\\n\\n\\n\\n\\n\\n\\n\\n\\n\\n\\n\\n\\n\\n\\n\\n\\n\\n\\n\\n\\n\\n\\n\\n\\n\\n\\n\\n\\n\\n\\n\\n\\n\\n\\n\\n\\n\\n\\n\\n\\n\\n\\n\\n\\n\\n\\n\\n\\n\\n\\n\\n\\n\\n\\n\\n\\n\\n\\n\\n\\n\\n\\n\\n\\n\\n\\n\\n\\n\\n\\n\\n\\n\\n\\n\\n\\n\\n\\n\\n\\n\\n\\n\\n\\n\\n\\n\\n\\n\\n\\n\\n\\n\\n\\n\\n\\n\\n\\n\\n\\n\\n\\n\\n\\n\\n\\n\\n\\n\\n\\n\\n\\n\\n\\n\\n\\n\\n\\n\\n\\n\\n\\n\\n\\n\\n\\n\\n\\n\\n\\n\\n\\n\\n\\n\\n\\n\\n\\n\\n\\n\\n\\n\\n\\n\\n\\n\\n\\n\\n\\n\\n\\n\\n\\n\\n\\n\\n\\n\\n\\n\\n\\n\\n\\n\\n\\n\\n\\n\\n\\n\\n\\n\\n\\n\\n\\n\\n\\n\\n\\n\\n\\n\\n\\n\\n\\n\\n\\n\\n\\n\\n\\n\\n\\n\\n\\n\\n\\n\\n\\n\\n\\n\\n\\n\\n\\n\\n\\n\\n\\n\\n\\n\\n\\n\\n\\n\\n\\n\\n\\n\\n\\n\\n\\n\\n\\n\\n\\n\\n\\n\\n\\n\\n\\n\\n\\n\\n\\n\\n\\n\\n\\n\\n\\n\\n\\n\\n\\n\\n\\n'"
      ]
     },
     "execution_count": 39,
     "metadata": {},
     "output_type": "execute_result"
    }
   ],
   "source": [
    "text"
   ]
  },
  {
   "cell_type": "code",
   "execution_count": 40,
   "metadata": {},
   "outputs": [],
   "source": [
    "text=getTextFromPDFALLPages(\"NSQF-Taxi Driver.pdf\")"
   ]
  },
  {
   "cell_type": "code",
   "execution_count": 41,
   "metadata": {
    "scrolled": true
   },
   "outputs": [
    {
     "data": {
      "text/plain": [
       "'\\n\\n\\n\\n\\n\\n\\n\\n\\n\\n\\n\\n\\n\\n\\n\\n\\n\\n\\n\\n\\n\\n\\n\\n\\n\\n\\n\\n\\n\\n\\n\\n\\n\\n\\n\\n\\n\\n\\n\\n\\n\\n\\n\\n\\n\\n\\n\\n\\n\\n\\n\\n\\n\\n\\n\\n\\n\\n\\n\\n\\n\\n\\n\\n\\n\\n\\n\\n\\n\\n\\n\\n\\n\\n\\n\\n\\n\\n\\n\\n\\n\\n\\n\\n\\n\\n\\n\\n\\n\\n\\n\\n\\n\\n\\n\\n\\n\\n\\n\\n\\n\\n\\n\\n\\n\\n\\n\\n\\n\\n\\n\\n\\n\\n\\n\\n\\n\\n\\n\\n\\n\\n\\n\\n\\n\\n\\n\\n\\n\\n\\n\\n\\n\\n\\n\\n\\n\\n\\n\\n\\n\\n\\n\\n\\n\\n\\n\\n\\n\\n\\n\\n\\n\\n\\n\\n\\n\\n\\n\\n\\n\\n\\n\\n\\n\\n\\n\\n\\n\\n\\n\\n\\n\\n\\n\\n\\n\\n\\n\\n\\n\\n\\n\\n\\n\\n\\n\\n\\n\\n\\n\\n\\n\\n\\n\\n\\n\\n\\n\\n\\n\\n\\n\\n\\n\\n\\n\\n\\n\\n\\n\\n\\n\\n\\n\\n\\n\\n\\n\\n\\n\\n\\n\\n\\n\\n\\n\\n\\n\\n\\n\\n\\n\\n\\n\\n\\n\\n\\n\\n\\n\\n\\n\\n\\n\\n\\n\\n\\n\\n\\n\\n\\n\\n\\n\\n\\n\\n\\n\\n\\n\\n\\n\\n\\n\\n\\n\\n\\n\\n\\n\\n\\n\\n\\n\\n\\n\\n\\n\\n\\n\\n\\n\\n\\n\\n\\n\\n\\n\\n\\n\\n\\n\\n\\n\\n\\n\\n\\n\\n\\n\\n\\n\\n\\n\\n\\n\\n\\n\\n\\n\\n\\n\\n\\n\\n\\n\\n\\n\\n\\n\\n\\n\\n\\n\\n\\n\\n\\n\\n\\n\\n\\n\\n\\n\\n\\n\\n\\n\\n\\n\\n\\n\\n\\n\\n\\n\\n\\n\\n\\n\\n\\n\\n\\n\\n\\n\\n\\n\\n\\n\\n\\n\\n\\n\\n\\n\\n\\n\\n\\n\\n\\n\\n\\n\\n\\n\\n\\n\\n\\n\\n\\n\\n\\n\\n\\n\\n\\n\\n\\n\\n\\n\\n\\n\\n\\n\\n\\n\\n\\n\\n\\n\\n\\n\\n\\n\\n\\n\\n\\n\\n\\n\\n\\n\\n\\n\\n\\n\\n\\n\\n\\n\\n\\n\\n\\n\\n\\n\\n\\n\\n\\n\\n\\n\\n\\n\\n\\n\\n\\n\\n\\n\\n\\n\\n\\n\\n\\n\\n\\n\\n\\n\\n\\n\\n\\n\\n\\n\\n\\n\\n\\n\\n\\n\\n\\n\\n\\n\\n\\n\\n\\n\\n\\n\\n\\n\\n\\n\\n\\n\\n\\n\\n\\n\\n\\n\\n\\n\\n\\n\\n\\n\\n\\n\\n\\n\\n\\n\\n\\n\\n\\n\\n\\n\\n\\n\\n\\n\\n\\n\\n\\n\\n\\n\\n\\n\\n\\n\\n\\n\\n\\n\\n\\n\\n\\n\\n\\n\\n\\n\\n\\n\\n\\n\\n\\n\\n\\n\\n\\n\\n\\n\\n\\n\\n\\n\\n\\n\\n\\n\\n\\n\\n\\n\\n\\n\\n\\n\\n\\n\\n\\n\\n\\n\\n\\n\\n\\n\\n\\n\\n\\n\\n\\n\\n\\n\\n\\n\\n\\n\\n\\n\\n\\n\\n\\n\\n\\n\\n\\n\\n\\n\\n\\n\\n\\n\\n\\n\\n\\n\\n\\n\\n\\n\\n\\n\\n\\n\\n\\n\\n\\n\\n\\n\\n\\n\\n\\n\\n\\n\\n\\n\\n\\n\\n\\n\\n\\n\\n\\n\\n\\n\\n\\n\\n\\n\\n\\n\\n\\n\\n\\n\\n\\n\\n\\n\\n\\n\\n\\n\\n\\n\\n\\n\\n\\n\\n\\n\\n\\n\\n\\n\\n\\n\\n\\n\\n\\n\\n\\n\\n\\n\\n\\n\\n\\n\\n\\n\\n\\n\\n\\n\\n\\n\\n\\n\\n\\n\\n\\n\\n\\n\\n\\n\\n\\n\\n\\n\\n\\n\\n\\n\\n\\n\\n\\n\\n\\n\\n\\n\\n\\n\\n\\n\\n\\n\\n\\n\\n\\n\\n\\n\\n\\n\\n\\n\\n\\n\\n\\n\\n\\n\\n\\n\\n\\n\\n\\n\\n\\n\\n\\n\\n\\n\\n\\n\\n\\n\\n\\n\\n\\n\\n\\n\\n\\n\\n\\n\\n\\n\\n\\n\\n\\n\\n\\n\\n\\n\\n\\n\\n\\n\\n\\n\\n\\n\\n\\n\\n\\n\\n\\n\\n\\n\\n\\n\\n\\n\\n\\n\\n\\n\\n\\n\\n\\n\\n\\n\\n\\n\\n\\n\\n\\n\\n\\n\\n\\n\\n\\n\\n\\n\\n\\n\\n\\n\\n\\n\\n\\n\\n\\n\\n\\n\\n\\n\\n\\n\\n\\n\\n\\n\\n\\n\\n\\n\\n\\n\\n\\n\\n\\n\\n\\n\\n\\n\\n\\n\\n\\n\\n\\n\\n\\n\\n\\n\\n\\n\\n\\n\\n\\n\\n\\n\\n\\n\\n\\n\\n\\n\\n\\n\\n\\n\\n\\n\\n\\n\\n\\n\\n\\n\\n\\n\\n\\n\\n\\n\\n\\n\\n\\n\\n\\n\\n\\n\\n\\n\\n\\n\\n\\n\\n\\n\\n\\n\\n\\n\\n\\n\\n\\n\\n\\n\\n\\n\\n\\n\\n\\n\\n\\n\\n\\n\\n\\n\\n\\n\\n\\n\\n\\n\\n\\n\\n\\n\\n\\n\\n\\n\\n\\n\\n\\n\\n\\n\\n\\n\\n\\n\\n\\n\\n\\n\\n\\n\\n\\n\\n\\n\\n\\n\\n\\n\\n\\n\\n\\n\\n\\n\\n\\n\\n\\n\\n\\n\\n\\n\\n\\n\\n\\n\\n\\n\\n\\n\\n\\n\\n\\n\\n\\n\\n\\n\\n\\n\\n\\n\\n\\n\\n\\n\\n\\n\\n\\n\\n\\n\\n\\n\\n\\n\\n\\n\\n\\n\\n\\n\\n\\n\\n\\n\\n\\n\\n\\n\\n\\n\\n\\n\\n\\n\\n\\n\\n\\n\\n\\n\\n\\n\\n\\n\\n\\n\\n\\n\\n\\n\\n\\n\\n\\n\\n\\n\\n\\n\\n\\n\\n\\n\\n\\n\\n\\n\\n\\n\\n\\n\\n\\n\\n\\n\\n\\n\\n\\n\\n\\n\\n\\n\\n\\n\\n\\n\\n\\n\\n\\n\\n\\n\\n\\n\\n\\n\\n\\n\\n\\n\\n\\n\\n\\n\\n\\n\\n\\n\\n\\n\\n\\n\\n\\n\\n\\n\\n\\n\\n\\n\\n\\n\\n\\n\\n\\n\\n\\n\\n\\n\\n\\n\\n\\n\\n\\n\\n\\n\\n\\n\\n\\n\\n\\n\\n\\n\\n\\n\\n\\n\\n\\n\\n\\n\\n\\n\\n\\n\\n\\n\\n\\n\\n\\n\\n\\n\\n\\n\\n\\n\\n\\n\\n\\n\\n\\n\\n\\n\\n\\n\\n\\n\\n\\n\\n\\n\\n\\n\\n\\n\\n\\n\\n\\n\\n\\n\\n\\n\\n\\n\\n\\n\\n\\n\\n\\n\\n\\n\\n\\n\\n\\n\\n\\n\\n\\n\\n\\n\\n\\n\\n\\n\\n\\n\\n\\n\\n\\n\\n\\n\\n\\n\\n\\n\\n\\n\\n\\n\\n\\n\\n\\n\\n\\n\\n\\n\\n\\n\\n\\n\\n\\n\\n\\n\\n\\n\\n\\n\\n\\n\\n\\n\\n\\n\\n\\n\\n\\n\\n\\n\\n\\n\\n\\n\\n\\n\\n\\n\\n\\n\\n\\n\\n\\n\\n\\n\\n\\n\\n\\n\\n\\n\\n\\n\\n\\n\\n\\n\\n\\n\\n\\n\\n\\n\\n\\n\\n\\n\\n\\n\\n\\n\\n\\n\\n\\n\\n\\n\\n\\n\\n\\n\\n\\n\\n\\n\\n\\n\\n\\n\\n\\n\\n\\n\\n\\n\\n\\n\\n\\n\\n\\n\\n\\n\\n\\n\\n\\n\\n\\n\\n\\n\\n\\n\\n\\n\\n\\n\\n\\n\\n\\n\\n\\n\\n\\n\\n\\n\\n\\n\\n\\n\\n\\n\\n\\n\\n\\n\\n\\n\\n\\n\\n\\n\\n\\n\\n\\n\\n\\n\\n\\n\\n\\n\\n\\n\\n\\n\\n\\n\\n\\n\\n\\n\\n\\n\\n\\n\\n\\n\\n\\n\\n\\n\\n\\n\\n\\n\\n\\n\\n\\n\\n\\n\\n\\n\\n\\n\\n\\n\\n\\n\\n\\n\\n\\n\\n\\n\\n\\n\\n\\n\\n\\n\\n\\n\\n\\n\\n\\n\\n\\n\\n\\n\\n\\n\\n\\n\\n\\n\\n\\n\\n\\n\\n\\n\\n\\n\\n\\n\\n\\n\\n\\n\\n\\n\\n\\n\\n\\n\\n\\n\\n\\n\\n\\n\\n\\n\\n\\n\\n\\n\\n\\n\\n\\n\\n\\n\\n\\n\\n\\n\\n\\n\\n\\n\\n\\n\\n\\n\\n\\n\\n\\n\\n\\n\\n\\n\\n\\n\\n\\n\\n\\n\\n\\n\\n\\n\\n\\n\\n\\n\\n\\n\\n\\n\\n\\n\\n\\n\\n\\n\\n\\n\\n\\n\\n\\n\\n\\n\\n\\n\\n\\n\\n\\n\\n\\n\\n\\n\\n\\n\\n\\n\\n\\n\\n\\n\\n\\n\\n\\n\\n\\n\\n\\n\\n\\n\\n\\n\\n\\n\\n\\n\\n\\n\\n\\n\\n\\n\\n\\n\\n\\n\\n\\n\\n\\n\\n\\n\\n\\n\\n\\n\\n\\n\\n\\n\\n\\n\\n\\n\\n\\n\\n\\n\\n\\n\\n\\n\\n\\n\\n\\n\\n\\n\\n\\n\\n\\n\\n\\n\\n\\n\\n\\n\\n\\n\\n\\n\\n\\n\\n\\n\\n\\n\\n\\n\\n\\n\\n\\n\\n\\n\\n\\n\\n\\n\\n\\n\\n\\n\\n\\n\\n\\n\\n\\n\\n\\n\\n\\n\\n\\n\\n\\n\\n\\n\\n\\n\\n\\n\\n\\n\\n\\n\\n\\n\\n\\n\\n\\n\\n\\n\\n\\n\\n\\n\\n\\n\\n\\n\\n\\n\\n\\n\\n\\n\\n\\n\\n\\n\\n\\n\\n\\n\\n\\n\\n\\n\\n\\n\\n\\n\\n\\n\\n\\n\\n\\n\\n\\n\\n\\n\\n\\n\\n\\n\\n\\n\\n\\n\\n\\n\\n\\n\\n\\n\\n\\n\\n\\n\\n\\n\\n\\n\\n\\n\\n\\n\\n\\n\\n\\n\\n\\n\\n\\n\\n\\n\\n\\n\\n\\n\\n\\n\\n\\n\\n\\n\\n\\n\\n\\n\\n\\n\\n\\n\\n\\n\\n\\n\\n\\n\\n\\n\\n\\n\\n\\n\\n\\n\\n\\n\\n\\n\\n\\n\\n\\n\\n\\n\\n\\n\\n\\n\\n\\n\\n\\n\\n\\n\\n\\n\\n\\n\\n\\n\\n\\n\\n\\n\\n\\n\\n\\n\\n\\n\\n\\n\\n\\n\\n\\n\\n\\n\\n\\n\\n\\n\\n\\n\\n\\n\\n\\n\\n\\n\\n\\n\\n\\n\\n\\n\\n\\n\\n\\n\\n\\n\\n\\n\\n\\n\\n\\n\\n\\n\\n\\n\\n\\n\\n\\n\\n\\n\\n\\n\\n\\n\\n\\n\\n\\n\\n\\n\\n\\n\\n\\n\\n\\n\\n\\n\\n\\n\\n\\n\\n\\n\\n\\n\\n\\n\\n\\n\\n\\n\\n\\n\\n\\n\\n\\n\\n\\n\\n\\n\\n\\n\\n\\n\\n\\n\\n\\n\\n\\n\\n\\n\\n\\n\\n\\n\\n\\n\\n\\n\\n\\n\\n\\n\\n\\n\\n\\n\\n\\n\\n\\n\\n\\n\\n\\n\\n\\n\\n\\n\\n\\n\\n\\n\\n\\n\\n\\n\\n\\n\\n\\n\\n\\n\\n\\n\\n\\n\\n\\n\\n\\n\\n\\n\\n\\n\\n\\n\\n\\n\\n\\n\\n\\n\\n\\n\\n\\n\\n\\n\\n\\n\\n\\n\\n\\n\\n\\n\\n\\n\\n\\n\\n\\n\\n\\n\\n\\n\\n\\n\\n\\n\\n\\n\\n\\n\\n\\n\\n\\n\\n\\n\\n\\n\\n\\n\\n\\n\\n\\n\\n\\n\\n\\n\\n\\n\\n\\n\\n\\n\\n\\n\\n\\n\\n\\n\\n\\n\\n\\n\\n\\n\\n\\n\\n\\n\\n\\n\\n\\n\\n\\n\\n\\n\\n\\n\\n\\n\\n\\n\\n\\n\\n\\n\\n\\n\\n\\n\\n\\n\\n\\n\\n\\n\\n\\n\\n\\n\\n\\n\\n\\n\\n\\n\\n\\n\\n\\n\\n\\n\\n\\n\\n\\n\\n\\n\\n\\n\\n\\n\\n\\n\\n\\n\\n\\n\\n\\n\\n\\n\\n\\n\\n\\n\\n\\n\\n\\n\\n\\n\\n\\n\\n\\n\\n\\n\\n\\n\\n\\n\\n\\n\\n\\n\\n\\n\\n\\n\\n\\n\\n\\n\\n\\n\\n\\n\\n\\n\\n\\n\\n\\n\\n\\n\\n\\n\\n\\n\\n\\n\\n\\n\\n\\n\\n\\n\\n\\n\\n\\n\\n\\n\\n\\n\\n\\n\\n\\n\\n\\n\\n\\n\\n\\n\\n\\n\\n\\n\\n\\n\\n\\n\\n\\n\\n\\n\\n\\n\\n\\n\\n\\n\\n\\n\\n\\n\\n\\n\\n\\n\\n\\n\\n\\n\\n\\n\\n\\n\\n\\n\\n\\n\\n\\n\\n\\n\\n\\n\\n\\n\\n\\n\\n\\n\\n\\n\\n\\n\\n\\n\\n\\n\\n\\n\\n\\n\\n\\n\\n\\n\\n\\n\\n\\n\\n\\n\\n\\n\\n\\n\\n\\n\\n\\n\\n\\n\\n\\n\\n\\n\\n\\n\\n\\n\\n\\n\\n\\n\\n\\n\\n\\n\\n\\n\\n\\n\\n\\n\\n\\n\\n\\n\\n\\n\\n\\n\\n\\n\\n\\n\\n\\n\\n\\n\\n\\n\\n\\n\\n\\n\\n\\n\\n\\n\\n\\n\\n\\n\\n\\n\\n\\n\\n\\n\\n\\n\\n\\n\\n\\n\\n\\n\\n\\n\\n\\n\\n\\n\\n\\n\\n\\n\\n\\n\\n\\n\\n\\n\\n\\n\\n\\n\\n\\n\\n\\n\\n\\n\\n\\n\\n\\n\\n\\n\\n\\n\\n\\n\\n\\n\\n\\n\\n\\n\\n\\n\\n\\n\\n\\n\\n\\n\\n\\n\\n\\n\\n\\n\\n\\n\\n\\n\\n\\n\\n\\n\\n\\n\\n\\n\\n\\n\\n\\n\\n\\n\\n\\n\\n\\n\\n\\n\\n\\n\\n\\n\\n\\n\\n\\n\\n\\n\\n\\n\\n\\n\\n\\n\\n\\n\\n\\n\\n\\n\\n\\n\\n\\n\\n\\n\\n\\n\\n\\n\\n\\n\\n\\n\\n\\n\\n\\n\\n\\n\\n\\n\\n\\n\\n\\n\\n\\n\\n\\n\\n\\n\\n\\n\\n\\n\\n\\n\\n\\n\\n\\n\\n\\n\\n\\n\\n\\n\\n\\n\\n\\n\\n\\n\\n\\n\\n\\n\\n\\n\\n\\n\\n\\n\\n\\n\\n\\n\\n\\n\\n\\n\\n\\n\\n\\n\\n\\n\\n\\n\\n\\n\\n\\n\\n\\n\\n\\n\\n\\n\\n\\n\\n\\n\\n\\n\\n\\n\\n\\n\\n\\n\\n\\n\\n\\n\\n\\n\\n\\n\\n\\n\\n\\n\\n\\n\\n\\n\\n\\n\\n\\n\\n\\n\\n\\n\\n\\n\\n\\n\\n\\n\\n\\n\\n\\n\\n\\n\\n\\n\\n\\n\\n\\n\\n\\n\\n\\n\\n\\n\\n\\n\\n\\n\\n\\n\\n\\n\\n\\n\\n\\n\\n\\n\\n\\n\\n\\n\\n\\n\\n\\n\\n\\n\\n\\n\\n\\n\\n\\n\\n\\n\\n\\n\\n\\n\\n\\n\\n\\n\\n\\n\\n\\n\\n\\n\\n\\n\\n\\n\\n\\n\\n\\n\\n\\n\\n\\n\\n\\n\\n\\n\\n\\n\\n\\n\\n\\n\\n\\n\\n\\n\\n\\n\\n\\n\\n\\n\\n\\n\\n\\n\\n\\n\\n\\n\\n\\n\\n\\n\\n\\n\\n\\n\\n\\n\\n\\n\\n\\n\\n\\n\\n\\n\\n\\n\\n\\n\\n\\n\\n\\n\\n\\n\\n\\n\\n\\n\\n\\n\\n\\n\\n\\n\\n\\n\\n\\n\\n\\n\\n\\n\\n'"
      ]
     },
     "execution_count": 41,
     "metadata": {},
     "output_type": "execute_result"
    }
   ],
   "source": [
    "text"
   ]
  },
  {
   "cell_type": "code",
   "execution_count": 42,
   "metadata": {},
   "outputs": [],
   "source": [
    "text=getTextFromPDFALLPages(\"QF - LMV Owner Driver.pdf\")"
   ]
  },
  {
   "cell_type": "code",
   "execution_count": 43,
   "metadata": {},
   "outputs": [
    {
     "data": {
      "text/plain": [
       "\"QUALIFICATION FILE TEMPLATE\\n \\n \\n \\nPage \\n1\\n \\nof \\n18\\n \\n \\n \\n \\n \\n \\n \\n \\n \\nCONTACT DETAILS OF THE AWARDING BODY FOR THE QUALIFICATION\\n \\n \\n \\n \\n \\n \\n \\n \\n \\n \\n1.\\n \\nName and address of awarding body:\\n \\n \\nNational Academy of RUDSETI\\n \\nChitrapur Bhavan\\n \\n15\\nth\\n \\nCross, 8\\nth\\n \\nMain\\n \\nMalleswaram\\n \\nBengaluru\\n-\\n \\n560 055\\n \\nPh: 080\\n-\\n \\n2346 2875\\n \\nEmail:\\n \\ninfo@rudsetacademy.org\\n \\n \\n \\n2.\\n \\nName and contact details of the Individual dealing with the submission:\\n \\n \\nName:\\n \\nSri. R. R. Singh\\n \\nPosition in \\nthe Organization\\n: \\nDirector General\\n \\nAddress:\\n \\nSame as above\\n \\nEmail\\n: \\ndg@rudsetacademy.org\\n \\n \\n \\n3.\\n \\nList of Documents submitted in support of the Qualifications file\\n \\n(Annexure)\\n \\n \\n1.\\n \\nAbout National Academy of RUDSET\\n \\n2.\\n \\nRUDSETI Model \\nof Entrepreneurship Development\\n \\n3.\\n \\nCurriculum document /Syllabus\\n \\n4.\\n \\nSession Plan\\n \\n5.\\n \\nBank wise list of RSETIs\\n \\n6.\\n \\nResearch Studies regarding RUDSETI/RSETI\\n \\n7.\\n \\nSuccess Stories\\n \\n \\nNSDA \\nReference \\n \\nTo be Added by \\nNSDA\\n \\nQUALIFICATION FILE TEMPLATE\\n \\n \\n \\nPage \\n2\\n \\nof \\n18\\n \\n \\nSUMMARY\\n \\n \\nQualification \\nT\\nitle:\\n \\nLMV Owner Driver\\n \\n \\nQualification Code: \\nNARQ40015\\n-\\nPROCESS\\n \\nQUALIFICATION FILE TEMPLATE\\n \\n \\n \\nPage \\n3\\n \\nof \\n18\\n \\n \\nNature and purpose of the qualification\\n:\\n \\n \\nQuali\\nfication enables the trainee \\nto\\n \\noperate a transport business with a light motor vehicle (owned or \\nhired) including driving the vehicle and \\ntake care of all other commercial aspects of operating \\nthe\\n \\nbusiness.\\n        \\n \\n \\nAccording to NSSO Data (2013) among workers in rural areas, 54.2% are self\\n-\\nemployed and 38.6% work \\nas casual labor, where as only 7.2% have regular wage employment. Most of the self employed are \\nengaged in agriculture and have very little formal \\nskills both in farm and non\\n-\\nfarm occupations. Hence, the \\nneed to skill rural youth so that the next generation of workers become skilled, productive and contribute \\npositively for the growth of the economy. \\n \\n \\nOn gaining \\ntechnical \\nskills and \\nskills in \\nentrep\\nreneurship, the candidates trained in this qualification can \\nstart their own Photo Studio and also take up outdoor photo and video recording assignments. There is \\nincreasing demand for this service especially for private (domestic) and public events in the\\n \\nrural areas \\nand small towns. On becoming an entrepreneur the candidate trained in this qualification will initially \\npromote a micro\\n-\\nenterprise which can gradually grow to become a small and later medium scale \\nenterprise. The Micro, Small and Medium Enterp\\nrises (MSME) sector has emerged as a highly vibrant \\nand dynamic sector of the Indian economy over the last five decades. MSMEs are playing a crucial role in \\nproviding large employment opportunities at comparatively lower capital cost than large industries.\\n \\nThey \\nare also contributing in a significant manner to the industrialization and development of rural and \\nbackward areas. This helps to reduce regional disparities and provides for a more equitable distribution of \\nnational income and wealth. MSMEs contribu\\nte enormously to the socio\\n-\\neconomic development of the \\ncountry. This sector today consists of 36 million units and provides employment to over 80 million \\npersons. The Sector through more than 6,000 products contributes about 8% to GDP besides 45% to the \\nto\\ntal manufacturing output and 40% to the exports from the country. The MSME sector has the potential \\nto spread industrial growth across the country and can be a major partner in the process of inclusive \\ngrowth. The Micro, Small and Medium enterprises contri\\nbute to over. Entrepreneurship, and resultant \\ncreation of employment and wealth, is a major mean for inclusive development. A programme which is \\nconducted with a motive to promote potential entrepreneurs, understanding of motives, motivational \\npattern, the\\nir impact on behavior and entrepreneurial value is termed as entrepreneurial development \\nprogramme.\\n \\n \\n \\nQUALIFICATION FILE TEMPLATE\\n \\n \\n \\nPage \\n4\\n \\nof \\n18\\n \\n \\nBody/bodies which will award the qualification: National Academy of RUDSETI, Bengaluru\\n \\n \\nThe \\nNational Academy of RUDSETI\\n \\nwas established in April 2009 in response to an emerging need for \\ncapacity building and mentoring of more than 585 Rural Self Employment Training Institutes (RSETIs) \\nestablished in each district of the country as joint venture between different Banks and \\nthe Ministry of Rural \\nDevelopment, Government of India to work as National Level Resource Organization for RUDSETIs and \\nRSETIs and other similar type of Institutes\\n \\n1.\\n \\nTo design and conduct training programmes and undertake project in Enterprise Promotion, Rur\\nal \\nDevelopment, Technology Transfer and imparting Human Resource Development (HRD) concepts.\\n \\n2.\\n \\nTo conduct research and development work in the field of Entrepreneurship Development\\n \\n3.\\n \\nTo act as a advisory to policy makers relating to Enterprise Promotion and Ru\\nral Development (for \\nGovernment /NGOs/ Other Organizations / Financial Institutions /Corporate Entities / Central Secretariat, \\nRUDSETI)\\n \\n4.\\n \\nTo take up any other activities connected with Rural Development and Entrepreneurship Development and \\nRural Development.\\n \\n5.\\n \\nTo provide Consultancy and Counseling Services in the field of Entrepreneurship Development and Rural \\nDevelopment.\\n \\n6.\\n \\nAny other activity aimed at Development of Entrepreneurship, Rural Development and serving the society \\nat large.\\n \\n(See Annexure I for a compl\\nete profile of NAR and Annexure II for RUDSETI model of Entrepreneurship \\nDevelopment)\\n \\n \\nBody which will accredit providers to offer courses leading to the qualification:\\n \\nNational  Academy of RUDSETI,  Bengaluru\\n \\n \\n   \\nBody/bodies which will be responsible for assessment:\\n \\n \\n   \\nNational  Academy of RUDSETI,  Bengaluru\\n \\n \\nOccupation(s) to which the qualification gives access:\\n \\n \\nThis qualification will enable the trainee to establish their own business in the area of good t\\nransportation. The \\nTrainee will be able to drive a commercial vehicle and also manage all other aspects (financial, legal, \\nmarketing etc.) of his/her transportation business. The business can be operated both through an \\nestablishment (shop) and/or by takin\\ng transportation \\nassignments on order basis.\\n \\nBesides skills in the field of \\nLMV Driving \\nthe qualification will give access to the trainee to:\\n \\n1.\\n \\nAcquire and internalize the required Entrepreneurial Competencies (skill as well as attitude).\\n \\n2.\\n \\nKnowledge and \\ntechniques for identifying the business opportunities, selection of an entrepreneurial \\nactivity, launching of the venture and skills for managing a Micro Enterprise.\\n \\n3.\\n \\n\\n \\n \\nQUALIFICATION FILE TEMPLATE\\n \\n \\n \\nPage \\n5\\n \\nof \\n18\\n \\n \\nProposed level of the qualification in the NSQF:\\n \\nLevel 4\\n \\n \\n \\n \\nAnticipated volume of training/learning required to complete the qualification:\\n \\n240 hour\\n \\n(Refer annexure III & IV for Curriculum & Session Plan)\\n \\n  \\nEntry requirements / recommendations:\\n \\n \\n   \\nMale or female candidates in the age group of 18 to \\n35 years having inclination for undertaking \\ntransportation business and having a Learning driving license for four wheel vehicles.\\n \\nProgression from the qualification:\\n \\n \\n   \\nAfter obtaining this qualification and gaining practical work experience the \\ncandidate will be able to expand \\nhis/her business and even operate commercial vehicles by employing more skilled drivers. The candidate \\ncan diversify in other areas of transportation and logistics business, including warehousing etc.\\n \\nPlanned arrangements \\nfor the Recognition of Prior learning (RPL):\\n \\nNot applicable\\n \\n \\nInternational comparability where known:\\n \\n------\\n \\n \\n \\n \\n \\n \\n \\n \\n \\n \\n \\n \\n \\n \\n \\n \\n \\n \\n \\n \\n \\n \\n \\n \\n \\n \\nQUALIFICATION FILE TEMPLATE\\n \\n \\n \\nPage \\n6\\n \\nof \\n18\\n \\n \\nFormal \\nS\\ntructure of the \\nQ\\nualification\\n \\nLMV \\nOwner \\nDriver\\n \\nMandatory/\\n \\nOptional\\n \\nEstimated \\nSize \\n                     \\n(learning \\nhours)\\n \\nLevel\\n \\n \\nPROFESSIONAL KNOWLEDGE\\n \\n \\nA \\n-\\n \\nEntrepreneurship\\n \\n \\n1.\\n \\nKnowledge of self\\n-\\nconfidence , attitude \\n \\n2.\\n \\nEntrepreneurial  competencies\\n \\n3.\\n \\nBanking, insurance , financial accountancy and management\\n \\n4.\\n \\nLegal aspects ,regulatory aspects of SMEs\\n \\n \\nB \\n\\n \\nTechnical\\n \\nKnowledge\\n \\n \\n5.\\n \\nScope\\n \\nand opportunities for LMV based transport business \\n \\n6.\\n \\nDifferent important parts of motor vehicles and its functions \\n \\n7.\\n \\nKnowledge regarding different types of Light Commercial Motor Vehicles \\nand its different features.\\n \\n8.\\n \\nLegal aspects of operati\\nng a transport business including Central Motor \\nVehicles Act and Rules. \\n \\n9.\\n \\nBasic Knowledge for Troubleshooting in case of vehicle failure \\n \\n10.\\n \\nKnowledge about log book and different papers related to vehicles\\n \\n11.\\n \\nQualities of a good driver\\n-\\nattitude, patience ,respon\\nsibility,self\\n-\\nconfidence,anticipation,concentration,courtesy,etiquette&mannerism \\n \\n12.\\n \\nEnvironmental aspects (pollution etc.). \\n \\n13.\\n \\nSafety aspects \\n-\\n \\nFirst Aid, Fire precautions and safety features of a \\ncommercial vehicle. \\n \\n14.\\n \\nDriving in difficult and hazardous conditi\\nons\\n \\n \\n \\n \\n \\nMandatory\\n \\n \\n \\n \\n \\n \\n \\n \\n \\nMandatory\\n \\n \\n \\n \\n \\n \\n \\n \\n \\n32\\n \\nhours\\n \\n \\n \\n \\n \\n \\n \\n \\n \\n60\\n \\nhours\\n \\n \\n \\n \\n \\nLevel \\n4\\n \\n \\n \\n \\n \\n \\n \\n \\n \\nLevel 4\\n \\nQUALIFICATION FILE TEMPLATE\\n \\n \\n \\nPage \\n7\\n \\nof \\n18\\n \\n \\nTechnical \\nSkills\\n \\n \\n15.\\n \\nOperating a LMV vehicle in an off road environment and applying risk \\nreduction techniques and strategies while driving\\n \\n16.\\n \\nUse of Tools/ \\nEquipment in the vehicle and Basic technical check before \\nthe trip\\n \\n17.\\n \\nDismantling and Reassembling of tires \\n \\n18.\\n \\nPlanning \\n-\\n \\nplan and drive based on traffic and road condition using radio \\nlinks/navigation aids where available\\n \\n19.\\n \\nEco driving and security driving\\n \\n20.\\n \\nPreve\\nntive maintenance and safety devices\\n \\n21.\\n \\nPractical knowledge on vehicle Controls,  Reversing / parking, Starting & \\nmoving, Turnings\\n-\\n \\nleft & right, Intersection approach, \\n \\n22.\\n \\nSpeed selection, Following distance, Lane management, \\nOvertaking/passing, Proper use of c\\nontrols, Defensive driving. \\n \\n23.\\n \\nAngular parking, Parallel parking, Reversing, U \\n\\n \\nTurning, Emergency \\nbraking\\n \\n \\n \\nMandatory\\n \\n \\n \\n \\n \\n \\n \\n \\n \\n \\n \\n \\n \\n \\n \\n \\n \\n \\n \\n10\\n8\\n \\nhours\\n \\n \\n \\n \\n \\n \\n \\n \\n \\n \\n \\n \\n \\n \\n \\n \\n \\n \\n \\n \\nLevel 4\\n \\n \\n \\n \\n \\n \\n \\n \\n \\n \\n \\n \\n \\n \\n \\n \\n \\nCore Skills \\n \\n \\n24.\\n \\nIdentify business opportunities in chosen sector \\n \\n25.\\n \\nConduct market survey and prepare simple business plan \\n \\n26.\\n \\nAbility to plan and assess risk \\n \\n27.\\n \\nProblem solving capabilities\\n \\n28.\\n \\nTime management skills\\n \\n29.\\n \\nCommunication skills\\n \\n30.\\n \\nBusiness Management skills\\n \\n \\nMandatory\\n \\n \\n3\\n4\\n \\nhours\\n \\n \\nLevel 4\\n \\nAdmission\\n, Evaluation Test & \\nValedicotry\\n \\nMandatory\\n \\n6\\n \\nh\\nours\\n \\n-\\n \\nTotal Duration of the Course\\n \\n   \\n240hrs\\n \\n \\n \\n \\n \\n \\n \\n \\n \\nQUALIFICATION FILE TEMPLATE\\n \\n \\n \\nPage \\n8\\n \\nof \\n18\\n \\n \\nSECTION 1 \\n-\\n \\nASSESSMENT\\n \\nBody/Bodies which will carry out assessment:\\n \\n \\nThis qualification will be used by 585 RSETIs \\n(list is furnished in Annexure IV)\\n \\nacross the country which \\nhas been established in each district. These RSETIs are controlled by commercial banks (both \\nGovernment owned and Private). NAR is a separate body and there is no linkage in management and \\ncontrol between the RSETIs offering the t\\nraining and NAR which will conduct the assessment. The \\nassessment of outcome of the qualification will be done by NAR which is an independent organization. \\nIt is run by professionals who are expert in rural entrepreneurship development. In NAR there will b\\ne a \\n\\nassessment through its empanelled assessors at the RSETI level. The empanelled assessors will be \\nprovided training by NAR.\\n \\n \\nHow will RPL assessment be man\\naged and who will carry out?\\n \\n \\nNot Applicable\\n \\n \\nDescribe the overall assessment strategy and specific arrangements which have been put in place \\nto ensure that assessment is always valid, reliable and fair and show that these are in line with the \\nrequirements\\n \\nof NSQF.\\n \\n \\nAssessment tools for the Qualification are decided on the basis of composition of knowledge and skill in \\nthat particular Course. All assessments shall have at least two tools viz.1. Practical test and 2. Written \\ntest and/or Viva.\\n \\n1.\\n \\nAssessment \\nprocess:\\n \\n \\nThe assessment will be primarily carried out by collecting evidence of competence gained by the \\ntrainees by observing them at work, asking questions and initiating formative discussions to assess \\nunderstanding and by evaluating their practical \\nwork. The question papers for the theory Examinations \\ncontain objective/descriptive type questions, drawings etc.\\n \\n \\nMinimum pass mark:\\n \\nOverall 50%  of marks allotted\\n \\n \\n2.\\n \\nTesting and certifications for the course:\\n \\n \\nArrangements will be made by NAR to ensure tha\\nt the evidence on which assessment / judgments \\nmade are comparable for all trainees and that the judgments made does not vary from assessor to \\nassessor. Arrangements relating to the conduct and monitoring process of assessment are as follows:\\n \\n\\n \\nQuestions pap\\ners will be prepared by NAR in consultation with vocation experts in the field.\\n \\n\\n \\nStructured tests at the Institute level will be administered in the presence of the assessors.\\n \\n\\n \\nThe tests will be supervised and monitored at  every Centre\\n \\n\\n \\nTheory and practical \\nExaminations will be carried out with invigilators/examiners with the overall \\nsupervision of the certified assessors.\\n \\n\\n \\nExaminers called for evaluation of practical will have technical expertise in the field\\n \\nQUALIFICATION FILE TEMPLATE\\n \\n \\n \\nPage \\n9\\n \\nof \\n18\\n \\n \\n \\nASSESSMENT EVIDENCE\\n \\n \\nAssessment & Evaluation:\\n \\n \\nThe trainees will be assessed through a structured test process. The test will comprise of both written, \\npractical and viva voce. Standard question paper will be devised keeping in view the expected outcome \\nof the training. The test will be administered by\\n \\ncertified and empanelled assessors at RSETI level. The \\ntechnical skill component will be tested through practical examination. Both of these tests will be \\nfollowed by personal interview wherein the entrepreneurial competencies will be tested. The extent o\\nf \\ninternalization of the inputs given will be tested. The face\\n-\\nto\\n-\\nface interview will assess the overall ability \\nof the trainee concerned to perform the defined job role including behavioral aspects of entrepreneurial \\ncompetencies.  On getting the results \\nof these tests from the assessors at ground level, a senior expert \\nin entrepreneurship at NAR, Bengaluru will review the marks and on his validation, system generated \\ncertificates will be issued to the successful candidates online.\\n \\n \\n \\nQUALIFICATION FILE TEMPLATE\\n \\n \\n \\nPage \\n10\\n \\nof \\n18\\n \\n \\n \\n \\n \\nEntrepreneurship Devel\\nopment \\n \\nAssessable Outcomes\\n \\nPerformance Criteria\\n \\nAssessment Criteria\\n \\nTotal\\n \\nTheory\\n \\nPractical\\n \\n1.\\n \\nCandidate is clearly able to \\ndifferentiate between Wage \\nemployment, Self\\n-\\nemployment \\nand Entrepreneurship\\n \\n2.\\n \\nUnderstand, appreciate and \\ndevelop the self\\n-\\nconfidence\\n \\nfor \\nembarking on self\\n-\\nemployment / \\nentrepreneurship.\\n \\n3.\\n \\nUnderstand and internalize \\nentrepreneurial competencies \\nand know their importance for \\nbecoming a successful \\nentrepreneur.\\n \\n4.\\n \\nTrainee is able to understand \\nthe legal and regulatory \\naspects of launching an \\ne\\nnterprise.\\n \\n5.\\n \\nTrainee is able to appreciate \\nneed for continuous growth \\nand expansion of an \\nenterprise\\n \\n6.\\n \\nTrainee is able to analyze \\nmajor trends in a given \\neconomic sector / sub\\n-\\nsector \\nand identify Business \\nOpportunities\\n \\n7.\\n \\nTrainee is able to conduct \\nmarket survey \\nand develop \\nsound Business Plans based \\non obtained data.\\n \\n8.\\n \\nDevelop effective personal \\nmanagement skills like time \\nmanagement and \\ncommunication skills.\\n \\n9.\\n \\nKnows to maintain simple \\nbooks of accounts and \\nprepare financial statement for \\nsmall business \\n \\n10.\\n \\nTrainees abl\\ne to devise a \\nsimple marketing and sales \\nstrategies and plan for a small  \\nbusiness\\n \\n11.\\n \\nTrainees able to manage \\nsmall team of workers \\nrequired for managing a small \\nbusiness\\n \\nPC 1\\n \\n\\n \\nUnderstanding the Context and Need for Rural \\nEntrepreneurship Development, Role o\\nf RSETIs\\n \\n1\\n \\n1\\n \\n0\\n \\nPC 2\\n \\n\\n \\nDeveloping Self Confidence and Positive Attitude \\n(Micro Lab & Tower Building)\\n \\n2\\n \\n1\\n \\n1\\n \\nPC 3 \\n\\n \\nComparative Advantages of Entrepreneurship and \\nSelf Employment over Wage Employment\\n \\n1\\n \\n1\\n \\n0\\n \\nPC 4\\n \\n\\n  \\nUnderstanding and \\nself\\n-\\nevaluation\\n \\nof \\nAchievement Motivation and ways and improve \\nmotivation (SRQ)\\n \\n6\\n \\n2\\n \\n4\\n \\nPC 5\\n  \\n-\\n \\nUnderstanding and internalizing  entrepreneurial  \\ncompetencies\\n \\n5\\n \\n3\\n \\n2\\n \\nPC 6\\n \\n-\\n \\nUnderstanding the Concept of Risk Taking and \\nAbility to do Risk Assessment (Ring Toss Game)\\n \\n3\\n \\n1\\n \\n2\\n \\nPC 7\\n \\n-\\n \\nUnderstanding the importance of Systematic \\nPlanning and Efficiency Orientation  (Boat Building)\\n \\n2\\n \\n1\\n \\n1\\n \\nPC 8\\n \\n-\\n \\nBeing able to understand the importance of \\nQuality Assurance and Improvement in Business\\n \\n3\\n \\n1\\n \\n1\\n \\nPC 9\\n \\n-\\n \\nUnderstanding the process of steps in Problem \\nSolving\\n \\n2\\n \\n2\\n \\n1\\n \\nPC 10 \\n\\n \\nTime Management \\n\\n \\nUnderstanding of Basic \\nConcepts and ability to manage time\\n \\n3\\n \\n2\\n \\n1\\n \\nPC 11 \\n\\n \\nEffective Communication Skills \\n\\n \\nUnderstanding \\nof Basic  Concepts and ability\\n \\n2\\n \\n1\\n \\n1\\n \\nPC  \\n12\\n \\n\\n \\nAbility to assess market conditions and \\nidentify\\n \\nappropriate business opportunities\\n \\n3\\n \\n3\\n \\n0\\n \\nPC  13\\n \\n-\\n \\nAbility to Conduct Market Survey on a limited \\nscale in a given area of Business\\n \\n7\\n \\n3\\n \\n4\\n \\nPC 14\\n \\n\\n \\nUnderstanding of Banking &\\n \\nInsurance and how \\nit can help a \\nstartup\\n \\nenterprise\\n \\n6\\n \\n3\\n \\n3\\n \\nPC 15\\n \\n\\n \\nAbility to Prepare Business Plan based on data \\nobtained from Market Survey\\n \\n16\\n \\n6\\n \\n10\\n \\nPC 16\\n \\n\\n \\nUnderstanding licensing and regulatory aspects \\nof launching an enterprise.\\n \\n3\\n \\n3\\n \\n0\\n \\nPC 17\\n \\n\\n \\nAbility to Maintain Books of Accounts and \\nDevelop Financial Statements for a Small Business\\n \\n8\\n \\n6\\n \\n2\\n \\nPC 18\\n \\n\\n \\nUnderstanding and ability for Inventory and \\nMaterials Management\\n \\n5\\n \\n3\\n \\n2\\n \\nPC 19\\n \\n\\n \\nUnderstanding  and ability for Sales and \\nMarketing\\n \\n7\\n \\n4\\n \\n3\\n \\nPC 20\\n \\n\\n \\nHuman Resource Management \\n\\n \\nUnderstanding \\nof Concepts and ability to manage a team\\n \\n5\\n \\n3\\n \\n2\\n \\nPC 21\\n \\n-\\n \\nUnderstanding of Basic Laws relating to MSMEs\\n \\n5\\n \\n5\\n \\n0\\n \\nPC 22\\n \\n\\n \\nGrowth and Strategic Planning  \\n-\\n \\nUnderstanding \\nof Concepts\\n \\n5\\n \\n5\\n \\n0\\n \\nTotal EDP\\n \\n100\\n \\n60\\n \\n40\\n \\nQUALIFICATION FILE TEMPLATE\\n \\n \\n \\nPage \\n11\\n \\nof \\n18\\n \\n \\nAssessable \\nOutcomes \\n \\nPerformance C\\nriteria \\n \\nAssessment Criteria \\n \\nTotal\\n \\nTheory\\n \\nPractical\\n \\nTechnical Knowledge\\n \\n1.\\n \\nUnderstood the scope for \\nLMV based transport \\nbusiness in different \\nsectors, area \\n(geographies) and \\ndifferent business \\nmodels.\\n \\n2.\\n \\nTrainees should \\nknow the \\ndifferent parts of LMV and \\nits functions\\n \\n3.\\n \\nTrainees should able to \\ndifferentiate among the \\nvarious models of light \\nmotor vehicles.\\n \\n4.\\n \\nTrainees should know the \\nprovisions of the Central \\nMotor Vehicles Act and its \\nrules.\\n \\n5.\\n \\nThe trainee should be \\nable to ind\\nentify road sign \\nsymbols \\n \\n6.\\n \\nTrainees should know \\nhow  to troubleshoot while \\nfacing vehicle failures\\n \\n7.\\n \\nCandidate is aware the \\nimportance and necessity \\nand maintaining all \\ndocuments related to \\noperating the commercial \\nvehicle.\\n \\n8.\\n \\nTrainee should have \\nunderstood the \\ngood \\nqualities of driving , \\npatience and \\nresponsibility towards the \\nroad users and should \\nknow the importance of \\nconcentration  \\n \\n9.\\n \\nTrainee should have \\nunderstood the \\nenvironmental aspects of \\noperating a commercial \\nvehicle mainly air \\npollution\\n \\n10.\\n \\nTrainee should have \\nunderstood the safety \\naspects and precautions \\nAfter gaining professional knowledge the trainee will have:\\n \\nPC 1\\n \\n-\\n \\nGood level of int\\nerest in becoming entrepreneur \\nin the transport sector.\\n \\n4\\n \\n4\\n \\nNil\\n \\nPC 2 \\n\\n \\nUnderstanding of scope and limitation of \\ntransport business in LMV segment\\n \\n4\\n \\n4\\n \\nNil\\n \\nPC 3\\n \\n\\n \\nUnderstanding of operating transport business in \\ndifferent models such as contracting, prospecting orders \\nbased, free\\n-\\nlancing, shop/outlet/retail based operations \\netc.\\n \\n5\\n \\n5\\n \\nNil\\n \\nPC 4 \\n\\n \\nUnderstanding of the basic feature of a LMV \\n \\n4\\n \\n4\\n \\nNil\\n \\nPC 5 \\n\\n  \\nUnderstanding of vehicle operations like h\\nolding \\nsteering wheel, gear changing, turning, sounding horn, \\noperating dash board switches, signaling\\n \\n5\\n \\n5\\n \\nNil\\n \\nPC 6\\n \\n\\n \\nKnowledge of the comparative analysis and \\nunderstanding of the different models of LMVs available \\nin the market \\n\\n \\nits advantages and disadvantages \\n \\n4\\n \\n4\\n \\nNil\\n \\nPC6 \\n\\n \\nKnowledge of the provisions CMV Act and how it \\nhas evolved over the years.\\n \\n5\\n \\n5\\n \\nNil\\n \\nPC 7 \\n-\\n \\nHow various provisions of CMV Act affect \\ntransport business?\\n \\n5\\n \\n5\\n \\nNil\\n \\nPC 8 \\n\\n \\nKnow how of the important rules of CMV \\nrequired for a commercial vehicle operator\\n \\n5\\n \\n5\\n \\nNil\\n \\nPC 9 \\n\\n \\nProvide proper explanation of all the road signs \\nand symbols\\n \\n5\\n \\n5\\n \\nNil\\n \\nPC 10 \\n\\n \\nUnderstanding of \\nsafe driving techniques and \\ntraffic regulations\\n \\n5\\n \\n5\\n \\nNil\\n \\nPC 11\\n \\n-\\n \\nTroubleshooting techniques in the event of \\ntechnical problems like changing wheels using jack etc.\\n \\n5\\n \\n5\\n \\nNil\\n \\nPC 12 \\n-\\n \\nElements of good driving habits for obtaining \\nfuel efficiency : avoid clutch riding and how to avoid \\nfrequent changing of gears, frequent braking avoid over \\nspeeding \\n \\n5\\n \\n5\\n \\nNil\\n \\nPC\\n\\n \\n13 \\nTo avoid bad driving practices such as high \\nidling, sudden braking, \\ngiving wrong blinker signals etc.\\n \\n5\\n \\n5\\n \\nNil\\n \\nPC\\n\\n \\n14 \\nUnderstanding of Driving procedures in different \\nroad conditions \\n\\n \\nTypes of road junctions, driving \\nprocedures in bye pass, subways, over bridge & fly over\\n \\n5\\n \\n5\\n \\nNil\\n \\nPC\\n\\n15 \\nUnderstanding of road user characteristics like \\nPedestrians and types of road users (drunkards, \\nchildren, blind, aged people, deaf & dumb etc.), \\n \\n5\\n \\n5\\n \\nNil\\n \\nPC 16 \\n\\n \\nTrainee know about the various documents to \\nbe maintained for operating a commercial vehicle\\n \\n4\\n \\n4\\n \\nNil\\n \\nPC 17 \\n\\n \\nKnows important of vehicle insurance and how \\nto take policy and renew in time\\n \\n4\\n \\n4\\n \\nNil\\n \\nPC 18 \\n\\n \\nKnow how to PUC and how to get the test done \\nand update data on the same\\n \\n4\\n \\n4\\n \\nNil\\n \\nPC 19 \\n\\n \\nIll\\n-\\neffects of driving under influence of alcohol \\nand permitted levels, regulations etc.\\n \\n4\\n \\n4\\n \\nNil\\n \\nQUALIFICATION FILE TEMPLATE\\n \\n \\n \\nPage \\n12\\n \\nof \\n18\\n \\n \\nlike how to do first aid and \\nfire accidents and \\nhazardous conditions \\nwhile driving a \\ncommercial vehicle\\n \\nPC 20 \\n\\n \\nHow to cope with emergency situations like fire, \\naccidents, flood conditions etc.\\n \\n4\\n \\n4\\n \\nNil\\n \\nPC 21\\n \\n-\\n \\nTypes of Accidents, causes, preventions, \\n\\naccidents\\n \\n5\\n \\n5\\n \\nNil\\n \\nTotal\\n \\n100\\n \\n100\\n \\nNil\\n \\nTechnical Skills\\n \\n11.\\n \\nTrainee should able to \\nrun the vehicle in all the \\nall the situations and \\nenvironments like in case \\nof any malfunctioning or \\nbreakdown, to \\nimmediately attend to the \\nproblem by : \\n \\na.\\n \\nstopping the vehicle at a \\nsafe place \\n \\nb.\\n \\ncarrying out a quick \\ndiagnostic check \\n \\nc.\\n \\nc\\narrying out minor \\nadjustments or temporary \\nrepairs if possible \\n \\nd.\\n \\nAsking for help in case of \\nmajor problems by \\naccurately reporting the \\nexact nature of problem \\nso that adequate help is \\nmade available \\n \\n12.\\n \\nTrainee should able to \\nhandle all kinds of tools \\nand equi\\npment's of \\nvehicle while driving\\n \\n13.\\n \\nTrainee should able to \\ndismantling and \\nreassembling of tires and \\nshould be able to identify \\nthe vehicle problems \\n \\n14.\\n \\nTrainee should be able to \\nfollow the eco\\n-\\nfriendly \\ndriving as well security \\ncautions of road users \\n \\n15.\\n \\nTrainee sh\\nould be able to \\npractice good driving \\nhabits of gear change, \\nacceleration and braking \\nto ensure obtaining \\nmaximum fuel efficiency\\n \\nAfter undergoing training the candidate will be able to:\\n \\n \\n \\n \\nPC 22\\n \\n\\n \\nInspect the vehicle and ensure it is ready for \\ntransportation\\n \\n4\\n \\nNil\\n \\n4\\n \\nPC 23\\n \\n-\\n \\nCheck if all documents are in order required in \\nthe vehicle\\n \\n4\\n \\nNil\\n \\n4\\n \\nPC 24\\n \\n\\n \\nCheck if loading of goods has been done \\nproperly.\\n \\n3\\n \\nNil\\n \\n3\\n \\nPC 25\\n \\n\\n \\nStart the vehicle and check the dashboard \\nparameters for managing various driving parameters\\n \\n5\\n \\nNil\\n \\n5\\n \\nPC 26\\n \\n\\n \\nDrive a LMV safely with fair level of confidence \\nand ability\\n \\n5\\n \\nNil\\n \\n5\\n \\nPC 27\\n \\n-\\n \\nchanging lanes safely at appropriate speed and \\nobserving traffic conditions\\n \\n4\\n \\nNil\\n \\n4\\n \\nPC 28 \\n\\n \\nIs able to cope with emergency situations while \\ndriving\\n \\n5\\n \\nNil\\n \\n5\\n \\nPC 29\\n \\n\\n \\nIs able to maintain the vehicle in good condition\\n \\n4\\n \\nNil\\n \\n4\\n \\nPC 30\\n \\n\\n \\nDrive a LMV \\nsafely with fair level of confidence \\nand ability\\n \\n5\\n \\nNil\\n \\n5\\n \\nPC 31\\n-\\n \\nAbility on overtake other road users legally, \\nsafely and by using correct signaling\\n \\n5\\n \\nNil\\n \\n5\\n \\nPC 32\\n \\n-\\n \\nIn case of any malfunctioning or breakdown \\nstop the vehicle at a safe place and carry out a quick \\ndiagnostic check\\n \\n5\\n \\nNil\\n \\n5\\n \\nPC 33 \\n-\\n \\nAbility of usage of indicators and arm signals to \\nsignal intentions\\n \\n5\\n \\nNil\\n \\n5\\n \\nPC 34 \\n-\\n \\nAbility on Use the parking light \\nwhen stationary, \\nwhere needed select a safe, legal and convenient place \\nto stop;\\n \\n5\\n \\nNil\\n \\n5\\n \\nPC 35\\n \\n-\\n \\nSecure the vehicle safely on gradients using \\nhand brakes and wheel choke\\n \\n5\\n \\nNil\\n \\n5\\n \\nPC 36\\n \\n-\\n \\nCheck for oncoming cyclists, pedestrians and \\nother traffic before opening your door\\n \\n5\\n \\nNil\\n \\n5\\n \\nPC 37\\n \\n-\\n \\nUse tool box provided in vehicle for trouble \\nshooting\\n \\n5\\n \\nNil\\n \\n5\\n \\nPC 38\\n \\n-\\n \\nCarrying out minor adjustments or temporary \\nrepairs if possible \\n \\n5\\n \\nNil\\n \\n5\\n \\nPC 39 \\n-\\n \\nChange tyres when required\\n \\n5\\n \\nNil\\n \\n5\\n \\nPC 40 \\n\\n \\nEnsure availability of spare tyres and other \\nimportant accessories in the vehicle\\n \\n5\\n \\nNil\\n \\n5\\n \\nPC 41 \\n-\\n \\n \\nAbility to drive in difficult road conditions\\n \\n5\\n \\nNil\\n \\n5\\n \\nPC 42 \\n\\n \\nSupervise loading and un\\n-\\nloading and \\nensure \\nsafe and secure arrangement of goods.\\n \\n2\\n \\nNil\\n \\n2\\n \\nPC 43 \\n\\n \\nUse GPS / Google Maps for locating addresses\\n \\n3\\n \\nNil\\n \\n3\\n \\nTOTAL\\n \\n100\\n \\nNil\\n \\n100\\n \\nQUALIFICATION FILE TEMPLATE\\n \\n \\n \\nPage \\n13\\n \\nof \\n18\\n \\n \\nTotal Marks for the Entire Course\\n \\n300\\n \\n160\\n \\n140\\n \\nMeans of assessment 1\\n: Physical Test\\n \\n \\n \\n \\nMeans of assessment 2\\n: Written \\nTest & Viva Voce.\\n \\n \\n \\n \\nPass : Overall 50 % and above\\n \\n \\nSECTION 2 \\n-\\n \\nEVIDENCE OF LEVEL\\n \\nOption B: Key Requirements of the Job Role\\n \\n \\nTitle of the Qualification: LMV Owner Driver\\n \\nNSQF LEVEL \\n-\\n \\n4\\n \\nProcess Required\\n \\nProfessional \\nKnowledge\\n \\nProfessional \\nSkills\\n \\nCore \\nSkills\\n \\nResponsibility\\n \\nWork in familiar \\npredictable, \\nroutine, situation of \\nclear choice\\n \\nFactual \\nknowledge of \\nfield of \\nknowledge or \\nstudy.\\n \\nRecall and \\ndemonstrate \\npractical skill, \\nroutine and \\nrepetitive in \\nnarrow range of \\napplication using \\nappropriate rule \\nand tool, using \\nquality concepts.\\n \\nLanguage to \\ncommunicate written \\nor oral, with required \\nclarity, skill to basic \\narithmetic and \\nalgebraic principles, \\nbasic understanding of \\nsocial political and \\nnatural environment\\n \\nResponsibility for own \\nwork and learning\\n \\nDriving and \\noperating a light \\nmotor vehicle on a \\ncommercial basis in \\na routine job. The job \\nrole requires the \\ncandidate to make a \\nfew clear choices \\nlike customer, routes \\netc. but these are \\nclearly defined \\nchoice and in mostly \\npredictable situation.\\n \\nFactual\\n \\nknowledge \\nequipment and\\n \\nbasic \\nknowledge\\n \\nOf\\n \\nA\\nutomobiles\\n \\nand\\n \\nDriving\\n \\nis \\nrequired which \\ncan be \\nimparted \\nthrough \\ntraining.\\n \\n \\nAbility to operate\\n \\nbased s\\ntandard\\n  \\nequipment \\nand \\n \\no\\nperating\\n \\np\\nrocedures duly\\n \\nEnsuring\\n \\nset \\nquality\\n \\nstandards.\\n \\nEnterprise launching and \\nbusiness management \\nskills to a limited scale. \\nThis can be imparted \\nthrough training. \\n \\nSince this training leads \\nto entrepreneurial \\noutcome responsibility \\nfor own work and \\nlearning is to be present \\nand demonstrated.\\n \\n \\n \\n \\nQUALIFICATION FILE TEMPLATE\\n \\n \\n \\nPage \\n14\\n \\nof \\n18\\n \\n \\nSECTION 3 \\n-\\n \\nEVIDENCE O\\nF NEED\\n \\nQUALIFICATION FILE TEMPLATE\\n \\n \\n \\nPage \\n15\\n \\nof \\n18\\n \\n \\nWhat evidence is there that the qualification is needed?\\n \\n \\n  \\n \\nEntrepreneurship has been embedded in the Indian genius and is a part of its tradition.  India traditionally \\nhas been an entrepreneurial society.  Traditionally, the \\nentrepreneurship of many communities has been \\n\\nbusiness networks.  Further, there is also a rich tradition within the Indian Diaspora, spanning the pas\\nt \\nseveral hundred years, whose spirit of enterprise is legion.\\n \\n \\n  \\n \\n\\n\\nto be done. \\n\\n\\n \\n(a Hindi word roughly translated as \\n\\ninitiative, quick thinking, cunning and resolve to quickly fulfill market demands at the lowest possible price\\ns) \\nas an entrepreneurial trait that has been as much a part of everyday Indian living as its rich tradition of \\nphilosophy and speculation.\\n \\n \\n    \\nThe development and impact of entrepreneurship in India has intensified in recent times, particularly with \\nthe r\\nise in knowledge\\n-\\nintensive services.  New entrepreneurs who do not belong to traditional business \\ncommunities have begun to emerge in large numbers.  Entrepreneurship has grown rapidly, visibly so, \\ncreating wealth and generating employment, especially in t\\nhe past twenty years.  Crucial efforts initiated \\nafter economic liberalization \\n\\n \\n\\n\\n-\\np\\n\\n\\n \\nhave helped improve the climate for Entrepreneurship.\\n \\n \\n\\n\\nrship. Recent \\nsurveys, such as those undertaken by Goldman Sachs and Pricewaterhouse Coopers, have estimated that \\n\\npotentially gain significantly from th\\n\\n\\n \\na democratic open society, a strong \\ntechnology base (with capacity for leapfrogging), unparalleled diversity, vibrant capital markets (including \\ngrowing private equity and venture capital markets), an increasingly yout\\nhful population (50% of India is 25 \\nyears and younger), a sizeable market of a large number of customer with vast unmet needs as well as an \\nenvironment of full and free competition in the private sector.\\n \\n \\n \\nQUALIFICATION FILE TEMPLATE\\n \\n \\n \\nPage \\n16\\n \\nof \\n18\\n \\n \\nIn order to give impetus to this growing demand of first generation entrepreneurs to gain formal training in \\nentrepreneurship knowledge and skills RSETIs have been established by various Banks. Ministry of Rural \\nDevelopment gives part funding of the traini\\nng. The RSETIs have been established on the RUDSETI models \\nwhich have been proved very effective in eradicating the problems of unemployed youth.  The trainings by \\nthese Institutes are unique in the sense they are demand based. The Institutes have got the \\nexperience of \\nconducting these Programmes over the years. \\nThe RUDSETI model of developing rural entrepreneurs has \\nbeen now well researched and documented \\n(see Annexure VI).\\n \\n \\nWith increasing restrictions on movement of Heavy Commercial Vehicles in city limi\\nts, and more movement \\nof goods in city limits and industrial areas there is a growing demand for entrepreneurs operating in \\ntransportation business in the LMV segment. The Parivahan Vayvasaik (Commercial Vehicle \\n\\n \\nLMV \\n-\\n \\nDriver \\nCum Operator) qualification h\\nas huge demand amongst the youth. The amount of effort going on in this \\narea, the business opportunities available in the transport business ranges from low start\\n-\\nup capital to capital \\nintensive businesses\\n \\n \\nIn order to identify the potential programmes as \\nper the needs of the unemployed youth, a \\nCommittee of General Managers of top 5 RSETI sponsoring Banks has been constituted. The General \\nManagers of State Bank of India, Punjab National Bank, Bank of Baroda, Central Bank of India and \\nBank of India are the \\nmembers of this Committee. In addition, Executive Director, RUDSETI, National \\nDirector for RSETIs and Director General, National Academy of RUDSETI who got rich field \\nexperience also joined this Committee\\n.\\n \\nThe above Committee met at Mumbai on 7th November \\n2016. \\nAfter thorough discussions and based on the past experience the Committee short listed potential \\n/need based courses for  training rural unemployed youth \\n\\n\\nis one such shortlisted need based training.\\n \\n \\nSee Annexure VII for success stories of Candidates trained under this Qualification.\\n \\n \\n \\n \\n \\nQUALIFICATION FILE TEMPLATE\\n \\n \\n \\nPage \\n17\\n \\nof \\n18\\n \\n \\n \\nWhat is the estimated uptake of this qualification and what is the basis of this estimate?\\n \\n     \\n \\n \\nPresently there \\nare 585\\n+ Rural\\n \\nSelf Employment Training Institutes (RSETIs) across the country sponsored \\nby various Banks. National Academy of RUDSETI is the   anchoring Institution which designs and approves \\nthe training programmes being conducted by these RSETIs. The Training Modules\\n \\nare demand driven and \\nare vetted by National Academy of RUDSETI, having experience of running similar programmes by the \\nRUDSETIs since over three decades. \\nParivahan Vayvasaik (Commercial Vehicle \\n\\n \\nLMV \\n-\\n \\nDriver Cum \\nOperator)\\n \\nis one of the most popular need\\n \\nbased training programmes conducted by these Institutes. These \\nprogrammes are having \\nvery good\\n \\nsettlement rate.\\n \\nThe number of  trainees under this qualification during \\nthe past three years is as under:\\n \\n \\nFY\\n \\nNo. of Training Programmes\\n \\nNumber of Candidates\\n \\n2013\\n-\\n14\\n \\n262\\n \\n6783\\n \\n2014\\n-\\n15\\n \\n243\\n \\n6497\\n \\n2015\\n-\\n16\\n \\n204\\n \\n5350\\n \\n     \\n \\n \\nCumulative settlement rate for the above training is\\n \\n39\\n% and observing the above trend\\n, the\\n \\ncandidates \\ntrained under \\nthe above\\n \\nqualification file, the number of candidates to be trained in the next 3 years is \\nestimated at more \\nthan \\n2\\n0\\n,000\\n \\ncandidates\\n.\\n \\n \\n \\n \\nWhat steps were taken to ensure that the qualification(s) does/do not duplicate already existing or \\nplanned qualifications in \\nthe NSQF?\\n \\n \\n \\nT\\nhe qualification is unique because it develops the capabilities of a youth to own, operate and drive a light \\ncommercial vehicle by developing both entrepreneurial and technical knowledge and skills.  Such a \\nqualification is currently not offer\\ned by NCVT or any of Sector Skill Council. \\nHence, the activities are unique \\nand the Qualification does not get duplicated.\\n \\n \\n \\n \\nQUALIFICATION FILE TEMPLATE\\n \\n \\n \\nPage \\n18\\n \\nof \\n18\\n \\n \\n \\nWhat Arrangements are in place to monitor and review the qualification (s)? What data will be used \\nand at point will the \\nqualification (s) be revised or updated?\\n \\n \\nNational Academy of RUDSETI has put in place a robust MIS for RSETIs. Comprehensive data (Course \\nwise/Bank Wise/State Wise) for all RSETIs is maintained by NAR in the said MIS. Entry level data include \\nthe photogra\\nph of the candidate other basic details. Course modules are made available in the MIS and \\nthe website of NAR. Training logs and Post Programme Reports with action photographs of the training are \\nalso made available in the MIS.  Details of Settlement and cr\\nedit linkages are uploaded in the MIS with \\naction photos and documentary proofs. The State Directors of RSETIs are also visiting the RSETIs every \\nquarter for reviewing the quality of training / settlement. Officials from the controlling offices of the Bank\\ns \\nand NAR are also making periodic visits to the RSETIs for reviewing the activities. MIS reports are used for \\nviewing the settlement of the trained candidates, their level of income and employment generation by \\nthem. Feedback obtained from the trained can\\ndidates, RSETI sponsoring bank and other stake holders are \\nused to review/update the course.\\n \\n \\n \\nSECTION 4\\n \\n-\\n \\nEVIDENCE OF RECOGNITION AND PROGRESSION\\n \\n \\n \\nWhat steps have been taken in the design of this or other qualifications to ensure that there is a clear path to \\nother qualifications in this sector?\\n \\n \\nThe candidates who are trained in Entrepreneurship on LMV Driving may attend skill up\\n-\\ngradation \\nProgramme for the subject qualification, where in specialized inputs are given for enabling the candidates for \\nlatest technology in automotive transmission by g\\noing in for specialized latest and upgraded versions of \\nautomotive transmission. The Candidates are also eligible for attending the growth Programmes in RSETIs \\nwhich will help them draw a growth plan for their business and go in for expansion and diversifi\\ncation in the \\nrelated field of activity. \\n \\n\""
      ]
     },
     "execution_count": 43,
     "metadata": {},
     "output_type": "execute_result"
    }
   ],
   "source": [
    "text"
   ]
  },
  {
   "cell_type": "code",
   "execution_count": 44,
   "metadata": {},
   "outputs": [],
   "source": [
    "text=getTextFromPDFALLPages(\"QF _Accounting_BAN101.pdf\")"
   ]
  },
  {
   "cell_type": "code",
   "execution_count": 45,
   "metadata": {
    "scrolled": false
   },
   "outputs": [
    {
     "data": {
      "text/plain": [
       "'NSQF \\nQUALIFICATION FIL\\nE GUIDANCE\\n \\nVersion 6: \\nD\\nraft of\\n \\n08\\n \\nMarch 2016\\n \\n \\n \\n1\\n \\n \\nCONTACT DETAILS OF \\nTHE\\n \\nBODY\\n \\nSUBMITTING THE \\nQUALIFICATION\\n \\nFILE\\n \\n \\nName and address of \\nsubmitting\\n \\nbody:\\n \\n \\nDirectorate General of Training (DGT), \\n \\nMinistry of Skill Development & Entrepreneurship (MoSDE)\\n \\nShram Shakti Bhawan, Rafi Marg, \\n \\nNew Delhi\\n \\n \\nName and con\\ntact details of individual dealing with the submission\\n \\n \\nName: Sh. Dinesh Nijhawan\\n \\nPosition in the organisation: Director (CFI)\\n \\nAddress if different from above\\n \\nTel number(s)\\n \\n011\\n-\\n23708071\\n \\nE\\n-\\nmail address: dinesh_nij@hotmail.com\\n \\n \\nList of documents submitted in\\n \\nsupport of the Qualifications File\\n \\n \\n1.\\n \\nQualification document \\n\\n \\nAccounting\\n \\n2.\\n \\nCurriculum for \\nAccounting\\n \\nunder \\nBanking and Accounting\\n \\nSector for Modular Employable \\nScheme (MES)\\n \\n3.\\n \\nExecutive Summary \\nof \\n \\nHuman Resource and Skill Requirements in \\nBanking\\n, Financial Ser\\nvices \\nand Insurance Sector (2013\\n-\\n17,2017\\n-\\n22) \\nby NSDC\\n \\n4.\\n \\nList of number of trainees of trained under MES in \\n2015\\n-\\n16 & 2016\\n-\\n17\\n. \\n \\n5.\\n \\n\\ncourse\\n \\nin 2016\\n-\\n17\\n.\\n \\nNSDA Reference\\n \\nTo be added by NSDA\\n \\nNSQF \\nQUALIFICATION FIL\\nE GUIDANCE\\n \\nVersion 6: \\nD\\nraft of\\n \\n08\\n \\nMarch 2016\\n \\n \\n \\n2\\n \\nSUMMARY\\n \\n \\n \\nQualification Title\\n \\nAccounting\\n \\nQualification Code\\n \\nBAN1\\n01\\n \\nNature \\nand purpose of \\nthe qualification\\n \\nNCVT\\n \\nCertificate in job role \\nof  \\nAccounting\\n \\n \\nMain Purpose of the Qualification is to get \\nfamiliar\\n \\nwith the \\naccounting tools & methods applied in an organisation \\n \\nBody/bodies which will \\naward the \\nqualification\\n \\n \\nNational Cou\\nncil for Vocational Training (NCVT)\\n \\nBody which will \\naccredit\\n \\nproviders to offer \\ncourses leading to the \\nqualification\\n \\nGOI Ministries and State departments who have adopted MES \\nqualifications accredit training providers for their programs and \\nschemes (only \\nin case of SDIS schemes Training providers \\naccredited by States on behalf of NCVT)\\n \\nBody/bodies which will \\ncarry out\\n \\nassessment\\n \\nof \\nlearners\\n \\nIndependent Agency empanelled as Assessing Bodies (ABs)\\n \\nOccupation(s) to which \\nthe qualification gives \\naccess\\n \\n \\nAfte\\nr training the person will be able to\\n \\nindependently work as an \\naccountant in\\n \\nan IT enabled office/warehouse\\n\\n \\nLicensing requirements\\n \\n-\\nNA\\n-\\n \\nL\\nevel o\\nf the qualification \\nin the NSQF\\n \\nLevel 3\\n \\nAnticipated volume of \\ntraining/learning \\nrequire\\nd to complete the \\nqual\\nification\\n \\n450 Hrs (75 working days with 6 Hrs in a\\n \\nday)\\n\\n \\nEntry\\n \\nrequirements \\nand\\n/\\nor\\n \\nrecommendations\\n \\n12th Standard & 14 Years & above\\n \\nProgression \\nfrom the \\nqualification\\n \\nAn individual can progress in an organisation as an Accounts \\nOfficer, Tally Expert and \\ncan have expertise in other Accounts \\nsoftwares whichever is used in the organisation.\\n \\nPlanned arrangements \\nfor \\nthe Recogn\\ni\\ntion of \\nPrior learning (\\nRPL\\n)\\n \\nRPL arrangements are not planned under this qualification.\\n \\nInternational \\ncomparability where \\nknown\\n \\n-\\nNA\\n-\\n \\n \\n \\n \\nDate of p\\nlanned review \\nof the qualification\\n.\\n \\n2 years after approval of the Qualification\\n \\nFormal structure of the qualification \\n \\n \\nTitle of component and identification code\\n.\\n \\nMandatory/\\n \\nOptional\\n \\nEstimated \\nsize (learning \\nhours)\\n \\nLevel\\n \\n(i)\\n \\nDGT/MES/BAN/N01: \\nIntroduction to Banking \\nterminologies\\n \\nM\\n \\n5\\n0\\n \\n3\\n \\nNSQF \\nQUALIFICATION FIL\\nE GUIDANCE\\n \\nVersion 6: \\nD\\nraft of\\n \\n08\\n \\nMarch 2016\\n \\n \\n \\n3\\n \\n(ii)\\n \\nDGT/MES/BAN/N02: Understand the \\nclassification of Accounting Heads and Data \\nConciliation\\n \\nM\\n \\n10\\n0\\n \\n3\\n \\n(iii)\\n \\nDGT/MES/BAN/N03: Understand and can apply \\nTally for accounting\\n \\nM\\n \\n1\\n00\\n \\n3\\n \\n(iv)\\n \\nDGT/MES/BAN/N04: \\nUnderstand the Budgetin\\ng \\nand Control tools \\n \\nM\\n \\n10\\n0\\n \\n3\\n \\n(v)\\n \\nDGT/MES/BAN/N0\\n5\\n:\\n \\nAcquire the knowledge of \\nAccounting calculations\\n \\nM\\n \\n10\\n0\\n \\n3\\n \\nTotal\\n \\n \\n45\\n0\\n \\n \\n \\nPlease attach any document giving further detail about the structure of the qualification \\n\\n \\neg a\\n \\nCurriculum\\n \\nDocument \\nor\\n \\na\\n \\nQualification P\\nack.  \\n \\nCurriculum for \\nAccounting\\n \\nunder \\nBanking and Accounting\\n \\nSector for Modular Employable Scheme \\n(MES) attached as annexure\\n.\\n \\nGive the titles and other relevant details of the document(s) here\\n.  Include \\npage references showing where to \\nfind the relevant i\\nnformation.\\n \\nNSQF \\nQUALIFICATION FIL\\nE GUIDANCE\\n \\nVersion 6: \\nD\\nraft of\\n \\n08\\n \\nMarch 2016\\n \\n \\n \\n4\\n \\nSECTION 1\\n \\n \\nASSESSMENT \\n \\n \\n \\nB\\nody\\n/Bodies which will carry out assessment\\n:\\n \\nDGT empanelled Assessing Bodies (ABs) \\n \\n \\nHow w\\nill \\nRPL assessment\\n \\nbe managed and who will carry it out\\n?  \\n \\nRPL arrangements are not planned under this qualification.\\n \\n \\nDescribe \\nthe overall assessment strategy and specific arrangements which have been put in place to ensure \\nthat assessment is always valid, \\nreliable\\n \\nand \\nfair\\n \\nand show that these are in line wi\\nth the requirements of \\nthe NSQF.\\n \\n \\nCriteria for selection of Assessment bod\\ny\\n \\nMinimum Eligibility Criteria\\n \\n\\n \\nThe applicant shall be a legal entity, registered in India.\\n \\n\\n \\nThe applicant should have in last two years carried out competency / skill assessment for minimum 1000 \\npersons or should have trained minimum 1000 persons and got te\\nsted by some agencies such as NCVT, \\nSector Skill Council, State, board/ council and reputed industry Association.  Organizations having \\nexperience in testing of competencies would be preferred.\\n \\n\\n \\nIn case more number of applications is received, preference wi\\nll be given to those organizations that have \\ntrained/assessed larger number of persons.\\n \\n\\n \\nThe applicant is not a Training Provider (TP) in the same sector and in same State, but it can be TP in other \\nStates, other Sectors or other scheme.\\n \\n\\n \\nThe applicant shall\\n \\nhave access to technically qualified personnel of repute and integrity in different \\nindustrial trades and technology.\\n \\n\\n \\nThe applicant shall develop dedicated human resource for handling the processes in assessment process.\\n \\n\\n \\nThe applicant shall declare its li\\nnkages with other organization(s), if any to ensure independence and avoid \\nany conflict of interest.\\n \\n\\n \\n \\nInstitutions/ Firms blacklisted by any Government Department shall not be considered in this RFP.\\n \\n\\n \\nThe Applicant shall provide the information and supporti\\nng documents towards their claims.\\n \\n\\n \\nInitially provisional empanelment will be awarded to the organizations based on the evaluation of eligibility \\nof the Assessing Body based on the criteria.\\n \\n\\n \\nBased on the module and sector that will be handled by the assesso\\nr, the assessing body shall send its \\nassessor for competency evaluation in the institutions which will be notified by DGT time to time. The \\nassessor will be assessed to ascertain the competency to carry out competency based assessment.\\n \\n\\n \\nFinal empanelment wo\\nuld be granted subject to the Assessing Body fulfilling the following conditions of \\ngetting the competencies of 2 assessors of each module per State evaluated in the institutes notified by the \\nDGT. Testing charges for evaluating the competencies of the ass\\nessors will be borne by the Assessing \\nBodies.\\n \\n \\n \\n(1)\\n \\nAssessment process:\\n \\nThe assessment process aims to test and certify the competency of the persons through Assessing Bodies who \\nseek certification of their skills acquired informally or the persons who have be\\nen trained at the registered TPs. \\nThe competency assessment of the candidate is being done \\nby \\nthe Assessor Competency Evaluation (ACE) \\nqualified assessor of the independent Assessing Bodies (AB) which is not involved in training delivery, to \\nensure an impa\\nrtial assessment. ACE is conducted to evaluate the \\ncompetency\\n \\nof the \\nassessor\\n. In the assessment \\nprocess, identification of competency, ways to measure the competency and deciding on the type of evidence \\nthat has to be collected are the responsibility of t\\nhe Assessing bodies whereas administering the assessment and \\ncollecting the evidence and reporting the results are the responsibility of the assessors. The assessment process \\nconsists of following components:\\n \\n \\n \\nNSQF \\nQUALIFICATION FIL\\nE GUIDANCE\\n \\nVersion 6: \\nD\\nraft of\\n \\n08\\n \\nMarch 2016\\n \\n \\n \\n5\\n \\nTheory Test:\\n \\n\\n \\nIt must assess the knowledge w\\nhich is essential for a person to do the job. Without this knowledge, the \\nperson will not be able to do the job.\\n \\n\\n \\nThe questions shall be of objective type involving selection of correct response.\\n \\n\\n \\nThe question paper should contain sketches/ diagrams/ pho\\ntographs/ drawing to overcome the problems of \\nreading comprehension.\\n \\n\\n \\nThe test shall be of short duration.  \\n \\n \\n \\nPractical Test\\n: \\n \\nIt shall be able to test:\\n \\n\\n \\nManipulative skills to handle tools and equipment.\\n \\n\\n \\nSpeed in doing work.\\n \\n\\n \\nAccuracy maintained \\n \\n\\n \\nQuality in workmanship.\\n \\n\\n \\nSequence of performance.\\n \\n\\n \\nEconomical use of material.\\n \\n\\n \\nNeatness & housekeeping.\\n \\n\\n \\nAll the competencies prescribed in the course curriculum.\\n \\n \\n \\nThe Assessment Parameters adopted during assessment:\\n \\n\\n \\nKnowledge of equipment, limitatio\\nn of use of tools and equipment, and methods & procedure.\\n \\n\\n \\nUnderstanding of functioning of equipment & tool, criteria to be used in selecting tools for given job, and \\nthe process of measurement.\\n \\n\\n \\nSkill in finishing to required measurement, handling measureme\\nnt & calculations, handling tools and \\nequipment with ease, finishing neatly.\\n \\n\\n \\nAbilities to take corrective steps, use correct work habits, take measurements, complete the job within \\nstipulated time, and adopt safe practices.\\n \\n\\n \\nAttitude towards the work, accur\\nate & precise work and co\\n-\\nworkers and supervisor.\\n \\n \\n(2)\\n \\nDuration of Test\\n:\\n \\nThe duration of test vary according to the task. Theory test shall be of 1 hour duration and practical test for \\nengineering trade shall be 6 to 8 hours minimum and non\\n-\\nengineering it shal\\nl be of 4 hours minimum. Assessing \\nBodies while preparing practical test shall ensure that candidate shall be tested on all the competencies \\nprescribed in the course module.\\n \\n \\nThe marking pattern and distribution of marks for the qualification are as under:\\n \\n \\nTerminal competency \\n \\nMaximum marks \\n \\nApplication of knowledge \\n \\n30\\n \\nCare for tools & equipment \\n \\n15\\n \\nEconomic use of materials \\n \\n15\\n \\nSafety consciousness \\n \\n10\\n \\nSpeed \\n \\n10\\n \\nAccuracy \\n \\n15\\n \\nQuality of workmanship \\n \\n20\\n \\nAmount of work \\n \\n15\\n \\nNo. of attempts \\n \\n10\\n \\nAtti\\ntude \\n \\n10\\n \\nTotal maximum marks for Practical \\n \\n150\\n \\nMaximum marks for theory \\n \\n50\\n \\n \\n(3)\\n \\nMinimum pass mark:\\n \\n \\nMinimum passing marks for Practical is 60%\\n \\nMinimum pass marks for theory is 40%\\n \\n \\n(4)\\n \\nTesting and certifications process for the course:\\n \\n \\nPre\\n-\\n \\nAssessment\\n \\n\\n \\nRegion\\nal Directorate of Apprenticeship Training (RDAT) allot batches to the Assessing Bodies on \\nrotational basis depending on the presence of assessing body in that region sector wise and the assessing \\nNSQF \\nQUALIFICATION FIL\\nE GUIDANCE\\n \\nVersion 6: \\nD\\nraft of\\n \\n08\\n \\nMarch 2016\\n \\n \\n \\n6\\n \\nbody in coordination with Training Provider and assessor sho\\nuld confirm and schedule the assessment. \\n \\n\\n \\nThe Assessing Body confirms the date of assessment in consultation with Training Provider and \\ncommunicate to the RDAT/State.\\n \\n\\n \\nThe Assessing Body forms a panel of ACE qualified assessors of high repute and integrity,\\n \\nsector wise and \\nlocation wise. \\n \\n\\n \\nThe assessment of the candidates is done by the Assessing Bodies in designated Testing Centre (TC). The \\nTesting Centre where the assessment is carried out and Testing Centre can be Training Center also. The \\nAssessing Body s\\nelect the TC based on the location, accessibility and the infrastructure facilities available \\nfor conducting the test.\\n \\n\\n \\nThe testing center is approved by the RDAT incase of courses run by DGT,MSDE. Incase where the \\ncourses are run by the Sate Govt., TC is a\\npproved by State Govt.. Training conducted by other dept. at their \\naccredited Training Centre, same training centre is designated as Testing centre.\\n \\n\\n \\nThe Assessing Body provide details of selected TC along with skill areas in which assessment can be done \\nat\\n \\nthe TC, to the RDAT and respective States/UTs. \\n \\n\\n \\nThe Assessing Bodies depute ACE qualified assessors for assessments whose details are furnished by \\nAssessing Bodies to DGT in advance.  \\n \\n\\n \\nAssessing Body has to communicate to the Testing Centre following:\\n \\n-\\nDe\\ntails of the candidates to appear for assessment in various MES courses.\\n \\n-\\nDetails of Assessors selected with their contact details.\\n \\n-\\nRequirement of infrastructure, raw material etc.\\n \\n-\\nTesting charges  to be reimbursed to Testing Centre\\n \\n \\nPreparation of asses\\nsment tools and prerequisites\\n:\\n \\n\\n \\nThe assessment tools contain components for testing the knowledge, application of knowledge and \\ndemonstration of skill. The knowledge test is objective paper based test or short structured questions based. \\nThe application of \\nknowledge is verified based on questioning or seeking response for a case. \\nDemonstration of skill is verified based on practical demonstration by the candidate.\\n \\n\\n \\nThe type of assessment tools to be used for assessment are to be prepared in advance by the ass\\nessing body \\nin accordance to the guidelines as prescribed below:\\n \\n-\\n \\nDefine the performance objective \\n\\n \\nThis is based on the course objectives and competency in \\nworkplace as prescribed by MES curriculum. The written tests and practical tests assess all the \\ncom\\npetencies mentioned in course curriculum.\\n \\n-\\n \\nIn case of practical test, the operations which are to be observed in case of process test (how a \\nparticular task is being carried out) are clearly mentioned and the specifications of the final product in \\ncase of p\\nroduct test (the task in itself).\\n \\n-\\n \\nList of tools, infrastructure, and equipment to carry out the assessment are prepared based on the test \\ninstruments that are planned to be used.\\n \\n-\\n \\nWritten directions are given to the candidates before the task is attempted.\\n \\n-\\n \\nScoring system, observations and rating is prepared for each competency which is going to be assessed.\\n \\n \\nPre\\n-\\nassessment activities for Assessor at the Testing Centre\\n \\n\\n \\nVerification of student credentials: The assessor check the application form submitted by t\\nhe candidates and \\nverify the photo pasted on the forms with candidates who are taking assessment in accordance with \\nchecklist\\n \\n\\n \\nVerification of testing centre for adequate infrastructure, tools and equipment: The assessor verifies the \\navailability of infrast\\nructure, tools and equipment for carrying out both theory and practical assessments. \\nThe minimum requirement prescribed under the MES modules is used as benchmark.\\n \\n\\n \\nAttendance verification: The assessor checks the attendance register of candidates and instr\\nuctors until the \\ntime biometric attendance system is put in place. Once the biometric attendance system is in place, the \\nbiometric attendance of assessors along with that of trainees/candidates has to be captured during the \\nassessment at the start as well \\nas end of theory and practical test.\\n \\n\\n \\nAttendance during assessment: The assessor takes the attendance of all the students who appear for \\nassessment after the successful verification of the student credentials and before the start of the assessment. \\nThe asse\\nssor also provides his/her attendance during start and end of the practical and theory test.\\n \\n\\n \\nVerification of the documents related test carried out by Training Provider/ Testing Centre (TC) for \\ncandidates who were not able to produce document in support of\\n \\nhaving passed the qualification.\\n \\n \\n \\nAssessment activities\\n \\n\\n \\nBefore the start of assessment, read out the instructions to the students.\\n \\nNSQF \\nQUALIFICATION FIL\\nE GUIDANCE\\n \\nVersion 6: \\nD\\nraft of\\n \\n08\\n \\nMarch 2016\\n \\n \\n \\n7\\n \\n\\n \\nThe written test & practical test is for fixed duration as prescribed.\\n \\n\\n \\nIt is ensured that individual attention is given to \\nall the candidates during the practical test. \\n \\n\\n \\nThe assessor takes photographs during the assessment process of all the students in the testing centre, the \\nstudents during theory and practical tests, practical lab/workshop showing the equipment to be used f\\nor \\nassessment, the assessor along with the students appearing for the assessment.\\n \\n \\nPost\\n-\\nassessment activities\\n \\n\\n \\nThe assessor consolidates all the theory and practical test papers and ensures that all the mandatory \\ninformation is filled. The total score for e\\nach student should be calculated and recorded in result sheet.\\n \\n\\n \\nThe assessor send the attendance sheet, result sheet, answer papers by courier/post to the assessing body \\nimmediately after the completion of assessment \\n \\n\\n \\nUploading outcome of the assessment and\\n \\nphotos in portal by assessing body\\n \\n\\n \\nAssessing body upload the results within one week of the assessment date.\\n \\n\\n \\nPhotos taken by the assessors during assessment are sent to respective RDATs through e\\n-\\nmail only.  Non \\ndispatch of photos of assessment to RDAT ma\\nkes assessment void. Re\\n-\\nassessment of such batch is done by \\nthe Assessing Bodies on their own expenses.  \\n \\n\\n \\nDetails of assessors are emailed to RDAT at the time of uploading the outcome of the assessment. Outcome \\nof the assessment is not accepted in case det\\nails of assessors are not emailed to respective RDAT.\\n \\n\\n \\nMaintaining assessment records\\n \\n\\n \\nPublishing of results and Certificate issue\\n \\n\\n \\nRDAT verifies the outcome of the assessment, details of assessors, photos and print and sign the certificates \\nfor successful ca\\n\\nthe Certificates are sent to the Assessing Body.\\n \\n\\n \\nCertificates which will be issued carry photograph of the trainee, name of Training Provider, start date & \\nend dat\\ne of training and duration of \\ntraining once the systems for the same are put in place.\\n \\n\\n \\nThe certificate is issues under the aegis of NCVT. All the communications are done through portal.\\n \\n \\n \\n \\n \\n \\nASSESSMENT EVIDENCE\\n \\n \\nComplete a grid for each component as liste\\nd in \\n\\nthe qualification\\n\\n \\nNOTE: this grid can be replaced by any part of the qualification documentation which shows the same \\ninformation \\n\\n \\nie Learning Outcomes to be assessed, assessment criteria and \\nthe \\nmeans of a\\nssessment\\n.\\n  \\n \\n \\nNSQF \\nQUALIFICATION FIL\\nE GUIDANCE\\n \\nVersion 6: \\nD\\nraft of\\n \\n08\\n \\nMarch 2016\\n \\n \\n \\n8\\n \\nTitle of Component:\\n \\n \\nAccounting\\n \\n \\nO\\nutcomes\\n \\nto be assessed\\n \\nAssessment criteria for the \\noutcome\\n \\nLO\\n \\nAssessable Outcome Description\\n \\nDGT/MES/BAN/N01: \\nIntroduction to Banking \\nterminologies\\n \\n \\n \\nAO1. \\nExplain the\\n \\ngeneral accounting terminologies \\nlike\\n \\naccounts\\n, Debit/ Credit, \\nComplete Booking\\n-\\nLedgers; credit\\n \\ncontrol; Accounts\\n \\nreceivable & \\npayable\\n, \\nVoucher numbering\\n \\nTheory Test\\n \\nAO2. \\nDemonstrate the \\ndistinguish \\nD\\nebit/Credit \\nTransaction entries and maintain \\nJournal Entry book\\n \\nPractical Test\\n \\nDGT/MES/BAN\\n/N02: \\nUnderstand the \\nclassification of \\nAccount\\ning Heads and \\nData Conciliation\\n \\nAO1. \\nExplain the\\n \\nClassification of Accounting \\nheads/\\n \\ncharts of Accounts, Data based reporting, \\nBank Reconciliation/multiple \\ncompares/\\n \\ncurrency\\n \\nTheory Test\\n \\nAO2. Explain The \\nknow\\nledge of \\nVoucher/cheques \\nprinting\\n, \\nMemo vouchers/post dated vouchers/\\n \\nuser defined vouchers/sales/purchase\\n \\nextracts\\n \\nTheory Test\\n \\nAO3. \\nDemonstrate The\\n \\nmaintain \\nbooks, registers\\n \\nand Statement of Accounts\\n, \\n \\nPreparation of Outstanding\\n \\nReports\\n, Voucher \\n/cheque\\n \\n \\nPractical Test\\n \\nDGT/MES/BAN/N03: \\nUnderstand and\\n \\ncan apply \\nTally for accounting\\n \\nAO1. \\nExplain \\nthe knowledge of \\nTally\\n, \\nTally \\nTechnology advantages \\n \\nand \\nTally\\n \\naudit\\n \\nTheory Test\\n \\nAO2. Demonstrate the\\n \\n \\nu\\nse Tally computer programs\\n \\nfor \\n \\nAccounts \\nreceivable/paya\\nble\\n \\nCreation of new voucher type\\n \\nCreation of multiple companies.\\n \\nPractice of multiple currency/ base\\n \\ncurrency.\\n \\nEntry on memo vouchers\\n \\nEntry post dated voucher/user\\n \\ndefined voucher\\n \\nPractical Test\\n \\nDGT/MES/BAN/N04: \\nUnderstand t\\nhe \\nBudgeting and Control \\ntools \\n \\nAO1. \\nExplain \\n \\nthe knowledge of \\nBudgeting & \\nControl \\n \\nAlternate units of measure & tail units;\\n \\nsales & \\npurchase orders, \\nRejection in / Rejection out; \\nMovement\\n \\nAnalysis, \\nPrice list/multi price levels\\n \\nStock item; classification of raw\\n \\nmaterial; work in \\nprogre\\nss\\n, \\nJob working concepts; Additional cost of\\n \\nManufacturing\\n, \\nRe\\n-\\norder levels; stock aging \\nanalysis; Stock Category /query /multiple\\n \\nwarehouse\\n\\n \\nTheory Test\\n \\n \\nAO2. \\nDemonstrate the Following \\n \\n:\\n \\n\\n \\nSales/purchase extract; Daily\\n \\nbalance & \\nPractical Test\\n \\nNSQF \\nQUALIFICATION FIL\\nE GUIDANCE\\n \\nVersion 6: \\nD\\nraft of\\n \\n08\\n \\nMarch 2016\\n \\n \\n \\n9\\n \\nTransaction value.\\n \\n\\n \\nPractic\\ne on receivables turnover\\n \\n\\n \\nCreation of stock category and\\n \\nviewing of \\nStock Query Report\\n \\n\\n \\nCreation/ viewing of multiple\\n \\nwarehouse\\n \\n\\n \\nStock transfer to warehouse\\n \\n\\n \\nUse of alternate units\\n \\n\\n \\nprocedure for Rejection\\n \\nNotes\\n \\nDGT/MES/BAN/N05: \\nAcquire the kno\\nwledge of \\nAccounting calculations\\n \\nAO1. \\nExplain the \\nk\\nnowledge of \\nCalculation of \\ninterest/ Percentage\\n \\nBased reporting\\n, \\nVariance \\na\\nnalysis/Ratio Analysis\\n \\nMulti lingual\\n, \\nVAT/Service Tax\\n, \\ne TDS\\n \\nTheory Test\\n \\nAO2. \\nDemonstrate the \\ncreate \\nPercentage based \\nreporting\\n \\ncalculate\\n \\nInterest /cash flow\\n \\nPractical Test\\n \\nMeans of assessment 1\\n \\nThe assessment comprise of \\n \\n\\n \\nTheory Examination: MCQ, VIVA Voce\\n \\n\\n \\nPr\\nactical assessment: \\nDemonstration\\n, Practical assignment\\n \\nPass/Fail\\n \\nThe trainee is judged as pass in the qualification if m\\ninimum passing marks is obtained in each test i.e \\nTheory and Practical.\\n \\nMinimum pass mark: \\n \\nMinimum passing marks for Practical is 60%\\n \\nMinimum pass marks for theory is 40%\\n \\n \\n \\n \\nNSQF \\nQUALIFICATION FIL\\nE GUIDANCE\\n \\nVersion 6: \\nD\\nraft of\\n \\n08\\n \\nMarch 2016\\n \\n \\n \\n10\\n \\nSECTION 2\\n \\nEVIDENCE OF LEVEL\\n \\n \\n \\nNSQF \\nQUALIFICATION FIL\\nE GUIDANCE\\n \\nVersion 6: \\nD\\nraft of\\n \\n08\\n \\nMarch 2016\\n \\n \\n \\n11\\n \\nOPTION\\n \\nA \\n \\n \\nTitle/Name of \\nqualification/component\\n: \\nAccounting\\n \\nLevel: \\n3\\n \\nNSQF Domain \\n \\nOutcomes of the Qualification/Component\\n \\nHow the job role relates to the NSQF level descriptors\\n \\nNSQF Level\\n \\nProcess\\n \\n \\nThe job holder is expected to have the knowledge and \\ndisplay expertise\\n \\nskills in the field of work like:\\n \\n\\n \\nMS office applications \\n \\n\\n \\nAccounting Methods and Procedures\\n \\n\\n \\nFundamentals of Tally software\\n \\n \\nThe job requires the limited range of \\nactivities routine\\n \\nand predictable like assisting Accounts Officer/ \\nManager in maintaining the Accounts of the \\norganisation in \\nan established method. Using Tally or \\nother software as applicable in the organisation to \\nmaintain the records.\\n \\n3\\n \\nPro\\nfessional \\nknowledge\\n \\n \\nThe job holder is\\n \\nrequired to have knowledge in the \\nrelated field of\\n \\nwork like:\\n \\n\\n \\nFundamentals of \\nMS office\\n \\n\\n \\nSystems and\\n \\nmechanism of computer, components and \\ntheir interdependencies\\n \\n\\n \\nBasic principles of accounting and its applications\\n \\n\\n \\nFunctionalities of Tally\\n \\nThe job holder understands the basic facts , process and \\nprinciples involved in his job role like basics of \\ncomputin\\ng, Tally and Accounts.\\n \\n3\\n \\nPro\\nfessional skill\\n \\n \\nThe job holder is\\n \\nneeds to know and understand \\n:\\n \\n\\n \\nUpdating accounts data using tally\\n \\n\\n \\nPreparation and maintaining database, Reports and \\npresentations\\n \\n\\n \\nCommunication through web interface\\n \\n\\n \\nKnowledge of financial dat\\na/bills handling\\n,\\n \\n \\nThe job \\nrole only includes the maintaining of financial \\ndata, accounts, clearance of bills which is routine and \\nrepetitive in narrow range of application.\\n \\n3\\n \\nCore skill\\n \\n \\nThe job holder is\\n \\nexpected to be \\n \\nP\\nossess\\n \\nknowledge and\\n \\nskills rega\\nrding:\\n \\n\\n \\nTools of MS office \\nfor communication and \\npresentations\\n \\nThe Assistant will able to prepare and present financial \\ndata\\n, can do basic operations of \\nathematic\\n \\nin excel. Can \\noperate Internet to communicate with the suppliers and \\nconsumers for marketing.\\n \\n3\\n \\nNSQF \\nQUALIFICATION FIL\\nE GUIDANCE\\n \\nVersion 6: \\nD\\nraft of\\n \\n08\\n \\nMarch 2016\\n \\n \\n \\n12\\n \\nTitle/Name of \\nqualification/component\\n: \\nAccounting\\n \\nLevel: \\n3\\n \\nNSQF Domain \\n \\nOutcomes of the Qualification/Component\\n \\nHow the job role relates to the NSQF level descriptors\\n \\nNSQF Level\\n \\n\\n \\nFundamental internet browsing techniques, associated \\nrisks\\n \\nfor to communicate with consumers and suppliers\\n \\n\\n \\nEfficiently communicate with the superiors for \\nfinancial \\nmatters\\n \\n\\n \\nFluency in working on \\nTally\\n \\n \\nResponsibility\\n \\n \\nThe job holder \\nworks under the super\\nvision of his \\nsuperior, as per his directions. He is responsible for his \\ndesignated task as and when given by the superior.\\n \\nThe job holder works under the supervision of his \\nsuperiors and is responsible for his own limited work \\nassigned.\\n \\n3\\n \\nNSQF \\nQUALIFICATION FIL\\nE GUIDANCE\\n \\nVersion 6: \\nD\\nraft of\\n \\n08\\n \\nMarch 2016\\n \\n \\n \\n13\\n \\nSECTION \\n3\\n \\nEVID\\nENCE OF NEED\\n \\n \\nWhat evidence is there that the qualification is needed? \\n \\nBanking credit is expected to grow at a CAGR of 17 percent during 2012\\n\\n13 \\n\\n \\n2016\\n\\n17\\n.\\nThe \\nbanking and NBFC companies are expected to generate around 1.5 million\\n \\nnew jobs between \\n2013\\n\\n14 \\nand 2016\\n\\n17 on account of business expansion,\\n \\nretirement primarily in PSBs and entry of \\nnew banks in the private sector\\n. \\nBulk of these vacancies is\\n \\nlikely to be in PSBs\\n. \\nMost of the new \\njobs to be created in specialist fields, sales and front office \\n( E\\nxec\\nutive Summary of Human \\nResource and Skill Requirements in \\nBanking, Financial Services and Insurance sector\\n \\nby NSDC: \\nAnnexure 3)\\n \\nMoreover more than \\n10\\n000 individuals have been trained under this scheme in \\n2015\\n-\\n16 & 2016\\n-\\n17\\n, \\nwhich shows there is huge require\\nment of this skill in the Market.( Annexure 4)\\n \\nAbout 3019 \\ncandidates have been placed across country by getting trained under this sector under \\nMES \\n \\nin 2016\\n-\\n17, \\nwhich indicates the demand of the above qualification. (Annexure 5)\\n \\nAlso about 5272 candidates \\nhave been placed across country by getting trained under this course \\nunder DDUGKY till Dec 2016.\\n \\nWhat is the \\nestimated uptake\\n \\nof this qualification and what is the basis of this estimate?\\n \\nAccording to the NSDC\\n, \\nRBI has mandated banks to provide at least o\\nne banking outlet in each of \\nthe\\n \\n490,000 unbanked villages with a population of less than 2,000\\n. \\nNeed to hire skilled local \\npeople to manage banking operations\\n. Thus t\\nhe banking and NBFC companies are expected to \\ngenerate around 1.5 million\\n \\nnew jobs betwee\\nn 2013\\n\\n14 and 2016\\n\\n17 on account of business \\nexpansion,\\n \\nretirement primarily in PSBs and entry of new banks in the private sector\\n \\n(Source: \\nExecutive Summary of Human Resource and Skill Requirements in Banking, Financial \\nServices and Insurance sector by NSD\\nC: Annexure 3)\\n \\nWhat steps were taken to ensure that the qualification(s) does\\n \\n(\\ndo\\n)\\n \\nnot duplicate\\n \\nalready existing or \\nplanned qualifications in the NSQF?\\n \\n \\nThe Qualification has been mapped with the National Qualification Register, maintained by NSDA \\nto ens\\nure the qualification does not duplicate. \\nQ\\nualification \\nwith the title of Account Executive \\n(Payable & receivable) and Account Executive (Payroll) \\nis available in NQR with \\nsome similar \\noutcomes.\\n \\nTheses qualifications are small job role specific and for sma\\nll duration. The present \\nqualification is of generic nature and covers wide range of accounting techniques and methods. \\n \\n \\nWhat arrangements are in place to monitor and review the qualification(s)? What data will be used and \\nat what point will the qualific\\nation(s) be revised or updated?\\n \\n \\n1) DGT interacts with training providers to gather feedback in implementation and updation of \\nqualification.\\n \\n2) Monitoring of results of assessments\\n \\n3) Employer feedback will be sought post\\n-\\nplacement\\n \\n4) \\nIn a recent initiati\\nve, a Mentor Council (MC) for the relevant sector has been formed to review \\nthe curriculum of this qualification under the sector.\\n \\n5) CSTARI, the research wing of DGT, reviews and updates the qualification, in consultation with \\nindustries and other stakeho\\nlders, on a regular basis.\\n \\n \\nThe qualification is reviewed after every 2 years for updation according to latest Technologies and \\nNSQF \\nQUALIFICATION FIL\\nE GUIDANCE\\n \\nVersion 6: \\nD\\nraft of\\n \\n08\\n \\nMarch 2016\\n \\n \\n \\n14\\n \\npractices.\\n \\n \\nPlease attach any documents giving further information about any of the topics above. \\n \\nGive the titles and other re\\nlevant details of the document(s) here\\n.  Include page references showing where to \\nfind the relevant information.\\n \\n \\n \\n \\nSECTION \\n4\\n \\n \\nEVIDENCE OF PROGRESSION\\n \\n \\nWhat steps have been taken in the design of this or other qualifications to ensure that there is a \\nclear\\n \\npath \\nto\\n \\not\\nher qualifications in this sector?\\n \\n \\nAn Individual has vertical pathway to \\npromote to higher designations in an organisation\\n.\\n \\nCan further \\nundergo specialization course \\nlike advanced Tally, Modern Accounting software \\nto excel to the higher \\npost\\n \\nin\\n \\njobs listed above\\n.\\n \\n \\nProgression chart:\\n \\nAssistan\\nt\\n \\nAccountant  > Executive Accountant >  \\nAssistant \\nAccount Manager\\n \\n> Deputy Account \\nManager\\n \\n \\n \\n \\n \\n \\n \\n \\nThis publication has been produced with the assistance of the European Union.  The contents are the sole \\nresp\\nonsibility of the EU Skills Development Project and can in no way be taken to reflect the views of the \\nEuropean Union.\\n \\n \\n \\n'"
      ]
     },
     "execution_count": 45,
     "metadata": {},
     "output_type": "execute_result"
    }
   ],
   "source": [
    "text"
   ]
  },
  {
   "cell_type": "code",
   "execution_count": 46,
   "metadata": {},
   "outputs": [
    {
     "name": "stdout",
     "output_type": "stream",
     "text": [
      "enter name of first fileQF _Accounting_BAN101.pdf\n",
      "enter name of second fileQF - LMV Owner Driver.pdf\n",
      "3.316691003956739\n"
     ]
    }
   ],
   "source": [
    "mainProgram()"
   ]
  },
  {
   "cell_type": "code",
   "execution_count": 1,
   "metadata": {},
   "outputs": [],
   "source": [
    "from pdfminer.pdfinterp import PDFResourceManager, PDFPageInterpreter\n",
    "from pdfminer.converter import TextConverter\n",
    "from pdfminer.layout import LAParams\n",
    "from pdfminer.pdfpage import PDFPage\n",
    "from io import StringIO\n",
    "\n",
    "def convert_pdf_to_txt(path):\n",
    "    rsrcmgr = PDFResourceManager()\n",
    "    retstr = StringIO()\n",
    "    codec = 'utf-8'\n",
    "    laparams = LAParams()\n",
    "    device = TextConverter(rsrcmgr, retstr, codec=codec, laparams=laparams)\n",
    "    fp = open(path, 'rb')\n",
    "    interpreter = PDFPageInterpreter(rsrcmgr, device)\n",
    "    password = \"\"\n",
    "    maxpages = 0\n",
    "    caching = True\n",
    "    pagenos=set()\n",
    "\n",
    "    for page in PDFPage.get_pages(fp, pagenos, maxpages=maxpages, password=password,caching=caching, check_extractable=True):\n",
    "        interpreter.process_page(page)\n",
    "\n",
    "    text = retstr.getvalue()\n",
    "\n",
    "    fp.close()\n",
    "    device.close()\n",
    "    retstr.close()\n",
    "    return text"
   ]
  },
  {
   "cell_type": "code",
   "execution_count": 28,
   "metadata": {},
   "outputs": [
    {
     "ename": "PDFSyntaxError",
     "evalue": "Invalid object number: objid=2",
     "output_type": "error",
     "traceback": [
      "\u001b[1;31m---------------------------------------------------------------------------\u001b[0m",
      "\u001b[1;31mIndexError\u001b[0m                                Traceback (most recent call last)",
      "\u001b[1;32m~\\Anaconda3\\lib\\site-packages\\pdfminer\\pdfparser.py\u001b[0m in \u001b[0;36m_getobj\u001b[1;34m(self, objid)\u001b[0m\n\u001b[0;32m    376\u001b[0m                 \u001b[1;32mtry\u001b[0m\u001b[1;33m:\u001b[0m\u001b[1;33m\u001b[0m\u001b[0m\n\u001b[1;32m--> 377\u001b[1;33m                     \u001b[0mobj\u001b[0m \u001b[1;33m=\u001b[0m \u001b[0mobjs\u001b[0m\u001b[1;33m[\u001b[0m\u001b[0mi\u001b[0m\u001b[1;33m]\u001b[0m\u001b[1;33m\u001b[0m\u001b[0m\n\u001b[0m\u001b[0;32m    378\u001b[0m                 \u001b[1;32mexcept\u001b[0m \u001b[0mIndexError\u001b[0m\u001b[1;33m:\u001b[0m\u001b[1;33m\u001b[0m\u001b[0m\n",
      "\u001b[1;31mIndexError\u001b[0m: list index out of range",
      "\nDuring handling of the above exception, another exception occurred:\n",
      "\u001b[1;31mPDFSyntaxError\u001b[0m                            Traceback (most recent call last)",
      "\u001b[1;32m<ipython-input-28-cf8dc81d13fc>\u001b[0m in \u001b[0;36m<module>\u001b[1;34m()\u001b[0m\n\u001b[0;32m     15\u001b[0m \u001b[0minterpreter\u001b[0m \u001b[1;33m=\u001b[0m \u001b[0mPDFPageInterpreter\u001b[0m\u001b[1;33m(\u001b[0m\u001b[0mrsrcmgr\u001b[0m\u001b[1;33m,\u001b[0m \u001b[0mdevice\u001b[0m\u001b[1;33m)\u001b[0m\u001b[1;33m\u001b[0m\u001b[0m\n\u001b[0;32m     16\u001b[0m \u001b[1;31m# Process each page contained in the document.\u001b[0m\u001b[1;33m\u001b[0m\u001b[1;33m\u001b[0m\u001b[0m\n\u001b[1;32m---> 17\u001b[1;33m \u001b[1;32mfor\u001b[0m \u001b[0mpage\u001b[0m \u001b[1;32min\u001b[0m \u001b[0mdoc\u001b[0m\u001b[1;33m.\u001b[0m\u001b[0mget_pages\u001b[0m\u001b[1;33m(\u001b[0m\u001b[1;33m)\u001b[0m\u001b[1;33m:\u001b[0m\u001b[1;33m\u001b[0m\u001b[0m\n\u001b[0m\u001b[0;32m     18\u001b[0m     \u001b[0minterpreter\u001b[0m\u001b[1;33m.\u001b[0m\u001b[0mprocess_page\u001b[0m\u001b[1;33m(\u001b[0m\u001b[0mpage\u001b[0m\u001b[1;33m)\u001b[0m\u001b[1;33m\u001b[0m\u001b[0m\n\u001b[0;32m     19\u001b[0m     \u001b[0mlayout\u001b[0m \u001b[1;33m=\u001b[0m \u001b[0mdevice\u001b[0m\u001b[1;33m.\u001b[0m\u001b[0mget_result\u001b[0m\u001b[1;33m(\u001b[0m\u001b[1;33m)\u001b[0m\u001b[1;33m\u001b[0m\u001b[0m\n",
      "\u001b[1;32m~\\Anaconda3\\lib\\site-packages\\pdfminer\\pdfparser.py\u001b[0m in \u001b[0;36mget_pages\u001b[1;34m(self)\u001b[0m\n\u001b[0;32m    566\u001b[0m         \u001b[1;32mif\u001b[0m \u001b[1;34m'Pages'\u001b[0m \u001b[1;32mnot\u001b[0m \u001b[1;32min\u001b[0m \u001b[0mself\u001b[0m\u001b[1;33m.\u001b[0m\u001b[0mcatalog\u001b[0m\u001b[1;33m:\u001b[0m\u001b[1;33m\u001b[0m\u001b[0m\n\u001b[0;32m    567\u001b[0m             \u001b[1;32mreturn\u001b[0m\u001b[1;33m\u001b[0m\u001b[0m\n\u001b[1;32m--> 568\u001b[1;33m         \u001b[1;32mfor\u001b[0m \u001b[1;33m(\u001b[0m\u001b[0mpageid\u001b[0m\u001b[1;33m,\u001b[0m\u001b[0mtree\u001b[0m\u001b[1;33m)\u001b[0m \u001b[1;32min\u001b[0m \u001b[0msearch\u001b[0m\u001b[1;33m(\u001b[0m\u001b[0mself\u001b[0m\u001b[1;33m.\u001b[0m\u001b[0mcatalog\u001b[0m\u001b[1;33m[\u001b[0m\u001b[1;34m'Pages'\u001b[0m\u001b[1;33m]\u001b[0m\u001b[1;33m,\u001b[0m \u001b[0mself\u001b[0m\u001b[1;33m.\u001b[0m\u001b[0mcatalog\u001b[0m\u001b[1;33m)\u001b[0m\u001b[1;33m:\u001b[0m\u001b[1;33m\u001b[0m\u001b[0m\n\u001b[0m\u001b[0;32m    569\u001b[0m             \u001b[1;32myield\u001b[0m \u001b[0mPDFPage\u001b[0m\u001b[1;33m(\u001b[0m\u001b[0mself\u001b[0m\u001b[1;33m,\u001b[0m \u001b[0mpageid\u001b[0m\u001b[1;33m,\u001b[0m \u001b[0mtree\u001b[0m\u001b[1;33m)\u001b[0m\u001b[1;33m\u001b[0m\u001b[0m\n\u001b[0;32m    570\u001b[0m \u001b[1;33m\u001b[0m\u001b[0m\n",
      "\u001b[1;32m~\\Anaconda3\\lib\\site-packages\\pdfminer\\pdfparser.py\u001b[0m in \u001b[0;36msearch\u001b[1;34m(obj, parent)\u001b[0m\n\u001b[0;32m    550\u001b[0m                 \u001b[1;32melse\u001b[0m\u001b[1;33m:\u001b[0m\u001b[1;33m\u001b[0m\u001b[0m\n\u001b[0;32m    551\u001b[0m                     \u001b[0mobjid\u001b[0m \u001b[1;33m=\u001b[0m \u001b[0mobj\u001b[0m\u001b[1;33m.\u001b[0m\u001b[0mobjid\u001b[0m\u001b[1;33m\u001b[0m\u001b[0m\n\u001b[1;32m--> 552\u001b[1;33m                     \u001b[0mtree\u001b[0m \u001b[1;33m=\u001b[0m \u001b[0mdict_value\u001b[0m\u001b[1;33m(\u001b[0m\u001b[0mobj\u001b[0m\u001b[1;33m,\u001b[0m \u001b[0mstrict\u001b[0m\u001b[1;33m=\u001b[0m\u001b[1;32mTrue\u001b[0m\u001b[1;33m)\u001b[0m\u001b[1;33m.\u001b[0m\u001b[0mcopy\u001b[0m\u001b[1;33m(\u001b[0m\u001b[1;33m)\u001b[0m\u001b[1;33m\u001b[0m\u001b[0m\n\u001b[0m\u001b[0;32m    553\u001b[0m             \u001b[1;32mexcept\u001b[0m \u001b[0mPDFTypeError\u001b[0m\u001b[1;33m:\u001b[0m\u001b[1;33m\u001b[0m\u001b[0m\n\u001b[0;32m    554\u001b[0m                 \u001b[1;32mreturn\u001b[0m\u001b[1;33m\u001b[0m\u001b[0m\n",
      "\u001b[1;32m~\\Anaconda3\\lib\\site-packages\\pdfminer\\pdftypes.py\u001b[0m in \u001b[0;36mtypecheck_value\u001b[1;34m(x, type, strict)\u001b[0m\n\u001b[0;32m     90\u001b[0m \u001b[1;31m# Type cheking\u001b[0m\u001b[1;33m\u001b[0m\u001b[1;33m\u001b[0m\u001b[0m\n\u001b[0;32m     91\u001b[0m \u001b[1;32mdef\u001b[0m \u001b[0mtypecheck_value\u001b[0m\u001b[1;33m(\u001b[0m\u001b[0mx\u001b[0m\u001b[1;33m,\u001b[0m \u001b[0mtype\u001b[0m\u001b[1;33m,\u001b[0m \u001b[0mstrict\u001b[0m\u001b[1;33m=\u001b[0m\u001b[0mSTRICT\u001b[0m\u001b[1;33m)\u001b[0m\u001b[1;33m:\u001b[0m\u001b[1;33m\u001b[0m\u001b[0m\n\u001b[1;32m---> 92\u001b[1;33m     \u001b[0mx\u001b[0m \u001b[1;33m=\u001b[0m \u001b[0mresolve1\u001b[0m\u001b[1;33m(\u001b[0m\u001b[0mx\u001b[0m\u001b[1;33m)\u001b[0m\u001b[1;33m\u001b[0m\u001b[0m\n\u001b[0m\u001b[0;32m     93\u001b[0m     \u001b[1;32mif\u001b[0m \u001b[1;32mnot\u001b[0m \u001b[0misinstance\u001b[0m\u001b[1;33m(\u001b[0m\u001b[0mx\u001b[0m\u001b[1;33m,\u001b[0m \u001b[0mtype\u001b[0m\u001b[1;33m)\u001b[0m\u001b[1;33m:\u001b[0m\u001b[1;33m\u001b[0m\u001b[0m\n\u001b[0;32m     94\u001b[0m         \u001b[0mhandle_error\u001b[0m\u001b[1;33m(\u001b[0m\u001b[0mPDFTypeError\u001b[0m\u001b[1;33m,\u001b[0m \u001b[1;34m'Wrong type: %r required: %r'\u001b[0m \u001b[1;33m%\u001b[0m \u001b[1;33m(\u001b[0m\u001b[0mx\u001b[0m\u001b[1;33m,\u001b[0m \u001b[0mtype\u001b[0m\u001b[1;33m)\u001b[0m\u001b[1;33m,\u001b[0m \u001b[0mstrict\u001b[0m\u001b[1;33m=\u001b[0m\u001b[0mstrict\u001b[0m\u001b[1;33m)\u001b[0m\u001b[1;33m\u001b[0m\u001b[0m\n",
      "\u001b[1;32m~\\Anaconda3\\lib\\site-packages\\pdfminer\\pdftypes.py\u001b[0m in \u001b[0;36mresolve1\u001b[1;34m(x)\u001b[0m\n\u001b[0;32m     56\u001b[0m     \"\"\"\n\u001b[0;32m     57\u001b[0m     \u001b[1;32mwhile\u001b[0m \u001b[0misinstance\u001b[0m\u001b[1;33m(\u001b[0m\u001b[0mx\u001b[0m\u001b[1;33m,\u001b[0m \u001b[0mPDFObjRef\u001b[0m\u001b[1;33m)\u001b[0m\u001b[1;33m:\u001b[0m\u001b[1;33m\u001b[0m\u001b[0m\n\u001b[1;32m---> 58\u001b[1;33m         \u001b[0mx\u001b[0m \u001b[1;33m=\u001b[0m \u001b[0mx\u001b[0m\u001b[1;33m.\u001b[0m\u001b[0mresolve\u001b[0m\u001b[1;33m(\u001b[0m\u001b[1;33m)\u001b[0m\u001b[1;33m\u001b[0m\u001b[0m\n\u001b[0m\u001b[0;32m     59\u001b[0m     \u001b[1;32mreturn\u001b[0m \u001b[0mx\u001b[0m\u001b[1;33m\u001b[0m\u001b[0m\n\u001b[0;32m     60\u001b[0m \u001b[1;33m\u001b[0m\u001b[0m\n",
      "\u001b[1;32m~\\Anaconda3\\lib\\site-packages\\pdfminer\\pdftypes.py\u001b[0m in \u001b[0;36mresolve\u001b[1;34m(self)\u001b[0m\n\u001b[0;32m     45\u001b[0m \u001b[1;33m\u001b[0m\u001b[0m\n\u001b[0;32m     46\u001b[0m     \u001b[1;32mdef\u001b[0m \u001b[0mresolve\u001b[0m\u001b[1;33m(\u001b[0m\u001b[0mself\u001b[0m\u001b[1;33m)\u001b[0m\u001b[1;33m:\u001b[0m\u001b[1;33m\u001b[0m\u001b[0m\n\u001b[1;32m---> 47\u001b[1;33m         \u001b[1;32mreturn\u001b[0m \u001b[0mself\u001b[0m\u001b[1;33m.\u001b[0m\u001b[0mdoc\u001b[0m\u001b[1;33m.\u001b[0m\u001b[0mgetobj\u001b[0m\u001b[1;33m(\u001b[0m\u001b[0mself\u001b[0m\u001b[1;33m.\u001b[0m\u001b[0mobjid\u001b[0m\u001b[1;33m)\u001b[0m\u001b[1;33m\u001b[0m\u001b[0m\n\u001b[0m\u001b[0;32m     48\u001b[0m \u001b[1;33m\u001b[0m\u001b[0m\n\u001b[0;32m     49\u001b[0m \u001b[1;33m\u001b[0m\u001b[0m\n",
      "\u001b[1;32m~\\Anaconda3\\lib\\site-packages\\pdfminer\\pdfparser.py\u001b[0m in \u001b[0;36mgetobj\u001b[1;34m(self, objid)\u001b[0m\n\u001b[0;32m    530\u001b[0m \u001b[1;33m\u001b[0m\u001b[0m\n\u001b[0;32m    531\u001b[0m     \u001b[1;32mdef\u001b[0m \u001b[0mgetobj\u001b[0m\u001b[1;33m(\u001b[0m\u001b[0mself\u001b[0m\u001b[1;33m,\u001b[0m \u001b[0mobjid\u001b[0m\u001b[1;33m)\u001b[0m\u001b[1;33m:\u001b[0m\u001b[1;33m\u001b[0m\u001b[0m\n\u001b[1;32m--> 532\u001b[1;33m         \u001b[0mresult\u001b[0m \u001b[1;33m=\u001b[0m \u001b[0mself\u001b[0m\u001b[1;33m.\u001b[0m\u001b[0m_getobj\u001b[0m\u001b[1;33m(\u001b[0m\u001b[0mobjid\u001b[0m\u001b[1;33m)\u001b[0m\u001b[1;33m\u001b[0m\u001b[0m\n\u001b[0m\u001b[0;32m    533\u001b[0m         \u001b[1;32mif\u001b[0m \u001b[0mresult\u001b[0m \u001b[1;32mis\u001b[0m \u001b[1;32mNone\u001b[0m\u001b[1;33m:\u001b[0m\u001b[1;33m\u001b[0m\u001b[0m\n\u001b[0;32m    534\u001b[0m             \u001b[1;32mtry\u001b[0m\u001b[1;33m:\u001b[0m\u001b[1;33m\u001b[0m\u001b[0m\n",
      "\u001b[1;32m~\\Anaconda3\\lib\\site-packages\\pdfminer\\pdfparser.py\u001b[0m in \u001b[0;36m_getobj\u001b[1;34m(self, objid)\u001b[0m\n\u001b[0;32m    377\u001b[0m                     \u001b[0mobj\u001b[0m \u001b[1;33m=\u001b[0m \u001b[0mobjs\u001b[0m\u001b[1;33m[\u001b[0m\u001b[0mi\u001b[0m\u001b[1;33m]\u001b[0m\u001b[1;33m\u001b[0m\u001b[0m\n\u001b[0;32m    378\u001b[0m                 \u001b[1;32mexcept\u001b[0m \u001b[0mIndexError\u001b[0m\u001b[1;33m:\u001b[0m\u001b[1;33m\u001b[0m\u001b[0m\n\u001b[1;32m--> 379\u001b[1;33m                     \u001b[1;32mraise\u001b[0m \u001b[0mPDFSyntaxError\u001b[0m\u001b[1;33m(\u001b[0m\u001b[1;34m'Invalid object number: objid=%r'\u001b[0m \u001b[1;33m%\u001b[0m \u001b[1;33m(\u001b[0m\u001b[0mobjid\u001b[0m\u001b[1;33m)\u001b[0m\u001b[1;33m)\u001b[0m\u001b[1;33m\u001b[0m\u001b[0m\n\u001b[0m\u001b[0;32m    380\u001b[0m                 \u001b[1;32mif\u001b[0m \u001b[0misinstance\u001b[0m\u001b[1;33m(\u001b[0m\u001b[0mobj\u001b[0m\u001b[1;33m,\u001b[0m \u001b[0mPDFStream\u001b[0m\u001b[1;33m)\u001b[0m\u001b[1;33m:\u001b[0m\u001b[1;33m\u001b[0m\u001b[0m\n\u001b[0;32m    381\u001b[0m                     \u001b[0mobj\u001b[0m\u001b[1;33m.\u001b[0m\u001b[0mset_objid\u001b[0m\u001b[1;33m(\u001b[0m\u001b[0mobjid\u001b[0m\u001b[1;33m,\u001b[0m \u001b[1;36m0\u001b[0m\u001b[1;33m)\u001b[0m\u001b[1;33m\u001b[0m\u001b[0m\n",
      "\u001b[1;31mPDFSyntaxError\u001b[0m: Invalid object number: objid=2"
     ]
    }
   ],
   "source": [
    "from pdfminer.pdfparser import PDFParser, PDFDocument\n",
    "from pdfminer.pdfinterp import PDFResourceManager, PDFPageInterpreter\n",
    "from pdfminer.converter import PDFPageAggregator\n",
    "from pdfminer.layout import LAParams, LTTextBox, LTTextLine\n",
    "\n",
    "fp = open('NSQF-Light Motor Vehicle Driver.pdf', 'rb')\n",
    "parser = PDFParser(fp)\n",
    "doc = PDFDocument()\n",
    "parser.set_document(doc)\n",
    "doc.set_parser(parser)\n",
    "doc.initialize('')\n",
    "rsrcmgr = PDFResourceManager()\n",
    "laparams = LAParams()\n",
    "device = PDFPageAggregator(rsrcmgr, laparams=laparams)\n",
    "interpreter = PDFPageInterpreter(rsrcmgr, device)\n",
    "# Process each page contained in the document.\n",
    "for page in doc.get_pages():\n",
    "    interpreter.process_page(page)\n",
    "    layout = device.get_result()\n",
    "    for lt_obj in layout:\n",
    "        if isinstance(lt_obj, LTTextBox) or isinstance(lt_obj, LTTextLine):\n",
    "            print(lt_obj.get_text())\n",
    "\n",
    "fp.close()"
   ]
  },
  {
   "cell_type": "code",
   "execution_count": 47,
   "metadata": {},
   "outputs": [
    {
     "ename": "ModuleNotFoundError",
     "evalue": "No module named 'pdftotext'",
     "output_type": "error",
     "traceback": [
      "\u001b[1;31m---------------------------------------------------------------------------\u001b[0m",
      "\u001b[1;31mModuleNotFoundError\u001b[0m                       Traceback (most recent call last)",
      "\u001b[1;32m<ipython-input-47-b47658e7d4bc>\u001b[0m in \u001b[0;36m<module>\u001b[1;34m()\u001b[0m\n\u001b[1;32m----> 1\u001b[1;33m \u001b[1;32mimport\u001b[0m \u001b[0mpdftotext\u001b[0m\u001b[1;33m\u001b[0m\u001b[0m\n\u001b[0m",
      "\u001b[1;31mModuleNotFoundError\u001b[0m: No module named 'pdftotext'"
     ]
    }
   ],
   "source": [
    "import pdftotext"
   ]
  },
  {
   "cell_type": "code",
   "execution_count": 48,
   "metadata": {},
   "outputs": [
    {
     "ename": "ModuleNotFoundError",
     "evalue": "No module named 'pdfminer.pdfdocument'",
     "output_type": "error",
     "traceback": [
      "\u001b[1;31m---------------------------------------------------------------------------\u001b[0m",
      "\u001b[1;31mModuleNotFoundError\u001b[0m                       Traceback (most recent call last)",
      "\u001b[1;32m<ipython-input-48-b9c1f192ac34>\u001b[0m in \u001b[0;36m<module>\u001b[1;34m()\u001b[0m\n\u001b[0;32m      1\u001b[0m \u001b[1;32mfrom\u001b[0m \u001b[0mpdfminer\u001b[0m\u001b[1;33m.\u001b[0m\u001b[0mpdfparser\u001b[0m \u001b[1;32mimport\u001b[0m \u001b[0mPDFParser\u001b[0m\u001b[1;33m\u001b[0m\u001b[0m\n\u001b[1;32m----> 2\u001b[1;33m \u001b[1;32mfrom\u001b[0m \u001b[0mpdfminer\u001b[0m\u001b[1;33m.\u001b[0m\u001b[0mpdfdocument\u001b[0m \u001b[1;32mimport\u001b[0m \u001b[0mPDFDocument\u001b[0m\u001b[1;33m\u001b[0m\u001b[0m\n\u001b[0m\u001b[0;32m      3\u001b[0m \u001b[1;32mfrom\u001b[0m \u001b[0mpdfminer\u001b[0m\u001b[1;33m.\u001b[0m\u001b[0mpdfpage\u001b[0m \u001b[1;32mimport\u001b[0m \u001b[0mPDFPage\u001b[0m\u001b[1;33m\u001b[0m\u001b[0m\n\u001b[0;32m      4\u001b[0m \u001b[1;32mfrom\u001b[0m \u001b[0mpdfminer\u001b[0m\u001b[1;33m.\u001b[0m\u001b[0mpdfpage\u001b[0m \u001b[1;32mimport\u001b[0m \u001b[0mPDFTextExtractionNotAllowed\u001b[0m\u001b[1;33m\u001b[0m\u001b[0m\n\u001b[0;32m      5\u001b[0m \u001b[1;32mfrom\u001b[0m \u001b[0mpdfminer\u001b[0m\u001b[1;33m.\u001b[0m\u001b[0mpdfinterp\u001b[0m \u001b[1;32mimport\u001b[0m \u001b[0mPDFResourceManager\u001b[0m\u001b[1;33m\u001b[0m\u001b[0m\n",
      "\u001b[1;31mModuleNotFoundError\u001b[0m: No module named 'pdfminer.pdfdocument'"
     ]
    }
   ],
   "source": [
    "from pdfminer.pdfparser import PDFParser\n",
    "from pdfminer.pdfdocument import PDFDocument\n",
    "from pdfminer.pdfpage import PDFPage\n",
    "from pdfminer.pdfpage import PDFTextExtractionNotAllowed\n",
    "from pdfminer.pdfinterp import PDFResourceManager\n",
    "from pdfminer.pdfinterp import PDFPageInterpreter\n",
    "from pdfminer.pdfdevice import PDFDevice\n"
   ]
  },
  {
   "cell_type": "code",
   "execution_count": 49,
   "metadata": {},
   "outputs": [
    {
     "ename": "ImportError",
     "evalue": "cannot import name 'PDFObjectNotFound'",
     "output_type": "error",
     "traceback": [
      "\u001b[1;31m---------------------------------------------------------------------------\u001b[0m",
      "\u001b[1;31mImportError\u001b[0m                               Traceback (most recent call last)",
      "\u001b[1;32m<ipython-input-49-31ae4c2f2f9a>\u001b[0m in \u001b[0;36m<module>\u001b[1;34m()\u001b[0m\n\u001b[0;32m      2\u001b[0m \u001b[1;32mfrom\u001b[0m \u001b[0mpdfminer\u001b[0m\u001b[1;33m.\u001b[0m\u001b[0mconverter\u001b[0m \u001b[1;32mimport\u001b[0m \u001b[0mHTMLConverter\u001b[0m\u001b[1;33m,\u001b[0m\u001b[0mTextConverter\u001b[0m\u001b[1;33m,\u001b[0m\u001b[0mXMLConverter\u001b[0m\u001b[1;33m\u001b[0m\u001b[0m\n\u001b[0;32m      3\u001b[0m \u001b[1;32mfrom\u001b[0m \u001b[0mpdfminer\u001b[0m\u001b[1;33m.\u001b[0m\u001b[0mlayout\u001b[0m \u001b[1;32mimport\u001b[0m \u001b[0mLAParams\u001b[0m\u001b[1;33m\u001b[0m\u001b[0m\n\u001b[1;32m----> 4\u001b[1;33m \u001b[1;32mfrom\u001b[0m \u001b[0mpdfminer\u001b[0m\u001b[1;33m.\u001b[0m\u001b[0mpdfpage\u001b[0m \u001b[1;32mimport\u001b[0m \u001b[0mPDFPage\u001b[0m\u001b[1;33m\u001b[0m\u001b[0m\n\u001b[0m\u001b[0;32m      5\u001b[0m \u001b[1;32mimport\u001b[0m \u001b[0mio\u001b[0m\u001b[1;33m\u001b[0m\u001b[0m\n\u001b[0;32m      6\u001b[0m \u001b[1;33m\u001b[0m\u001b[0m\n",
      "\u001b[1;32m~\\Anaconda3\\lib\\site-packages\\pdfminer\\pdfpage.py\u001b[0m in \u001b[0;36m<module>\u001b[1;34m()\u001b[0m\n\u001b[0;32m      3\u001b[0m \u001b[1;32mfrom\u001b[0m \u001b[1;33m.\u001b[0m \u001b[1;32mimport\u001b[0m \u001b[0msettings\u001b[0m\u001b[1;33m\u001b[0m\u001b[0m\n\u001b[0;32m      4\u001b[0m \u001b[1;32mfrom\u001b[0m \u001b[1;33m.\u001b[0m\u001b[0mpsparser\u001b[0m \u001b[1;32mimport\u001b[0m \u001b[0mLIT\u001b[0m\u001b[1;33m\u001b[0m\u001b[0m\n\u001b[1;32m----> 5\u001b[1;33m \u001b[1;32mfrom\u001b[0m \u001b[1;33m.\u001b[0m\u001b[0mpdftypes\u001b[0m \u001b[1;32mimport\u001b[0m \u001b[0mPDFObjectNotFound\u001b[0m\u001b[1;33m\u001b[0m\u001b[0m\n\u001b[0m\u001b[0;32m      6\u001b[0m \u001b[1;32mfrom\u001b[0m \u001b[1;33m.\u001b[0m\u001b[0mpdftypes\u001b[0m \u001b[1;32mimport\u001b[0m \u001b[0mresolve1\u001b[0m\u001b[1;33m\u001b[0m\u001b[0m\n\u001b[0;32m      7\u001b[0m \u001b[1;32mfrom\u001b[0m \u001b[1;33m.\u001b[0m\u001b[0mpdftypes\u001b[0m \u001b[1;32mimport\u001b[0m \u001b[0mint_value\u001b[0m\u001b[1;33m\u001b[0m\u001b[0m\n",
      "\u001b[1;31mImportError\u001b[0m: cannot import name 'PDFObjectNotFound'"
     ]
    }
   ],
   "source": [
    "from pdfminer.pdfinterp import PDFResourceManager, PDFPageInterpreter\n",
    "from pdfminer.converter import HTMLConverter,TextConverter,XMLConverter\n",
    "from pdfminer.layout import LAParams\n",
    "from pdfminer.pdfpage import PDFPage\n",
    "import io\n",
    "\n",
    "def convert(case,fname, pages=None):\n",
    "    if not pages: pagenums = set();\n",
    "    else:         pagenums = set(pages);      \n",
    "    manager = PDFResourceManager() \n",
    "    codec = 'utf-8'\n",
    "    caching = True\n",
    "\n",
    "    if case == 'text' :\n",
    "        output = io.StringIO()\n",
    "        converter = TextConverter(manager, output, codec=codec, laparams=LAParams())     \n",
    "    if case == 'HTML' :\n",
    "        output = io.BytesIO()\n",
    "        converter = HTMLConverter(manager, output, codec=codec, laparams=LAParams())\n",
    "\n",
    "    interpreter = PDFPageInterpreter(manager, converter)   \n",
    "    infile = open(fname, 'rb')\n",
    "\n",
    "    for page in PDFPage.get_pages(infile, pagenums,caching=caching, check_extractable=True):\n",
    "        interpreter.process_page(page)\n",
    "\n",
    "    convertedPDF = output.getvalue()  \n",
    "\n",
    "    infile.close(); converter.close(); output.close()\n",
    "    return convertedPDF\n",
    "\n"
   ]
  },
  {
   "cell_type": "code",
   "execution_count": 51,
   "metadata": {},
   "outputs": [],
   "source": [
    "import textwrap"
   ]
  },
  {
   "cell_type": "code",
   "execution_count": 53,
   "metadata": {},
   "outputs": [
    {
     "name": "stdout",
     "output_type": "stream",
     "text": [
      "Help on module textwrap:\n",
      "\n",
      "NAME\n",
      "    textwrap - Text wrapping and filling.\n",
      "\n",
      "CLASSES\n",
      "    builtins.object\n",
      "        TextWrapper\n",
      "    \n",
      "    class TextWrapper(builtins.object)\n",
      "     |  Object for wrapping/filling text.  The public interface consists of\n",
      "     |  the wrap() and fill() methods; the other methods are just there for\n",
      "     |  subclasses to override in order to tweak the default behaviour.\n",
      "     |  If you want to completely replace the main wrapping algorithm,\n",
      "     |  you'll probably have to override _wrap_chunks().\n",
      "     |  \n",
      "     |  Several instance attributes control various aspects of wrapping:\n",
      "     |    width (default: 70)\n",
      "     |      the maximum width of wrapped lines (unless break_long_words\n",
      "     |      is false)\n",
      "     |    initial_indent (default: \"\")\n",
      "     |      string that will be prepended to the first line of wrapped\n",
      "     |      output.  Counts towards the line's width.\n",
      "     |    subsequent_indent (default: \"\")\n",
      "     |      string that will be prepended to all lines save the first\n",
      "     |      of wrapped output; also counts towards each line's width.\n",
      "     |    expand_tabs (default: true)\n",
      "     |      Expand tabs in input text to spaces before further processing.\n",
      "     |      Each tab will become 0 .. 'tabsize' spaces, depending on its position\n",
      "     |      in its line.  If false, each tab is treated as a single character.\n",
      "     |    tabsize (default: 8)\n",
      "     |      Expand tabs in input text to 0 .. 'tabsize' spaces, unless\n",
      "     |      'expand_tabs' is false.\n",
      "     |    replace_whitespace (default: true)\n",
      "     |      Replace all whitespace characters in the input text by spaces\n",
      "     |      after tab expansion.  Note that if expand_tabs is false and\n",
      "     |      replace_whitespace is true, every tab will be converted to a\n",
      "     |      single space!\n",
      "     |    fix_sentence_endings (default: false)\n",
      "     |      Ensure that sentence-ending punctuation is always followed\n",
      "     |      by two spaces.  Off by default because the algorithm is\n",
      "     |      (unavoidably) imperfect.\n",
      "     |    break_long_words (default: true)\n",
      "     |      Break words longer than 'width'.  If false, those words will not\n",
      "     |      be broken, and some lines might be longer than 'width'.\n",
      "     |    break_on_hyphens (default: true)\n",
      "     |      Allow breaking hyphenated words. If true, wrapping will occur\n",
      "     |      preferably on whitespaces and right after hyphens part of\n",
      "     |      compound words.\n",
      "     |    drop_whitespace (default: true)\n",
      "     |      Drop leading and trailing whitespace from lines.\n",
      "     |    max_lines (default: None)\n",
      "     |      Truncate wrapped lines.\n",
      "     |    placeholder (default: ' [...]')\n",
      "     |      Append to the last line of truncated text.\n",
      "     |  \n",
      "     |  Methods defined here:\n",
      "     |  \n",
      "     |  __init__(self, width=70, initial_indent='', subsequent_indent='', expand_tabs=True, replace_whitespace=True, fix_sentence_endings=False, break_long_words=True, drop_whitespace=True, break_on_hyphens=True, tabsize=8, *, max_lines=None, placeholder=' [...]')\n",
      "     |      Initialize self.  See help(type(self)) for accurate signature.\n",
      "     |  \n",
      "     |  fill(self, text)\n",
      "     |      fill(text : string) -> string\n",
      "     |      \n",
      "     |      Reformat the single paragraph in 'text' to fit in lines of no\n",
      "     |      more than 'self.width' columns, and return a new string\n",
      "     |      containing the entire wrapped paragraph.\n",
      "     |  \n",
      "     |  wrap(self, text)\n",
      "     |      wrap(text : string) -> [string]\n",
      "     |      \n",
      "     |      Reformat the single paragraph in 'text' so it fits in lines of\n",
      "     |      no more than 'self.width' columns, and return a list of wrapped\n",
      "     |      lines.  Tabs in 'text' are expanded with string.expandtabs(),\n",
      "     |      and all other whitespace characters (including newline) are\n",
      "     |      converted to space.\n",
      "     |  \n",
      "     |  ----------------------------------------------------------------------\n",
      "     |  Data descriptors defined here:\n",
      "     |  \n",
      "     |  __dict__\n",
      "     |      dictionary for instance variables (if defined)\n",
      "     |  \n",
      "     |  __weakref__\n",
      "     |      list of weak references to the object (if defined)\n",
      "     |  \n",
      "     |  ----------------------------------------------------------------------\n",
      "     |  Data and other attributes defined here:\n",
      "     |  \n",
      "     |  sentence_end_re = re.compile('[a-z][\\\\.\\\\!\\\\?][\\\\\"\\\\\\']?\\\\Z')\n",
      "     |  \n",
      "     |  unicode_whitespace_trans = {9: 32, 10: 32, 11: 32, 12: 32, 13: 32, 32:...\n",
      "     |  \n",
      "     |  uspace = 32\n",
      "     |  \n",
      "     |  wordsep_re = re.compile('\\n        ( # any whitespace\\n      ...# word...\n",
      "     |  \n",
      "     |  wordsep_simple_re = re.compile('([\\\\\\t\\\\\\n\\\\\\x0b\\\\\\x0c\\\\\\r\\\\ ]+)')\n",
      "     |  \n",
      "     |  x = ' '\n",
      "\n",
      "FUNCTIONS\n",
      "    dedent(text)\n",
      "        Remove any common leading whitespace from every line in `text`.\n",
      "        \n",
      "        This can be used to make triple-quoted strings line up with the left\n",
      "        edge of the display, while still presenting them in the source code\n",
      "        in indented form.\n",
      "        \n",
      "        Note that tabs and spaces are both treated as whitespace, but they\n",
      "        are not equal: the lines \"  hello\" and \"\\thello\" are\n",
      "        considered to have no common leading whitespace.  (This behaviour is\n",
      "        new in Python 2.5; older versions of this module incorrectly\n",
      "        expanded tabs before searching for common leading whitespace.)\n",
      "    \n",
      "    fill(text, width=70, **kwargs)\n",
      "        Fill a single paragraph of text, returning a new string.\n",
      "        \n",
      "        Reformat the single paragraph in 'text' to fit in lines of no more\n",
      "        than 'width' columns, and return a new string containing the entire\n",
      "        wrapped paragraph.  As with wrap(), tabs are expanded and other\n",
      "        whitespace characters converted to space.  See TextWrapper class for\n",
      "        available keyword args to customize wrapping behaviour.\n",
      "    \n",
      "    indent(text, prefix, predicate=None)\n",
      "        Adds 'prefix' to the beginning of selected lines in 'text'.\n",
      "        \n",
      "        If 'predicate' is provided, 'prefix' will only be added to the lines\n",
      "        where 'predicate(line)' is True. If 'predicate' is not provided,\n",
      "        it will default to adding 'prefix' to all non-empty lines that do not\n",
      "        consist solely of whitespace characters.\n",
      "    \n",
      "    shorten(text, width, **kwargs)\n",
      "        Collapse and truncate the given text to fit in the given width.\n",
      "        \n",
      "        The text first has its whitespace collapsed.  If it then fits in\n",
      "        the *width*, it is returned as is.  Otherwise, as many words\n",
      "        as possible are joined and then the placeholder is appended::\n",
      "        \n",
      "            >>> textwrap.shorten(\"Hello  world!\", width=12)\n",
      "            'Hello world!'\n",
      "            >>> textwrap.shorten(\"Hello  world!\", width=11)\n",
      "            'Hello [...]'\n",
      "    \n",
      "    wrap(text, width=70, **kwargs)\n",
      "        Wrap a single paragraph of text, returning a list of wrapped lines.\n",
      "        \n",
      "        Reformat the single paragraph in 'text' so it fits in lines of no\n",
      "        more than 'width' columns, and return a list of wrapped lines.  By\n",
      "        default, tabs in 'text' are expanded with string.expandtabs(), and\n",
      "        all other whitespace characters (including newline) are converted to\n",
      "        space.  See TextWrapper class for available keyword args to customize\n",
      "        wrapping behaviour.\n",
      "\n",
      "DATA\n",
      "    __all__ = ['TextWrapper', 'wrap', 'fill', 'dedent', 'indent', 'shorten...\n",
      "\n",
      "FILE\n",
      "    c:\\users\\lenovo\\anaconda3\\lib\\textwrap.py\n",
      "\n",
      "\n"
     ]
    }
   ],
   "source": [
    "help(textwrap)"
   ]
  },
  {
   "cell_type": "code",
   "execution_count": 54,
   "metadata": {},
   "outputs": [
    {
     "name": "stderr",
     "output_type": "stream",
     "text": [
      "PdfReadWarning: Superfluous whitespace found in object header b'1' b'0' [pdf.py:1666]\n",
      "PdfReadWarning: Superfluous whitespace found in object header b'2' b'0' [pdf.py:1666]\n",
      "PdfReadWarning: Superfluous whitespace found in object header b'3' b'0' [pdf.py:1666]\n",
      "PdfReadWarning: Superfluous whitespace found in object header b'23' b'0' [pdf.py:1666]\n",
      "PdfReadWarning: Superfluous whitespace found in object header b'34' b'0' [pdf.py:1666]\n",
      "PdfReadWarning: Superfluous whitespace found in object header b'37' b'0' [pdf.py:1666]\n",
      "PdfReadWarning: Superfluous whitespace found in object header b'41' b'0' [pdf.py:1666]\n",
      "PdfReadWarning: Superfluous whitespace found in object header b'44' b'0' [pdf.py:1666]\n",
      "PdfReadWarning: Superfluous whitespace found in object header b'55' b'0' [pdf.py:1666]\n",
      "PdfReadWarning: Superfluous whitespace found in object header b'58' b'0' [pdf.py:1666]\n",
      "PdfReadWarning: Superfluous whitespace found in object header b'61' b'0' [pdf.py:1666]\n",
      "PdfReadWarning: Superfluous whitespace found in object header b'64' b'0' [pdf.py:1666]\n",
      "PdfReadWarning: Superfluous whitespace found in object header b'67' b'0' [pdf.py:1666]\n",
      "PdfReadWarning: Superfluous whitespace found in object header b'70' b'0' [pdf.py:1666]\n",
      "PdfReadWarning: Superfluous whitespace found in object header b'86' b'0' [pdf.py:1666]\n",
      "PdfReadWarning: Superfluous whitespace found in object header b'94' b'0' [pdf.py:1666]\n",
      "PdfReadWarning: Superfluous whitespace found in object header b'102' b'0' [pdf.py:1666]\n",
      "PdfReadWarning: Superfluous whitespace found in object header b'105' b'0' [pdf.py:1666]\n",
      "PdfReadWarning: Superfluous whitespace found in object header b'124' b'0' [pdf.py:1666]\n",
      "PdfReadWarning: Superfluous whitespace found in object header b'127' b'0' [pdf.py:1666]\n",
      "PdfReadWarning: Superfluous whitespace found in object header b'130' b'0' [pdf.py:1666]\n",
      "PdfReadWarning: Superfluous whitespace found in object header b'133' b'0' [pdf.py:1666]\n",
      "PdfReadWarning: Superfluous whitespace found in object header b'136' b'0' [pdf.py:1666]\n",
      "PdfReadWarning: Superfluous whitespace found in object header b'21' b'0' [pdf.py:1666]\n",
      "PdfReadWarning: Superfluous whitespace found in object header b'32' b'0' [pdf.py:1666]\n",
      "PdfReadWarning: Superfluous whitespace found in object header b'35' b'0' [pdf.py:1666]\n",
      "PdfReadWarning: Superfluous whitespace found in object header b'38' b'0' [pdf.py:1666]\n",
      "PdfReadWarning: Superfluous whitespace found in object header b'39' b'0' [pdf.py:1666]\n",
      "PdfReadWarning: Superfluous whitespace found in object header b'42' b'0' [pdf.py:1666]\n",
      "PdfReadWarning: Superfluous whitespace found in object header b'53' b'0' [pdf.py:1666]\n",
      "PdfReadWarning: Superfluous whitespace found in object header b'56' b'0' [pdf.py:1666]\n",
      "PdfReadWarning: Superfluous whitespace found in object header b'59' b'0' [pdf.py:1666]\n",
      "PdfReadWarning: Superfluous whitespace found in object header b'62' b'0' [pdf.py:1666]\n",
      "PdfReadWarning: Superfluous whitespace found in object header b'65' b'0' [pdf.py:1666]\n",
      "PdfReadWarning: Superfluous whitespace found in object header b'68' b'0' [pdf.py:1666]\n",
      "PdfReadWarning: Superfluous whitespace found in object header b'84' b'0' [pdf.py:1666]\n",
      "PdfReadWarning: Superfluous whitespace found in object header b'92' b'0' [pdf.py:1666]\n",
      "PdfReadWarning: Superfluous whitespace found in object header b'100' b'0' [pdf.py:1666]\n",
      "PdfReadWarning: Superfluous whitespace found in object header b'103' b'0' [pdf.py:1666]\n",
      "PdfReadWarning: Superfluous whitespace found in object header b'122' b'0' [pdf.py:1666]\n",
      "PdfReadWarning: Superfluous whitespace found in object header b'125' b'0' [pdf.py:1666]\n",
      "PdfReadWarning: Superfluous whitespace found in object header b'128' b'0' [pdf.py:1666]\n",
      "PdfReadWarning: Superfluous whitespace found in object header b'131' b'0' [pdf.py:1666]\n",
      "PdfReadWarning: Superfluous whitespace found in object header b'134' b'0' [pdf.py:1666]\n",
      "PdfReadWarning: Superfluous whitespace found in object header b'137' b'0' [pdf.py:1666]\n"
     ]
    }
   ],
   "source": [
    "text=getTextFromPDFALLPages(\"QF_Assistant Plumber.pdf\")"
   ]
  },
  {
   "cell_type": "code",
   "execution_count": 56,
   "metadata": {},
   "outputs": [
    {
     "name": "stderr",
     "output_type": "stream",
     "text": [
      "PdfReadWarning: Superfluous whitespace found in object header b'1' b'0' [pdf.py:1666]\n",
      "PdfReadWarning: Superfluous whitespace found in object header b'2' b'0' [pdf.py:1666]\n",
      "PdfReadWarning: Superfluous whitespace found in object header b'3' b'0' [pdf.py:1666]\n",
      "PdfReadWarning: Superfluous whitespace found in object header b'23' b'0' [pdf.py:1666]\n",
      "PdfReadWarning: Superfluous whitespace found in object header b'34' b'0' [pdf.py:1666]\n",
      "PdfReadWarning: Superfluous whitespace found in object header b'47' b'0' [pdf.py:1666]\n",
      "PdfReadWarning: Superfluous whitespace found in object header b'52' b'0' [pdf.py:1666]\n",
      "PdfReadWarning: Superfluous whitespace found in object header b'63' b'0' [pdf.py:1666]\n",
      "PdfReadWarning: Superfluous whitespace found in object header b'66' b'0' [pdf.py:1666]\n",
      "PdfReadWarning: Superfluous whitespace found in object header b'69' b'0' [pdf.py:1666]\n",
      "PdfReadWarning: Superfluous whitespace found in object header b'72' b'0' [pdf.py:1666]\n",
      "PdfReadWarning: Superfluous whitespace found in object header b'75' b'0' [pdf.py:1666]\n",
      "PdfReadWarning: Superfluous whitespace found in object header b'78' b'0' [pdf.py:1666]\n",
      "PdfReadWarning: Superfluous whitespace found in object header b'94' b'0' [pdf.py:1666]\n",
      "PdfReadWarning: Superfluous whitespace found in object header b'102' b'0' [pdf.py:1666]\n",
      "PdfReadWarning: Superfluous whitespace found in object header b'110' b'0' [pdf.py:1666]\n",
      "PdfReadWarning: Superfluous whitespace found in object header b'113' b'0' [pdf.py:1666]\n",
      "PdfReadWarning: Superfluous whitespace found in object header b'116' b'0' [pdf.py:1666]\n",
      "PdfReadWarning: Superfluous whitespace found in object header b'136' b'0' [pdf.py:1666]\n",
      "PdfReadWarning: Superfluous whitespace found in object header b'139' b'0' [pdf.py:1666]\n",
      "PdfReadWarning: Superfluous whitespace found in object header b'142' b'0' [pdf.py:1666]\n",
      "PdfReadWarning: Superfluous whitespace found in object header b'145' b'0' [pdf.py:1666]\n",
      "PdfReadWarning: Superfluous whitespace found in object header b'148' b'0' [pdf.py:1666]\n",
      "PdfReadWarning: Superfluous whitespace found in object header b'21' b'0' [pdf.py:1666]\n",
      "PdfReadWarning: Superfluous whitespace found in object header b'32' b'0' [pdf.py:1666]\n",
      "PdfReadWarning: Superfluous whitespace found in object header b'45' b'0' [pdf.py:1666]\n",
      "PdfReadWarning: Superfluous whitespace found in object header b'48' b'0' [pdf.py:1666]\n",
      "PdfReadWarning: Superfluous whitespace found in object header b'49' b'0' [pdf.py:1666]\n",
      "PdfReadWarning: Superfluous whitespace found in object header b'50' b'0' [pdf.py:1666]\n",
      "PdfReadWarning: Superfluous whitespace found in object header b'61' b'0' [pdf.py:1666]\n",
      "PdfReadWarning: Superfluous whitespace found in object header b'64' b'0' [pdf.py:1666]\n",
      "PdfReadWarning: Superfluous whitespace found in object header b'67' b'0' [pdf.py:1666]\n",
      "PdfReadWarning: Superfluous whitespace found in object header b'70' b'0' [pdf.py:1666]\n",
      "PdfReadWarning: Superfluous whitespace found in object header b'73' b'0' [pdf.py:1666]\n",
      "PdfReadWarning: Superfluous whitespace found in object header b'76' b'0' [pdf.py:1666]\n",
      "PdfReadWarning: Superfluous whitespace found in object header b'92' b'0' [pdf.py:1666]\n",
      "PdfReadWarning: Superfluous whitespace found in object header b'100' b'0' [pdf.py:1666]\n",
      "PdfReadWarning: Superfluous whitespace found in object header b'108' b'0' [pdf.py:1666]\n",
      "PdfReadWarning: Superfluous whitespace found in object header b'111' b'0' [pdf.py:1666]\n",
      "PdfReadWarning: Superfluous whitespace found in object header b'114' b'0' [pdf.py:1666]\n",
      "PdfReadWarning: Superfluous whitespace found in object header b'133' b'0' [pdf.py:1666]\n",
      "PdfReadWarning: Superfluous whitespace found in object header b'134' b'0' [pdf.py:1666]\n",
      "PdfReadWarning: Superfluous whitespace found in object header b'137' b'0' [pdf.py:1666]\n",
      "PdfReadWarning: Superfluous whitespace found in object header b'140' b'0' [pdf.py:1666]\n",
      "PdfReadWarning: Superfluous whitespace found in object header b'143' b'0' [pdf.py:1666]\n",
      "PdfReadWarning: Superfluous whitespace found in object header b'146' b'0' [pdf.py:1666]\n",
      "PdfReadWarning: Superfluous whitespace found in object header b'149' b'0' [pdf.py:1666]\n"
     ]
    }
   ],
   "source": [
    "text=getTextFromPDFALLPages(\"QF_Plumber.pdf\")"
   ]
  },
  {
   "cell_type": "code",
   "execution_count": 60,
   "metadata": {},
   "outputs": [
    {
     "ename": "NameError",
     "evalue": "name 'QF_Plumber' is not defined",
     "output_type": "error",
     "traceback": [
      "\u001b[1;31m---------------------------------------------------------------------------\u001b[0m",
      "\u001b[1;31mNameError\u001b[0m                                 Traceback (most recent call last)",
      "\u001b[1;32m<ipython-input-60-7e755e95d0de>\u001b[0m in \u001b[0;36m<module>\u001b[1;34m()\u001b[0m\n\u001b[0;32m      4\u001b[0m \u001b[1;32mfrom\u001b[0m \u001b[0mpdfminer\u001b[0m\u001b[1;33m.\u001b[0m\u001b[0mlayout\u001b[0m \u001b[1;32mimport\u001b[0m \u001b[0mLAParams\u001b[0m\u001b[1;33m,\u001b[0m \u001b[0mLTTextBox\u001b[0m\u001b[1;33m,\u001b[0m \u001b[0mLTTextLine\u001b[0m\u001b[1;33m\u001b[0m\u001b[0m\n\u001b[0;32m      5\u001b[0m \u001b[1;33m\u001b[0m\u001b[0m\n\u001b[1;32m----> 6\u001b[1;33m \u001b[0mparser\u001b[0m \u001b[1;33m=\u001b[0m \u001b[0mPDFParser\u001b[0m\u001b[1;33m(\u001b[0m\u001b[0mQF_Plumber\u001b[0m\u001b[1;33m.\u001b[0m\u001b[0mpdf\u001b[0m\u001b[1;33m)\u001b[0m\u001b[1;33m\u001b[0m\u001b[0m\n\u001b[0m\u001b[0;32m      7\u001b[0m \u001b[0mdoc\u001b[0m \u001b[1;33m=\u001b[0m \u001b[0mPDFDocument\u001b[0m\u001b[1;33m(\u001b[0m\u001b[1;33m)\u001b[0m\u001b[1;33m\u001b[0m\u001b[0m\n\u001b[0;32m      8\u001b[0m \u001b[0mparser\u001b[0m\u001b[1;33m.\u001b[0m\u001b[0mset_document\u001b[0m\u001b[1;33m(\u001b[0m\u001b[0mdoc\u001b[0m\u001b[1;33m)\u001b[0m\u001b[1;33m\u001b[0m\u001b[0m\n",
      "\u001b[1;31mNameError\u001b[0m: name 'QF_Plumber' is not defined"
     ]
    }
   ],
   "source": [
    "from pdfminer.pdfparser import PDFParser, PDFDocument\n",
    "from pdfminer.pdfinterp import PDFResourceManager, PDFPageInterpreter\n",
    "from pdfminer.converter import PDFPageAggregator\n",
    "from pdfminer.layout import LAParams, LTTextBox, LTTextLine\n",
    "\n",
    "parser = PDFParser(file_content)\n",
    "doc = PDFDocument()\n",
    "parser.set_document(doc)\n",
    "doc.set_parser(parser)\n",
    "doc.initialize('')\n",
    "rsrcmgr = PDFResourceManager()\n",
    "laparams = LAParams()\n",
    "#I changed the following 2 parameters to get rid of white spaces inside words:\n",
    "laparams.char_margin = 1.0\n",
    "laparams.word_margin = 1.0\n",
    "device = PDFPageAggregator(rsrcmgr, laparams=laparams)\n",
    "interpreter = PDFPageInterpreter(rsrcmgr, device)\n",
    "extracted_text = ''\n",
    "\n",
    "# Process each page contained in the document.\n",
    "for page in doc.get_pages():\n",
    "    interpreter.process_page(page)\n",
    "    layout = device.get_result()\n",
    "    for lt_obj in layout:\n",
    "        if isinstance(lt_obj, LTTextBox) or isinstance(lt_obj, LTTextLine):\n",
    "            extracted_text += string\n",
    "\n",
    "with open('convertedFile.txt',\"wb\") as txt_file:\n",
    "    txt_file.write(extracted_text.encode(\"utf-8\"))"
   ]
  },
  {
   "cell_type": "code",
   "execution_count": null,
   "metadata": {},
   "outputs": [],
   "source": []
  }
 ],
 "metadata": {
  "kernelspec": {
   "display_name": "Python 3",
   "language": "python",
   "name": "python3"
  },
  "language_info": {
   "codemirror_mode": {
    "name": "ipython",
    "version": 3
   },
   "file_extension": ".py",
   "mimetype": "text/x-python",
   "name": "python",
   "nbconvert_exporter": "python",
   "pygments_lexer": "ipython3",
   "version": "3.6.5"
  }
 },
 "nbformat": 4,
 "nbformat_minor": 2
}

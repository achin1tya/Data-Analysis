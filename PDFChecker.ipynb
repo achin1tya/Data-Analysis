{
 "cells": [
  {
   "cell_type": "code",
   "execution_count": 1,
   "metadata": {},
   "outputs": [
    {
     "ename": "ImportError",
     "evalue": "DLL load failed: The specified module could not be found.",
     "output_type": "error",
     "traceback": [
      "\u001b[1;31m---------------------------------------------------------------------------\u001b[0m",
      "\u001b[1;31mImportError\u001b[0m                               Traceback (most recent call last)",
      "\u001b[1;32m<ipython-input-1-c8ec22b3e787>\u001b[0m in \u001b[0;36m<module>\u001b[1;34m()\u001b[0m\n\u001b[1;32m----> 1\u001b[1;33m \u001b[1;32mimport\u001b[0m \u001b[0mcv2\u001b[0m\u001b[1;33m\u001b[0m\u001b[0m\n\u001b[0m",
      "\u001b[1;31mImportError\u001b[0m: DLL load failed: The specified module could not be found."
     ]
    }
   ],
   "source": [
    "import cv2"
   ]
  },
  {
   "cell_type": "code",
   "execution_count": 2,
   "metadata": {},
   "outputs": [],
   "source": [
    "from PIL import Image\n",
    "import pytesseract\n",
    "import argparse\n",
    "import cv2\n",
    "import os\n",
    "import sys"
   ]
  },
  {
   "cell_type": "code",
   "execution_count": 3,
   "metadata": {},
   "outputs": [],
   "source": [
    "img = cv2.imread(\"1.png\")\n",
    "gray = cv2.cvtColor(img, cv2.COLOR_BGR2GRAY)             # getting the image and converting to gray"
   ]
  },
  {
   "cell_type": "code",
   "execution_count": null,
   "metadata": {},
   "outputs": [],
   "source": []
  },
  {
   "cell_type": "code",
   "execution_count": 4,
   "metadata": {},
   "outputs": [],
   "source": [
    "# thresholding \n",
    "gray = cv2.threshold(gray, 0, 255, cv2.THRESH_BINARY | cv2.THRESH_OTSU)[1]"
   ]
  },
  {
   "cell_type": "code",
   "execution_count": 5,
   "metadata": {},
   "outputs": [],
   "source": [
    "#denoising\n",
    "gray = cv2.medianBlur(gray, 3)"
   ]
  },
  {
   "cell_type": "code",
   "execution_count": 6,
   "metadata": {},
   "outputs": [
    {
     "data": {
      "text/plain": [
       "5196"
      ]
     },
     "execution_count": 6,
     "metadata": {},
     "output_type": "execute_result"
    }
   ],
   "source": [
    "os.getpid()"
   ]
  },
  {
   "cell_type": "code",
   "execution_count": 7,
   "metadata": {},
   "outputs": [
    {
     "data": {
      "text/plain": [
       "True"
      ]
     },
     "execution_count": 7,
     "metadata": {},
     "output_type": "execute_result"
    }
   ],
   "source": [
    "filename = \"{}.png\".format(os.getpid())\n",
    "cv2.imwrite(filename, gray)"
   ]
  },
  {
   "cell_type": "code",
   "execution_count": 8,
   "metadata": {},
   "outputs": [
    {
     "data": {
      "image/png": "[encoded data removed]",
      "text/plain": [
       "<PIL.PngImagePlugin.PngImageFile image mode=L size=401x171 at 0x5EC0179F28>"
      ]
     },
     "execution_count": 8,
     "metadata": {},
     "output_type": "execute_result"
    }
   ],
   "source": [
    "Image.open(filename)"
   ]
  },
  {
   "cell_type": "code",
   "execution_count": 9,
   "metadata": {},
   "outputs": [],
   "source": [
    "import pytesseract                     # getting the pytesseract to program\n",
    "pytesseract.pytesseract.tesseract_cmd = 'C:/Program Files (x86)/Tesseract-OCR/tesseract'"
   ]
  },
  {
   "cell_type": "code",
   "execution_count": 10,
   "metadata": {},
   "outputs": [
    {
     "name": "stdout",
     "output_type": "stream",
     "text": [
      "I'm a normal 18x1\n",
      "\n",
      "I'm a bold text\n"
     ]
    }
   ],
   "source": [
    "text = pytesseract.image_to_string(Image.open(filename))\n",
    "# os.remove(filename)\n",
    "print(text)"
   ]
  },
  {
   "cell_type": "code",
   "execution_count": 11,
   "metadata": {},
   "outputs": [],
   "source": [
    "#import nltk\n"
   ]
  },
  {
   "cell_type": "code",
   "execution_count": 12,
   "metadata": {},
   "outputs": [],
   "source": [
    "#nltk.download()"
   ]
  },
  {
   "cell_type": "code",
   "execution_count": 13,
   "metadata": {},
   "outputs": [],
   "source": [
    "from nltk.tokenize import sent_tokenize, word_tokenize"
   ]
  },
  {
   "cell_type": "code",
   "execution_count": 14,
   "metadata": {},
   "outputs": [],
   "source": [
    "from nltk.corpus import stopwords"
   ]
  },
  {
   "cell_type": "code",
   "execution_count": 15,
   "metadata": {},
   "outputs": [],
   "source": [
    "stops = set(stopwords.words('english'))"
   ]
  },
  {
   "cell_type": "code",
   "execution_count": null,
   "metadata": {},
   "outputs": [],
   "source": []
  },
  {
   "cell_type": "code",
   "execution_count": 16,
   "metadata": {},
   "outputs": [
    {
     "data": {
      "text/plain": [
       "{'a',\n",
       " 'about',\n",
       " 'above',\n",
       " 'after',\n",
       " 'again',\n",
       " 'against',\n",
       " 'ain',\n",
       " 'all',\n",
       " 'am',\n",
       " 'an',\n",
       " 'and',\n",
       " 'any',\n",
       " 'are',\n",
       " 'aren',\n",
       " \"aren't\",\n",
       " 'as',\n",
       " 'at',\n",
       " 'be',\n",
       " 'because',\n",
       " 'been',\n",
       " 'before',\n",
       " 'being',\n",
       " 'below',\n",
       " 'between',\n",
       " 'both',\n",
       " 'but',\n",
       " 'by',\n",
       " 'can',\n",
       " 'couldn',\n",
       " \"couldn't\",\n",
       " 'd',\n",
       " 'did',\n",
       " 'didn',\n",
       " \"didn't\",\n",
       " 'do',\n",
       " 'does',\n",
       " 'doesn',\n",
       " \"doesn't\",\n",
       " 'doing',\n",
       " 'don',\n",
       " \"don't\",\n",
       " 'down',\n",
       " 'during',\n",
       " 'each',\n",
       " 'few',\n",
       " 'for',\n",
       " 'from',\n",
       " 'further',\n",
       " 'had',\n",
       " 'hadn',\n",
       " \"hadn't\",\n",
       " 'has',\n",
       " 'hasn',\n",
       " \"hasn't\",\n",
       " 'have',\n",
       " 'haven',\n",
       " \"haven't\",\n",
       " 'having',\n",
       " 'he',\n",
       " 'her',\n",
       " 'here',\n",
       " 'hers',\n",
       " 'herself',\n",
       " 'him',\n",
       " 'himself',\n",
       " 'his',\n",
       " 'how',\n",
       " 'i',\n",
       " 'if',\n",
       " 'in',\n",
       " 'into',\n",
       " 'is',\n",
       " 'isn',\n",
       " \"isn't\",\n",
       " 'it',\n",
       " \"it's\",\n",
       " 'its',\n",
       " 'itself',\n",
       " 'just',\n",
       " 'll',\n",
       " 'm',\n",
       " 'ma',\n",
       " 'me',\n",
       " 'mightn',\n",
       " \"mightn't\",\n",
       " 'more',\n",
       " 'most',\n",
       " 'mustn',\n",
       " \"mustn't\",\n",
       " 'my',\n",
       " 'myself',\n",
       " 'needn',\n",
       " \"needn't\",\n",
       " 'no',\n",
       " 'nor',\n",
       " 'not',\n",
       " 'now',\n",
       " 'o',\n",
       " 'of',\n",
       " 'off',\n",
       " 'on',\n",
       " 'once',\n",
       " 'only',\n",
       " 'or',\n",
       " 'other',\n",
       " 'our',\n",
       " 'ours',\n",
       " 'ourselves',\n",
       " 'out',\n",
       " 'over',\n",
       " 'own',\n",
       " 're',\n",
       " 's',\n",
       " 'same',\n",
       " 'shan',\n",
       " \"shan't\",\n",
       " 'she',\n",
       " \"she's\",\n",
       " 'should',\n",
       " \"should've\",\n",
       " 'shouldn',\n",
       " \"shouldn't\",\n",
       " 'so',\n",
       " 'some',\n",
       " 'such',\n",
       " 't',\n",
       " 'than',\n",
       " 'that',\n",
       " \"that'll\",\n",
       " 'the',\n",
       " 'their',\n",
       " 'theirs',\n",
       " 'them',\n",
       " 'themselves',\n",
       " 'then',\n",
       " 'there',\n",
       " 'these',\n",
       " 'they',\n",
       " 'this',\n",
       " 'those',\n",
       " 'through',\n",
       " 'to',\n",
       " 'too',\n",
       " 'under',\n",
       " 'until',\n",
       " 'up',\n",
       " 've',\n",
       " 'very',\n",
       " 'was',\n",
       " 'wasn',\n",
       " \"wasn't\",\n",
       " 'we',\n",
       " 'were',\n",
       " 'weren',\n",
       " \"weren't\",\n",
       " 'what',\n",
       " 'when',\n",
       " 'where',\n",
       " 'which',\n",
       " 'while',\n",
       " 'who',\n",
       " 'whom',\n",
       " 'why',\n",
       " 'will',\n",
       " 'with',\n",
       " 'won',\n",
       " \"won't\",\n",
       " 'wouldn',\n",
       " \"wouldn't\",\n",
       " 'y',\n",
       " 'you',\n",
       " \"you'd\",\n",
       " \"you'll\",\n",
       " \"you're\",\n",
       " \"you've\",\n",
       " 'your',\n",
       " 'yours',\n",
       " 'yourself',\n",
       " 'yourselves'}"
      ]
     },
     "execution_count": 16,
     "metadata": {},
     "output_type": "execute_result"
    }
   ],
   "source": [
    "stops"
   ]
  },
  {
   "cell_type": "code",
   "execution_count": 17,
   "metadata": {},
   "outputs": [],
   "source": [
    "words=word_tokenize(text)"
   ]
  },
  {
   "cell_type": "code",
   "execution_count": null,
   "metadata": {},
   "outputs": [],
   "source": []
  },
  {
   "cell_type": "code",
   "execution_count": 18,
   "metadata": {},
   "outputs": [],
   "source": [
    "clean_wrods = [w for w in  words if not w in stops]"
   ]
  },
  {
   "cell_type": "code",
   "execution_count": 19,
   "metadata": {},
   "outputs": [
    {
     "data": {
      "text/plain": [
       "['I', \"'m\", 'normal', '18x1', 'I', \"'m\", 'bold', 'text']"
      ]
     },
     "execution_count": 19,
     "metadata": {},
     "output_type": "execute_result"
    }
   ],
   "source": [
    "clean_wrods"
   ]
  },
  {
   "cell_type": "code",
   "execution_count": 20,
   "metadata": {},
   "outputs": [],
   "source": [
    "import numpy as np"
   ]
  },
  {
   "cell_type": "code",
   "execution_count": 21,
   "metadata": {},
   "outputs": [],
   "source": [
    "#newWords=np.asarray(clean_wrods)               # "
   ]
  },
  {
   "cell_type": "code",
   "execution_count": 22,
   "metadata": {},
   "outputs": [],
   "source": [
    "import pandas as pd"
   ]
  },
  {
   "cell_type": "code",
   "execution_count": 23,
   "metadata": {},
   "outputs": [],
   "source": [
    "df=pd.DataFrame(clean_wrods)                #getting clean text i.e removing the stopwords"
   ]
  },
  {
   "cell_type": "code",
   "execution_count": 24,
   "metadata": {},
   "outputs": [
    {
     "data": {
      "text/html": [
       "<div>\n",
       "<style scoped>\n",
       "    .dataframe tbody tr th:only-of-type {\n",
       "        vertical-align: middle;\n",
       "    }\n",
       "\n",
       "    .dataframe tbody tr th {\n",
       "        vertical-align: top;\n",
       "    }\n",
       "\n",
       "    .dataframe thead th {\n",
       "        text-align: right;\n",
       "    }\n",
       "</style>\n",
       "<table border=\"1\" class=\"dataframe\">\n",
       "  <thead>\n",
       "    <tr style=\"text-align: right;\">\n",
       "      <th></th>\n",
       "      <th>0</th>\n",
       "    </tr>\n",
       "  </thead>\n",
       "  <tbody>\n",
       "    <tr>\n",
       "      <th>0</th>\n",
       "      <td>I</td>\n",
       "    </tr>\n",
       "    <tr>\n",
       "      <th>1</th>\n",
       "      <td>'m</td>\n",
       "    </tr>\n",
       "    <tr>\n",
       "      <th>2</th>\n",
       "      <td>normal</td>\n",
       "    </tr>\n",
       "    <tr>\n",
       "      <th>3</th>\n",
       "      <td>18x1</td>\n",
       "    </tr>\n",
       "    <tr>\n",
       "      <th>4</th>\n",
       "      <td>I</td>\n",
       "    </tr>\n",
       "    <tr>\n",
       "      <th>5</th>\n",
       "      <td>'m</td>\n",
       "    </tr>\n",
       "    <tr>\n",
       "      <th>6</th>\n",
       "      <td>bold</td>\n",
       "    </tr>\n",
       "    <tr>\n",
       "      <th>7</th>\n",
       "      <td>text</td>\n",
       "    </tr>\n",
       "  </tbody>\n",
       "</table>\n",
       "</div>"
      ],
      "text/plain": [
       "        0\n",
       "0       I\n",
       "1      'm\n",
       "2  normal\n",
       "3    18x1\n",
       "4       I\n",
       "5      'm\n",
       "6    bold\n",
       "7    text"
      ]
     },
     "execution_count": 24,
     "metadata": {},
     "output_type": "execute_result"
    }
   ],
   "source": [
    "df                                         # pandas dataframe to identify unique words"
   ]
  },
  {
   "cell_type": "code",
   "execution_count": 25,
   "metadata": {},
   "outputs": [
    {
     "data": {
      "text/plain": [
       "array(['I', \"'m\", 'normal', '18x1', 'bold', 'text'], dtype=object)"
      ]
     },
     "execution_count": 25,
     "metadata": {},
     "output_type": "execute_result"
    }
   ],
   "source": [
    "df[0].unique()"
   ]
  },
  {
   "cell_type": "code",
   "execution_count": 26,
   "metadata": {},
   "outputs": [],
   "source": [
    "uniqueWords=df[0].unique()"
   ]
  },
  {
   "cell_type": "code",
   "execution_count": 119,
   "metadata": {},
   "outputs": [],
   "source": [
    "#unique words generating dictionary\n",
    "def makeDictionary(array,cleanWords):\n",
    "    dict1={} \n",
    "    for word in array:\n",
    "        count=0\n",
    "        for i in range(len(cleanWords)):\n",
    "            if word==cleanWords[i]:\n",
    "                count=count+1\n",
    "        dict1[word]=count\n",
    "    return dict1"
   ]
  },
  {
   "cell_type": "code",
   "execution_count": null,
   "metadata": {},
   "outputs": [],
   "source": []
  },
  {
   "cell_type": "markdown",
   "metadata": {},
   "source": [
    "### Making Dictionary for second document"
   ]
  },
  {
   "cell_type": "code",
   "execution_count": 28,
   "metadata": {},
   "outputs": [],
   "source": [
    "img=cv2.imread(\"5.jpg\")              #doing above things for the second picture"
   ]
  },
  {
   "cell_type": "code",
   "execution_count": 29,
   "metadata": {},
   "outputs": [],
   "source": [
    "# thresholding \n",
    "gray = cv2.threshold(gray, 0, 255, cv2.THRESH_BINARY | cv2.THRESH_OTSU)[1]"
   ]
  },
  {
   "cell_type": "code",
   "execution_count": null,
   "metadata": {},
   "outputs": [],
   "source": []
  },
  {
   "cell_type": "code",
   "execution_count": 30,
   "metadata": {},
   "outputs": [],
   "source": [
    "#denoising\n",
    "gray = cv2.medianBlur(gray, 3)"
   ]
  },
  {
   "cell_type": "code",
   "execution_count": 31,
   "metadata": {},
   "outputs": [
    {
     "data": {
      "text/plain": [
       "5196"
      ]
     },
     "execution_count": 31,
     "metadata": {},
     "output_type": "execute_result"
    }
   ],
   "source": [
    "os.getpid()"
   ]
  },
  {
   "cell_type": "code",
   "execution_count": 32,
   "metadata": {},
   "outputs": [
    {
     "data": {
      "text/plain": [
       "True"
      ]
     },
     "execution_count": 32,
     "metadata": {},
     "output_type": "execute_result"
    }
   ],
   "source": [
    "filename = \"{}.jpg\".format(os.getpid())\n",
    "cv2.imwrite(filename, gray)"
   ]
  },
  {
   "cell_type": "code",
   "execution_count": 33,
   "metadata": {},
   "outputs": [
    {
     "data": {
      "image/png": "[encoded data removed]",
      "text/plain": [
       "<PIL.JpegImagePlugin.JpegImageFile image mode=L size=401x171 at 0x5EC3BD16D8>"
      ]
     },
     "execution_count": 33,
     "metadata": {},
     "output_type": "execute_result"
    }
   ],
   "source": [
    "Image.open(filename)"
   ]
  },
  {
   "cell_type": "code",
   "execution_count": 34,
   "metadata": {},
   "outputs": [
    {
     "name": "stdout",
     "output_type": "stream",
     "text": [
      "I'm a normal text\n",
      "\n",
      "I'm a bold text\n"
     ]
    }
   ],
   "source": [
    "text2 = pytesseract.image_to_string(Image.open(filename))\n",
    "# os.remove(filename)\n",
    "print(text2)"
   ]
  },
  {
   "cell_type": "code",
   "execution_count": 35,
   "metadata": {},
   "outputs": [],
   "source": [
    "wordsOfText2=word_tokenize(text2)"
   ]
  },
  {
   "cell_type": "code",
   "execution_count": 36,
   "metadata": {},
   "outputs": [
    {
     "data": {
      "text/plain": [
       "['I', \"'m\", 'a', 'normal', 'text', 'I', \"'m\", 'a', 'bold', 'text']"
      ]
     },
     "execution_count": 36,
     "metadata": {},
     "output_type": "execute_result"
    }
   ],
   "source": [
    "wordsOfText2"
   ]
  },
  {
   "cell_type": "code",
   "execution_count": 37,
   "metadata": {},
   "outputs": [],
   "source": [
    "clean_text2=[w for w in wordsOfText2 if not  w  in stops]"
   ]
  },
  {
   "cell_type": "code",
   "execution_count": 38,
   "metadata": {},
   "outputs": [
    {
     "data": {
      "text/plain": [
       "['I', \"'m\", 'normal', 'text', 'I', \"'m\", 'bold', 'text']"
      ]
     },
     "execution_count": 38,
     "metadata": {},
     "output_type": "execute_result"
    }
   ],
   "source": [
    "clean_text2"
   ]
  },
  {
   "cell_type": "code",
   "execution_count": 39,
   "metadata": {},
   "outputs": [],
   "source": [
    "def makedataFrame(array):\n",
    "    return pd.DataFrame(array)   "
   ]
  },
  {
   "cell_type": "code",
   "execution_count": 40,
   "metadata": {},
   "outputs": [],
   "source": [
    "text2dataFrame=makedataFrame(clean_text2)"
   ]
  },
  {
   "cell_type": "code",
   "execution_count": 41,
   "metadata": {},
   "outputs": [
    {
     "data": {
      "text/plain": [
       "\"I'm a normal text\\n\\nI'm a bold text\""
      ]
     },
     "execution_count": 41,
     "metadata": {},
     "output_type": "execute_result"
    }
   ],
   "source": [
    "text2"
   ]
  },
  {
   "cell_type": "code",
   "execution_count": 42,
   "metadata": {},
   "outputs": [
    {
     "data": {
      "text/html": [
       "<div>\n",
       "<style scoped>\n",
       "    .dataframe tbody tr th:only-of-type {\n",
       "        vertical-align: middle;\n",
       "    }\n",
       "\n",
       "    .dataframe tbody tr th {\n",
       "        vertical-align: top;\n",
       "    }\n",
       "\n",
       "    .dataframe thead th {\n",
       "        text-align: right;\n",
       "    }\n",
       "</style>\n",
       "<table border=\"1\" class=\"dataframe\">\n",
       "  <thead>\n",
       "    <tr style=\"text-align: right;\">\n",
       "      <th></th>\n",
       "      <th>0</th>\n",
       "    </tr>\n",
       "  </thead>\n",
       "  <tbody>\n",
       "    <tr>\n",
       "      <th>0</th>\n",
       "      <td>I</td>\n",
       "    </tr>\n",
       "    <tr>\n",
       "      <th>1</th>\n",
       "      <td>'m</td>\n",
       "    </tr>\n",
       "    <tr>\n",
       "      <th>2</th>\n",
       "      <td>normal</td>\n",
       "    </tr>\n",
       "    <tr>\n",
       "      <th>3</th>\n",
       "      <td>text</td>\n",
       "    </tr>\n",
       "    <tr>\n",
       "      <th>4</th>\n",
       "      <td>I</td>\n",
       "    </tr>\n",
       "    <tr>\n",
       "      <th>5</th>\n",
       "      <td>'m</td>\n",
       "    </tr>\n",
       "    <tr>\n",
       "      <th>6</th>\n",
       "      <td>bold</td>\n",
       "    </tr>\n",
       "    <tr>\n",
       "      <th>7</th>\n",
       "      <td>text</td>\n",
       "    </tr>\n",
       "  </tbody>\n",
       "</table>\n",
       "</div>"
      ],
      "text/plain": [
       "        0\n",
       "0       I\n",
       "1      'm\n",
       "2  normal\n",
       "3    text\n",
       "4       I\n",
       "5      'm\n",
       "6    bold\n",
       "7    text"
      ]
     },
     "execution_count": 42,
     "metadata": {},
     "output_type": "execute_result"
    }
   ],
   "source": [
    "text2dataFrame"
   ]
  },
  {
   "cell_type": "code",
   "execution_count": 43,
   "metadata": {},
   "outputs": [
    {
     "name": "stdout",
     "output_type": "stream",
     "text": [
      "['I', \"'m\", 'normal', 'text', 'I', \"'m\", 'bold', 'text']\n",
      "['I' \"'m\" 'normal' 'text' 'bold']\n"
     ]
    }
   ],
   "source": [
    "dict2=makeDictionary(text2dataFrame[0].unique(),clean_text2)"
   ]
  },
  {
   "cell_type": "code",
   "execution_count": 44,
   "metadata": {},
   "outputs": [
    {
     "name": "stdout",
     "output_type": "stream",
     "text": [
      "['I', \"'m\", 'normal', '18x1', 'I', \"'m\", 'bold', 'text']\n",
      "['I' \"'m\" 'normal' '18x1' 'bold' 'text']\n"
     ]
    }
   ],
   "source": [
    "dict1=makeDictionary(df[0].unique(),clean_wrods)"
   ]
  },
  {
   "cell_type": "code",
   "execution_count": 45,
   "metadata": {},
   "outputs": [
    {
     "data": {
      "text/plain": [
       "6"
      ]
     },
     "execution_count": 45,
     "metadata": {},
     "output_type": "execute_result"
    }
   ],
   "source": [
    "len(dict1)"
   ]
  },
  {
   "cell_type": "code",
   "execution_count": 46,
   "metadata": {},
   "outputs": [
    {
     "data": {
      "text/html": [
       "<div>\n",
       "<style scoped>\n",
       "    .dataframe tbody tr th:only-of-type {\n",
       "        vertical-align: middle;\n",
       "    }\n",
       "\n",
       "    .dataframe tbody tr th {\n",
       "        vertical-align: top;\n",
       "    }\n",
       "\n",
       "    .dataframe thead th {\n",
       "        text-align: right;\n",
       "    }\n",
       "</style>\n",
       "<table border=\"1\" class=\"dataframe\">\n",
       "  <thead>\n",
       "    <tr style=\"text-align: right;\">\n",
       "      <th></th>\n",
       "      <th>0</th>\n",
       "    </tr>\n",
       "  </thead>\n",
       "  <tbody>\n",
       "    <tr>\n",
       "      <th>0</th>\n",
       "      <td>I</td>\n",
       "    </tr>\n",
       "    <tr>\n",
       "      <th>1</th>\n",
       "      <td>'m</td>\n",
       "    </tr>\n",
       "    <tr>\n",
       "      <th>2</th>\n",
       "      <td>normal</td>\n",
       "    </tr>\n",
       "    <tr>\n",
       "      <th>3</th>\n",
       "      <td>text</td>\n",
       "    </tr>\n",
       "    <tr>\n",
       "      <th>4</th>\n",
       "      <td>I</td>\n",
       "    </tr>\n",
       "    <tr>\n",
       "      <th>5</th>\n",
       "      <td>'m</td>\n",
       "    </tr>\n",
       "    <tr>\n",
       "      <th>6</th>\n",
       "      <td>bold</td>\n",
       "    </tr>\n",
       "    <tr>\n",
       "      <th>7</th>\n",
       "      <td>text</td>\n",
       "    </tr>\n",
       "  </tbody>\n",
       "</table>\n",
       "</div>"
      ],
      "text/plain": [
       "        0\n",
       "0       I\n",
       "1      'm\n",
       "2  normal\n",
       "3    text\n",
       "4       I\n",
       "5      'm\n",
       "6    bold\n",
       "7    text"
      ]
     },
     "execution_count": 46,
     "metadata": {},
     "output_type": "execute_result"
    }
   ],
   "source": [
    "text2dataFrame"
   ]
  },
  {
   "cell_type": "code",
   "execution_count": 47,
   "metadata": {},
   "outputs": [
    {
     "data": {
      "text/plain": [
       "array(['I', \"'m\", 'normal', 'text', 'bold'], dtype=object)"
      ]
     },
     "execution_count": 47,
     "metadata": {},
     "output_type": "execute_result"
    }
   ],
   "source": [
    "text2dataFrame[0].unique()"
   ]
  },
  {
   "cell_type": "code",
   "execution_count": 48,
   "metadata": {},
   "outputs": [
    {
     "data": {
      "text/plain": [
       "['I', \"'m\", 'normal', 'text', 'I', \"'m\", 'bold', 'text']"
      ]
     },
     "execution_count": 48,
     "metadata": {},
     "output_type": "execute_result"
    }
   ],
   "source": [
    "clean_text2"
   ]
  },
  {
   "cell_type": "markdown",
   "metadata": {},
   "source": [
    "## "
   ]
  },
  {
   "cell_type": "code",
   "execution_count": 49,
   "metadata": {},
   "outputs": [
    {
     "name": "stdout",
     "output_type": "stream",
     "text": [
      "['I', \"'m\", 'normal', 'text', 'I', \"'m\", 'bold', 'text']\n",
      "['I' \"'m\" 'normal' 'text' 'bold']\n"
     ]
    }
   ],
   "source": [
    "dict2=makeDictionary(text2dataFrame[0].unique(),clean_text2)   # gerring the dictionary of words for second file"
   ]
  },
  {
   "cell_type": "code",
   "execution_count": 50,
   "metadata": {},
   "outputs": [
    {
     "data": {
      "text/plain": [
       "{'I': 2, \"'m\": 2, 'normal': 1, 'text': 2, 'bold': 1}"
      ]
     },
     "execution_count": 50,
     "metadata": {},
     "output_type": "execute_result"
    }
   ],
   "source": [
    "dict2"
   ]
  },
  {
   "cell_type": "code",
   "execution_count": null,
   "metadata": {},
   "outputs": [],
   "source": []
  },
  {
   "cell_type": "code",
   "execution_count": null,
   "metadata": {},
   "outputs": [],
   "source": []
  },
  {
   "cell_type": "code",
   "execution_count": 51,
   "metadata": {},
   "outputs": [],
   "source": [
    "index2=dict2.keys()"
   ]
  },
  {
   "cell_type": "code",
   "execution_count": 52,
   "metadata": {},
   "outputs": [],
   "source": [
    "#getting the words from the dictionary \n",
    "def getIndex(dictionary):                                    \n",
    "    a=[]\n",
    "    for k,v in dictionary.items():\n",
    "        a.append(k)\n",
    "    return a"
   ]
  },
  {
   "cell_type": "code",
   "execution_count": 53,
   "metadata": {},
   "outputs": [],
   "source": [
    "#comparing two dictionaries to get overall result \n",
    "def generateResult(dictonaryOfFirstFile,dictionaryOfAllPreviosPdf):   \n",
    "    index1=getIndex(dictonaryOfFirstFile)\n",
    "    index2=getIndex(dictionaryOfAllPreviosPdf)\n",
    "    valSum=0\n",
    "    for indexValue in index1:\n",
    "        if indexValue in index2 :\n",
    "            valSum=valSum+(max(dictonaryOfFirstFile[indexValue],dictionaryOfAllPreviosPdf[indexValue])-min(dictonaryOfFirstFile[indexValue],dictionaryOfAllPreviosPdf[indexValue]))/max(dictonaryOfFirstFile[indexValue],dictionaryOfAllPreviosPdf[indexValue])\n",
    "        return valSum/max(len(dictonaryOfFirstFile),len(dictionaryOfAllPreviosPdf))*100"
   ]
  },
  {
   "cell_type": "code",
   "execution_count": 54,
   "metadata": {},
   "outputs": [],
   "source": [
    "ans=generateResult(dict2,dict1)"
   ]
  },
  {
   "cell_type": "code",
   "execution_count": 55,
   "metadata": {},
   "outputs": [
    {
     "data": {
      "text/plain": [
       "0.0"
      ]
     },
     "execution_count": 55,
     "metadata": {},
     "output_type": "execute_result"
    }
   ],
   "source": [
    "ans"
   ]
  },
  {
   "cell_type": "code",
   "execution_count": 56,
   "metadata": {},
   "outputs": [],
   "source": [
    "ans=generateResult(dict2,dict2)"
   ]
  },
  {
   "cell_type": "code",
   "execution_count": 57,
   "metadata": {},
   "outputs": [
    {
     "data": {
      "text/plain": [
       "dict_keys(['I', \"'m\", 'normal', 'text', 'bold'])"
      ]
     },
     "execution_count": 57,
     "metadata": {},
     "output_type": "execute_result"
    }
   ],
   "source": [
    "dict2.keys()"
   ]
  },
  {
   "cell_type": "code",
   "execution_count": 58,
   "metadata": {},
   "outputs": [
    {
     "data": {
      "text/plain": [
       "0.0"
      ]
     },
     "execution_count": 58,
     "metadata": {},
     "output_type": "execute_result"
    }
   ],
   "source": [
    "ans"
   ]
  },
  {
   "cell_type": "code",
   "execution_count": 59,
   "metadata": {},
   "outputs": [
    {
     "data": {
      "text/plain": [
       "['Image',\n",
       " 'In',\n",
       " 'Out',\n",
       " '_',\n",
       " '_16',\n",
       " '_19',\n",
       " '_24',\n",
       " '_25',\n",
       " '_31',\n",
       " '_32',\n",
       " '_33',\n",
       " '_36',\n",
       " '_38',\n",
       " '_41',\n",
       " '_42',\n",
       " '_45',\n",
       " '_46',\n",
       " '_47',\n",
       " '_48',\n",
       " '_50',\n",
       " '_55',\n",
       " '_57',\n",
       " '_58',\n",
       " '_6',\n",
       " '_7',\n",
       " '_8',\n",
       " '__',\n",
       " '___',\n",
       " '__builtin__',\n",
       " '__builtins__',\n",
       " '__doc__',\n",
       " '__loader__',\n",
       " '__name__',\n",
       " '__package__',\n",
       " '__spec__',\n",
       " '_dh',\n",
       " '_i',\n",
       " '_i1',\n",
       " '_i10',\n",
       " '_i11',\n",
       " '_i12',\n",
       " '_i13',\n",
       " '_i14',\n",
       " '_i15',\n",
       " '_i16',\n",
       " '_i17',\n",
       " '_i18',\n",
       " '_i19',\n",
       " '_i2',\n",
       " '_i20',\n",
       " '_i21',\n",
       " '_i22',\n",
       " '_i23',\n",
       " '_i24',\n",
       " '_i25',\n",
       " '_i26',\n",
       " '_i27',\n",
       " '_i28',\n",
       " '_i29',\n",
       " '_i3',\n",
       " '_i30',\n",
       " '_i31',\n",
       " '_i32',\n",
       " '_i33',\n",
       " '_i34',\n",
       " '_i35',\n",
       " '_i36',\n",
       " '_i37',\n",
       " '_i38',\n",
       " '_i39',\n",
       " '_i4',\n",
       " '_i40',\n",
       " '_i41',\n",
       " '_i42',\n",
       " '_i43',\n",
       " '_i44',\n",
       " '_i45',\n",
       " '_i46',\n",
       " '_i47',\n",
       " '_i48',\n",
       " '_i49',\n",
       " '_i5',\n",
       " '_i50',\n",
       " '_i51',\n",
       " '_i52',\n",
       " '_i53',\n",
       " '_i54',\n",
       " '_i55',\n",
       " '_i56',\n",
       " '_i57',\n",
       " '_i58',\n",
       " '_i59',\n",
       " '_i6',\n",
       " '_i7',\n",
       " '_i8',\n",
       " '_i9',\n",
       " '_ih',\n",
       " '_ii',\n",
       " '_iii',\n",
       " '_oh',\n",
       " 'ans',\n",
       " 'argparse',\n",
       " 'clean_text2',\n",
       " 'clean_wrods',\n",
       " 'cv2',\n",
       " 'df',\n",
       " 'dict1',\n",
       " 'dict2',\n",
       " 'exit',\n",
       " 'filename',\n",
       " 'generateResult',\n",
       " 'getIndex',\n",
       " 'get_ipython',\n",
       " 'gray',\n",
       " 'img',\n",
       " 'index2',\n",
       " 'makeDictionary',\n",
       " 'makedataFrame',\n",
       " 'np',\n",
       " 'os',\n",
       " 'pd',\n",
       " 'pytesseract',\n",
       " 'quit',\n",
       " 'sent_tokenize',\n",
       " 'stops',\n",
       " 'stopwords',\n",
       " 'sys',\n",
       " 'text',\n",
       " 'text2',\n",
       " 'text2dataFrame',\n",
       " 'uniqueWords',\n",
       " 'word_tokenize',\n",
       " 'words',\n",
       " 'wordsOfText2']"
      ]
     },
     "execution_count": 59,
     "metadata": {},
     "output_type": "execute_result"
    }
   ],
   "source": [
    "dir()"
   ]
  },
  {
   "cell_type": "code",
   "execution_count": 60,
   "metadata": {},
   "outputs": [],
   "source": [
    "dict1={}"
   ]
  },
  {
   "cell_type": "code",
   "execution_count": 61,
   "metadata": {},
   "outputs": [],
   "source": [
    "dict1['I']=2"
   ]
  },
  {
   "cell_type": "code",
   "execution_count": 62,
   "metadata": {},
   "outputs": [],
   "source": [
    "dict1['am']=4\n",
    "dict1['learning']=2\n",
    "dict1['Machine']=1\n",
    "dict1['for']=1\n",
    "dict1['NSDA']=1"
   ]
  },
  {
   "cell_type": "code",
   "execution_count": 63,
   "metadata": {},
   "outputs": [
    {
     "data": {
      "text/plain": [
       "{'I': 2, 'am': 4, 'learning': 2, 'Machine': 1, 'for': 1, 'NSDA': 1}"
      ]
     },
     "execution_count": 63,
     "metadata": {},
     "output_type": "execute_result"
    }
   ],
   "source": [
    "dict1"
   ]
  },
  {
   "cell_type": "code",
   "execution_count": 64,
   "metadata": {},
   "outputs": [],
   "source": [
    "dict2={'I':4,'am':24,'Machine':3,'Deep':2}"
   ]
  },
  {
   "cell_type": "code",
   "execution_count": 65,
   "metadata": {},
   "outputs": [
    {
     "data": {
      "text/plain": [
       "{'I': 4, 'am': 24, 'Machine': 3, 'Deep': 2}"
      ]
     },
     "execution_count": 65,
     "metadata": {},
     "output_type": "execute_result"
    }
   ],
   "source": [
    "dict2"
   ]
  },
  {
   "cell_type": "code",
   "execution_count": 66,
   "metadata": {},
   "outputs": [],
   "source": [
    "ans=generateResult(dict1,dict2)"
   ]
  },
  {
   "cell_type": "code",
   "execution_count": 67,
   "metadata": {},
   "outputs": [
    {
     "data": {
      "text/plain": [
       "8.333333333333332"
      ]
     },
     "execution_count": 67,
     "metadata": {},
     "output_type": "execute_result"
    }
   ],
   "source": [
    "ans"
   ]
  },
  {
   "cell_type": "code",
   "execution_count": 68,
   "metadata": {},
   "outputs": [],
   "source": [
    "from wordcloud import WordCloud"
   ]
  },
  {
   "cell_type": "code",
   "execution_count": 69,
   "metadata": {},
   "outputs": [],
   "source": [
    "words=' '.join(text2dataFrame[0])"
   ]
  },
  {
   "cell_type": "code",
   "execution_count": 70,
   "metadata": {},
   "outputs": [],
   "source": [
    "# generating wordcloud \n",
    "wordcloud=WordCloud(background_color='white',height=2500,width=3000).generate(words)"
   ]
  },
  {
   "cell_type": "code",
   "execution_count": 71,
   "metadata": {},
   "outputs": [],
   "source": [
    "from matplotlib import pyplot as plt"
   ]
  },
  {
   "cell_type": "code",
   "execution_count": 72,
   "metadata": {},
   "outputs": [
    {
     "data": {
      "text/plain": [
       "<matplotlib.image.AxesImage at 0x5ec45b4dd8>"
      ]
     },
     "execution_count": 72,
     "metadata": {},
     "output_type": "execute_result"
    },
    {
     "data": {
      "image/png": "[encoded data removed]",
      "text/plain": [
       "<Figure size 432x288 with 1 Axes>"
      ]
     },
     "metadata": {},
     "output_type": "display_data"
    }
   ],
   "source": [
    "plt.imshow(wordcloud)"
   ]
  },
  {
   "cell_type": "code",
   "execution_count": null,
   "metadata": {},
   "outputs": [],
   "source": []
  },
  {
   "cell_type": "markdown",
   "metadata": {},
   "source": [
    "### Trying outr pdf conversion "
   ]
  },
  {
   "cell_type": "code",
   "execution_count": null,
   "metadata": {},
   "outputs": [],
   "source": []
  },
  {
   "cell_type": "code",
   "execution_count": 73,
   "metadata": {},
   "outputs": [
    {
     "ename": "ModuleNotFoundError",
     "evalue": "No module named 'tabula'",
     "output_type": "error",
     "traceback": [
      "\u001b[1;31m---------------------------------------------------------------------------\u001b[0m",
      "\u001b[1;31mModuleNotFoundError\u001b[0m                       Traceback (most recent call last)",
      "\u001b[1;32m<ipython-input-73-5c1882f30047>\u001b[0m in \u001b[0;36m<module>\u001b[1;34m()\u001b[0m\n\u001b[1;32m----> 1\u001b[1;33m \u001b[1;32mfrom\u001b[0m \u001b[0mtabula\u001b[0m \u001b[1;32mimport\u001b[0m \u001b[0mread_pdf\u001b[0m\u001b[1;33m\u001b[0m\u001b[0m\n\u001b[0m",
      "\u001b[1;31mModuleNotFoundError\u001b[0m: No module named 'tabula'"
     ]
    }
   ],
   "source": [
    "#from tabula import read_pdf"
   ]
  },
  {
   "cell_type": "code",
   "execution_count": 74,
   "metadata": {},
   "outputs": [
    {
     "ename": "NameError",
     "evalue": "name 'read_pdf' is not defined",
     "output_type": "error",
     "traceback": [
      "\u001b[1;31m---------------------------------------------------------------------------\u001b[0m",
      "\u001b[1;31mNameError\u001b[0m                                 Traceback (most recent call last)",
      "\u001b[1;32m<ipython-input-74-6597948c08b3>\u001b[0m in \u001b[0;36m<module>\u001b[1;34m()\u001b[0m\n\u001b[1;32m----> 1\u001b[1;33m \u001b[0mdfforText\u001b[0m\u001b[1;33m=\u001b[0m\u001b[0mread_pdf\u001b[0m\u001b[1;33m(\u001b[0m\u001b[1;34m'Food-Processing.pdf'\u001b[0m\u001b[1;33m)\u001b[0m\u001b[1;33m\u001b[0m\u001b[0m\n\u001b[0m",
      "\u001b[1;31mNameError\u001b[0m: name 'read_pdf' is not defined"
     ]
    }
   ],
   "source": [
    "dfforText=read_pdf('Food-Processing.pdf')"
   ]
  },
  {
   "cell_type": "code",
   "execution_count": 123,
   "metadata": {},
   "outputs": [],
   "source": [
    " # importing required modules\n",
    "import PyPDF2\n",
    "def getTextFromPdf(filenameOfPdf):\n",
    "      # creating a pdf file object\n",
    "    pdfFileObj = open(str(filenameOfPdf), 'rb')\n",
    "\n",
    "      # creating a pdf reader object\n",
    "    pdfReader = PyPDF2.PdfFileReader(pdfFileObj)\n",
    "\n",
    "      # printing number of pages in pdf file\n",
    "    print(pdfReader.numPages)\n",
    "\n",
    "      # creating a page object\n",
    "    pageObj = pdfReader.getPage(5)\n",
    "\n",
    "      # extracting text from page\n",
    "    text=pageObj.extractText()\n",
    "\n",
    "      # closing the pdf file object\n",
    "    pdfFileObj.close()\n",
    "    return text\n"
   ]
  },
  {
   "cell_type": "code",
   "execution_count": 76,
   "metadata": {
    "scrolled": true
   },
   "outputs": [],
   "source": [
    "import pandas as pd"
   ]
  },
  {
   "cell_type": "code",
   "execution_count": 125,
   "metadata": {},
   "outputs": [
    {
     "name": "stdout",
     "output_type": "stream",
     "text": [
      "73\n"
     ]
    }
   ],
   "source": [
    "text=getTextFromPdf(\"Food-Processing.pdf\")"
   ]
  },
  {
   "cell_type": "code",
   "execution_count": 126,
   "metadata": {},
   "outputs": [
    {
     "data": {
      "text/plain": [
       "2664"
      ]
     },
     "execution_count": 126,
     "metadata": {},
     "output_type": "execute_result"
    }
   ],
   "source": [
    "len(text)"
   ]
  },
  {
   "cell_type": "code",
   "execution_count": 80,
   "metadata": {},
   "outputs": [],
   "source": [
    "#df=pd.read_csv(text)"
   ]
  },
  {
   "cell_type": "code",
   "execution_count": 81,
   "metadata": {},
   "outputs": [
    {
     "data": {
      "text/plain": [
       "str"
      ]
     },
     "execution_count": 81,
     "metadata": {},
     "output_type": "execute_result"
    }
   ],
   "source": [
    "type(text)"
   ]
  },
  {
   "cell_type": "code",
   "execution_count": 83,
   "metadata": {},
   "outputs": [],
   "source": [
    "import PyPDF2 \n",
    "#import textract\n",
    "from nltk.tokenize import word_tokenize\n",
    "from nltk.corpus import stopwords"
   ]
  },
  {
   "cell_type": "code",
   "execution_count": 84,
   "metadata": {},
   "outputs": [],
   "source": [
    "import sys\n",
    "if sys.version_info[0] < 3: \n",
    "    from StringIO import StringIO\n",
    "else:\n",
    "    from io import StringIO\n",
    "\n",
    "import pandas as pd\n"
   ]
  },
  {
   "cell_type": "code",
   "execution_count": 85,
   "metadata": {},
   "outputs": [],
   "source": [
    "testData=StringIO(text)"
   ]
  },
  {
   "cell_type": "code",
   "execution_count": 86,
   "metadata": {},
   "outputs": [],
   "source": [
    "df=pd.read_csv(testData,sep=\"\\n\")"
   ]
  },
  {
   "cell_type": "code",
   "execution_count": 135,
   "metadata": {},
   "outputs": [],
   "source": [
    "#df"
   ]
  },
  {
   "cell_type": "code",
   "execution_count": 88,
   "metadata": {},
   "outputs": [],
   "source": [
    "cleanWords=df[\"Food\"].unique()"
   ]
  },
  {
   "cell_type": "code",
   "execution_count": 134,
   "metadata": {},
   "outputs": [],
   "source": [
    "#cleanWords"
   ]
  },
  {
   "cell_type": "code",
   "execution_count": 121,
   "metadata": {},
   "outputs": [],
   "source": [
    "dictionary=makeDictionary(cleanWords,df[\"Food\"])"
   ]
  },
  {
   "cell_type": "code",
   "execution_count": 133,
   "metadata": {},
   "outputs": [],
   "source": [
    "#dictionary"
   ]
  },
  {
   "cell_type": "code",
   "execution_count": 131,
   "metadata": {},
   "outputs": [],
   "source": [
    "#df[\"Food\"]"
   ]
  },
  {
   "cell_type": "code",
   "execution_count": 98,
   "metadata": {},
   "outputs": [],
   "source": [
    "words=\" \".join(df[\"Food\"])"
   ]
  },
  {
   "cell_type": "code",
   "execution_count": 99,
   "metadata": {},
   "outputs": [],
   "source": [
    "wordcloud=WordCloud(background_color='white',height=2500,width=3000).generate(words)"
   ]
  },
  {
   "cell_type": "code",
   "execution_count": 100,
   "metadata": {},
   "outputs": [
    {
     "data": {
      "text/plain": [
       "<matplotlib.image.AxesImage at 0x5ec8caaa20>"
      ]
     },
     "execution_count": 100,
     "metadata": {},
     "output_type": "execute_result"
    },
    {
     "data": {
      "image/png": "[encoded data removed]",
      "text/plain": [
       "<Figure size 432x288 with 1 Axes>"
      ]
     },
     "metadata": {},
     "output_type": "display_data"
    }
   ],
   "source": [
    "plt.imshow(wordcloud)"
   ]
  },
  {
   "cell_type": "markdown",
   "metadata": {},
   "source": [
    "### Doing for the second pdf "
   ]
  },
  {
   "cell_type": "code",
   "execution_count": 101,
   "metadata": {},
   "outputs": [],
   "source": [
    "import PyPDF2"
   ]
  },
  {
   "cell_type": "code",
   "execution_count": 127,
   "metadata": {},
   "outputs": [
    {
     "name": "stdout",
     "output_type": "stream",
     "text": [
      "64\n"
     ]
    }
   ],
   "source": [
    "text2=getTextFromPdf(\"BuildingRealEstate.pdf\")"
   ]
  },
  {
   "cell_type": "code",
   "execution_count": 130,
   "metadata": {},
   "outputs": [],
   "source": [
    "#text2"
   ]
  },
  {
   "cell_type": "code",
   "execution_count": 104,
   "metadata": {},
   "outputs": [],
   "source": [
    "testdata2=StringIO(text2)"
   ]
  },
  {
   "cell_type": "code",
   "execution_count": 105,
   "metadata": {},
   "outputs": [],
   "source": [
    "dfData=pd.read_csv(testdata2,sep=\"\\n\")"
   ]
  },
  {
   "cell_type": "code",
   "execution_count": null,
   "metadata": {},
   "outputs": [],
   "source": []
  },
  {
   "cell_type": "code",
   "execution_count": 107,
   "metadata": {},
   "outputs": [],
   "source": [
    "words2=\" \".join(dfData[\"Demand for affordabl\"])"
   ]
  },
  {
   "cell_type": "code",
   "execution_count": 108,
   "metadata": {},
   "outputs": [],
   "source": [
    "from wordcloud import WordCloud"
   ]
  },
  {
   "cell_type": "code",
   "execution_count": 109,
   "metadata": {},
   "outputs": [],
   "source": [
    "wordcloud2=WordCloud(background_color='white',height=2500,width=3000).generate(words2)"
   ]
  },
  {
   "cell_type": "code",
   "execution_count": 110,
   "metadata": {},
   "outputs": [],
   "source": [
    "from matplotlib import pyplot as plt"
   ]
  },
  {
   "cell_type": "code",
   "execution_count": 111,
   "metadata": {
    "scrolled": true
   },
   "outputs": [
    {
     "data": {
      "text/plain": [
       "<matplotlib.image.AxesImage at 0x5ec607c828>"
      ]
     },
     "execution_count": 111,
     "metadata": {},
     "output_type": "execute_result"
    },
    {
     "data": {
      "image/png": "[encoded data removed]",
      "text/plain": [
       "<Figure size 432x288 with 1 Axes>"
      ]
     },
     "metadata": {},
     "output_type": "display_data"
    }
   ],
   "source": [
    "plt.imshow(wordcloud2)"
   ]
  },
  {
   "cell_type": "code",
   "execution_count": 115,
   "metadata": {},
   "outputs": [],
   "source": [
    "cleanWords2=dfData[\"Demand for affordabl\"].unique()"
   ]
  },
  {
   "cell_type": "code",
   "execution_count": 120,
   "metadata": {},
   "outputs": [],
   "source": [
    "dictionary2=makeDictionary(cleanWords2,dfData[\"Demand for affordabl\"])"
   ]
  },
  {
   "cell_type": "code",
   "execution_count": 117,
   "metadata": {},
   "outputs": [
    {
     "data": {
      "text/plain": [
       "{'e housing is more likely to increase from current level of 29 million households to more than 38': 1,\n",
       " 'million households ': 1,\n",
       " 'by ': 1,\n",
       " '2030Rapid growth in the I': 1,\n",
       " 'nformation technology and financial services space and upcoming expansion plans of': 1,\n",
       " 'businesses into Tier': 1,\n",
       " '-II and Tier': 1,\n",
       " '-III cities': 1,\n",
       " 'Investments': 1,\n",
       " 'required': 1,\n",
       " 'inkeyinfrastructure': 1,\n",
       " 'including': 1,\n",
       " 'power,': 1,\n",
       " 'road,': 1,\n",
       " 'railways,': 1,\n",
       " 'ports': 1,\n",
       " 'andcivil': 1,\n",
       " 'aviation': 1,\n",
       " 'isexpected': 2,\n",
       " 'toreach': 1,\n",
       " '$1trillion': 1,\n",
       " 'during': 2,\n",
       " 'the': 5,\n",
       " '12thPlanperiod': 1,\n",
       " 'Demand for warehousing sp': 1,\n",
       " 'ace (ambient and cold chain) in the country in major Tier': 1,\n",
       " '-I and Tier': 1,\n",
       " '-II cities is expected t': 1,\n",
       " 'osurge as industr': 1,\n",
       " 'ial parks are being setup and food trends shifting to more processed ': 1,\n",
       " 'food': 1,\n",
       " 'Increasing consumerism and r': 1,\n",
       " 'elaxation of FDI in multi': 1,\n",
       " '-brand retail has surged aggres': 1,\n",
       " 'sive growth among Indian': 1,\n",
       " 'retailers': 1,\n",
       " 'Sources: KPMG i': 1,\n",
       " 'n India analysis': 1,\n",
       " 'Construction': 1,\n",
       " '8%Others': 1,\n",
       " '92%Construction': 1,\n",
       " 'sector': 6,\n",
       " 'isthe': 2,\n",
       " 'largest': 1,\n",
       " 'contributor': 1,\n",
       " 'tocentral': 1,\n",
       " 'exchequerConstruction': 1,\n",
       " '2ndlargest': 1,\n",
       " 'employer': 1,\n",
       " 'inthe': 3,\n",
       " 'country': 2,\n",
       " '.Itcreates': 1,\n",
       " 'more': 1,\n",
       " 'than': 1,\n",
       " '45million': 1,\n",
       " 'jobs': 1,\n",
       " 'either': 1,\n",
       " 'directly': 1,\n",
       " 'orindirectly': 1,\n",
       " 'amongvarious': 1,\n",
       " 'classes': 1,\n",
       " 'ofindividuals': 1,\n",
       " '.Between': 1,\n",
       " '2000': 2,\n",
       " 'and2013,the': 1,\n",
       " 'attracted': 1,\n",
       " 'USD': 1,\n",
       " '40399million': 1,\n",
       " 'asforeign': 1,\n",
       " 'direct': 2,\n",
       " 'investment': 1,\n",
       " '.Itisexpected': 1,\n",
       " 'toattract': 1,\n",
       " 'FDIofUSD180billion': 1,\n",
       " 'by2020Thesector': 1,\n",
       " 'grew': 1,\n",
       " 'ataCAGR': 1,\n",
       " 'of9.42%between': 1,\n",
       " '2003': 1,\n",
       " '-04and2012-13.Capital': 1,\n",
       " 'investments': 2,\n",
       " 'isanticipated': 1,\n",
       " 'torise': 1,\n",
       " 'from': 2,\n",
       " 'USD651billion': 1,\n",
       " 'in2012-13toUSD1181billion': 1,\n",
       " 'in2019-20.Themarket': 1,\n",
       " 'value': 2,\n",
       " 'ofconstruction': 1,\n",
       " 'inIndia': 1,\n",
       " 'isprojected': 1,\n",
       " 'toexpand': 1,\n",
       " 'uptoINR': 1,\n",
       " '11954billion': 1,\n",
       " 'by2017.Sector': 1,\n",
       " 'witnessed': 1,\n",
       " 'cumulative': 1,\n",
       " 'foreign': 1,\n",
       " 'tothe': 1,\n",
       " 'tune': 1,\n",
       " 'ofRs40,399million': 1,\n",
       " 'till': 1,\n",
       " '2013ofwhich': 1,\n",
       " '91%was': 1,\n",
       " 'inreal': 1,\n",
       " 'estate': 2,\n",
       " 'development': 1,\n",
       " '.Indirectly,': 1,\n",
       " 'generates': 1,\n",
       " '5times': 1,\n",
       " 'highervalue': 1,\n",
       " 'for': 1,\n",
       " 'other': 1,\n",
       " 'sectors': 1,\n",
       " '.Infrastructur': 1,\n",
       " 'econstitutes': 1,\n",
       " '40%ofthe': 1,\n",
       " 'market': 1,\n",
       " 'andreal': 1,\n",
       " 'remaining': 1,\n",
       " '60%.This': 1,\n",
       " 'percentage': 1,\n",
       " 'toremain': 1,\n",
       " 'constant': 1,\n",
       " 'projected': 1,\n",
       " 'period': 1,\n",
       " '.312334553859429347734551508357026425718102000': 1,\n",
       " '4000': 1,\n",
       " '6000': 1,\n",
       " '8000': 1,\n",
       " '10000': 1,\n",
       " '12000': 1,\n",
       " '14000': 1,\n",
       " '2012-13': 1,\n",
       " '2013-14': 1,\n",
       " '2014-15': 1,\n",
       " '2015-16': 1,\n",
       " '2016-17': 1,\n",
       " 'Infrastructure': 1,\n",
       " 'Real Estate': 1}"
      ]
     },
     "execution_count": 117,
     "metadata": {},
     "output_type": "execute_result"
    }
   ],
   "source": [
    "dictionary2"
   ]
  },
  {
   "cell_type": "code",
   "execution_count": 118,
   "metadata": {},
   "outputs": [
    {
     "data": {
      "text/plain": [
       "0.0"
      ]
     },
     "execution_count": 118,
     "metadata": {},
     "output_type": "execute_result"
    }
   ],
   "source": [
    "generateResult(dictionary,dictionary2)"
   ]
  },
  {
   "cell_type": "code",
   "execution_count": 4,
   "metadata": {},
   "outputs": [],
   "source": [
    "def getTextFromPDFALLPages(nameOfPdfFile):\n",
    "    import PyPDF2\n",
    "    pdfFileObj = open(str(nameOfPdfFile), 'rb')\n",
    "\n",
    "      # creating a pdf reader object\n",
    "    pdfReader = PyPDF2.PdfFileReader(pdfFileObj)\n",
    "\n",
    "      # printing number of pages in pdf file\n",
    "    pages=pdfReader.numPages\n",
    "\n",
    "    wholetext=\"\"\n",
    "    # creating a page object\n",
    "    for i in range (pages):\n",
    "        pageObj = pdfReader.getPage(i)\n",
    "\n",
    "      # extracting text from page\n",
    "        text=pageObj.extractText()\n",
    "        wholetext=wholetext+text\n",
    "      # closing the pdf file object\n",
    "    pdfFileObj.close()\n",
    "    return wholetext"
   ]
  },
  {
   "cell_type": "code",
   "execution_count": 145,
   "metadata": {},
   "outputs": [
    {
     "name": "stdout",
     "output_type": "stream",
     "text": [
      "0\n",
      "1\n",
      "2\n"
     ]
    }
   ],
   "source": [
    "allText=getTextFromPDFALLPages(\"Contact-Details-SSC.pdf\")"
   ]
  },
  {
   "cell_type": "code",
   "execution_count": 146,
   "metadata": {},
   "outputs": [
    {
     "ename": "NameError",
     "evalue": "name 'alltext' is not defined",
     "output_type": "error",
     "traceback": [
      "\u001b[1;31m---------------------------------------------------------------------------\u001b[0m",
      "\u001b[1;31mNameError\u001b[0m                                 Traceback (most recent call last)",
      "\u001b[1;32m<ipython-input-146-4c5bda5f2ed1>\u001b[0m in \u001b[0;36m<module>\u001b[1;34m()\u001b[0m\n\u001b[1;32m----> 1\u001b[1;33m \u001b[0malltext\u001b[0m\u001b[1;33m\u001b[0m\u001b[0m\n\u001b[0m",
      "\u001b[1;31mNameError\u001b[0m: name 'alltext' is not defined"
     ]
    }
   ],
   "source": [
    "alltext"
   ]
  },
  {
   "cell_type": "code",
   "execution_count": 147,
   "metadata": {},
   "outputs": [
    {
     "data": {
      "text/plain": [
       "'CONTACT DETAILS OF SECTOR SKILL COUNCILS\\nName\\nEmail\\nAddress\\n1\\nAutomotive\\nAutomotive Skills Development \\nCouncil\\nMr Sunil Chaturvedi\\nskc@asdc.org.in\\nAutomotive Skills Development Council\\nSat Paul Mittal Building, \\n1/6, Siri Institutional Area,  \\nAugust Kranti Marg (Khel Gaon Marg)\\n\\n2\\nSecurity \\nSecurity Sector Skill \\nDevelopment Council\\nMaj Gen AK Sakhuja (Retd)\\nceo@sssdc.in\\nSecurity Sector Skill Development Council\\n305, City Court\\nSikanderpur, MG Road\\n\\n3\\nRetail\\n\\nCouncil of India\\nMr James A Raphael \\njames.raphael@rasci.in \\nRetailers Association\\'s Skill Council of India, \\n703-704 Sagar Tech Plaza - A, Andheri-Kurla Road, \\nSakinaka Junction, Sakinaka, Andheri (E), Mumbai-400 072.\\n4\\nIT-ITeS\\nIT-ITeS  Sector Skill Council\\nDr Sandhya Chintala \\nsandhya@nasscom.in\\n4E-Vandana Building (4th Floor)\\n11, Tolstoy Marg\\nNew Delhi-110001\\n5\\nMedia\\nMedia & Entertainment Skills \\nCouncil\\nMs. Sonal Mathur                               \\nMr. Mohit Soni\\n(Contact Person)\\nsonal.mathur@ficci.com;\\nmohit.soni@ficci.com\\nMedia & Entertainment Skills Council\\nFederation House\\nTansen Marg\\nNew Delhi- 110001\\n6\\nRubber\\nRubber Skill Development \\nCouncil\\nMs. Shewani Nagpal\\n(Contact Person)\\nshewani.nagpal@rsdcindia.in\\nRSDC, Ramakrishna Dalamia Wing,\\nPHD House (4th Floor),\\nOpp. Asian Games Village,\\nSiri Fort Institutional Area,\\n\\n7\\nHealthcare\\nHealthcare Sector Skill Council\\nMr Ashish Jain\\nAshish.Jain@healthcare-ssc.in\\nHealthcare Sector Skill Council\\nOffice No.: 711\\nDLF Tower A, 7th Floor\\nJasola District Centre\\nNew Delhi - 110025 \\n8\\nGems & Jewellery\\nGems & Jewellery Skill Council \\nof India\\nMr Binit Bhatt\\ncoo@gjsci.org\\nGem & Jewellery Skill Council of India\\nBusiness Facilitation Centre, 3rd Floor,\\nSEEPZ SEZ, Andheri (E),\\nMumbai 400 096\\n9\\nElectronics & \\nHardware\\nElectronic Sector Skill Council of \\nIndia\\nMr N K Mohapatra\\nceo@essc-india.org\\nElectronic Sector Skill Council of India \\n602,604,606 and 608, 6th Floor, Ansal Chambers 2, \\nBikaji Cama Place, New Delhi - 110066. \\n10\\nAgriculture\\nAgriculture Skill Council of India\\nMr S S Arya\\nceo@asci-india.com\\nAgriculture Skill Council of India\\n304-305, 3rd Floor, Bestech Chambers\\nB-Block, Sushant Lok-1, Gurgaon\\nHaryana-122002,\\n11\\nTelecom\\nTelecom Sector Skill Council of \\nIndia \\nLt Gen (Retd) SP Kochhar \\nceo@tsscindia.com\\nTelecom Sector Skill Council\\n2nd Floor, Plot No 105\\nSector - 44, Gurgaon - 122003\\nCEO\\nNo\\nName of the SSC\\nSector\\n12\\nBFSI\\nBanking, Financial Services & \\nInsurance (BFSI) Sector Skill \\nCouncil of India\\nMr. Ambarish Dutta\\n(Contact Person )\\nAmbarish.Datta@bfsissc.com; \\nambarish.datta@bseindia.com\\n25th Floor, P.J. Towers, Dalal Street, Fort, Mumbai - 400 001\\n13\\nLeather\\nLeather Sector Skill Council\\nMr Ramesh Kumar \\nceo@leatherssc.org;\\ncle@cleindia.com\\nLeather Sector Skill Council, CFTI Campus, Annex Building, NO.65/1, \\nGST Road, Guindy, Chennai - 600032\\n14\\nFood Processing\\nFood Industry Capacity & Skill \\nInitiative\\nMs. Mallika Verma\\nmallika.verma@ficci.com;\\nceo.ficsi@ficci.com\\nAwfis, \\nL-29, First Floor, \\nConnaught Place (Outer Circle) \\nNew Delhi 110001\\n15\\nLogistics\\nLogistics Skill Council\\nCapt. Ramanujan (Retd)\\nramanujam@lsc-india.com\\nLOGISTICS SKILLS COUNCIL\\nConfederation Of Indian Industry (Institute of Logistics)\\nUnit \"E\", 10th floor\\nIIT Madras Research Park\\nKanagam road\\nTARAMANI, Chennai- 600013.\\n16\\nPlumbing\\nIndian Plumbing Skills Council\\nMr. Vinay Gupta\\nvinayg@bathlineindia.in\\nIndian Plumbing Skills Council, B168,169, DDA Sheds, Okhla Phase -\\n1,New Delhi\\n17\\nCapital Goods\\nCapital Goods Skill Council\\nMr Inder S Gahlaut\\ninder.gahlaut@cgsc.in\\nAwfice Space Solutions Pvt Ltd\\n1st Floor, L-29, Outer Circle                                         \\nConnaught place,                                                                 \\n\\n18\\nConstruction\\nConstruction Skill Development \\nCouncil of India\\nCol  Ashwani Kumar joshi \\n(Retd)\\nashwani@csdcindia.org      \\nConstruction Skill Development Council of India, 204, Aashirwad \\nComplex, D-1, Green Park,New Delhi - 110016\\n19\\nLife Sciences\\nLife Sciences Sector Skill \\nDevelopment Council\\nMr. Ranjit Madan\\nranjit.madan@lsssdc.in\\nLife Sciences Sector Skill Development Council\\n# 14, Rear 2nd  Floor, Palam Marg, Vasant Vihar, New Delhi-110057\\n20\\nAviation & \\nAeroSpace\\nAviation & Aerospace Sector \\nSkill Council\\nMr. D Peter Immanuel\\nceo@aassc.in;\\np_immanuel@yahoo.com\\nAerospace and Aviation Sector Skill Council (AASSC)\\nTechnical Training Institute (TTI)\\nHindustan Aeronautics Limited\\nSuranjan Das Road\\nVimanapura Post, Bangalore - 560017\\n21\\nIron & Steel\\nIndian Iron & Steel Sector Skill \\nCouncil\\nMr Sushim Banerjee \\nsushim_banerjee@yahoo.com\\nIndian Iron & Steel Sector Skill Council, KARIGORI BHAVAN\\nPlot no.B-7, Action Area-III, 5th Floor, Room no.509\\nNear Hazra Kalibari, Opposite Uni World City\\nNew Town, Kolkata, West Bengal, Pin-700156.\\n22\\nPower\\nPower Sector Skill Council\\nMr. Vinod Behari\\nvinodbehari14@yahoo.co.in;\\nceo@psscindia.org\\nPower Sector Skill Council,Plot No. 4, Institutional Area, CBIP Building, \\nMalcha Marg, Chanakyapuri, New Delhi-110 021\\n23\\nMining\\nSkill Council for Mining Sector\\nMr A Bhandari\\nscms@skillcms.in\\nSkill Council for Mining, FIMI House, B-311, Okhla Industrial Area, \\nPhase-I,\\nNew Delhi-110 020 \\n24\\nTextiles & \\nHandlooms\\nTextile Sector Skill Council\\nMr J V Rao\\nceo@texskill.in;\\nTextile Sector Skill Council (TSC)\\n15th Floor, Nirmal Tower, \\n26, Barakhamba Road, New Delhi - 110 001\\nOffice: +91-11-43536355-7 \\n25\\nApparels\\nApparel, Madeups & Home \\nFurnishing  Sector Skill Council\\nMr Roopak Vasishtha\\nceo@sscamh.com;\\nroopak@sscamh.com\\nApparel, Made-Ups and Home Furnishing Sector Skill Council\\n1st Floor, Indian Buildings Congress, Kamakoti Marg\\nSector-6, R K Puram\\nNew Delhi-110022\\n26\\nBeauty & Wellness\\nBeauty & wellenss Sector Skill \\nCouncil\\nMs Annu Wadhwa \\n(COO)\\nanuw21@hotmail.com;\\nannu.wadhwa@bwssc.in\\nBeauty & wellenss Sector Skill Council, 405-406, 4th Floor, DLF City \\nCourt, M G Road, Sikanderpur, Gurgaon - 122002\\n27\\nHandicrafts\\nHandicrafts & carpets Sector \\nSkill Council\\nMr Rajesh Rawat\\nceo@hcssc.in; \\nHandicrafts Sector Skill Council, Export Promotion Council for \\nHandicrafts,EPCH House, Pocket 6&7, Sector \\'C\\', LSC, Vasant Kunj, \\nNew Delhi-110070\\n28\\nTourism & \\nHospitality\\nTourism & Hospitality Skill \\nCouncil\\nMr Praveen Roy\\npraveen.roy@thsc.in;\\nTourism & Hospitality Skill Council, 801, Tower A, Unitech Signature \\nTowers, South City 1, Gurgaon, Haryana 122001\\n29\\nInfrastructure \\nEquipment\\nInfrastructure Equipment Skill \\nCouncil\\nMr H S Mohan\\nhs.mohan@iescindia.com;\\nInfrastructure Equipment Skill Council\\n# 23-29, FF5, First Floor, \"White House Building\"\\nSt. Marks Road, (Opp SBI)\\nBengaluru - 560001\\n30\\nSports \\nSports, Physical Education, \\nFitness and Leisure Sector Skill \\nCouncil\\nWg. Cdr Satish Aparajit\\nsatish.aparajit@sportsskills.in;satish.aparajit@ficci.in\\nAwfice Space Solutions Pvt Ltd\\n1st Floor, L-29, Outer Circle                                         \\nConnaught place,                                                                 \\n\\n31\\nOil & Gas\\nHydro Carbon Sector Skill \\nCouncil\\nMr. Rajesh Kumar Saini\\n(Contact Person)\\nmgr.admn.oidb@nic.in;\\npetrofed@petrofed.org\\nOil Industry Development Board (OIDB), 3rd Floor, Tower C, Plot No. 2, \\n\\n32\\nChemical & \\nPetroChemical\\nChemical & PetroChemical \\nSector Skill Council\\nMr  P S Singh\\n(Contact Person)\\nprabhsharan.singh@ficci.com\\nFICCI\\nFederation House\\nTansen Marg, New Delhi 110001\\n33\\nCoating & Painting\\nPaints and Coatings Skill Council\\nMr V S Ram\\nceo@pcsc.in\\nPaints and Coatings Skill Council,105, Kakad Chambers, 132 Dr. A B \\nRoad, Worli, Mumbai 400018\\n34\\nGreen Jobs\\nSkill Council for Green Jobs\\nDr P Saxena\\nceogreenjobs@gmail.com\\nSkill Council for Green Jobs, 3rd Floor, CBIP Building, Malcha Marg, \\nChanakyapuri, New Delhi - 110021\\n35\\nPwD\\nSkill Council for PwD\\nMr. Anup K Srivastava \\nanup.srivastava@scpwd.in\\n501, City Centre, 5th Floor, 12/5, Plot 5, Sector 12, Dwaraka, New Delhi \\n110076\\n36\\nDomestic Workers\\nDomestic Workers Sector Skill \\nCouncil\\nMr. Amod Kanth\\n(Contact Person)\\nceo@dwsscindia.in;kanth_amod@rediffmail.com\\nPrayas Institute of Juvenile Justice, \\n59 Tughlakabad Institutional Area,\\nNew Delhi-110062, India\\n37\\nFurniture & Fittings\\nFurniture & Fittings Skill Council\\nMr. Gurpal Singh\\ngurpal.singh@ffsc.in;\\n407-408, DLF City Court, M G Road, Sikanderpur, Gurgaon - 122002\\n38\\nInstrumentation\\nInstrumentation, Automation, \\nSurveillance & Communication \\nSector Skill Council\\nMr Abhinav Jain\\nceo@iascsectorskillcouncil.in\\nIASC SSC, 201-202, STBP NSIC Complex, Okhla Industrial Estate, \\nNew Delhi, 110020\\n39\\nStrategic \\nManufacturing\\nStrategic Manufacturing Sector \\nSkill Council\\nMr Subrata Niyogi\\nstrategic.manufacturing@smssc.in; subrata.niyogi@cii.in\\nStrategic Manufacturing Sector Skill Council\\n3rd Floor, 13 A, Palam Marg,\\n(Opp. Malai Mandir)\\n\\nTel No : 011- 41010351 / 41034505 / 41045783\\nFax: 011- 41015619\\n40\\nManagement\\nManagement & Entrepreneurship \\nand Professional Skills Council\\nCol Anil Kumar Pokhriyal, \\nRetd\\nceo@mepsc.in\\nManagement & Entrepreneurship and Professional Skills Council \\n(MEPSC)\\nManagement House, \\n14 Institutional Area, \\nLodhi Road, \\nNew Delhi-110003\\n'"
      ]
     },
     "execution_count": 147,
     "metadata": {},
     "output_type": "execute_result"
    }
   ],
   "source": [
    "allText"
   ]
  },
  {
   "cell_type": "code",
   "execution_count": 2,
   "metadata": {},
   "outputs": [],
   "source": [
    "def makeDataFrameFromText(textData):\n",
    "    try:\n",
    "        import StringIO \n",
    "    except ImportError:\n",
    "        from io import StringIO\n",
    "        \n",
    "    testData=StringIO(textData)\n",
    "    import pandas as pd\n",
    "    dataFrameForPdf=pd.read_csv(testData,sep=\"\\n\")  # making the text to a dataFrame Column\n",
    "    columnName=list(dataFrameForPdf.columns.values)\n",
    "    return dataFrameForPdf,columnName"
   ]
  },
  {
   "cell_type": "code",
   "execution_count": 28,
   "metadata": {},
   "outputs": [],
   "source": [
    "allText=getTextFromPDFALLPages(\"QF - LMV Owner Driver.pdf\")"
   ]
  },
  {
   "cell_type": "code",
   "execution_count": 29,
   "metadata": {},
   "outputs": [
    {
     "data": {
      "text/plain": [
       "\"QUALIFICATION FILE TEMPLATE\\n \\n \\n \\nPage \\n1\\n \\nof \\n18\\n \\n \\n \\n \\n \\n \\n \\n \\n \\nCONTACT DETAILS OF THE AWARDING BODY FOR THE QUALIFICATION\\n \\n \\n \\n \\n \\n \\n \\n \\n \\n \\n1.\\n \\nName and address of awarding body:\\n \\n \\nNational Academy of RUDSETI\\n \\nChitrapur Bhavan\\n \\n15\\nth\\n \\nCross, 8\\nth\\n \\nMain\\n \\nMalleswaram\\n \\nBengaluru\\n-\\n \\n560 055\\n \\nPh: 080\\n-\\n \\n2346 2875\\n \\nEmail:\\n \\ninfo@rudsetacademy.org\\n \\n \\n \\n2.\\n \\nName and contact details of the Individual dealing with the submission:\\n \\n \\nName:\\n \\nSri. R. R. Singh\\n \\nPosition in \\nthe Organization\\n: \\nDirector General\\n \\nAddress:\\n \\nSame as above\\n \\nEmail\\n: \\ndg@rudsetacademy.org\\n \\n \\n \\n3.\\n \\nList of Documents submitted in support of the Qualifications file\\n \\n(Annexure)\\n \\n \\n1.\\n \\nAbout National Academy of RUDSET\\n \\n2.\\n \\nRUDSETI Model \\nof Entrepreneurship Development\\n \\n3.\\n \\nCurriculum document /Syllabus\\n \\n4.\\n \\nSession Plan\\n \\n5.\\n \\nBank wise list of RSETIs\\n \\n6.\\n \\nResearch Studies regarding RUDSETI/RSETI\\n \\n7.\\n \\nSuccess Stories\\n \\n \\nNSDA \\nReference \\n \\nTo be Added by \\nNSDA\\n \\nQUALIFICATION FILE TEMPLATE\\n \\n \\n \\nPage \\n2\\n \\nof \\n18\\n \\n \\nSUMMARY\\n \\n \\nQualification \\nT\\nitle:\\n \\nLMV Owner Driver\\n \\n \\nQualification Code: \\nNARQ40015\\n-\\nPROCESS\\n \\nQUALIFICATION FILE TEMPLATE\\n \\n \\n \\nPage \\n3\\n \\nof \\n18\\n \\n \\nNature and purpose of the qualification\\n:\\n \\n \\nQuali\\nfication enables the trainee \\nto\\n \\noperate a transport business with a light motor vehicle (owned or \\nhired) including driving the vehicle and \\ntake care of all other commercial aspects of operating \\nthe\\n \\nbusiness.\\n        \\n \\n \\nAccording to NSSO Data (2013) among workers in rural areas, 54.2% are self\\n-\\nemployed and 38.6% work \\nas casual labor, where as only 7.2% have regular wage employment. Most of the self employed are \\nengaged in agriculture and have very little formal \\nskills both in farm and non\\n-\\nfarm occupations. Hence, the \\nneed to skill rural youth so that the next generation of workers become skilled, productive and contribute \\npositively for the growth of the economy. \\n \\n \\nOn gaining \\ntechnical \\nskills and \\nskills in \\nentrep\\nreneurship, the candidates trained in this qualification can \\nstart their own Photo Studio and also take up outdoor photo and video recording assignments. There is \\nincreasing demand for this service especially for private (domestic) and public events in the\\n \\nrural areas \\nand small towns. On becoming an entrepreneur the candidate trained in this qualification will initially \\npromote a micro\\n-\\nenterprise which can gradually grow to become a small and later medium scale \\nenterprise. The Micro, Small and Medium Enterp\\nrises (MSME) sector has emerged as a highly vibrant \\nand dynamic sector of the Indian economy over the last five decades. MSMEs are playing a crucial role in \\nproviding large employment opportunities at comparatively lower capital cost than large industries.\\n \\nThey \\nare also contributing in a significant manner to the industrialization and development of rural and \\nbackward areas. This helps to reduce regional disparities and provides for a more equitable distribution of \\nnational income and wealth. MSMEs contribu\\nte enormously to the socio\\n-\\neconomic development of the \\ncountry. This sector today consists of 36 million units and provides employment to over 80 million \\npersons. The Sector through more than 6,000 products contributes about 8% to GDP besides 45% to the \\nto\\ntal manufacturing output and 40% to the exports from the country. The MSME sector has the potential \\nto spread industrial growth across the country and can be a major partner in the process of inclusive \\ngrowth. The Micro, Small and Medium enterprises contri\\nbute to over. Entrepreneurship, and resultant \\ncreation of employment and wealth, is a major mean for inclusive development. A programme which is \\nconducted with a motive to promote potential entrepreneurs, understanding of motives, motivational \\npattern, the\\nir impact on behavior and entrepreneurial value is termed as entrepreneurial development \\nprogramme.\\n \\n \\n \\nQUALIFICATION FILE TEMPLATE\\n \\n \\n \\nPage \\n4\\n \\nof \\n18\\n \\n \\nBody/bodies which will award the qualification: National Academy of RUDSETI, Bengaluru\\n \\n \\nThe \\nNational Academy of RUDSETI\\n \\nwas established in April 2009 in response to an emerging need for \\ncapacity building and mentoring of more than 585 Rural Self Employment Training Institutes (RSETIs) \\nestablished in each district of the country as joint venture between different Banks and \\nthe Ministry of Rural \\nDevelopment, Government of India to work as National Level Resource Organization for RUDSETIs and \\nRSETIs and other similar type of Institutes\\n \\n1.\\n \\nTo design and conduct training programmes and undertake project in Enterprise Promotion, Rur\\nal \\nDevelopment, Technology Transfer and imparting Human Resource Development (HRD) concepts.\\n \\n2.\\n \\nTo conduct research and development work in the field of Entrepreneurship Development\\n \\n3.\\n \\nTo act as a advisory to policy makers relating to Enterprise Promotion and Ru\\nral Development (for \\nGovernment /NGOs/ Other Organizations / Financial Institutions /Corporate Entities / Central Secretariat, \\nRUDSETI)\\n \\n4.\\n \\nTo take up any other activities connected with Rural Development and Entrepreneurship Development and \\nRural Development.\\n \\n5.\\n \\nTo provide Consultancy and Counseling Services in the field of Entrepreneurship Development and Rural \\nDevelopment.\\n \\n6.\\n \\nAny other activity aimed at Development of Entrepreneurship, Rural Development and serving the society \\nat large.\\n \\n(See Annexure I for a compl\\nete profile of NAR and Annexure II for RUDSETI model of Entrepreneurship \\nDevelopment)\\n \\n \\nBody which will accredit providers to offer courses leading to the qualification:\\n \\nNational  Academy of RUDSETI,  Bengaluru\\n \\n \\n   \\nBody/bodies which will be responsible for assessment:\\n \\n \\n   \\nNational  Academy of RUDSETI,  Bengaluru\\n \\n \\nOccupation(s) to which the qualification gives access:\\n \\n \\nThis qualification will enable the trainee to establish their own business in the area of good t\\nransportation. The \\nTrainee will be able to drive a commercial vehicle and also manage all other aspects (financial, legal, \\nmarketing etc.) of his/her transportation business. The business can be operated both through an \\nestablishment (shop) and/or by takin\\ng transportation \\nassignments on order basis.\\n \\nBesides skills in the field of \\nLMV Driving \\nthe qualification will give access to the trainee to:\\n \\n1.\\n \\nAcquire and internalize the required Entrepreneurial Competencies (skill as well as attitude).\\n \\n2.\\n \\nKnowledge and \\ntechniques for identifying the business opportunities, selection of an entrepreneurial \\nactivity, launching of the venture and skills for managing a Micro Enterprise.\\n \\n3.\\n \\n\\n \\n \\nQUALIFICATION FILE TEMPLATE\\n \\n \\n \\nPage \\n5\\n \\nof \\n18\\n \\n \\nProposed level of the qualification in the NSQF:\\n \\nLevel 4\\n \\n \\n \\n \\nAnticipated volume of training/learning required to complete the qualification:\\n \\n240 hour\\n \\n(Refer annexure III & IV for Curriculum & Session Plan)\\n \\n  \\nEntry requirements / recommendations:\\n \\n \\n   \\nMale or female candidates in the age group of 18 to \\n35 years having inclination for undertaking \\ntransportation business and having a Learning driving license for four wheel vehicles.\\n \\nProgression from the qualification:\\n \\n \\n   \\nAfter obtaining this qualification and gaining practical work experience the \\ncandidate will be able to expand \\nhis/her business and even operate commercial vehicles by employing more skilled drivers. The candidate \\ncan diversify in other areas of transportation and logistics business, including warehousing etc.\\n \\nPlanned arrangements \\nfor the Recognition of Prior learning (RPL):\\n \\nNot applicable\\n \\n \\nInternational comparability where known:\\n \\n------\\n \\n \\n \\n \\n \\n \\n \\n \\n \\n \\n \\n \\n \\n \\n \\n \\n \\n \\n \\n \\n \\n \\n \\n \\n \\n \\nQUALIFICATION FILE TEMPLATE\\n \\n \\n \\nPage \\n6\\n \\nof \\n18\\n \\n \\nFormal \\nS\\ntructure of the \\nQ\\nualification\\n \\nLMV \\nOwner \\nDriver\\n \\nMandatory/\\n \\nOptional\\n \\nEstimated \\nSize \\n                     \\n(learning \\nhours)\\n \\nLevel\\n \\n \\nPROFESSIONAL KNOWLEDGE\\n \\n \\nA \\n-\\n \\nEntrepreneurship\\n \\n \\n1.\\n \\nKnowledge of self\\n-\\nconfidence , attitude \\n \\n2.\\n \\nEntrepreneurial  competencies\\n \\n3.\\n \\nBanking, insurance , financial accountancy and management\\n \\n4.\\n \\nLegal aspects ,regulatory aspects of SMEs\\n \\n \\nB \\n\\n \\nTechnical\\n \\nKnowledge\\n \\n \\n5.\\n \\nScope\\n \\nand opportunities for LMV based transport business \\n \\n6.\\n \\nDifferent important parts of motor vehicles and its functions \\n \\n7.\\n \\nKnowledge regarding different types of Light Commercial Motor Vehicles \\nand its different features.\\n \\n8.\\n \\nLegal aspects of operati\\nng a transport business including Central Motor \\nVehicles Act and Rules. \\n \\n9.\\n \\nBasic Knowledge for Troubleshooting in case of vehicle failure \\n \\n10.\\n \\nKnowledge about log book and different papers related to vehicles\\n \\n11.\\n \\nQualities of a good driver\\n-\\nattitude, patience ,respon\\nsibility,self\\n-\\nconfidence,anticipation,concentration,courtesy,etiquette&mannerism \\n \\n12.\\n \\nEnvironmental aspects (pollution etc.). \\n \\n13.\\n \\nSafety aspects \\n-\\n \\nFirst Aid, Fire precautions and safety features of a \\ncommercial vehicle. \\n \\n14.\\n \\nDriving in difficult and hazardous conditi\\nons\\n \\n \\n \\n \\n \\nMandatory\\n \\n \\n \\n \\n \\n \\n \\n \\n \\nMandatory\\n \\n \\n \\n \\n \\n \\n \\n \\n \\n32\\n \\nhours\\n \\n \\n \\n \\n \\n \\n \\n \\n \\n60\\n \\nhours\\n \\n \\n \\n \\n \\nLevel \\n4\\n \\n \\n \\n \\n \\n \\n \\n \\n \\nLevel 4\\n \\nQUALIFICATION FILE TEMPLATE\\n \\n \\n \\nPage \\n7\\n \\nof \\n18\\n \\n \\nTechnical \\nSkills\\n \\n \\n15.\\n \\nOperating a LMV vehicle in an off road environment and applying risk \\nreduction techniques and strategies while driving\\n \\n16.\\n \\nUse of Tools/ \\nEquipment in the vehicle and Basic technical check before \\nthe trip\\n \\n17.\\n \\nDismantling and Reassembling of tires \\n \\n18.\\n \\nPlanning \\n-\\n \\nplan and drive based on traffic and road condition using radio \\nlinks/navigation aids where available\\n \\n19.\\n \\nEco driving and security driving\\n \\n20.\\n \\nPreve\\nntive maintenance and safety devices\\n \\n21.\\n \\nPractical knowledge on vehicle Controls,  Reversing / parking, Starting & \\nmoving, Turnings\\n-\\n \\nleft & right, Intersection approach, \\n \\n22.\\n \\nSpeed selection, Following distance, Lane management, \\nOvertaking/passing, Proper use of c\\nontrols, Defensive driving. \\n \\n23.\\n \\nAngular parking, Parallel parking, Reversing, U \\n\\n \\nTurning, Emergency \\nbraking\\n \\n \\n \\nMandatory\\n \\n \\n \\n \\n \\n \\n \\n \\n \\n \\n \\n \\n \\n \\n \\n \\n \\n \\n \\n10\\n8\\n \\nhours\\n \\n \\n \\n \\n \\n \\n \\n \\n \\n \\n \\n \\n \\n \\n \\n \\n \\n \\n \\n \\nLevel 4\\n \\n \\n \\n \\n \\n \\n \\n \\n \\n \\n \\n \\n \\n \\n \\n \\n \\nCore Skills \\n \\n \\n24.\\n \\nIdentify business opportunities in chosen sector \\n \\n25.\\n \\nConduct market survey and prepare simple business plan \\n \\n26.\\n \\nAbility to plan and assess risk \\n \\n27.\\n \\nProblem solving capabilities\\n \\n28.\\n \\nTime management skills\\n \\n29.\\n \\nCommunication skills\\n \\n30.\\n \\nBusiness Management skills\\n \\n \\nMandatory\\n \\n \\n3\\n4\\n \\nhours\\n \\n \\nLevel 4\\n \\nAdmission\\n, Evaluation Test & \\nValedicotry\\n \\nMandatory\\n \\n6\\n \\nh\\nours\\n \\n-\\n \\nTotal Duration of the Course\\n \\n   \\n240hrs\\n \\n \\n \\n \\n \\n \\n \\n \\n \\nQUALIFICATION FILE TEMPLATE\\n \\n \\n \\nPage \\n8\\n \\nof \\n18\\n \\n \\nSECTION 1 \\n-\\n \\nASSESSMENT\\n \\nBody/Bodies which will carry out assessment:\\n \\n \\nThis qualification will be used by 585 RSETIs \\n(list is furnished in Annexure IV)\\n \\nacross the country which \\nhas been established in each district. These RSETIs are controlled by commercial banks (both \\nGovernment owned and Private). NAR is a separate body and there is no linkage in management and \\ncontrol between the RSETIs offering the t\\nraining and NAR which will conduct the assessment. The \\nassessment of outcome of the qualification will be done by NAR which is an independent organization. \\nIt is run by professionals who are expert in rural entrepreneurship development. In NAR there will b\\ne a \\n\\nassessment through its empanelled assessors at the RSETI level. The empanelled assessors will be \\nprovided training by NAR.\\n \\n \\nHow will RPL assessment be man\\naged and who will carry out?\\n \\n \\nNot Applicable\\n \\n \\nDescribe the overall assessment strategy and specific arrangements which have been put in place \\nto ensure that assessment is always valid, reliable and fair and show that these are in line with the \\nrequirements\\n \\nof NSQF.\\n \\n \\nAssessment tools for the Qualification are decided on the basis of composition of knowledge and skill in \\nthat particular Course. All assessments shall have at least two tools viz.1. Practical test and 2. Written \\ntest and/or Viva.\\n \\n1.\\n \\nAssessment \\nprocess:\\n \\n \\nThe assessment will be primarily carried out by collecting evidence of competence gained by the \\ntrainees by observing them at work, asking questions and initiating formative discussions to assess \\nunderstanding and by evaluating their practical \\nwork. The question papers for the theory Examinations \\ncontain objective/descriptive type questions, drawings etc.\\n \\n \\nMinimum pass mark:\\n \\nOverall 50%  of marks allotted\\n \\n \\n2.\\n \\nTesting and certifications for the course:\\n \\n \\nArrangements will be made by NAR to ensure tha\\nt the evidence on which assessment / judgments \\nmade are comparable for all trainees and that the judgments made does not vary from assessor to \\nassessor. Arrangements relating to the conduct and monitoring process of assessment are as follows:\\n \\n\\n \\nQuestions pap\\ners will be prepared by NAR in consultation with vocation experts in the field.\\n \\n\\n \\nStructured tests at the Institute level will be administered in the presence of the assessors.\\n \\n\\n \\nThe tests will be supervised and monitored at  every Centre\\n \\n\\n \\nTheory and practical \\nExaminations will be carried out with invigilators/examiners with the overall \\nsupervision of the certified assessors.\\n \\n\\n \\nExaminers called for evaluation of practical will have technical expertise in the field\\n \\nQUALIFICATION FILE TEMPLATE\\n \\n \\n \\nPage \\n9\\n \\nof \\n18\\n \\n \\n \\nASSESSMENT EVIDENCE\\n \\n \\nAssessment & Evaluation:\\n \\n \\nThe trainees will be assessed through a structured test process. The test will comprise of both written, \\npractical and viva voce. Standard question paper will be devised keeping in view the expected outcome \\nof the training. The test will be administered by\\n \\ncertified and empanelled assessors at RSETI level. The \\ntechnical skill component will be tested through practical examination. Both of these tests will be \\nfollowed by personal interview wherein the entrepreneurial competencies will be tested. The extent o\\nf \\ninternalization of the inputs given will be tested. The face\\n-\\nto\\n-\\nface interview will assess the overall ability \\nof the trainee concerned to perform the defined job role including behavioral aspects of entrepreneurial \\ncompetencies.  On getting the results \\nof these tests from the assessors at ground level, a senior expert \\nin entrepreneurship at NAR, Bengaluru will review the marks and on his validation, system generated \\ncertificates will be issued to the successful candidates online.\\n \\n \\n \\nQUALIFICATION FILE TEMPLATE\\n \\n \\n \\nPage \\n10\\n \\nof \\n18\\n \\n \\n \\n \\n \\nEntrepreneurship Devel\\nopment \\n \\nAssessable Outcomes\\n \\nPerformance Criteria\\n \\nAssessment Criteria\\n \\nTotal\\n \\nTheory\\n \\nPractical\\n \\n1.\\n \\nCandidate is clearly able to \\ndifferentiate between Wage \\nemployment, Self\\n-\\nemployment \\nand Entrepreneurship\\n \\n2.\\n \\nUnderstand, appreciate and \\ndevelop the self\\n-\\nconfidence\\n \\nfor \\nembarking on self\\n-\\nemployment / \\nentrepreneurship.\\n \\n3.\\n \\nUnderstand and internalize \\nentrepreneurial competencies \\nand know their importance for \\nbecoming a successful \\nentrepreneur.\\n \\n4.\\n \\nTrainee is able to understand \\nthe legal and regulatory \\naspects of launching an \\ne\\nnterprise.\\n \\n5.\\n \\nTrainee is able to appreciate \\nneed for continuous growth \\nand expansion of an \\nenterprise\\n \\n6.\\n \\nTrainee is able to analyze \\nmajor trends in a given \\neconomic sector / sub\\n-\\nsector \\nand identify Business \\nOpportunities\\n \\n7.\\n \\nTrainee is able to conduct \\nmarket survey \\nand develop \\nsound Business Plans based \\non obtained data.\\n \\n8.\\n \\nDevelop effective personal \\nmanagement skills like time \\nmanagement and \\ncommunication skills.\\n \\n9.\\n \\nKnows to maintain simple \\nbooks of accounts and \\nprepare financial statement for \\nsmall business \\n \\n10.\\n \\nTrainees abl\\ne to devise a \\nsimple marketing and sales \\nstrategies and plan for a small  \\nbusiness\\n \\n11.\\n \\nTrainees able to manage \\nsmall team of workers \\nrequired for managing a small \\nbusiness\\n \\nPC 1\\n \\n\\n \\nUnderstanding the Context and Need for Rural \\nEntrepreneurship Development, Role o\\nf RSETIs\\n \\n1\\n \\n1\\n \\n0\\n \\nPC 2\\n \\n\\n \\nDeveloping Self Confidence and Positive Attitude \\n(Micro Lab & Tower Building)\\n \\n2\\n \\n1\\n \\n1\\n \\nPC 3 \\n\\n \\nComparative Advantages of Entrepreneurship and \\nSelf Employment over Wage Employment\\n \\n1\\n \\n1\\n \\n0\\n \\nPC 4\\n \\n\\n  \\nUnderstanding and \\nself\\n-\\nevaluation\\n \\nof \\nAchievement Motivation and ways and improve \\nmotivation (SRQ)\\n \\n6\\n \\n2\\n \\n4\\n \\nPC 5\\n  \\n-\\n \\nUnderstanding and internalizing  entrepreneurial  \\ncompetencies\\n \\n5\\n \\n3\\n \\n2\\n \\nPC 6\\n \\n-\\n \\nUnderstanding the Concept of Risk Taking and \\nAbility to do Risk Assessment (Ring Toss Game)\\n \\n3\\n \\n1\\n \\n2\\n \\nPC 7\\n \\n-\\n \\nUnderstanding the importance of Systematic \\nPlanning and Efficiency Orientation  (Boat Building)\\n \\n2\\n \\n1\\n \\n1\\n \\nPC 8\\n \\n-\\n \\nBeing able to understand the importance of \\nQuality Assurance and Improvement in Business\\n \\n3\\n \\n1\\n \\n1\\n \\nPC 9\\n \\n-\\n \\nUnderstanding the process of steps in Problem \\nSolving\\n \\n2\\n \\n2\\n \\n1\\n \\nPC 10 \\n\\n \\nTime Management \\n\\n \\nUnderstanding of Basic \\nConcepts and ability to manage time\\n \\n3\\n \\n2\\n \\n1\\n \\nPC 11 \\n\\n \\nEffective Communication Skills \\n\\n \\nUnderstanding \\nof Basic  Concepts and ability\\n \\n2\\n \\n1\\n \\n1\\n \\nPC  \\n12\\n \\n\\n \\nAbility to assess market conditions and \\nidentify\\n \\nappropriate business opportunities\\n \\n3\\n \\n3\\n \\n0\\n \\nPC  13\\n \\n-\\n \\nAbility to Conduct Market Survey on a limited \\nscale in a given area of Business\\n \\n7\\n \\n3\\n \\n4\\n \\nPC 14\\n \\n\\n \\nUnderstanding of Banking &\\n \\nInsurance and how \\nit can help a \\nstartup\\n \\nenterprise\\n \\n6\\n \\n3\\n \\n3\\n \\nPC 15\\n \\n\\n \\nAbility to Prepare Business Plan based on data \\nobtained from Market Survey\\n \\n16\\n \\n6\\n \\n10\\n \\nPC 16\\n \\n\\n \\nUnderstanding licensing and regulatory aspects \\nof launching an enterprise.\\n \\n3\\n \\n3\\n \\n0\\n \\nPC 17\\n \\n\\n \\nAbility to Maintain Books of Accounts and \\nDevelop Financial Statements for a Small Business\\n \\n8\\n \\n6\\n \\n2\\n \\nPC 18\\n \\n\\n \\nUnderstanding and ability for Inventory and \\nMaterials Management\\n \\n5\\n \\n3\\n \\n2\\n \\nPC 19\\n \\n\\n \\nUnderstanding  and ability for Sales and \\nMarketing\\n \\n7\\n \\n4\\n \\n3\\n \\nPC 20\\n \\n\\n \\nHuman Resource Management \\n\\n \\nUnderstanding \\nof Concepts and ability to manage a team\\n \\n5\\n \\n3\\n \\n2\\n \\nPC 21\\n \\n-\\n \\nUnderstanding of Basic Laws relating to MSMEs\\n \\n5\\n \\n5\\n \\n0\\n \\nPC 22\\n \\n\\n \\nGrowth and Strategic Planning  \\n-\\n \\nUnderstanding \\nof Concepts\\n \\n5\\n \\n5\\n \\n0\\n \\nTotal EDP\\n \\n100\\n \\n60\\n \\n40\\n \\nQUALIFICATION FILE TEMPLATE\\n \\n \\n \\nPage \\n11\\n \\nof \\n18\\n \\n \\nAssessable \\nOutcomes \\n \\nPerformance C\\nriteria \\n \\nAssessment Criteria \\n \\nTotal\\n \\nTheory\\n \\nPractical\\n \\nTechnical Knowledge\\n \\n1.\\n \\nUnderstood the scope for \\nLMV based transport \\nbusiness in different \\nsectors, area \\n(geographies) and \\ndifferent business \\nmodels.\\n \\n2.\\n \\nTrainees should \\nknow the \\ndifferent parts of LMV and \\nits functions\\n \\n3.\\n \\nTrainees should able to \\ndifferentiate among the \\nvarious models of light \\nmotor vehicles.\\n \\n4.\\n \\nTrainees should know the \\nprovisions of the Central \\nMotor Vehicles Act and its \\nrules.\\n \\n5.\\n \\nThe trainee should be \\nable to ind\\nentify road sign \\nsymbols \\n \\n6.\\n \\nTrainees should know \\nhow  to troubleshoot while \\nfacing vehicle failures\\n \\n7.\\n \\nCandidate is aware the \\nimportance and necessity \\nand maintaining all \\ndocuments related to \\noperating the commercial \\nvehicle.\\n \\n8.\\n \\nTrainee should have \\nunderstood the \\ngood \\nqualities of driving , \\npatience and \\nresponsibility towards the \\nroad users and should \\nknow the importance of \\nconcentration  \\n \\n9.\\n \\nTrainee should have \\nunderstood the \\nenvironmental aspects of \\noperating a commercial \\nvehicle mainly air \\npollution\\n \\n10.\\n \\nTrainee should have \\nunderstood the safety \\naspects and precautions \\nAfter gaining professional knowledge the trainee will have:\\n \\nPC 1\\n \\n-\\n \\nGood level of int\\nerest in becoming entrepreneur \\nin the transport sector.\\n \\n4\\n \\n4\\n \\nNil\\n \\nPC 2 \\n\\n \\nUnderstanding of scope and limitation of \\ntransport business in LMV segment\\n \\n4\\n \\n4\\n \\nNil\\n \\nPC 3\\n \\n\\n \\nUnderstanding of operating transport business in \\ndifferent models such as contracting, prospecting orders \\nbased, free\\n-\\nlancing, shop/outlet/retail based operations \\netc.\\n \\n5\\n \\n5\\n \\nNil\\n \\nPC 4 \\n\\n \\nUnderstanding of the basic feature of a LMV \\n \\n4\\n \\n4\\n \\nNil\\n \\nPC 5 \\n\\n  \\nUnderstanding of vehicle operations like h\\nolding \\nsteering wheel, gear changing, turning, sounding horn, \\noperating dash board switches, signaling\\n \\n5\\n \\n5\\n \\nNil\\n \\nPC 6\\n \\n\\n \\nKnowledge of the comparative analysis and \\nunderstanding of the different models of LMVs available \\nin the market \\n\\n \\nits advantages and disadvantages \\n \\n4\\n \\n4\\n \\nNil\\n \\nPC6 \\n\\n \\nKnowledge of the provisions CMV Act and how it \\nhas evolved over the years.\\n \\n5\\n \\n5\\n \\nNil\\n \\nPC 7 \\n-\\n \\nHow various provisions of CMV Act affect \\ntransport business?\\n \\n5\\n \\n5\\n \\nNil\\n \\nPC 8 \\n\\n \\nKnow how of the important rules of CMV \\nrequired for a commercial vehicle operator\\n \\n5\\n \\n5\\n \\nNil\\n \\nPC 9 \\n\\n \\nProvide proper explanation of all the road signs \\nand symbols\\n \\n5\\n \\n5\\n \\nNil\\n \\nPC 10 \\n\\n \\nUnderstanding of \\nsafe driving techniques and \\ntraffic regulations\\n \\n5\\n \\n5\\n \\nNil\\n \\nPC 11\\n \\n-\\n \\nTroubleshooting techniques in the event of \\ntechnical problems like changing wheels using jack etc.\\n \\n5\\n \\n5\\n \\nNil\\n \\nPC 12 \\n-\\n \\nElements of good driving habits for obtaining \\nfuel efficiency : avoid clutch riding and how to avoid \\nfrequent changing of gears, frequent braking avoid over \\nspeeding \\n \\n5\\n \\n5\\n \\nNil\\n \\nPC\\n\\n \\n13 \\nTo avoid bad driving practices such as high \\nidling, sudden braking, \\ngiving wrong blinker signals etc.\\n \\n5\\n \\n5\\n \\nNil\\n \\nPC\\n\\n \\n14 \\nUnderstanding of Driving procedures in different \\nroad conditions \\n\\n \\nTypes of road junctions, driving \\nprocedures in bye pass, subways, over bridge & fly over\\n \\n5\\n \\n5\\n \\nNil\\n \\nPC\\n\\n15 \\nUnderstanding of road user characteristics like \\nPedestrians and types of road users (drunkards, \\nchildren, blind, aged people, deaf & dumb etc.), \\n \\n5\\n \\n5\\n \\nNil\\n \\nPC 16 \\n\\n \\nTrainee know about the various documents to \\nbe maintained for operating a commercial vehicle\\n \\n4\\n \\n4\\n \\nNil\\n \\nPC 17 \\n\\n \\nKnows important of vehicle insurance and how \\nto take policy and renew in time\\n \\n4\\n \\n4\\n \\nNil\\n \\nPC 18 \\n\\n \\nKnow how to PUC and how to get the test done \\nand update data on the same\\n \\n4\\n \\n4\\n \\nNil\\n \\nPC 19 \\n\\n \\nIll\\n-\\neffects of driving under influence of alcohol \\nand permitted levels, regulations etc.\\n \\n4\\n \\n4\\n \\nNil\\n \\nQUALIFICATION FILE TEMPLATE\\n \\n \\n \\nPage \\n12\\n \\nof \\n18\\n \\n \\nlike how to do first aid and \\nfire accidents and \\nhazardous conditions \\nwhile driving a \\ncommercial vehicle\\n \\nPC 20 \\n\\n \\nHow to cope with emergency situations like fire, \\naccidents, flood conditions etc.\\n \\n4\\n \\n4\\n \\nNil\\n \\nPC 21\\n \\n-\\n \\nTypes of Accidents, causes, preventions, \\n\\naccidents\\n \\n5\\n \\n5\\n \\nNil\\n \\nTotal\\n \\n100\\n \\n100\\n \\nNil\\n \\nTechnical Skills\\n \\n11.\\n \\nTrainee should able to \\nrun the vehicle in all the \\nall the situations and \\nenvironments like in case \\nof any malfunctioning or \\nbreakdown, to \\nimmediately attend to the \\nproblem by : \\n \\na.\\n \\nstopping the vehicle at a \\nsafe place \\n \\nb.\\n \\ncarrying out a quick \\ndiagnostic check \\n \\nc.\\n \\nc\\narrying out minor \\nadjustments or temporary \\nrepairs if possible \\n \\nd.\\n \\nAsking for help in case of \\nmajor problems by \\naccurately reporting the \\nexact nature of problem \\nso that adequate help is \\nmade available \\n \\n12.\\n \\nTrainee should able to \\nhandle all kinds of tools \\nand equi\\npment's of \\nvehicle while driving\\n \\n13.\\n \\nTrainee should able to \\ndismantling and \\nreassembling of tires and \\nshould be able to identify \\nthe vehicle problems \\n \\n14.\\n \\nTrainee should be able to \\nfollow the eco\\n-\\nfriendly \\ndriving as well security \\ncautions of road users \\n \\n15.\\n \\nTrainee sh\\nould be able to \\npractice good driving \\nhabits of gear change, \\nacceleration and braking \\nto ensure obtaining \\nmaximum fuel efficiency\\n \\nAfter undergoing training the candidate will be able to:\\n \\n \\n \\n \\nPC 22\\n \\n\\n \\nInspect the vehicle and ensure it is ready for \\ntransportation\\n \\n4\\n \\nNil\\n \\n4\\n \\nPC 23\\n \\n-\\n \\nCheck if all documents are in order required in \\nthe vehicle\\n \\n4\\n \\nNil\\n \\n4\\n \\nPC 24\\n \\n\\n \\nCheck if loading of goods has been done \\nproperly.\\n \\n3\\n \\nNil\\n \\n3\\n \\nPC 25\\n \\n\\n \\nStart the vehicle and check the dashboard \\nparameters for managing various driving parameters\\n \\n5\\n \\nNil\\n \\n5\\n \\nPC 26\\n \\n\\n \\nDrive a LMV safely with fair level of confidence \\nand ability\\n \\n5\\n \\nNil\\n \\n5\\n \\nPC 27\\n \\n-\\n \\nchanging lanes safely at appropriate speed and \\nobserving traffic conditions\\n \\n4\\n \\nNil\\n \\n4\\n \\nPC 28 \\n\\n \\nIs able to cope with emergency situations while \\ndriving\\n \\n5\\n \\nNil\\n \\n5\\n \\nPC 29\\n \\n\\n \\nIs able to maintain the vehicle in good condition\\n \\n4\\n \\nNil\\n \\n4\\n \\nPC 30\\n \\n\\n \\nDrive a LMV \\nsafely with fair level of confidence \\nand ability\\n \\n5\\n \\nNil\\n \\n5\\n \\nPC 31\\n-\\n \\nAbility on overtake other road users legally, \\nsafely and by using correct signaling\\n \\n5\\n \\nNil\\n \\n5\\n \\nPC 32\\n \\n-\\n \\nIn case of any malfunctioning or breakdown \\nstop the vehicle at a safe place and carry out a quick \\ndiagnostic check\\n \\n5\\n \\nNil\\n \\n5\\n \\nPC 33 \\n-\\n \\nAbility of usage of indicators and arm signals to \\nsignal intentions\\n \\n5\\n \\nNil\\n \\n5\\n \\nPC 34 \\n-\\n \\nAbility on Use the parking light \\nwhen stationary, \\nwhere needed select a safe, legal and convenient place \\nto stop;\\n \\n5\\n \\nNil\\n \\n5\\n \\nPC 35\\n \\n-\\n \\nSecure the vehicle safely on gradients using \\nhand brakes and wheel choke\\n \\n5\\n \\nNil\\n \\n5\\n \\nPC 36\\n \\n-\\n \\nCheck for oncoming cyclists, pedestrians and \\nother traffic before opening your door\\n \\n5\\n \\nNil\\n \\n5\\n \\nPC 37\\n \\n-\\n \\nUse tool box provided in vehicle for trouble \\nshooting\\n \\n5\\n \\nNil\\n \\n5\\n \\nPC 38\\n \\n-\\n \\nCarrying out minor adjustments or temporary \\nrepairs if possible \\n \\n5\\n \\nNil\\n \\n5\\n \\nPC 39 \\n-\\n \\nChange tyres when required\\n \\n5\\n \\nNil\\n \\n5\\n \\nPC 40 \\n\\n \\nEnsure availability of spare tyres and other \\nimportant accessories in the vehicle\\n \\n5\\n \\nNil\\n \\n5\\n \\nPC 41 \\n-\\n \\n \\nAbility to drive in difficult road conditions\\n \\n5\\n \\nNil\\n \\n5\\n \\nPC 42 \\n\\n \\nSupervise loading and un\\n-\\nloading and \\nensure \\nsafe and secure arrangement of goods.\\n \\n2\\n \\nNil\\n \\n2\\n \\nPC 43 \\n\\n \\nUse GPS / Google Maps for locating addresses\\n \\n3\\n \\nNil\\n \\n3\\n \\nTOTAL\\n \\n100\\n \\nNil\\n \\n100\\n \\nQUALIFICATION FILE TEMPLATE\\n \\n \\n \\nPage \\n13\\n \\nof \\n18\\n \\n \\nTotal Marks for the Entire Course\\n \\n300\\n \\n160\\n \\n140\\n \\nMeans of assessment 1\\n: Physical Test\\n \\n \\n \\n \\nMeans of assessment 2\\n: Written \\nTest & Viva Voce.\\n \\n \\n \\n \\nPass : Overall 50 % and above\\n \\n \\nSECTION 2 \\n-\\n \\nEVIDENCE OF LEVEL\\n \\nOption B: Key Requirements of the Job Role\\n \\n \\nTitle of the Qualification: LMV Owner Driver\\n \\nNSQF LEVEL \\n-\\n \\n4\\n \\nProcess Required\\n \\nProfessional \\nKnowledge\\n \\nProfessional \\nSkills\\n \\nCore \\nSkills\\n \\nResponsibility\\n \\nWork in familiar \\npredictable, \\nroutine, situation of \\nclear choice\\n \\nFactual \\nknowledge of \\nfield of \\nknowledge or \\nstudy.\\n \\nRecall and \\ndemonstrate \\npractical skill, \\nroutine and \\nrepetitive in \\nnarrow range of \\napplication using \\nappropriate rule \\nand tool, using \\nquality concepts.\\n \\nLanguage to \\ncommunicate written \\nor oral, with required \\nclarity, skill to basic \\narithmetic and \\nalgebraic principles, \\nbasic understanding of \\nsocial political and \\nnatural environment\\n \\nResponsibility for own \\nwork and learning\\n \\nDriving and \\noperating a light \\nmotor vehicle on a \\ncommercial basis in \\na routine job. The job \\nrole requires the \\ncandidate to make a \\nfew clear choices \\nlike customer, routes \\netc. but these are \\nclearly defined \\nchoice and in mostly \\npredictable situation.\\n \\nFactual\\n \\nknowledge \\nequipment and\\n \\nbasic \\nknowledge\\n \\nOf\\n \\nA\\nutomobiles\\n \\nand\\n \\nDriving\\n \\nis \\nrequired which \\ncan be \\nimparted \\nthrough \\ntraining.\\n \\n \\nAbility to operate\\n \\nbased s\\ntandard\\n  \\nequipment \\nand \\n \\no\\nperating\\n \\np\\nrocedures duly\\n \\nEnsuring\\n \\nset \\nquality\\n \\nstandards.\\n \\nEnterprise launching and \\nbusiness management \\nskills to a limited scale. \\nThis can be imparted \\nthrough training. \\n \\nSince this training leads \\nto entrepreneurial \\noutcome responsibility \\nfor own work and \\nlearning is to be present \\nand demonstrated.\\n \\n \\n \\n \\nQUALIFICATION FILE TEMPLATE\\n \\n \\n \\nPage \\n14\\n \\nof \\n18\\n \\n \\nSECTION 3 \\n-\\n \\nEVIDENCE O\\nF NEED\\n \\nQUALIFICATION FILE TEMPLATE\\n \\n \\n \\nPage \\n15\\n \\nof \\n18\\n \\n \\nWhat evidence is there that the qualification is needed?\\n \\n \\n  \\n \\nEntrepreneurship has been embedded in the Indian genius and is a part of its tradition.  India traditionally \\nhas been an entrepreneurial society.  Traditionally, the \\nentrepreneurship of many communities has been \\n\\nbusiness networks.  Further, there is also a rich tradition within the Indian Diaspora, spanning the pas\\nt \\nseveral hundred years, whose spirit of enterprise is legion.\\n \\n \\n  \\n \\n\\n\\nto be done. \\n\\n\\n \\n(a Hindi word roughly translated as \\n\\ninitiative, quick thinking, cunning and resolve to quickly fulfill market demands at the lowest possible price\\ns) \\nas an entrepreneurial trait that has been as much a part of everyday Indian living as its rich tradition of \\nphilosophy and speculation.\\n \\n \\n    \\nThe development and impact of entrepreneurship in India has intensified in recent times, particularly with \\nthe r\\nise in knowledge\\n-\\nintensive services.  New entrepreneurs who do not belong to traditional business \\ncommunities have begun to emerge in large numbers.  Entrepreneurship has grown rapidly, visibly so, \\ncreating wealth and generating employment, especially in t\\nhe past twenty years.  Crucial efforts initiated \\nafter economic liberalization \\n\\n \\n\\n\\n-\\np\\n\\n\\n \\nhave helped improve the climate for Entrepreneurship.\\n \\n \\n\\n\\nrship. Recent \\nsurveys, such as those undertaken by Goldman Sachs and Pricewaterhouse Coopers, have estimated that \\n\\npotentially gain significantly from th\\n\\n\\n \\na democratic open society, a strong \\ntechnology base (with capacity for leapfrogging), unparalleled diversity, vibrant capital markets (including \\ngrowing private equity and venture capital markets), an increasingly yout\\nhful population (50% of India is 25 \\nyears and younger), a sizeable market of a large number of customer with vast unmet needs as well as an \\nenvironment of full and free competition in the private sector.\\n \\n \\n \\nQUALIFICATION FILE TEMPLATE\\n \\n \\n \\nPage \\n16\\n \\nof \\n18\\n \\n \\nIn order to give impetus to this growing demand of first generation entrepreneurs to gain formal training in \\nentrepreneurship knowledge and skills RSETIs have been established by various Banks. Ministry of Rural \\nDevelopment gives part funding of the traini\\nng. The RSETIs have been established on the RUDSETI models \\nwhich have been proved very effective in eradicating the problems of unemployed youth.  The trainings by \\nthese Institutes are unique in the sense they are demand based. The Institutes have got the \\nexperience of \\nconducting these Programmes over the years. \\nThe RUDSETI model of developing rural entrepreneurs has \\nbeen now well researched and documented \\n(see Annexure VI).\\n \\n \\nWith increasing restrictions on movement of Heavy Commercial Vehicles in city limi\\nts, and more movement \\nof goods in city limits and industrial areas there is a growing demand for entrepreneurs operating in \\ntransportation business in the LMV segment. The Parivahan Vayvasaik (Commercial Vehicle \\n\\n \\nLMV \\n-\\n \\nDriver \\nCum Operator) qualification h\\nas huge demand amongst the youth. The amount of effort going on in this \\narea, the business opportunities available in the transport business ranges from low start\\n-\\nup capital to capital \\nintensive businesses\\n \\n \\nIn order to identify the potential programmes as \\nper the needs of the unemployed youth, a \\nCommittee of General Managers of top 5 RSETI sponsoring Banks has been constituted. The General \\nManagers of State Bank of India, Punjab National Bank, Bank of Baroda, Central Bank of India and \\nBank of India are the \\nmembers of this Committee. In addition, Executive Director, RUDSETI, National \\nDirector for RSETIs and Director General, National Academy of RUDSETI who got rich field \\nexperience also joined this Committee\\n.\\n \\nThe above Committee met at Mumbai on 7th November \\n2016. \\nAfter thorough discussions and based on the past experience the Committee short listed potential \\n/need based courses for  training rural unemployed youth \\n\\n\\nis one such shortlisted need based training.\\n \\n \\nSee Annexure VII for success stories of Candidates trained under this Qualification.\\n \\n \\n \\n \\n \\nQUALIFICATION FILE TEMPLATE\\n \\n \\n \\nPage \\n17\\n \\nof \\n18\\n \\n \\n \\nWhat is the estimated uptake of this qualification and what is the basis of this estimate?\\n \\n     \\n \\n \\nPresently there \\nare 585\\n+ Rural\\n \\nSelf Employment Training Institutes (RSETIs) across the country sponsored \\nby various Banks. National Academy of RUDSETI is the   anchoring Institution which designs and approves \\nthe training programmes being conducted by these RSETIs. The Training Modules\\n \\nare demand driven and \\nare vetted by National Academy of RUDSETI, having experience of running similar programmes by the \\nRUDSETIs since over three decades. \\nParivahan Vayvasaik (Commercial Vehicle \\n\\n \\nLMV \\n-\\n \\nDriver Cum \\nOperator)\\n \\nis one of the most popular need\\n \\nbased training programmes conducted by these Institutes. These \\nprogrammes are having \\nvery good\\n \\nsettlement rate.\\n \\nThe number of  trainees under this qualification during \\nthe past three years is as under:\\n \\n \\nFY\\n \\nNo. of Training Programmes\\n \\nNumber of Candidates\\n \\n2013\\n-\\n14\\n \\n262\\n \\n6783\\n \\n2014\\n-\\n15\\n \\n243\\n \\n6497\\n \\n2015\\n-\\n16\\n \\n204\\n \\n5350\\n \\n     \\n \\n \\nCumulative settlement rate for the above training is\\n \\n39\\n% and observing the above trend\\n, the\\n \\ncandidates \\ntrained under \\nthe above\\n \\nqualification file, the number of candidates to be trained in the next 3 years is \\nestimated at more \\nthan \\n2\\n0\\n,000\\n \\ncandidates\\n.\\n \\n \\n \\n \\nWhat steps were taken to ensure that the qualification(s) does/do not duplicate already existing or \\nplanned qualifications in \\nthe NSQF?\\n \\n \\n \\nT\\nhe qualification is unique because it develops the capabilities of a youth to own, operate and drive a light \\ncommercial vehicle by developing both entrepreneurial and technical knowledge and skills.  Such a \\nqualification is currently not offer\\ned by NCVT or any of Sector Skill Council. \\nHence, the activities are unique \\nand the Qualification does not get duplicated.\\n \\n \\n \\n \\nQUALIFICATION FILE TEMPLATE\\n \\n \\n \\nPage \\n18\\n \\nof \\n18\\n \\n \\n \\nWhat Arrangements are in place to monitor and review the qualification (s)? What data will be used \\nand at point will the \\nqualification (s) be revised or updated?\\n \\n \\nNational Academy of RUDSETI has put in place a robust MIS for RSETIs. Comprehensive data (Course \\nwise/Bank Wise/State Wise) for all RSETIs is maintained by NAR in the said MIS. Entry level data include \\nthe photogra\\nph of the candidate other basic details. Course modules are made available in the MIS and \\nthe website of NAR. Training logs and Post Programme Reports with action photographs of the training are \\nalso made available in the MIS.  Details of Settlement and cr\\nedit linkages are uploaded in the MIS with \\naction photos and documentary proofs. The State Directors of RSETIs are also visiting the RSETIs every \\nquarter for reviewing the quality of training / settlement. Officials from the controlling offices of the Bank\\ns \\nand NAR are also making periodic visits to the RSETIs for reviewing the activities. MIS reports are used for \\nviewing the settlement of the trained candidates, their level of income and employment generation by \\nthem. Feedback obtained from the trained can\\ndidates, RSETI sponsoring bank and other stake holders are \\nused to review/update the course.\\n \\n \\n \\nSECTION 4\\n \\n-\\n \\nEVIDENCE OF RECOGNITION AND PROGRESSION\\n \\n \\n \\nWhat steps have been taken in the design of this or other qualifications to ensure that there is a clear path to \\nother qualifications in this sector?\\n \\n \\nThe candidates who are trained in Entrepreneurship on LMV Driving may attend skill up\\n-\\ngradation \\nProgramme for the subject qualification, where in specialized inputs are given for enabling the candidates for \\nlatest technology in automotive transmission by g\\noing in for specialized latest and upgraded versions of \\nautomotive transmission. The Candidates are also eligible for attending the growth Programmes in RSETIs \\nwhich will help them draw a growth plan for their business and go in for expansion and diversifi\\ncation in the \\nrelated field of activity. \\n \\n\""
      ]
     },
     "execution_count": 29,
     "metadata": {},
     "output_type": "execute_result"
    }
   ],
   "source": [
    "allText"
   ]
  },
  {
   "cell_type": "code",
   "execution_count": null,
   "metadata": {},
   "outputs": [],
   "source": []
  },
  {
   "cell_type": "code",
   "execution_count": null,
   "metadata": {},
   "outputs": [],
   "source": []
  },
  {
   "cell_type": "code",
   "execution_count": null,
   "metadata": {},
   "outputs": [],
   "source": []
  },
  {
   "cell_type": "code",
   "execution_count": 158,
   "metadata": {},
   "outputs": [],
   "source": [
    "df,columnName=makeDataFrameFromText(allText)"
   ]
  },
  {
   "cell_type": "code",
   "execution_count": 159,
   "metadata": {},
   "outputs": [
    {
     "data": {
      "text/plain": [
       "'CONTACT DETAILS OF SECTOR SKILL COUNCILS'"
      ]
     },
     "execution_count": 159,
     "metadata": {},
     "output_type": "execute_result"
    }
   ],
   "source": [
    "columnName[0]"
   ]
  },
  {
   "cell_type": "code",
   "execution_count": 13,
   "metadata": {},
   "outputs": [],
   "source": [
    "def makeDictionaryFromText(textData):\n",
    "    dataFrameForPdf,columnName=makeDataFrameFromText(textData)\n",
    "    uniqueWords=dataFrameForPdf[columnName[0]].unique()\n",
    "    temp={}\n",
    "    temp=makeDictionary(uniqueWords,dataFrameForPdf[columnName[0]])\n",
    "    return temp"
   ]
  },
  {
   "cell_type": "code",
   "execution_count": 10,
   "metadata": {},
   "outputs": [],
   "source": [
    "temp,columnName=makeDataFrameFromText(allText)"
   ]
  },
  {
   "cell_type": "code",
   "execution_count": 12,
   "metadata": {},
   "outputs": [
    {
     "data": {
      "text/plain": [
       "0                                       QUALIFICATION FIL\n",
       "1                                              E GUIDANCE\n",
       "2                                             Version 6: \n",
       "3                                                       D\n",
       "4                                                 raft of\n",
       "5                                                      08\n",
       "6                                              March 2016\n",
       "7                                                       1\n",
       "8                                     CONTACT DETAILS OF \n",
       "9                                                     THE\n",
       "10                                                   BODY\n",
       "11                                        SUBMITTING THE \n",
       "12                                          QUALIFICATION\n",
       "13                                                   FILE\n",
       "14                                   Name and address of \n",
       "15                                             submitting\n",
       "16                                                  body:\n",
       "17                Directorate General of Training (DGT), \n",
       "18      Ministry of Skill Development & Entrepreneursh...\n",
       "19                       Shram Shakti Bhawan, Rafi Marg, \n",
       "20                                              New Delhi\n",
       "21                                           Name and con\n",
       "22      tact details of individual dealing with the su...\n",
       "23                              Name: Sh. Dinesh Nijhawan\n",
       "24           Position in the organisation: Director (CFI)\n",
       "25                        Address if different from above\n",
       "26                                          Tel number(s)\n",
       "27                                                    011\n",
       "28                                                      -\n",
       "29                                               23708071\n",
       "                              ...                        \n",
       "1090                              EVIDENCE OF PROGRESSION\n",
       "1091    What steps have been taken in the design of th...\n",
       "1092                                                clear\n",
       "1093                                                path \n",
       "1094                                                   to\n",
       "1095                                                   ot\n",
       "1096                   her qualifications in this sector?\n",
       "1097               An Individual has vertical pathway to \n",
       "1098    promote to higher designations in an organisation\n",
       "1099                                                    .\n",
       "1100                                         Can further \n",
       "1101                       undergo specialization course \n",
       "1102     like advanced Tally, Modern Accounting software \n",
       "1103                              to excel to the higher \n",
       "1104                                                 post\n",
       "1105                                                   in\n",
       "1106                                    jobs listed above\n",
       "1107                                                    .\n",
       "1108                                   Progression chart:\n",
       "1109                                             Assistan\n",
       "1110                                                    t\n",
       "1111               Accountant  > Executive Accountant >  \n",
       "1112                                           Assistant \n",
       "1113                                      Account Manager\n",
       "1114                                    > Deputy Account \n",
       "1115                                              Manager\n",
       "1116    This publication has been produced with the as...\n",
       "1117                                                 resp\n",
       "1118    onsibility of the EU Skills Development Projec...\n",
       "1119                                      European Union.\n",
       "Name: NSQF , Length: 1120, dtype: object"
      ]
     },
     "execution_count": 12,
     "metadata": {},
     "output_type": "execute_result"
    }
   ],
   "source": [
    "temp[columnName[0]]"
   ]
  },
  {
   "cell_type": "code",
   "execution_count": 260,
   "metadata": {},
   "outputs": [
    {
     "data": {
      "text/plain": [
       "100.0"
      ]
     },
     "execution_count": 260,
     "metadata": {},
     "output_type": "execute_result"
    }
   ],
   "source": [
    "ans"
   ]
  },
  {
   "cell_type": "code",
   "execution_count": 21,
   "metadata": {},
   "outputs": [],
   "source": [
    "# unique words generating dictionary\n",
    "def makeDictionary(array,cleanWords):\n",
    "    dict1={} \n",
    "    for word in array:\n",
    "        count=0\n",
    "        for i in range(len(cleanWords)):\n",
    "            if word==cleanWords[i]:\n",
    "                count=count+1\n",
    "        dict1[word]=count\n",
    "    return dict1"
   ]
  },
  {
   "cell_type": "code",
   "execution_count": 20,
   "metadata": {},
   "outputs": [],
   "source": [
    "def generateResult(dictonaryOfFirstFile,dictionaryOfAllPreviosPdf):   \n",
    "    index1=getIndex(dictonaryOfFirstFile)\n",
    "    index2=getIndex(dictionaryOfAllPreviosPdf)\n",
    "    valSum=0\n",
    "    for indexValue in index1:\n",
    "        if indexValue in index2 :\n",
    "            if dictonaryOfFirstFile[indexValue]==dictionaryOfAllPreviosPdf[indexValue]:\n",
    "                valSum=valSum+1\n",
    "            else:\n",
    "                valSum=valSum+(min(dictonaryOfFirstFile[indexValue],dictionaryOfAllPreviosPdf[indexValue]))/max(dictonaryOfFirstFile[indexValue],dictionaryOfAllPreviosPdf[indexValue])        \n",
    "    return (valSum/max(len(dictonaryOfFirstFile),len(dictionaryOfAllPreviosPdf)))*100"
   ]
  },
  {
   "cell_type": "code",
   "execution_count": 19,
   "metadata": {},
   "outputs": [],
   "source": [
    "#getting the words from the dictionary \n",
    "def getIndex(dictionary):                                    \n",
    "    a=[]\n",
    "    for k,v in dictionary.items():\n",
    "        a.append(k)\n",
    "    return a"
   ]
  },
  {
   "cell_type": "code",
   "execution_count": null,
   "metadata": {},
   "outputs": [],
   "source": []
  },
  {
   "cell_type": "code",
   "execution_count": 18,
   "metadata": {},
   "outputs": [],
   "source": [
    "def mainProgram():\n",
    "    file1=input(\"enter name of first file\")\n",
    "    file2=input(\"enter name of second file\")\n",
    "    text1=getTextFromPDFALLPages(file1)\n",
    "    text2=getTextFromPDFALLPages(file2)\n",
    "    dictionary1=makeDictionaryFromText(text1)\n",
    "    dictionary2=makeDictionaryFromText(text2)\n",
    "    ans=generateResult(dictionary1,dictionary2)\n",
    "    print(ans)\n",
    "#     getWordCloud(text1)\n",
    "#     getWordCloud(text2)"
   ]
  },
  {
   "cell_type": "code",
   "execution_count": 17,
   "metadata": {},
   "outputs": [
    {
     "ename": "NameError",
     "evalue": "name 'mainProgram' is not defined",
     "output_type": "error",
     "traceback": [
      "\u001b[1;31m---------------------------------------------------------------------------\u001b[0m",
      "\u001b[1;31mNameError\u001b[0m                                 Traceback (most recent call last)",
      "\u001b[1;32m<ipython-input-17-7b2c5e19000a>\u001b[0m in \u001b[0;36m<module>\u001b[1;34m()\u001b[0m\n\u001b[1;32m----> 1\u001b[1;33m \u001b[0mmainProgram\u001b[0m\u001b[1;33m(\u001b[0m\u001b[1;33m)\u001b[0m\u001b[1;33m\u001b[0m\u001b[0m\n\u001b[0m",
      "\u001b[1;31mNameError\u001b[0m: name 'mainProgram' is not defined"
     ]
    }
   ],
   "source": [
    "mainProgram()"
   ]
  },
  {
   "cell_type": "code",
   "execution_count": 268,
   "metadata": {},
   "outputs": [
    {
     "name": "stdout",
     "output_type": "stream",
     "text": [
      "enter name of first fileContact-Details-SSC.pdf\n",
      "enter name of second fileFood-Processing.pdf\n",
      "0.10619977037887485\n"
     ]
    }
   ],
   "source": [
    "mainProgram()"
   ]
  },
  {
   "cell_type": "code",
   "execution_count": 269,
   "metadata": {},
   "outputs": [
    {
     "name": "stdout",
     "output_type": "stream",
     "text": [
      "enter name of first fileContact-Details-SSC.pdf\n",
      "enter name of second fileContact-Details-SSC.pdf\n",
      "100.0\n"
     ]
    }
   ],
   "source": [
    "mainProgram()"
   ]
  },
  {
   "cell_type": "code",
   "execution_count": null,
   "metadata": {},
   "outputs": [],
   "source": []
  },
  {
   "cell_type": "code",
   "execution_count": 271,
   "metadata": {},
   "outputs": [],
   "source": [
    "data=makeDictionaryFromText(allText)"
   ]
  },
  {
   "cell_type": "code",
   "execution_count": 272,
   "metadata": {},
   "outputs": [
    {
     "data": {
      "text/plain": [
       "{'Name': 1,\n",
       " 'Email': 1,\n",
       " 'Address': 1,\n",
       " '1': 1,\n",
       " 'Automotive': 1,\n",
       " 'Automotive Skills Development ': 1,\n",
       " 'Council': 10,\n",
       " 'Mr Sunil Chaturvedi': 1,\n",
       " 'skc@asdc.org.in': 1,\n",
       " 'Automotive Skills Development Council': 1,\n",
       " 'Sat Paul Mittal Building, ': 1,\n",
       " '1/6, Siri Institutional Area,  ': 1,\n",
       " 'August Kranti Marg (Khel Gaon Marg)': 1,\n",
       " '2': 1,\n",
       " 'Security ': 1,\n",
       " 'Security Sector Skill ': 1,\n",
       " 'Development Council': 2,\n",
       " 'Maj Gen AK Sakhuja (Retd)': 1,\n",
       " 'ceo@sssdc.in': 1,\n",
       " 'Security Sector Skill Development Council': 1,\n",
       " '305, City Court': 1,\n",
       " 'Sikanderpur, MG Road': 1,\n",
       " '3': 1,\n",
       " 'Retail': 1,\n",
       " 'Council of India': 3,\n",
       " 'Mr James A Raphael ': 1,\n",
       " 'james.raphael@rasci.in ': 1,\n",
       " \"Retailers Association's Skill Council of India, \": 1,\n",
       " '703-704 Sagar Tech Plaza - A, Andheri-Kurla Road, ': 1,\n",
       " 'Sakinaka Junction, Sakinaka, Andheri (E), Mumbai-400 072.': 1,\n",
       " '4': 1,\n",
       " 'IT-ITeS': 1,\n",
       " 'IT-ITeS  Sector Skill Council': 1,\n",
       " 'Dr Sandhya Chintala ': 1,\n",
       " 'sandhya@nasscom.in': 1,\n",
       " '4E-Vandana Building (4th Floor)': 1,\n",
       " '11, Tolstoy Marg': 1,\n",
       " 'New Delhi-110001': 1,\n",
       " '5': 1,\n",
       " 'Media': 1,\n",
       " 'Media & Entertainment Skills ': 1,\n",
       " 'Ms. Sonal Mathur                               ': 1,\n",
       " 'Mr. Mohit Soni': 1,\n",
       " '(Contact Person)': 5,\n",
       " 'sonal.mathur@ficci.com;': 1,\n",
       " 'mohit.soni@ficci.com': 1,\n",
       " 'Media & Entertainment Skills Council': 1,\n",
       " 'Federation House': 2,\n",
       " 'Tansen Marg': 1,\n",
       " 'New Delhi- 110001': 1,\n",
       " '6': 1,\n",
       " 'Rubber': 1,\n",
       " 'Rubber Skill Development ': 1,\n",
       " 'Ms. Shewani Nagpal': 1,\n",
       " 'shewani.nagpal@rsdcindia.in': 1,\n",
       " 'RSDC, Ramakrishna Dalamia Wing,': 1,\n",
       " 'PHD House (4th Floor),': 1,\n",
       " 'Opp. Asian Games Village,': 1,\n",
       " 'Siri Fort Institutional Area,': 1,\n",
       " '7': 1,\n",
       " 'Healthcare': 1,\n",
       " 'Healthcare Sector Skill Council': 2,\n",
       " 'Mr Ashish Jain': 1,\n",
       " 'Ashish.Jain@healthcare-ssc.in': 1,\n",
       " 'Office No.: 711': 1,\n",
       " 'DLF Tower A, 7th Floor': 1,\n",
       " 'Jasola District Centre': 1,\n",
       " 'New Delhi - 110025 ': 1,\n",
       " '8': 1,\n",
       " 'Gems & Jewellery': 1,\n",
       " 'Gems & Jewellery Skill Council ': 1,\n",
       " 'of India': 1,\n",
       " 'Mr Binit Bhatt': 1,\n",
       " 'coo@gjsci.org': 1,\n",
       " 'Gem & Jewellery Skill Council of India': 1,\n",
       " 'Business Facilitation Centre, 3rd Floor,': 1,\n",
       " 'SEEPZ SEZ, Andheri (E),': 1,\n",
       " 'Mumbai 400 096': 1,\n",
       " '9': 1,\n",
       " 'Electronics & ': 1,\n",
       " 'Hardware': 1,\n",
       " 'Electronic Sector Skill Council of ': 1,\n",
       " 'India': 1,\n",
       " 'Mr N K Mohapatra': 1,\n",
       " 'ceo@essc-india.org': 1,\n",
       " 'Electronic Sector Skill Council of India ': 1,\n",
       " '602,604,606 and 608, 6th Floor, Ansal Chambers 2, ': 1,\n",
       " 'Bikaji Cama Place, New Delhi - 110066. ': 1,\n",
       " '10': 1,\n",
       " 'Agriculture': 1,\n",
       " 'Agriculture Skill Council of India': 2,\n",
       " 'Mr S S Arya': 1,\n",
       " 'ceo@asci-india.com': 1,\n",
       " '304-305, 3rd Floor, Bestech Chambers': 1,\n",
       " 'B-Block, Sushant Lok-1, Gurgaon': 1,\n",
       " 'Haryana-122002,': 1,\n",
       " '11': 1,\n",
       " 'Telecom': 1,\n",
       " 'Telecom Sector Skill Council of ': 1,\n",
       " 'India ': 1,\n",
       " 'Lt Gen (Retd) SP Kochhar ': 1,\n",
       " 'ceo@tsscindia.com': 1,\n",
       " 'Telecom Sector Skill Council': 1,\n",
       " '2nd Floor, Plot No 105': 1,\n",
       " 'Sector - 44, Gurgaon - 122003': 1,\n",
       " 'CEO': 1,\n",
       " 'No': 1,\n",
       " 'Name of the SSC': 1,\n",
       " 'Sector': 1,\n",
       " '12': 1,\n",
       " 'BFSI': 1,\n",
       " 'Banking, Financial Services & ': 1,\n",
       " 'Insurance (BFSI) Sector Skill ': 1,\n",
       " 'Mr. Ambarish Dutta': 1,\n",
       " '(Contact Person )': 1,\n",
       " 'Ambarish.Datta@bfsissc.com; ': 1,\n",
       " 'ambarish.datta@bseindia.com': 1,\n",
       " '25th Floor, P.J. Towers, Dalal Street, Fort, Mumbai - 400 001': 1,\n",
       " '13': 1,\n",
       " 'Leather': 1,\n",
       " 'Leather Sector Skill Council': 1,\n",
       " 'Mr Ramesh Kumar ': 1,\n",
       " 'ceo@leatherssc.org;': 1,\n",
       " 'cle@cleindia.com': 1,\n",
       " 'Leather Sector Skill Council, CFTI Campus, Annex Building, NO.65/1, ': 1,\n",
       " 'GST Road, Guindy, Chennai - 600032': 1,\n",
       " '14': 1,\n",
       " 'Food Processing': 1,\n",
       " 'Food Industry Capacity & Skill ': 1,\n",
       " 'Initiative': 1,\n",
       " 'Ms. Mallika Verma': 1,\n",
       " 'mallika.verma@ficci.com;': 1,\n",
       " 'ceo.ficsi@ficci.com': 1,\n",
       " 'Awfis, ': 1,\n",
       " 'L-29, First Floor, ': 1,\n",
       " 'Connaught Place (Outer Circle) ': 1,\n",
       " 'New Delhi 110001': 1,\n",
       " '15': 1,\n",
       " 'Logistics': 1,\n",
       " 'Logistics Skill Council': 1,\n",
       " 'Capt. Ramanujan (Retd)': 1,\n",
       " 'ramanujam@lsc-india.com': 1,\n",
       " 'LOGISTICS SKILLS COUNCIL': 1,\n",
       " 'Confederation Of Indian Industry (Institute of Logistics)': 1,\n",
       " 'Unit \"E\", 10th floor': 1,\n",
       " 'IIT Madras Research Park': 1,\n",
       " 'Kanagam road': 1,\n",
       " 'TARAMANI, Chennai- 600013.': 1,\n",
       " '16': 1,\n",
       " 'Plumbing': 1,\n",
       " 'Indian Plumbing Skills Council': 1,\n",
       " 'Mr. Vinay Gupta': 1,\n",
       " 'vinayg@bathlineindia.in': 1,\n",
       " 'Indian Plumbing Skills Council, B168,169, DDA Sheds, Okhla Phase -': 1,\n",
       " '1,New Delhi': 1,\n",
       " '17': 1,\n",
       " 'Capital Goods': 1,\n",
       " 'Capital Goods Skill Council': 1,\n",
       " 'Mr Inder S Gahlaut': 1,\n",
       " 'inder.gahlaut@cgsc.in': 1,\n",
       " 'Awfice Space Solutions Pvt Ltd': 2,\n",
       " '1st Floor, L-29, Outer Circle                                         ': 2,\n",
       " 'Connaught place,                                                                 ': 2,\n",
       " '18': 1,\n",
       " 'Construction': 1,\n",
       " 'Construction Skill Development ': 1,\n",
       " 'Col  Ashwani Kumar joshi ': 1,\n",
       " '(Retd)': 1,\n",
       " 'ashwani@csdcindia.org      ': 1,\n",
       " 'Construction Skill Development Council of India, 204, Aashirwad ': 1,\n",
       " 'Complex, D-1, Green Park,New Delhi - 110016': 1,\n",
       " '19': 1,\n",
       " 'Life Sciences': 1,\n",
       " 'Life Sciences Sector Skill ': 1,\n",
       " 'Mr. Ranjit Madan': 1,\n",
       " 'ranjit.madan@lsssdc.in': 1,\n",
       " 'Life Sciences Sector Skill Development Council': 1,\n",
       " '# 14, Rear 2nd  Floor, Palam Marg, Vasant Vihar, New Delhi-110057': 1,\n",
       " '20': 1,\n",
       " 'Aviation & ': 1,\n",
       " 'AeroSpace': 1,\n",
       " 'Aviation & Aerospace Sector ': 1,\n",
       " 'Skill Council': 3,\n",
       " 'Mr. D Peter Immanuel': 1,\n",
       " 'ceo@aassc.in;': 1,\n",
       " 'p_immanuel@yahoo.com': 1,\n",
       " 'Aerospace and Aviation Sector Skill Council (AASSC)': 1,\n",
       " 'Technical Training Institute (TTI)': 1,\n",
       " 'Hindustan Aeronautics Limited': 1,\n",
       " 'Suranjan Das Road': 1,\n",
       " 'Vimanapura Post, Bangalore - 560017': 1,\n",
       " '21': 1,\n",
       " 'Iron & Steel': 1,\n",
       " 'Indian Iron & Steel Sector Skill ': 1,\n",
       " 'Mr Sushim Banerjee ': 1,\n",
       " 'sushim_banerjee@yahoo.com': 1,\n",
       " 'Indian Iron & Steel Sector Skill Council, KARIGORI BHAVAN': 1,\n",
       " 'Plot no.B-7, Action Area-III, 5th Floor, Room no.509': 1,\n",
       " 'Near Hazra Kalibari, Opposite Uni World City': 1,\n",
       " 'New Town, Kolkata, West Bengal, Pin-700156.': 1,\n",
       " '22': 1,\n",
       " 'Power': 1,\n",
       " 'Power Sector Skill Council': 1,\n",
       " 'Mr. Vinod Behari': 1,\n",
       " 'vinodbehari14@yahoo.co.in;': 1,\n",
       " 'ceo@psscindia.org': 1,\n",
       " 'Power Sector Skill Council,Plot No. 4, Institutional Area, CBIP Building, ': 1,\n",
       " 'Malcha Marg, Chanakyapuri, New Delhi-110 021': 1,\n",
       " '23': 1,\n",
       " 'Mining': 1,\n",
       " 'Skill Council for Mining Sector': 1,\n",
       " 'Mr A Bhandari': 1,\n",
       " 'scms@skillcms.in': 1,\n",
       " 'Skill Council for Mining, FIMI House, B-311, Okhla Industrial Area, ': 1,\n",
       " 'Phase-I,': 1,\n",
       " 'New Delhi-110 020 ': 1,\n",
       " '24': 1,\n",
       " 'Textiles & ': 1,\n",
       " 'Handlooms': 1,\n",
       " 'Textile Sector Skill Council': 1,\n",
       " 'Mr J V Rao': 1,\n",
       " 'ceo@texskill.in;': 1,\n",
       " 'Textile Sector Skill Council (TSC)': 1,\n",
       " '15th Floor, Nirmal Tower, ': 1,\n",
       " '26, Barakhamba Road, New Delhi - 110 001': 1,\n",
       " 'Office: +91-11-43536355-7 ': 1,\n",
       " '25': 1,\n",
       " 'Apparels': 1,\n",
       " 'Apparel, Madeups & Home ': 1,\n",
       " 'Furnishing  Sector Skill Council': 1,\n",
       " 'Mr Roopak Vasishtha': 1,\n",
       " 'ceo@sscamh.com;': 1,\n",
       " 'roopak@sscamh.com': 1,\n",
       " 'Apparel, Made-Ups and Home Furnishing Sector Skill Council': 1,\n",
       " '1st Floor, Indian Buildings Congress, Kamakoti Marg': 1,\n",
       " 'Sector-6, R K Puram': 1,\n",
       " 'New Delhi-110022': 1,\n",
       " '26': 1,\n",
       " 'Beauty & Wellness': 1,\n",
       " 'Beauty & wellenss Sector Skill ': 1,\n",
       " 'Ms Annu Wadhwa ': 1,\n",
       " '(COO)': 1,\n",
       " 'anuw21@hotmail.com;': 1,\n",
       " 'annu.wadhwa@bwssc.in': 1,\n",
       " 'Beauty & wellenss Sector Skill Council, 405-406, 4th Floor, DLF City ': 1,\n",
       " 'Court, M G Road, Sikanderpur, Gurgaon - 122002': 1,\n",
       " '27': 1,\n",
       " 'Handicrafts': 1,\n",
       " 'Handicrafts & carpets Sector ': 1,\n",
       " 'Mr Rajesh Rawat': 1,\n",
       " 'ceo@hcssc.in; ': 1,\n",
       " 'Handicrafts Sector Skill Council, Export Promotion Council for ': 1,\n",
       " \"Handicrafts,EPCH House, Pocket 6&7, Sector 'C', LSC, Vasant Kunj, \": 1,\n",
       " 'New Delhi-110070': 1,\n",
       " '28': 1,\n",
       " 'Tourism & ': 1,\n",
       " 'Hospitality': 1,\n",
       " 'Tourism & Hospitality Skill ': 1,\n",
       " 'Mr Praveen Roy': 1,\n",
       " 'praveen.roy@thsc.in;': 1,\n",
       " 'Tourism & Hospitality Skill Council, 801, Tower A, Unitech Signature ': 1,\n",
       " 'Towers, South City 1, Gurgaon, Haryana 122001': 1,\n",
       " '29': 1,\n",
       " 'Infrastructure ': 1,\n",
       " 'Equipment': 1,\n",
       " 'Infrastructure Equipment Skill ': 1,\n",
       " 'Mr H S Mohan': 1,\n",
       " 'hs.mohan@iescindia.com;': 1,\n",
       " 'Infrastructure Equipment Skill Council': 1,\n",
       " '# 23-29, FF5, First Floor, \"White House Building\"': 1,\n",
       " 'St. Marks Road, (Opp SBI)': 1,\n",
       " 'Bengaluru - 560001': 1,\n",
       " '30': 1,\n",
       " 'Sports ': 1,\n",
       " 'Sports, Physical Education, ': 1,\n",
       " 'Fitness and Leisure Sector Skill ': 1,\n",
       " 'Wg. Cdr Satish Aparajit': 1,\n",
       " 'satish.aparajit@sportsskills.in;satish.aparajit@ficci.in': 1,\n",
       " '31': 1,\n",
       " 'Oil & Gas': 1,\n",
       " 'Hydro Carbon Sector Skill ': 1,\n",
       " 'Mr. Rajesh Kumar Saini': 1,\n",
       " 'mgr.admn.oidb@nic.in;': 1,\n",
       " 'petrofed@petrofed.org': 1,\n",
       " 'Oil Industry Development Board (OIDB), 3rd Floor, Tower C, Plot No. 2, ': 1,\n",
       " '32': 1,\n",
       " 'Chemical & ': 1,\n",
       " 'PetroChemical': 1,\n",
       " 'Chemical & PetroChemical ': 1,\n",
       " 'Sector Skill Council': 2,\n",
       " 'Mr  P S Singh': 1,\n",
       " 'prabhsharan.singh@ficci.com': 1,\n",
       " 'FICCI': 1,\n",
       " 'Tansen Marg, New Delhi 110001': 1,\n",
       " '33': 1,\n",
       " 'Coating & Painting': 1,\n",
       " 'Paints and Coatings Skill Council': 1,\n",
       " 'Mr V S Ram': 1,\n",
       " 'ceo@pcsc.in': 1,\n",
       " 'Paints and Coatings Skill Council,105, Kakad Chambers, 132 Dr. A B ': 1,\n",
       " 'Road, Worli, Mumbai 400018': 1,\n",
       " '34': 1,\n",
       " 'Green Jobs': 1,\n",
       " 'Skill Council for Green Jobs': 1,\n",
       " 'Dr P Saxena': 1,\n",
       " 'ceogreenjobs@gmail.com': 1,\n",
       " 'Skill Council for Green Jobs, 3rd Floor, CBIP Building, Malcha Marg, ': 1,\n",
       " 'Chanakyapuri, New Delhi - 110021': 1,\n",
       " '35': 1,\n",
       " 'PwD': 1,\n",
       " 'Skill Council for PwD': 1,\n",
       " 'Mr. Anup K Srivastava ': 1,\n",
       " 'anup.srivastava@scpwd.in': 1,\n",
       " '501, City Centre, 5th Floor, 12/5, Plot 5, Sector 12, Dwaraka, New Delhi ': 1,\n",
       " '110076': 1,\n",
       " '36': 1,\n",
       " 'Domestic Workers': 1,\n",
       " 'Domestic Workers Sector Skill ': 1,\n",
       " 'Mr. Amod Kanth': 1,\n",
       " 'ceo@dwsscindia.in;kanth_amod@rediffmail.com': 1,\n",
       " 'Prayas Institute of Juvenile Justice, ': 1,\n",
       " '59 Tughlakabad Institutional Area,': 1,\n",
       " 'New Delhi-110062, India': 1,\n",
       " '37': 1,\n",
       " 'Furniture & Fittings': 1,\n",
       " 'Furniture & Fittings Skill Council': 1,\n",
       " 'Mr. Gurpal Singh': 1,\n",
       " 'gurpal.singh@ffsc.in;': 1,\n",
       " '407-408, DLF City Court, M G Road, Sikanderpur, Gurgaon - 122002': 1,\n",
       " '38': 1,\n",
       " 'Instrumentation': 1,\n",
       " 'Instrumentation, Automation, ': 1,\n",
       " 'Surveillance & Communication ': 1,\n",
       " 'Mr Abhinav Jain': 1,\n",
       " 'ceo@iascsectorskillcouncil.in': 1,\n",
       " 'IASC SSC, 201-202, STBP NSIC Complex, Okhla Industrial Estate, ': 1,\n",
       " 'New Delhi, 110020': 1,\n",
       " '39': 1,\n",
       " 'Strategic ': 1,\n",
       " 'Manufacturing': 1,\n",
       " 'Strategic Manufacturing Sector ': 1,\n",
       " 'Mr Subrata Niyogi': 1,\n",
       " 'strategic.manufacturing@smssc.in; subrata.niyogi@cii.in': 1,\n",
       " 'Strategic Manufacturing Sector Skill Council': 1,\n",
       " '3rd Floor, 13 A, Palam Marg,': 1,\n",
       " '(Opp. Malai Mandir)': 1,\n",
       " 'Tel No : 011- 41010351 / 41034505 / 41045783': 1,\n",
       " 'Fax: 011- 41015619': 1,\n",
       " '40': 1,\n",
       " 'Management': 1,\n",
       " 'Management & Entrepreneurship ': 1,\n",
       " 'and Professional Skills Council': 1,\n",
       " 'Col Anil Kumar Pokhriyal, ': 1,\n",
       " 'Retd': 1,\n",
       " 'ceo@mepsc.in': 1,\n",
       " 'Management & Entrepreneurship and Professional Skills Council ': 1,\n",
       " '(MEPSC)': 1,\n",
       " 'Management House, ': 1,\n",
       " '14 Institutional Area, ': 1,\n",
       " 'Lodhi Road, ': 1,\n",
       " 'New Delhi-110003': 1}"
      ]
     },
     "execution_count": 272,
     "metadata": {},
     "output_type": "execute_result"
    }
   ],
   "source": [
    "data"
   ]
  },
  {
   "cell_type": "code",
   "execution_count": 273,
   "metadata": {},
   "outputs": [
    {
     "data": {
      "text/plain": [
       "9000"
      ]
     },
     "execution_count": 273,
     "metadata": {},
     "output_type": "execute_result"
    }
   ],
   "source": [
    "len(allText)"
   ]
  },
  {
   "cell_type": "code",
   "execution_count": 320,
   "metadata": {},
   "outputs": [],
   "source": [
    "def getWordCloud(text):\n",
    "    from matplotlib import pyplot as plt\n",
    "    df,columnName=makeDataFrameFromText(text)\n",
    "    words=\" \".join(df[columnName[0]])\n",
    "    wordcloudTemp=getWordCloudHelper(words)\n",
    "    plt.imshow(wordcloudTemp)"
   ]
  },
  {
   "cell_type": "code",
   "execution_count": 275,
   "metadata": {},
   "outputs": [],
   "source": [
    "\n",
    "    "
   ]
  },
  {
   "cell_type": "code",
   "execution_count": 282,
   "metadata": {},
   "outputs": [],
   "source": [
    "def getWordCloudHelper(text,):\n",
    "    from wordcloud import WordCloud\n",
    "    return WordCloud(background_color='white',height=4000,width=5000).generate(text)"
   ]
  },
  {
   "cell_type": "code",
   "execution_count": 326,
   "metadata": {},
   "outputs": [
    {
     "data": {
      "image/png": "[encoded data removed]",
      "text/plain": [
       "<Figure size 432x288 with 1 Axes>"
      ]
     },
     "metadata": {},
     "output_type": "display_data"
    }
   ],
   "source": [
    "getWordCloud(allText)"
   ]
  },
  {
   "cell_type": "code",
   "execution_count": 361,
   "metadata": {},
   "outputs": [],
   "source": [
    "def getCleanText(text):\n",
    "    from nltk.tokenize import sent_tokenize, word_tokenize\n",
    "    from nltk.corpus import stopwords\n",
    "    stops = set(stopwords.words('english'))\n",
    "    words=word_tokenize(text)\n",
    "    \n",
    "    clean_words = [w for w in  words if not w in stops]\n",
    "    return clean_words"
   ]
  },
  {
   "cell_type": "code",
   "execution_count": 30,
   "metadata": {},
   "outputs": [
    {
     "name": "stdout",
     "output_type": "stream",
     "text": [
      "enter name of first fileQF - LMV Owner Driver.pdf\n",
      "enter name of second fileNSQF-Light Motor Vehicle Driver.pdf\n"
     ]
    },
    {
     "ename": "EmptyDataError",
     "evalue": "No columns to parse from file",
     "output_type": "error",
     "traceback": [
      "\u001b[1;31m---------------------------------------------------------------------------\u001b[0m",
      "\u001b[1;31mEmptyDataError\u001b[0m                            Traceback (most recent call last)",
      "\u001b[1;32m<ipython-input-30-7b2c5e19000a>\u001b[0m in \u001b[0;36m<module>\u001b[1;34m()\u001b[0m\n\u001b[1;32m----> 1\u001b[1;33m \u001b[0mmainProgram\u001b[0m\u001b[1;33m(\u001b[0m\u001b[1;33m)\u001b[0m\u001b[1;33m\u001b[0m\u001b[0m\n\u001b[0m",
      "\u001b[1;32m<ipython-input-18-90a8f5e16964>\u001b[0m in \u001b[0;36mmainProgram\u001b[1;34m()\u001b[0m\n\u001b[0;32m      5\u001b[0m     \u001b[0mtext2\u001b[0m\u001b[1;33m=\u001b[0m\u001b[0mgetTextFromPDFALLPages\u001b[0m\u001b[1;33m(\u001b[0m\u001b[0mfile2\u001b[0m\u001b[1;33m)\u001b[0m\u001b[1;33m\u001b[0m\u001b[0m\n\u001b[0;32m      6\u001b[0m     \u001b[0mdictionary1\u001b[0m\u001b[1;33m=\u001b[0m\u001b[0mmakeDictionaryFromText\u001b[0m\u001b[1;33m(\u001b[0m\u001b[0mtext1\u001b[0m\u001b[1;33m)\u001b[0m\u001b[1;33m\u001b[0m\u001b[0m\n\u001b[1;32m----> 7\u001b[1;33m     \u001b[0mdictionary2\u001b[0m\u001b[1;33m=\u001b[0m\u001b[0mmakeDictionaryFromText\u001b[0m\u001b[1;33m(\u001b[0m\u001b[0mtext2\u001b[0m\u001b[1;33m)\u001b[0m\u001b[1;33m\u001b[0m\u001b[0m\n\u001b[0m\u001b[0;32m      8\u001b[0m     \u001b[0mans\u001b[0m\u001b[1;33m=\u001b[0m\u001b[0mgenerateResult\u001b[0m\u001b[1;33m(\u001b[0m\u001b[0mdictionary1\u001b[0m\u001b[1;33m,\u001b[0m\u001b[0mdictionary2\u001b[0m\u001b[1;33m)\u001b[0m\u001b[1;33m\u001b[0m\u001b[0m\n\u001b[0;32m      9\u001b[0m     \u001b[0mprint\u001b[0m\u001b[1;33m(\u001b[0m\u001b[0mans\u001b[0m\u001b[1;33m)\u001b[0m\u001b[1;33m\u001b[0m\u001b[0m\n",
      "\u001b[1;32m<ipython-input-13-fe6f54fe3751>\u001b[0m in \u001b[0;36mmakeDictionaryFromText\u001b[1;34m(textData)\u001b[0m\n\u001b[0;32m      1\u001b[0m \u001b[1;32mdef\u001b[0m \u001b[0mmakeDictionaryFromText\u001b[0m\u001b[1;33m(\u001b[0m\u001b[0mtextData\u001b[0m\u001b[1;33m)\u001b[0m\u001b[1;33m:\u001b[0m\u001b[1;33m\u001b[0m\u001b[0m\n\u001b[1;32m----> 2\u001b[1;33m     \u001b[0mdataFrameForPdf\u001b[0m\u001b[1;33m,\u001b[0m\u001b[0mcolumnName\u001b[0m\u001b[1;33m=\u001b[0m\u001b[0mmakeDataFrameFromText\u001b[0m\u001b[1;33m(\u001b[0m\u001b[0mtextData\u001b[0m\u001b[1;33m)\u001b[0m\u001b[1;33m\u001b[0m\u001b[0m\n\u001b[0m\u001b[0;32m      3\u001b[0m     \u001b[0muniqueWords\u001b[0m\u001b[1;33m=\u001b[0m\u001b[0mdataFrameForPdf\u001b[0m\u001b[1;33m[\u001b[0m\u001b[0mcolumnName\u001b[0m\u001b[1;33m[\u001b[0m\u001b[1;36m0\u001b[0m\u001b[1;33m]\u001b[0m\u001b[1;33m]\u001b[0m\u001b[1;33m.\u001b[0m\u001b[0munique\u001b[0m\u001b[1;33m(\u001b[0m\u001b[1;33m)\u001b[0m\u001b[1;33m\u001b[0m\u001b[0m\n\u001b[0;32m      4\u001b[0m     \u001b[0mtemp\u001b[0m\u001b[1;33m=\u001b[0m\u001b[1;33m{\u001b[0m\u001b[1;33m}\u001b[0m\u001b[1;33m\u001b[0m\u001b[0m\n\u001b[0;32m      5\u001b[0m     \u001b[0mtemp\u001b[0m\u001b[1;33m=\u001b[0m\u001b[0mmakeDictionary\u001b[0m\u001b[1;33m(\u001b[0m\u001b[0muniqueWords\u001b[0m\u001b[1;33m,\u001b[0m\u001b[0mdataFrameForPdf\u001b[0m\u001b[1;33m[\u001b[0m\u001b[0mcolumnName\u001b[0m\u001b[1;33m[\u001b[0m\u001b[1;36m0\u001b[0m\u001b[1;33m]\u001b[0m\u001b[1;33m]\u001b[0m\u001b[1;33m)\u001b[0m\u001b[1;33m\u001b[0m\u001b[0m\n",
      "\u001b[1;32m<ipython-input-2-1b03f4806ec9>\u001b[0m in \u001b[0;36mmakeDataFrameFromText\u001b[1;34m(textData)\u001b[0m\n\u001b[0;32m      7\u001b[0m     \u001b[0mtestData\u001b[0m\u001b[1;33m=\u001b[0m\u001b[0mStringIO\u001b[0m\u001b[1;33m(\u001b[0m\u001b[0mtextData\u001b[0m\u001b[1;33m)\u001b[0m\u001b[1;33m\u001b[0m\u001b[0m\n\u001b[0;32m      8\u001b[0m     \u001b[1;32mimport\u001b[0m \u001b[0mpandas\u001b[0m \u001b[1;32mas\u001b[0m \u001b[0mpd\u001b[0m\u001b[1;33m\u001b[0m\u001b[0m\n\u001b[1;32m----> 9\u001b[1;33m     \u001b[0mdataFrameForPdf\u001b[0m\u001b[1;33m=\u001b[0m\u001b[0mpd\u001b[0m\u001b[1;33m.\u001b[0m\u001b[0mread_csv\u001b[0m\u001b[1;33m(\u001b[0m\u001b[0mtestData\u001b[0m\u001b[1;33m,\u001b[0m\u001b[0msep\u001b[0m\u001b[1;33m=\u001b[0m\u001b[1;34m\"\\n\"\u001b[0m\u001b[1;33m)\u001b[0m  \u001b[1;31m# making the text to a dataFrame Column\u001b[0m\u001b[1;33m\u001b[0m\u001b[0m\n\u001b[0m\u001b[0;32m     10\u001b[0m     \u001b[0mcolumnName\u001b[0m\u001b[1;33m=\u001b[0m\u001b[0mlist\u001b[0m\u001b[1;33m(\u001b[0m\u001b[0mdataFrameForPdf\u001b[0m\u001b[1;33m.\u001b[0m\u001b[0mcolumns\u001b[0m\u001b[1;33m.\u001b[0m\u001b[0mvalues\u001b[0m\u001b[1;33m)\u001b[0m\u001b[1;33m\u001b[0m\u001b[0m\n\u001b[0;32m     11\u001b[0m     \u001b[1;32mreturn\u001b[0m \u001b[0mdataFrameForPdf\u001b[0m\u001b[1;33m,\u001b[0m\u001b[0mcolumnName\u001b[0m\u001b[1;33m\u001b[0m\u001b[0m\n",
      "\u001b[1;32m~\\Anaconda3\\lib\\site-packages\\pandas\\io\\parsers.py\u001b[0m in \u001b[0;36mparser_f\u001b[1;34m(filepath_or_buffer, sep, delimiter, header, names, index_col, usecols, squeeze, prefix, mangle_dupe_cols, dtype, engine, converters, true_values, false_values, skipinitialspace, skiprows, nrows, na_values, keep_default_na, na_filter, verbose, skip_blank_lines, parse_dates, infer_datetime_format, keep_date_col, date_parser, dayfirst, iterator, chunksize, compression, thousands, decimal, lineterminator, quotechar, quoting, escapechar, comment, encoding, dialect, tupleize_cols, error_bad_lines, warn_bad_lines, skipfooter, doublequote, delim_whitespace, low_memory, memory_map, float_precision)\u001b[0m\n\u001b[0;32m    676\u001b[0m                     skip_blank_lines=skip_blank_lines)\n\u001b[0;32m    677\u001b[0m \u001b[1;33m\u001b[0m\u001b[0m\n\u001b[1;32m--> 678\u001b[1;33m         \u001b[1;32mreturn\u001b[0m \u001b[0m_read\u001b[0m\u001b[1;33m(\u001b[0m\u001b[0mfilepath_or_buffer\u001b[0m\u001b[1;33m,\u001b[0m \u001b[0mkwds\u001b[0m\u001b[1;33m)\u001b[0m\u001b[1;33m\u001b[0m\u001b[0m\n\u001b[0m\u001b[0;32m    679\u001b[0m \u001b[1;33m\u001b[0m\u001b[0m\n\u001b[0;32m    680\u001b[0m     \u001b[0mparser_f\u001b[0m\u001b[1;33m.\u001b[0m\u001b[0m__name__\u001b[0m \u001b[1;33m=\u001b[0m \u001b[0mname\u001b[0m\u001b[1;33m\u001b[0m\u001b[0m\n",
      "\u001b[1;32m~\\Anaconda3\\lib\\site-packages\\pandas\\io\\parsers.py\u001b[0m in \u001b[0;36m_read\u001b[1;34m(filepath_or_buffer, kwds)\u001b[0m\n\u001b[0;32m    438\u001b[0m \u001b[1;33m\u001b[0m\u001b[0m\n\u001b[0;32m    439\u001b[0m     \u001b[1;31m# Create the parser.\u001b[0m\u001b[1;33m\u001b[0m\u001b[1;33m\u001b[0m\u001b[0m\n\u001b[1;32m--> 440\u001b[1;33m     \u001b[0mparser\u001b[0m \u001b[1;33m=\u001b[0m \u001b[0mTextFileReader\u001b[0m\u001b[1;33m(\u001b[0m\u001b[0mfilepath_or_buffer\u001b[0m\u001b[1;33m,\u001b[0m \u001b[1;33m**\u001b[0m\u001b[0mkwds\u001b[0m\u001b[1;33m)\u001b[0m\u001b[1;33m\u001b[0m\u001b[0m\n\u001b[0m\u001b[0;32m    441\u001b[0m \u001b[1;33m\u001b[0m\u001b[0m\n\u001b[0;32m    442\u001b[0m     \u001b[1;32mif\u001b[0m \u001b[0mchunksize\u001b[0m \u001b[1;32mor\u001b[0m \u001b[0miterator\u001b[0m\u001b[1;33m:\u001b[0m\u001b[1;33m\u001b[0m\u001b[0m\n",
      "\u001b[1;32m~\\Anaconda3\\lib\\site-packages\\pandas\\io\\parsers.py\u001b[0m in \u001b[0;36m__init__\u001b[1;34m(self, f, engine, **kwds)\u001b[0m\n\u001b[0;32m    785\u001b[0m             \u001b[0mself\u001b[0m\u001b[1;33m.\u001b[0m\u001b[0moptions\u001b[0m\u001b[1;33m[\u001b[0m\u001b[1;34m'has_index_names'\u001b[0m\u001b[1;33m]\u001b[0m \u001b[1;33m=\u001b[0m \u001b[0mkwds\u001b[0m\u001b[1;33m[\u001b[0m\u001b[1;34m'has_index_names'\u001b[0m\u001b[1;33m]\u001b[0m\u001b[1;33m\u001b[0m\u001b[0m\n\u001b[0;32m    786\u001b[0m \u001b[1;33m\u001b[0m\u001b[0m\n\u001b[1;32m--> 787\u001b[1;33m         \u001b[0mself\u001b[0m\u001b[1;33m.\u001b[0m\u001b[0m_make_engine\u001b[0m\u001b[1;33m(\u001b[0m\u001b[0mself\u001b[0m\u001b[1;33m.\u001b[0m\u001b[0mengine\u001b[0m\u001b[1;33m)\u001b[0m\u001b[1;33m\u001b[0m\u001b[0m\n\u001b[0m\u001b[0;32m    788\u001b[0m \u001b[1;33m\u001b[0m\u001b[0m\n\u001b[0;32m    789\u001b[0m     \u001b[1;32mdef\u001b[0m \u001b[0mclose\u001b[0m\u001b[1;33m(\u001b[0m\u001b[0mself\u001b[0m\u001b[1;33m)\u001b[0m\u001b[1;33m:\u001b[0m\u001b[1;33m\u001b[0m\u001b[0m\n",
      "\u001b[1;32m~\\Anaconda3\\lib\\site-packages\\pandas\\io\\parsers.py\u001b[0m in \u001b[0;36m_make_engine\u001b[1;34m(self, engine)\u001b[0m\n\u001b[0;32m   1012\u001b[0m     \u001b[1;32mdef\u001b[0m \u001b[0m_make_engine\u001b[0m\u001b[1;33m(\u001b[0m\u001b[0mself\u001b[0m\u001b[1;33m,\u001b[0m \u001b[0mengine\u001b[0m\u001b[1;33m=\u001b[0m\u001b[1;34m'c'\u001b[0m\u001b[1;33m)\u001b[0m\u001b[1;33m:\u001b[0m\u001b[1;33m\u001b[0m\u001b[0m\n\u001b[0;32m   1013\u001b[0m         \u001b[1;32mif\u001b[0m \u001b[0mengine\u001b[0m \u001b[1;33m==\u001b[0m \u001b[1;34m'c'\u001b[0m\u001b[1;33m:\u001b[0m\u001b[1;33m\u001b[0m\u001b[0m\n\u001b[1;32m-> 1014\u001b[1;33m             \u001b[0mself\u001b[0m\u001b[1;33m.\u001b[0m\u001b[0m_engine\u001b[0m \u001b[1;33m=\u001b[0m \u001b[0mCParserWrapper\u001b[0m\u001b[1;33m(\u001b[0m\u001b[0mself\u001b[0m\u001b[1;33m.\u001b[0m\u001b[0mf\u001b[0m\u001b[1;33m,\u001b[0m \u001b[1;33m**\u001b[0m\u001b[0mself\u001b[0m\u001b[1;33m.\u001b[0m\u001b[0moptions\u001b[0m\u001b[1;33m)\u001b[0m\u001b[1;33m\u001b[0m\u001b[0m\n\u001b[0m\u001b[0;32m   1015\u001b[0m         \u001b[1;32melse\u001b[0m\u001b[1;33m:\u001b[0m\u001b[1;33m\u001b[0m\u001b[0m\n\u001b[0;32m   1016\u001b[0m             \u001b[1;32mif\u001b[0m \u001b[0mengine\u001b[0m \u001b[1;33m==\u001b[0m \u001b[1;34m'python'\u001b[0m\u001b[1;33m:\u001b[0m\u001b[1;33m\u001b[0m\u001b[0m\n",
      "\u001b[1;32m~\\Anaconda3\\lib\\site-packages\\pandas\\io\\parsers.py\u001b[0m in \u001b[0;36m__init__\u001b[1;34m(self, src, **kwds)\u001b[0m\n\u001b[0;32m   1706\u001b[0m         \u001b[0mkwds\u001b[0m\u001b[1;33m[\u001b[0m\u001b[1;34m'usecols'\u001b[0m\u001b[1;33m]\u001b[0m \u001b[1;33m=\u001b[0m \u001b[0mself\u001b[0m\u001b[1;33m.\u001b[0m\u001b[0musecols\u001b[0m\u001b[1;33m\u001b[0m\u001b[0m\n\u001b[0;32m   1707\u001b[0m \u001b[1;33m\u001b[0m\u001b[0m\n\u001b[1;32m-> 1708\u001b[1;33m         \u001b[0mself\u001b[0m\u001b[1;33m.\u001b[0m\u001b[0m_reader\u001b[0m \u001b[1;33m=\u001b[0m \u001b[0mparsers\u001b[0m\u001b[1;33m.\u001b[0m\u001b[0mTextReader\u001b[0m\u001b[1;33m(\u001b[0m\u001b[0msrc\u001b[0m\u001b[1;33m,\u001b[0m \u001b[1;33m**\u001b[0m\u001b[0mkwds\u001b[0m\u001b[1;33m)\u001b[0m\u001b[1;33m\u001b[0m\u001b[0m\n\u001b[0m\u001b[0;32m   1709\u001b[0m \u001b[1;33m\u001b[0m\u001b[0m\n\u001b[0;32m   1710\u001b[0m         \u001b[0mpassed_names\u001b[0m \u001b[1;33m=\u001b[0m \u001b[0mself\u001b[0m\u001b[1;33m.\u001b[0m\u001b[0mnames\u001b[0m \u001b[1;32mis\u001b[0m \u001b[1;32mNone\u001b[0m\u001b[1;33m\u001b[0m\u001b[0m\n",
      "\u001b[1;32mpandas\\_libs\\parsers.pyx\u001b[0m in \u001b[0;36mpandas._libs.parsers.TextReader.__cinit__\u001b[1;34m()\u001b[0m\n",
      "\u001b[1;31mEmptyDataError\u001b[0m: No columns to parse from file"
     ]
    }
   ],
   "source": [
    "mainProgram()"
   ]
  },
  {
   "cell_type": "code",
   "execution_count": 328,
   "metadata": {},
   "outputs": [
    {
     "name": "stdout",
     "output_type": "stream",
     "text": [
      "enter name of first fileNSQF-Light Motor Vehicle Driver.pdf\n",
      "enter name of second fileNSQF-Taxi Driver.pdf\n",
      "100.0\n"
     ]
    }
   ],
   "source": [
    "mainProgram()"
   ]
  },
  {
   "cell_type": "code",
   "execution_count": 329,
   "metadata": {},
   "outputs": [
    {
     "name": "stdout",
     "output_type": "stream",
     "text": [
      "enter name of first fileNSQF-Taxi Driver.pdf\n",
      "enter name of second fileQF - LMV Owner Driver.pdf\n",
      "100.0\n"
     ]
    }
   ],
   "source": [
    "mainProgram()"
   ]
  },
  {
   "cell_type": "code",
   "execution_count": 22,
   "metadata": {},
   "outputs": [
    {
     "name": "stdout",
     "output_type": "stream",
     "text": [
      "enter name of first fileQF _Accounting_BAN101.pdf\n",
      "enter name of second fileNSQF- Advance Pattern Maker (CAD-CAM).pdf\n"
     ]
    },
    {
     "ename": "EmptyDataError",
     "evalue": "No columns to parse from file",
     "output_type": "error",
     "traceback": [
      "\u001b[1;31m---------------------------------------------------------------------------\u001b[0m",
      "\u001b[1;31mEmptyDataError\u001b[0m                            Traceback (most recent call last)",
      "\u001b[1;32m<ipython-input-22-7b2c5e19000a>\u001b[0m in \u001b[0;36m<module>\u001b[1;34m()\u001b[0m\n\u001b[1;32m----> 1\u001b[1;33m \u001b[0mmainProgram\u001b[0m\u001b[1;33m(\u001b[0m\u001b[1;33m)\u001b[0m\u001b[1;33m\u001b[0m\u001b[0m\n\u001b[0m",
      "\u001b[1;32m<ipython-input-18-90a8f5e16964>\u001b[0m in \u001b[0;36mmainProgram\u001b[1;34m()\u001b[0m\n\u001b[0;32m      5\u001b[0m     \u001b[0mtext2\u001b[0m\u001b[1;33m=\u001b[0m\u001b[0mgetTextFromPDFALLPages\u001b[0m\u001b[1;33m(\u001b[0m\u001b[0mfile2\u001b[0m\u001b[1;33m)\u001b[0m\u001b[1;33m\u001b[0m\u001b[0m\n\u001b[0;32m      6\u001b[0m     \u001b[0mdictionary1\u001b[0m\u001b[1;33m=\u001b[0m\u001b[0mmakeDictionaryFromText\u001b[0m\u001b[1;33m(\u001b[0m\u001b[0mtext1\u001b[0m\u001b[1;33m)\u001b[0m\u001b[1;33m\u001b[0m\u001b[0m\n\u001b[1;32m----> 7\u001b[1;33m     \u001b[0mdictionary2\u001b[0m\u001b[1;33m=\u001b[0m\u001b[0mmakeDictionaryFromText\u001b[0m\u001b[1;33m(\u001b[0m\u001b[0mtext2\u001b[0m\u001b[1;33m)\u001b[0m\u001b[1;33m\u001b[0m\u001b[0m\n\u001b[0m\u001b[0;32m      8\u001b[0m     \u001b[0mans\u001b[0m\u001b[1;33m=\u001b[0m\u001b[0mgenerateResult\u001b[0m\u001b[1;33m(\u001b[0m\u001b[0mdictionary1\u001b[0m\u001b[1;33m,\u001b[0m\u001b[0mdictionary2\u001b[0m\u001b[1;33m)\u001b[0m\u001b[1;33m\u001b[0m\u001b[0m\n\u001b[0;32m      9\u001b[0m     \u001b[0mprint\u001b[0m\u001b[1;33m(\u001b[0m\u001b[0mans\u001b[0m\u001b[1;33m)\u001b[0m\u001b[1;33m\u001b[0m\u001b[0m\n",
      "\u001b[1;32m<ipython-input-13-fe6f54fe3751>\u001b[0m in \u001b[0;36mmakeDictionaryFromText\u001b[1;34m(textData)\u001b[0m\n\u001b[0;32m      1\u001b[0m \u001b[1;32mdef\u001b[0m \u001b[0mmakeDictionaryFromText\u001b[0m\u001b[1;33m(\u001b[0m\u001b[0mtextData\u001b[0m\u001b[1;33m)\u001b[0m\u001b[1;33m:\u001b[0m\u001b[1;33m\u001b[0m\u001b[0m\n\u001b[1;32m----> 2\u001b[1;33m     \u001b[0mdataFrameForPdf\u001b[0m\u001b[1;33m,\u001b[0m\u001b[0mcolumnName\u001b[0m\u001b[1;33m=\u001b[0m\u001b[0mmakeDataFrameFromText\u001b[0m\u001b[1;33m(\u001b[0m\u001b[0mtextData\u001b[0m\u001b[1;33m)\u001b[0m\u001b[1;33m\u001b[0m\u001b[0m\n\u001b[0m\u001b[0;32m      3\u001b[0m     \u001b[0muniqueWords\u001b[0m\u001b[1;33m=\u001b[0m\u001b[0mdataFrameForPdf\u001b[0m\u001b[1;33m[\u001b[0m\u001b[0mcolumnName\u001b[0m\u001b[1;33m[\u001b[0m\u001b[1;36m0\u001b[0m\u001b[1;33m]\u001b[0m\u001b[1;33m]\u001b[0m\u001b[1;33m.\u001b[0m\u001b[0munique\u001b[0m\u001b[1;33m(\u001b[0m\u001b[1;33m)\u001b[0m\u001b[1;33m\u001b[0m\u001b[0m\n\u001b[0;32m      4\u001b[0m     \u001b[0mtemp\u001b[0m\u001b[1;33m=\u001b[0m\u001b[1;33m{\u001b[0m\u001b[1;33m}\u001b[0m\u001b[1;33m\u001b[0m\u001b[0m\n\u001b[0;32m      5\u001b[0m     \u001b[0mtemp\u001b[0m\u001b[1;33m=\u001b[0m\u001b[0mmakeDictionary\u001b[0m\u001b[1;33m(\u001b[0m\u001b[0muniqueWords\u001b[0m\u001b[1;33m,\u001b[0m\u001b[0mdataFrameForPdf\u001b[0m\u001b[1;33m[\u001b[0m\u001b[0mcolumnName\u001b[0m\u001b[1;33m[\u001b[0m\u001b[1;36m0\u001b[0m\u001b[1;33m]\u001b[0m\u001b[1;33m]\u001b[0m\u001b[1;33m)\u001b[0m\u001b[1;33m\u001b[0m\u001b[0m\n",
      "\u001b[1;32m<ipython-input-2-1b03f4806ec9>\u001b[0m in \u001b[0;36mmakeDataFrameFromText\u001b[1;34m(textData)\u001b[0m\n\u001b[0;32m      7\u001b[0m     \u001b[0mtestData\u001b[0m\u001b[1;33m=\u001b[0m\u001b[0mStringIO\u001b[0m\u001b[1;33m(\u001b[0m\u001b[0mtextData\u001b[0m\u001b[1;33m)\u001b[0m\u001b[1;33m\u001b[0m\u001b[0m\n\u001b[0;32m      8\u001b[0m     \u001b[1;32mimport\u001b[0m \u001b[0mpandas\u001b[0m \u001b[1;32mas\u001b[0m \u001b[0mpd\u001b[0m\u001b[1;33m\u001b[0m\u001b[0m\n\u001b[1;32m----> 9\u001b[1;33m     \u001b[0mdataFrameForPdf\u001b[0m\u001b[1;33m=\u001b[0m\u001b[0mpd\u001b[0m\u001b[1;33m.\u001b[0m\u001b[0mread_csv\u001b[0m\u001b[1;33m(\u001b[0m\u001b[0mtestData\u001b[0m\u001b[1;33m,\u001b[0m\u001b[0msep\u001b[0m\u001b[1;33m=\u001b[0m\u001b[1;34m\"\\n\"\u001b[0m\u001b[1;33m)\u001b[0m  \u001b[1;31m# making the text to a dataFrame Column\u001b[0m\u001b[1;33m\u001b[0m\u001b[0m\n\u001b[0m\u001b[0;32m     10\u001b[0m     \u001b[0mcolumnName\u001b[0m\u001b[1;33m=\u001b[0m\u001b[0mlist\u001b[0m\u001b[1;33m(\u001b[0m\u001b[0mdataFrameForPdf\u001b[0m\u001b[1;33m.\u001b[0m\u001b[0mcolumns\u001b[0m\u001b[1;33m.\u001b[0m\u001b[0mvalues\u001b[0m\u001b[1;33m)\u001b[0m\u001b[1;33m\u001b[0m\u001b[0m\n\u001b[0;32m     11\u001b[0m     \u001b[1;32mreturn\u001b[0m \u001b[0mdataFrameForPdf\u001b[0m\u001b[1;33m,\u001b[0m\u001b[0mcolumnName\u001b[0m\u001b[1;33m\u001b[0m\u001b[0m\n",
      "\u001b[1;32m~\\Anaconda3\\lib\\site-packages\\pandas\\io\\parsers.py\u001b[0m in \u001b[0;36mparser_f\u001b[1;34m(filepath_or_buffer, sep, delimiter, header, names, index_col, usecols, squeeze, prefix, mangle_dupe_cols, dtype, engine, converters, true_values, false_values, skipinitialspace, skiprows, nrows, na_values, keep_default_na, na_filter, verbose, skip_blank_lines, parse_dates, infer_datetime_format, keep_date_col, date_parser, dayfirst, iterator, chunksize, compression, thousands, decimal, lineterminator, quotechar, quoting, escapechar, comment, encoding, dialect, tupleize_cols, error_bad_lines, warn_bad_lines, skipfooter, doublequote, delim_whitespace, low_memory, memory_map, float_precision)\u001b[0m\n\u001b[0;32m    676\u001b[0m                     skip_blank_lines=skip_blank_lines)\n\u001b[0;32m    677\u001b[0m \u001b[1;33m\u001b[0m\u001b[0m\n\u001b[1;32m--> 678\u001b[1;33m         \u001b[1;32mreturn\u001b[0m \u001b[0m_read\u001b[0m\u001b[1;33m(\u001b[0m\u001b[0mfilepath_or_buffer\u001b[0m\u001b[1;33m,\u001b[0m \u001b[0mkwds\u001b[0m\u001b[1;33m)\u001b[0m\u001b[1;33m\u001b[0m\u001b[0m\n\u001b[0m\u001b[0;32m    679\u001b[0m \u001b[1;33m\u001b[0m\u001b[0m\n\u001b[0;32m    680\u001b[0m     \u001b[0mparser_f\u001b[0m\u001b[1;33m.\u001b[0m\u001b[0m__name__\u001b[0m \u001b[1;33m=\u001b[0m \u001b[0mname\u001b[0m\u001b[1;33m\u001b[0m\u001b[0m\n",
      "\u001b[1;32m~\\Anaconda3\\lib\\site-packages\\pandas\\io\\parsers.py\u001b[0m in \u001b[0;36m_read\u001b[1;34m(filepath_or_buffer, kwds)\u001b[0m\n\u001b[0;32m    438\u001b[0m \u001b[1;33m\u001b[0m\u001b[0m\n\u001b[0;32m    439\u001b[0m     \u001b[1;31m# Create the parser.\u001b[0m\u001b[1;33m\u001b[0m\u001b[1;33m\u001b[0m\u001b[0m\n\u001b[1;32m--> 440\u001b[1;33m     \u001b[0mparser\u001b[0m \u001b[1;33m=\u001b[0m \u001b[0mTextFileReader\u001b[0m\u001b[1;33m(\u001b[0m\u001b[0mfilepath_or_buffer\u001b[0m\u001b[1;33m,\u001b[0m \u001b[1;33m**\u001b[0m\u001b[0mkwds\u001b[0m\u001b[1;33m)\u001b[0m\u001b[1;33m\u001b[0m\u001b[0m\n\u001b[0m\u001b[0;32m    441\u001b[0m \u001b[1;33m\u001b[0m\u001b[0m\n\u001b[0;32m    442\u001b[0m     \u001b[1;32mif\u001b[0m \u001b[0mchunksize\u001b[0m \u001b[1;32mor\u001b[0m \u001b[0miterator\u001b[0m\u001b[1;33m:\u001b[0m\u001b[1;33m\u001b[0m\u001b[0m\n",
      "\u001b[1;32m~\\Anaconda3\\lib\\site-packages\\pandas\\io\\parsers.py\u001b[0m in \u001b[0;36m__init__\u001b[1;34m(self, f, engine, **kwds)\u001b[0m\n\u001b[0;32m    785\u001b[0m             \u001b[0mself\u001b[0m\u001b[1;33m.\u001b[0m\u001b[0moptions\u001b[0m\u001b[1;33m[\u001b[0m\u001b[1;34m'has_index_names'\u001b[0m\u001b[1;33m]\u001b[0m \u001b[1;33m=\u001b[0m \u001b[0mkwds\u001b[0m\u001b[1;33m[\u001b[0m\u001b[1;34m'has_index_names'\u001b[0m\u001b[1;33m]\u001b[0m\u001b[1;33m\u001b[0m\u001b[0m\n\u001b[0;32m    786\u001b[0m \u001b[1;33m\u001b[0m\u001b[0m\n\u001b[1;32m--> 787\u001b[1;33m         \u001b[0mself\u001b[0m\u001b[1;33m.\u001b[0m\u001b[0m_make_engine\u001b[0m\u001b[1;33m(\u001b[0m\u001b[0mself\u001b[0m\u001b[1;33m.\u001b[0m\u001b[0mengine\u001b[0m\u001b[1;33m)\u001b[0m\u001b[1;33m\u001b[0m\u001b[0m\n\u001b[0m\u001b[0;32m    788\u001b[0m \u001b[1;33m\u001b[0m\u001b[0m\n\u001b[0;32m    789\u001b[0m     \u001b[1;32mdef\u001b[0m \u001b[0mclose\u001b[0m\u001b[1;33m(\u001b[0m\u001b[0mself\u001b[0m\u001b[1;33m)\u001b[0m\u001b[1;33m:\u001b[0m\u001b[1;33m\u001b[0m\u001b[0m\n",
      "\u001b[1;32m~\\Anaconda3\\lib\\site-packages\\pandas\\io\\parsers.py\u001b[0m in \u001b[0;36m_make_engine\u001b[1;34m(self, engine)\u001b[0m\n\u001b[0;32m   1012\u001b[0m     \u001b[1;32mdef\u001b[0m \u001b[0m_make_engine\u001b[0m\u001b[1;33m(\u001b[0m\u001b[0mself\u001b[0m\u001b[1;33m,\u001b[0m \u001b[0mengine\u001b[0m\u001b[1;33m=\u001b[0m\u001b[1;34m'c'\u001b[0m\u001b[1;33m)\u001b[0m\u001b[1;33m:\u001b[0m\u001b[1;33m\u001b[0m\u001b[0m\n\u001b[0;32m   1013\u001b[0m         \u001b[1;32mif\u001b[0m \u001b[0mengine\u001b[0m \u001b[1;33m==\u001b[0m \u001b[1;34m'c'\u001b[0m\u001b[1;33m:\u001b[0m\u001b[1;33m\u001b[0m\u001b[0m\n\u001b[1;32m-> 1014\u001b[1;33m             \u001b[0mself\u001b[0m\u001b[1;33m.\u001b[0m\u001b[0m_engine\u001b[0m \u001b[1;33m=\u001b[0m \u001b[0mCParserWrapper\u001b[0m\u001b[1;33m(\u001b[0m\u001b[0mself\u001b[0m\u001b[1;33m.\u001b[0m\u001b[0mf\u001b[0m\u001b[1;33m,\u001b[0m \u001b[1;33m**\u001b[0m\u001b[0mself\u001b[0m\u001b[1;33m.\u001b[0m\u001b[0moptions\u001b[0m\u001b[1;33m)\u001b[0m\u001b[1;33m\u001b[0m\u001b[0m\n\u001b[0m\u001b[0;32m   1015\u001b[0m         \u001b[1;32melse\u001b[0m\u001b[1;33m:\u001b[0m\u001b[1;33m\u001b[0m\u001b[0m\n\u001b[0;32m   1016\u001b[0m             \u001b[1;32mif\u001b[0m \u001b[0mengine\u001b[0m \u001b[1;33m==\u001b[0m \u001b[1;34m'python'\u001b[0m\u001b[1;33m:\u001b[0m\u001b[1;33m\u001b[0m\u001b[0m\n",
      "\u001b[1;32m~\\Anaconda3\\lib\\site-packages\\pandas\\io\\parsers.py\u001b[0m in \u001b[0;36m__init__\u001b[1;34m(self, src, **kwds)\u001b[0m\n\u001b[0;32m   1706\u001b[0m         \u001b[0mkwds\u001b[0m\u001b[1;33m[\u001b[0m\u001b[1;34m'usecols'\u001b[0m\u001b[1;33m]\u001b[0m \u001b[1;33m=\u001b[0m \u001b[0mself\u001b[0m\u001b[1;33m.\u001b[0m\u001b[0musecols\u001b[0m\u001b[1;33m\u001b[0m\u001b[0m\n\u001b[0;32m   1707\u001b[0m \u001b[1;33m\u001b[0m\u001b[0m\n\u001b[1;32m-> 1708\u001b[1;33m         \u001b[0mself\u001b[0m\u001b[1;33m.\u001b[0m\u001b[0m_reader\u001b[0m \u001b[1;33m=\u001b[0m \u001b[0mparsers\u001b[0m\u001b[1;33m.\u001b[0m\u001b[0mTextReader\u001b[0m\u001b[1;33m(\u001b[0m\u001b[0msrc\u001b[0m\u001b[1;33m,\u001b[0m \u001b[1;33m**\u001b[0m\u001b[0mkwds\u001b[0m\u001b[1;33m)\u001b[0m\u001b[1;33m\u001b[0m\u001b[0m\n\u001b[0m\u001b[0;32m   1709\u001b[0m \u001b[1;33m\u001b[0m\u001b[0m\n\u001b[0;32m   1710\u001b[0m         \u001b[0mpassed_names\u001b[0m \u001b[1;33m=\u001b[0m \u001b[0mself\u001b[0m\u001b[1;33m.\u001b[0m\u001b[0mnames\u001b[0m \u001b[1;32mis\u001b[0m \u001b[1;32mNone\u001b[0m\u001b[1;33m\u001b[0m\u001b[0m\n",
      "\u001b[1;32mpandas\\_libs\\parsers.pyx\u001b[0m in \u001b[0;36mpandas._libs.parsers.TextReader.__cinit__\u001b[1;34m()\u001b[0m\n",
      "\u001b[1;31mEmptyDataError\u001b[0m: No columns to parse from file"
     ]
    }
   ],
   "source": [
    "mainProgram()"
   ]
  },
  {
   "cell_type": "code",
   "execution_count": 380,
   "metadata": {},
   "outputs": [],
   "source": [
    "text1=getTextFromPDFALLPages(\"NSQF-Light Motor Vehicle Driver.pdf\")"
   ]
  },
  {
   "cell_type": "code",
   "execution_count": 381,
   "metadata": {},
   "outputs": [],
   "source": [
    "text2=getTextFromPDFALLPages(\"NSQF-Taxi Driver.pdf\")"
   ]
  },
  {
   "cell_type": "code",
   "execution_count": 382,
   "metadata": {},
   "outputs": [
    {
     "ename": "IndexError",
     "evalue": "list index out of range",
     "output_type": "error",
     "traceback": [
      "\u001b[1;31m---------------------------------------------------------------------------\u001b[0m",
      "\u001b[1;31mIndexError\u001b[0m                                Traceback (most recent call last)",
      "\u001b[1;32m<ipython-input-382-1255fa729437>\u001b[0m in \u001b[0;36m<module>\u001b[1;34m()\u001b[0m\n\u001b[1;32m----> 1\u001b[1;33m \u001b[0mdict1\u001b[0m\u001b[1;33m=\u001b[0m\u001b[0mmakeDictionaryFromText\u001b[0m\u001b[1;33m(\u001b[0m\u001b[0mtext1\u001b[0m\u001b[1;33m)\u001b[0m\u001b[1;33m\u001b[0m\u001b[0m\n\u001b[0m",
      "\u001b[1;32m<ipython-input-322-fe6f54fe3751>\u001b[0m in \u001b[0;36mmakeDictionaryFromText\u001b[1;34m(textData)\u001b[0m\n\u001b[0;32m      1\u001b[0m \u001b[1;32mdef\u001b[0m \u001b[0mmakeDictionaryFromText\u001b[0m\u001b[1;33m(\u001b[0m\u001b[0mtextData\u001b[0m\u001b[1;33m)\u001b[0m\u001b[1;33m:\u001b[0m\u001b[1;33m\u001b[0m\u001b[0m\n\u001b[0;32m      2\u001b[0m     \u001b[0mdataFrameForPdf\u001b[0m\u001b[1;33m,\u001b[0m\u001b[0mcolumnName\u001b[0m\u001b[1;33m=\u001b[0m\u001b[0mmakeDataFrameFromText\u001b[0m\u001b[1;33m(\u001b[0m\u001b[0mtextData\u001b[0m\u001b[1;33m)\u001b[0m\u001b[1;33m\u001b[0m\u001b[0m\n\u001b[1;32m----> 3\u001b[1;33m     \u001b[0muniqueWords\u001b[0m\u001b[1;33m=\u001b[0m\u001b[0mdataFrameForPdf\u001b[0m\u001b[1;33m[\u001b[0m\u001b[0mcolumnName\u001b[0m\u001b[1;33m[\u001b[0m\u001b[1;36m0\u001b[0m\u001b[1;33m]\u001b[0m\u001b[1;33m]\u001b[0m\u001b[1;33m.\u001b[0m\u001b[0munique\u001b[0m\u001b[1;33m(\u001b[0m\u001b[1;33m)\u001b[0m\u001b[1;33m\u001b[0m\u001b[0m\n\u001b[0m\u001b[0;32m      4\u001b[0m     \u001b[0mtemp\u001b[0m\u001b[1;33m=\u001b[0m\u001b[1;33m{\u001b[0m\u001b[1;33m}\u001b[0m\u001b[1;33m\u001b[0m\u001b[0m\n\u001b[0;32m      5\u001b[0m     \u001b[0mtemp\u001b[0m\u001b[1;33m=\u001b[0m\u001b[0mmakeDictionary\u001b[0m\u001b[1;33m(\u001b[0m\u001b[0muniqueWords\u001b[0m\u001b[1;33m,\u001b[0m\u001b[0mdataFrameForPdf\u001b[0m\u001b[1;33m[\u001b[0m\u001b[0mcolumnName\u001b[0m\u001b[1;33m[\u001b[0m\u001b[1;36m0\u001b[0m\u001b[1;33m]\u001b[0m\u001b[1;33m]\u001b[0m\u001b[1;33m)\u001b[0m\u001b[1;33m\u001b[0m\u001b[0m\n",
      "\u001b[1;31mIndexError\u001b[0m: list index out of range"
     ]
    }
   ],
   "source": [
    "dict1=makeDictionaryFromText(text1)"
   ]
  },
  {
   "cell_type": "code",
   "execution_count": 377,
   "metadata": {},
   "outputs": [
    {
     "ename": "IndexError",
     "evalue": "list index out of range",
     "output_type": "error",
     "traceback": [
      "\u001b[1;31m---------------------------------------------------------------------------\u001b[0m",
      "\u001b[1;31mIndexError\u001b[0m                                Traceback (most recent call last)",
      "\u001b[1;32m<ipython-input-377-cc37f89edf8f>\u001b[0m in \u001b[0;36m<module>\u001b[1;34m()\u001b[0m\n\u001b[1;32m----> 1\u001b[1;33m \u001b[0mdict2\u001b[0m\u001b[1;33m=\u001b[0m\u001b[0mmakeDictionaryFromText\u001b[0m\u001b[1;33m(\u001b[0m\u001b[0mtext2\u001b[0m\u001b[1;33m)\u001b[0m\u001b[1;33m\u001b[0m\u001b[0m\n\u001b[0m",
      "\u001b[1;32m<ipython-input-322-fe6f54fe3751>\u001b[0m in \u001b[0;36mmakeDictionaryFromText\u001b[1;34m(textData)\u001b[0m\n\u001b[0;32m      1\u001b[0m \u001b[1;32mdef\u001b[0m \u001b[0mmakeDictionaryFromText\u001b[0m\u001b[1;33m(\u001b[0m\u001b[0mtextData\u001b[0m\u001b[1;33m)\u001b[0m\u001b[1;33m:\u001b[0m\u001b[1;33m\u001b[0m\u001b[0m\n\u001b[0;32m      2\u001b[0m     \u001b[0mdataFrameForPdf\u001b[0m\u001b[1;33m,\u001b[0m\u001b[0mcolumnName\u001b[0m\u001b[1;33m=\u001b[0m\u001b[0mmakeDataFrameFromText\u001b[0m\u001b[1;33m(\u001b[0m\u001b[0mtextData\u001b[0m\u001b[1;33m)\u001b[0m\u001b[1;33m\u001b[0m\u001b[0m\n\u001b[1;32m----> 3\u001b[1;33m     \u001b[0muniqueWords\u001b[0m\u001b[1;33m=\u001b[0m\u001b[0mdataFrameForPdf\u001b[0m\u001b[1;33m[\u001b[0m\u001b[0mcolumnName\u001b[0m\u001b[1;33m[\u001b[0m\u001b[1;36m0\u001b[0m\u001b[1;33m]\u001b[0m\u001b[1;33m]\u001b[0m\u001b[1;33m.\u001b[0m\u001b[0munique\u001b[0m\u001b[1;33m(\u001b[0m\u001b[1;33m)\u001b[0m\u001b[1;33m\u001b[0m\u001b[0m\n\u001b[0m\u001b[0;32m      4\u001b[0m     \u001b[0mtemp\u001b[0m\u001b[1;33m=\u001b[0m\u001b[1;33m{\u001b[0m\u001b[1;33m}\u001b[0m\u001b[1;33m\u001b[0m\u001b[0m\n\u001b[0;32m      5\u001b[0m     \u001b[0mtemp\u001b[0m\u001b[1;33m=\u001b[0m\u001b[0mmakeDictionary\u001b[0m\u001b[1;33m(\u001b[0m\u001b[0muniqueWords\u001b[0m\u001b[1;33m,\u001b[0m\u001b[0mdataFrameForPdf\u001b[0m\u001b[1;33m[\u001b[0m\u001b[0mcolumnName\u001b[0m\u001b[1;33m[\u001b[0m\u001b[1;36m0\u001b[0m\u001b[1;33m]\u001b[0m\u001b[1;33m]\u001b[0m\u001b[1;33m)\u001b[0m\u001b[1;33m\u001b[0m\u001b[0m\n",
      "\u001b[1;31mIndexError\u001b[0m: list index out of range"
     ]
    }
   ],
   "source": [
    "dict2=makeDictionaryFromText(text2)"
   ]
  },
  {
   "cell_type": "code",
   "execution_count": 383,
   "metadata": {},
   "outputs": [
    {
     "data": {
      "text/plain": [
       "[]"
      ]
     },
     "execution_count": 383,
     "metadata": {},
     "output_type": "execute_result"
    }
   ],
   "source": [
    "text2"
   ]
  },
  {
   "cell_type": "code",
   "execution_count": 358,
   "metadata": {},
   "outputs": [
    {
     "data": {
      "text/plain": [
       "100.0"
      ]
     },
     "execution_count": 358,
     "metadata": {},
     "output_type": "execute_result"
    }
   ],
   "source": [
    "ans"
   ]
  },
  {
   "cell_type": "code",
   "execution_count": 387,
   "metadata": {},
   "outputs": [],
   "source": [
    "text2=getTextFromPDFALLPages(\"NSQF-Light Motor Vehicle Driver.pdf\")"
   ]
  },
  {
   "cell_type": "code",
   "execution_count": 388,
   "metadata": {},
   "outputs": [
    {
     "data": {
      "text/plain": [
       "[]"
      ]
     },
     "execution_count": 388,
     "metadata": {},
     "output_type": "execute_result"
    }
   ],
   "source": [
    "text2"
   ]
  },
  {
   "cell_type": "code",
   "execution_count": null,
   "metadata": {},
   "outputs": [],
   "source": []
  }
 ],
 "metadata": {
  "kernelspec": {
   "display_name": "Python 3",
   "language": "python",
   "name": "python3"
  },
  "language_info": {
   "codemirror_mode": {
    "name": "ipython",
    "version": 3
   },
   "file_extension": ".py",
   "mimetype": "text/x-python",
   "name": "python",
   "nbconvert_exporter": "python",
   "pygments_lexer": "ipython3",
   "version": "3.6.5"
  }
 },
 "nbformat": 4,
 "nbformat_minor": 2
}
